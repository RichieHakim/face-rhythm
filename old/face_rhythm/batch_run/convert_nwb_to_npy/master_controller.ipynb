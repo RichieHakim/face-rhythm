{
 "cells": [
  {
   "cell_type": "code",
   "execution_count": 110,
   "id": "eb297901",
   "metadata": {},
   "outputs": [
    {
     "data": {
      "text/html": [
       "<style>.container {width:95% !important; }</style>"
      ],
      "text/plain": [
       "<IPython.core.display.HTML object>"
      ]
     },
     "metadata": {},
     "output_type": "display_data"
    }
   ],
   "source": [
    "# ALWAYS RUN THIS CELL\n",
    "# widen jupyter notebook window\n",
    "from IPython.display import display, HTML\n",
    "display(HTML(\"<style>.container {width:95% !important; }</style>\"))"
   ]
  },
  {
   "cell_type": "code",
   "execution_count": 111,
   "id": "47fe1e80",
   "metadata": {},
   "outputs": [],
   "source": [
    "import os\n",
    "from pathlib import Path\n",
    "\n",
    "import paramiko\n",
    "from scp import SCPClient\n",
    "\n",
    "import getpass\n",
    "import gc\n",
    "import time"
   ]
  },
  {
   "cell_type": "code",
   "execution_count": 112,
   "id": "bcbe9934",
   "metadata": {},
   "outputs": [
    {
     "name": "stdout",
     "output_type": "stream",
     "text": [
      "The autoreload extension is already loaded. To reload it, use:\n",
      "  %reload_ext autoreload\n"
     ]
    }
   ],
   "source": [
    "dir_github = '/media/rich/Home_Linux_partition/github_repos/'\n",
    "import sys\n",
    "sys.path.append(dir_github)\n",
    "\n",
    "%load_ext autoreload\n",
    "%autoreload 2\n",
    "from basic_neural_processing_modules import server"
   ]
  },
  {
   "cell_type": "code",
   "execution_count": 4,
   "id": "974445f8",
   "metadata": {},
   "outputs": [],
   "source": [
    "# paramiko.util.log_to_file(\"paramiko.log\")"
   ]
  },
  {
   "cell_type": "code",
   "execution_count": null,
   "id": "6612dd5d",
   "metadata": {},
   "outputs": [],
   "source": []
  },
  {
   "cell_type": "markdown",
   "id": "a59717a3",
   "metadata": {},
   "source": [
    "----\n",
    "# ==== Optional ====\n",
    "### transfer raw data from local machine to `MICROSCOPE`"
   ]
  },
  {
   "cell_type": "code",
   "execution_count": 5,
   "id": "9796b799",
   "metadata": {},
   "outputs": [],
   "source": [
    "# ## Define directories for where the local data is and the remote directory where the contents of that folder should be copied to (MICROSCOPE)\n",
    "# dir_data_local = '/media/rich/bigSSD/tmp_data/'\n",
    "# dir_data_MICROSCOPE = '/n/files/Neurobio/MICROSCOPE/Rich/data/test'  ## contents of dir_data_local will be dumped into dir_data_MICROSCOPE\n",
    "\n",
    "# print(f'contents of    {dir_data_local}    will be copied to    {dir_data_MICROSCOPE}')"
   ]
  },
  {
   "cell_type": "code",
   "execution_count": 6,
   "id": "5c361769",
   "metadata": {},
   "outputs": [],
   "source": [
    "# remote_host_transfer = \"transfer.rc.hms.harvard.edu\"\n",
    "# remote_host_compute = \"o2.hms.harvard.edu\"\n",
    "# username = input('Username: ')\n",
    "# pw = server.pw_encode(getpass.getpass(prompt='Password: '))"
   ]
  },
  {
   "cell_type": "markdown",
   "id": "60e56e5a",
   "metadata": {},
   "source": [
    "## Prepare `sftp` and `ssh` objects"
   ]
  },
  {
   "cell_type": "code",
   "execution_count": 11,
   "id": "7600dff8",
   "metadata": {},
   "outputs": [],
   "source": [
    "# sftp = server.sftp_interface(hostname=\"transfer.rc.hms.harvard.edu\", port=22)\n",
    "# sftp.connect(username=username, password=server.pw_decode(pw))"
   ]
  },
  {
   "cell_type": "code",
   "execution_count": 12,
   "id": "ff1c87a6",
   "metadata": {},
   "outputs": [],
   "source": [
    "# # sftp.mkdir_safe(dir_data_remote)\n",
    "# sftp.put_dir(dir_data_local, dir_data_MICROSCOPE)"
   ]
  },
  {
   "cell_type": "code",
   "execution_count": null,
   "id": "1358265a",
   "metadata": {},
   "outputs": [],
   "source": []
  },
  {
   "cell_type": "markdown",
   "id": "6114afcd",
   "metadata": {},
   "source": [
    "------------\n",
    "# ==== Start ===="
   ]
  },
  {
   "cell_type": "markdown",
   "id": "ae33b435",
   "metadata": {},
   "source": [
    "## Prepare username + password"
   ]
  },
  {
   "cell_type": "code",
   "execution_count": 10,
   "id": "af73363a",
   "metadata": {},
   "outputs": [
    {
     "name": "stdout",
     "output_type": "stream",
     "text": [
      "Username: rh183\n"
     ]
    }
   ],
   "source": [
    "remote_host_transfer = \"transfer.rc.hms.harvard.edu\"\n",
    "remote_host_compute = \"o2.hms.harvard.edu\"\n",
    "username = input('Username: ')\n",
    "\n",
    "use_localSshKey = True\n",
    "\n",
    "pw = server.pw_encode(getpass.getpass(prompt='Password: ')) if use_localSshKey==False else None\n",
    "\n",
    "path_sshKey = '/home/rich/.ssh/id_rsa' if use_localSshKey else None"
   ]
  },
  {
   "cell_type": "markdown",
   "id": "5cbb7d5b",
   "metadata": {},
   "source": [
    "## Prepare `sftp` and `ssh` objects"
   ]
  },
  {
   "cell_type": "code",
   "execution_count": 11,
   "id": "fdf1e2ba",
   "metadata": {},
   "outputs": [
    {
     "name": "stderr",
     "output_type": "stream",
     "text": [
      "Exception ignored in: <function ssh_interface.__del__ at 0x7f91c42d9670>\n",
      "Traceback (most recent call last):\n",
      "  File \"/media/rich/Home_Linux_partition/github_repos/basic_neural_processing_modules/server.py\", line 395, in __del__\n",
      "    self.ssh.close()\n",
      "AttributeError: 'NoneType' object has no attribute 'close'\n"
     ]
    }
   ],
   "source": [
    "## initialize ssh_transfer\n",
    "ssh_t = server.ssh_interface(\n",
    "    nbytes_toReceive=20000,\n",
    "    recv_timeout=1,\n",
    "    verbose=True,\n",
    ")\n",
    "ssh_t.o2_connect(\n",
    "    hostname=remote_host_transfer,\n",
    "    username=username,\n",
    "    password=server.pw_decode(pw),\n",
    "    key_filename=path_sshKey,\n",
    "    look_for_keys=False,\n",
    "    passcode_method=1,\n",
    "    verbose=0,\n",
    "    skip_passcode=False,    \n",
    ")"
   ]
  },
  {
   "cell_type": "code",
   "execution_count": 12,
   "id": "fa578dd5",
   "metadata": {},
   "outputs": [
    {
     "name": "stderr",
     "output_type": "stream",
     "text": [
      "Exception ignored in: <function ssh_interface.__del__ at 0x7f91c42d9670>\n",
      "Traceback (most recent call last):\n",
      "  File \"/media/rich/Home_Linux_partition/github_repos/basic_neural_processing_modules/server.py\", line 395, in __del__\n",
      "    self.ssh.close()\n",
      "AttributeError: 'NoneType' object has no attribute 'close'\n"
     ]
    }
   ],
   "source": [
    "## initialize ssh_compute\n",
    "ssh_c = server.ssh_interface(\n",
    "    nbytes_toReceive=20000,\n",
    "    recv_timeout=1,\n",
    "    verbose=True,\n",
    ")\n",
    "ssh_c.o2_connect(\n",
    "    hostname=remote_host_compute,\n",
    "    username=username,\n",
    "    password=server.pw_decode(pw),\n",
    "    key_filename=path_sshKey,\n",
    "    look_for_keys=False,\n",
    "    passcode_method=1,\n",
    "    verbose=0,\n",
    "    skip_passcode=False,    \n",
    ")"
   ]
  },
  {
   "cell_type": "raw",
   "id": "73cad4f2",
   "metadata": {},
   "source": [
    "sftp = ssh_c.initialize_sftp()"
   ]
  },
  {
   "cell_type": "code",
   "execution_count": 13,
   "id": "daea3d7a",
   "metadata": {},
   "outputs": [],
   "source": [
    "sftp = server.sftp_interface(ssh_client=ssh_t.client)"
   ]
  },
  {
   "cell_type": "markdown",
   "id": "0cd3c682",
   "metadata": {},
   "source": [
    "## Pull/update repo"
   ]
  },
  {
   "cell_type": "code",
   "execution_count": 40,
   "id": "2edc3771",
   "metadata": {},
   "outputs": [
    {
     "name": "stdout",
     "output_type": "stream",
     "text": [
      "remote: Enumerating objects: 11, done.\u001b[K\n",
      "remote: Counting objects: 100% (11/11), done.\u001b[K\n",
      "remote: Compressing objects: 100% (1/1), done.\u001b[K\n",
      "remote: Total 6 (delta 5), reused 6 (delta 5), pack-reused 0\u001b[K\n",
      "\n",
      "Unpacking objects:  83% (5/6)   \n",
      "Unpacking objects: 100% (6/6), done.\n",
      "From https://github.com/RichieHakim/face-rhythm\n",
      "   f6864c9..4e39368  dev        -> origin/dev\n",
      "\n",
      "Updating f6864c9..4e39368\n",
      "\n",
      "Fast-forward\n",
      " batch_run/convert_nwb_to_npy/convert_nwb_to_npy.py |  2 +-\n",
      " .../convert_nwb_to_npy/master_controller.ipynb     | 97 ++++++----------------\n",
      " 2 files changed, 27 insertions(+), 72 deletions(-)\n",
      "hythm]$ 1/hms/neurobio/sabatini/rich/virtual_envs/fr_venv) [rh183@login05 face-rh\n"
     ]
    }
   ],
   "source": [
    "ssh_c.send_receive('')\n",
    "ssh_c.send('cd /n/data1/hms/neurobio/sabatini/rich/github_repos/face-rhythm')\n",
    "ssh_c.send_receive('git pull')\n",
    "\n",
    "ssh_c.expect(str_success=f'[{username}', total_timeout=2);\n",
    "ssh_c.send_receive('');"
   ]
  },
  {
   "cell_type": "markdown",
   "id": "4ef493c1",
   "metadata": {},
   "source": [
    "## Activate environment"
   ]
  },
  {
   "cell_type": "code",
   "execution_count": 134,
   "id": "be246a7a",
   "metadata": {},
   "outputs": [
    {
     "name": "stdout",
     "output_type": "stream",
     "text": [
      "conda activate /n/data1/hms/neurobio/sabatini/rich/virtual_e\n",
      "nvs/fr_venv\r\n",
      "\n"
     ]
    }
   ],
   "source": [
    "name_env = '/n/data1/hms/neurobio/sabatini/rich/virtual_envs/fr_venv'\n",
    "\n",
    "ssh_c.send_receive('')\n",
    "ssh_c.send(f'conda activate {name_env}')\n",
    "ssh_c.expect(str_success=f'[{username}', total_timeout=2);\n",
    "ssh_c.send_receive('');"
   ]
  },
  {
   "cell_type": "markdown",
   "id": "558a1158",
   "metadata": {},
   "source": [
    "## Prepare directories"
   ]
  },
  {
   "cell_type": "code",
   "execution_count": 137,
   "id": "33e1983d",
   "metadata": {},
   "outputs": [
    {
     "data": {
      "text/plain": [
       "{'dispatch': '        python3         /n/data1/hms/neurobio/sabatini/rich/analysis/faceRhythm/convert_nwb_to_npy/AEG21/2022_05_13/dispatcher.py         /n/data1/hms/neurobio/sabatini/rich/github_repos/face-rhythm/batch_run/convert_nwb_to_npy/convert_nwb_to_npy.py         /n/data1/hms/neurobio/sabatini/rich/analysis/faceRhythm/convert_nwb_to_npy/AEG21/2022_05_13         /n/data1/hms/neurobio/sabatini/rich/analysis/faceRhythm/AEG21/2022_05_13/jobNum_0/batchRun/data/session_batch.nwb         jobNum_         AEG21_13         /n/data1/hms/neurobio/sabatini/rich/virtual_envs/fr_venv'}"
      ]
     },
     "metadata": {},
     "output_type": "display_data"
    },
    {
     "name": "stdout",
     "output_type": "stream",
     "text": [
      "(/n/data1/hms/neurobio/sabatini/rich/virtual_envs/fr_venv) [rh183@login05 face-rh\r",
      "hythm]$ \r\n",
      "(/n/data1/hms/neurobio/sabatini/rich/virtual_envs/fr_venv) [rh183@login05 face-rh\r",
      "hythm]$ \n"
     ]
    },
    {
     "data": {
      "text/plain": [
       "{'dispatch': '        python3         /n/data1/hms/neurobio/sabatini/rich/analysis/faceRhythm/convert_nwb_to_npy/AEG21/2022_05_14/dispatcher.py         /n/data1/hms/neurobio/sabatini/rich/github_repos/face-rhythm/batch_run/convert_nwb_to_npy/convert_nwb_to_npy.py         /n/data1/hms/neurobio/sabatini/rich/analysis/faceRhythm/convert_nwb_to_npy/AEG21/2022_05_14         /n/data1/hms/neurobio/sabatini/rich/analysis/faceRhythm/AEG21/2022_05_14/jobNum_0/batchRun/data/session_batch.nwb         jobNum_         AEG21_14         /n/data1/hms/neurobio/sabatini/rich/virtual_envs/fr_venv'}"
      ]
     },
     "metadata": {},
     "output_type": "display_data"
    },
    {
     "name": "stdout",
     "output_type": "stream",
     "text": [
      "tual_envs/fr_venv       AEG21_13         /n/data1/hms/neurobio/sabatini/rich/vir \n",
      "\n",
      "        python3         /n/data1/hms/neurobio/sabatini/rich/analysis/faceRhythm/convert_nwb_to_npy/AEG21/2022_05_14/dispatcher.py         /n/data1/hms/neurobio/sabatini/rich/github_repos/face-rhythm/batch_run/convert_nwb_to_npy/convert_nwb_to_npy.py         /n/data1/hms/neurobio/sabatini/rich/analysis/faceRhythm/convert_nwb_to_npy/AEG21/2022_05_14         /n/data1/hms/neurobio/sabatini/rich/analysis/faceRhythm/AEG21/2022_05_14/jobNum_0/batchRun/data/session_batch.nwb         jobNum_         AEG21_14         /n/data1/hms/neurobio/sabatini/rich/virtual_envs/fr_venv\n",
      "\n",
      "dispatcher environment: /n/data1/hms/neurobio/sabatini/rich/virtual_envs/fr_venv\n",
      "\n",
      "Copying /n/data1/hms/neurobio/sabatini/rich/github_repos/face-rhythm/batch_run/convert_nwb_to_npy/convert_nwb_to_npy.py to /n/data1/hms/neurobio/sabatini/rich/analysis/faceRhythm/convert_nwb_to_npy/AEG21/2022_05_13/convert_nwb_to_npy.py\n",
      "\n",
      "Submitting job: jobNum_ 0\n",
      "\n",
      "Submitted batch job 54643521\n",
      "\n",
      "eurobio/sabatini/rich/github_G21/2022_05_14/dispatcher.py         /n/data1/hms/n \n"
     ]
    },
    {
     "data": {
      "text/plain": [
       "{'dispatch': '        python3         /n/data1/hms/neurobio/sabatini/rich/analysis/faceRhythm/convert_nwb_to_npy/AEG21/2022_05_16/dispatcher.py         /n/data1/hms/neurobio/sabatini/rich/github_repos/face-rhythm/batch_run/convert_nwb_to_npy/convert_nwb_to_npy.py         /n/data1/hms/neurobio/sabatini/rich/analysis/faceRhythm/convert_nwb_to_npy/AEG21/2022_05_16         /n/data1/hms/neurobio/sabatini/rich/analysis/faceRhythm/AEG21/2022_05_16/jobNum_0/batchRun/data/session_batch.nwb         jobNum_         AEG21_16         /n/data1/hms/neurobio/sabatini/rich/virtual_envs/fr_venv'}"
      ]
     },
     "metadata": {},
     "output_type": "display_data"
    },
    {
     "name": "stdout",
     "output_type": "stream",
     "text": [
      "tual_envs/fr_venv       AEG21_14         /n/data1/hms/neurobio/sabatini/rich/vir \n",
      "\n",
      "        python3         /n/data1/hms/neurobio/sabatini/rich/analysis/faceRhythm/convert_nwb_to_npy/AEG21/2022_05_16/dispatcher.py         /n/data1/hms/neurobio/sabatini/rich/github_repos/face-rhythm/batch_run/convert_nwb_to_npy/convert_nwb_to_npy.py         /n/data1/hms/neurobio/sabatini/rich/analysis/faceRhythm/convert_nwb_to_npy/AEG21/2022_05_16         /n/data1/hms/neurobio/sabatini/rich/analysis/faceRhythm/AEG21/2022_05_16/jobNum_0/batchRun/data/session_batch.nwb         jobNum_         AEG21_16         /n/data1/hms/neurobio/sabatini/rich/virtual_envs/fr_venv\n",
      "\n",
      "dispatcher environment: /n/data1/hms/neurobio/sabatini/rich/virtual_envs/fr_venv\n",
      "\n",
      "Copying /n/data1/hms/neurobio/sabatini/rich/github_repos/face-rhythm/batch_run/convert_nwb_to_npy/convert_nwb_to_npy.py to /n/data1/hms/neurobio/sabatini/rich/analysis/faceRhythm/convert_nwb_to_npy/AEG21/2022_05_14/convert_nwb_to_npy.py\n",
      "\n",
      "Submitting job: jobNum_ 0\n",
      "\n",
      "Submitted batch job 54643526\n",
      "\n",
      "tual_envs/fr_venv       AEG21_16         /n/data1/hms/neurobio/sabatini/rich/vir \n",
      "\n"
     ]
    },
    {
     "data": {
      "text/plain": [
       "{'dispatch': '        python3         /n/data1/hms/neurobio/sabatini/rich/analysis/faceRhythm/convert_nwb_to_npy/AEG21/2022_05_17/dispatcher.py         /n/data1/hms/neurobio/sabatini/rich/github_repos/face-rhythm/batch_run/convert_nwb_to_npy/convert_nwb_to_npy.py         /n/data1/hms/neurobio/sabatini/rich/analysis/faceRhythm/convert_nwb_to_npy/AEG21/2022_05_17         /n/data1/hms/neurobio/sabatini/rich/analysis/faceRhythm/AEG21/2022_05_17/jobNum_0/batchRun/data/session_batch.nwb         jobNum_         AEG21_17         /n/data1/hms/neurobio/sabatini/rich/virtual_envs/fr_venv'}"
      ]
     },
     "metadata": {},
     "output_type": "display_data"
    },
    {
     "name": "stdout",
     "output_type": "stream",
     "text": [
      "        python3         /n/data1/hms/neurobio/sabatini/rich/analysis/faceRhythm/convert_nwb_to_npy/AEG21/2022_05_17/dispatcher.py         /n/data1/hms/neurobio/sabatini/rich/github_repos/face-rhythm/batch_run/convert_nwb_to_npy/convert_nwb_to_npy.py         /n/data1/hms/neurobio/sabatini/rich/analysis/faceRhythm/convert_nwb_to_npy/AEG21/2022_05_17         /n/data1/hms/neurobio/sabatini/rich/analysis/faceRhythm/AEG21/2022_05_17/jobNum_0/batchRun/data/session_batch.nwb         jobNum_         AEG21_17         /n/data1/hms/neurobio/sabatini/rich/virtual_envs/fr_venv\n",
      "\n",
      "dispatcher environment: /n/data1/hms/neurobio/sabatini/rich/virtual_envs/fr_venv\n",
      "\n",
      "Copying /n/data1/hms/neurobio/sabatini/rich/github_repos/face-rhythm/batch_run/convert_nwb_to_npy/convert_nwb_to_npy.py to /n/data1/hms/neurobio/sabatini/rich/analysis/faceRhythm/convert_nwb_to_npy/AEG21/2022_05_16/convert_nwb_to_npy.py\n",
      "\n",
      "Submitting job: jobNum_ 0\n",
      "\n",
      "Submitted batch job 54643531\n",
      "\n",
      "tual_envs/fr_venv       AEG21_17         /n/data1/hms/neurobio/sabatini/rich/vir \n",
      "\n"
     ]
    },
    {
     "data": {
      "text/plain": [
       "{'dispatch': '        python3         /n/data1/hms/neurobio/sabatini/rich/analysis/faceRhythm/convert_nwb_to_npy/AEG21/2022_05_18/dispatcher.py         /n/data1/hms/neurobio/sabatini/rich/github_repos/face-rhythm/batch_run/convert_nwb_to_npy/convert_nwb_to_npy.py         /n/data1/hms/neurobio/sabatini/rich/analysis/faceRhythm/convert_nwb_to_npy/AEG21/2022_05_18         /n/data1/hms/neurobio/sabatini/rich/analysis/faceRhythm/AEG21/2022_05_18/jobNum_0/batchRun/data/session_batch.nwb         jobNum_         AEG21_18         /n/data1/hms/neurobio/sabatini/rich/virtual_envs/fr_venv'}"
      ]
     },
     "metadata": {},
     "output_type": "display_data"
    },
    {
     "name": "stdout",
     "output_type": "stream",
     "text": [
      "        python3         /n/data1/hms/neurobio/sabatini/rich/analysis/faceRhythm/convert_nwb_to_npy/AEG21/2022_05_18/dispatcher.py         /n/data1/hms/neurobio/sabatini/rich/github_repos/face-rhythm/batch_run/convert_nwb_to_npy/convert_nwb_to_npy.py         /n/data1/hms/neurobio/sabatini/rich/analysis/faceRhythm/convert_nwb_to_npy/AEG21/2022_05_18         /n/data1/hms/neurobio/sabatini/rich/analysis/faceRhythm/AEG21/2022_05_18/jobNum_0/batchRun/data/session_batch.nwb         jobNum_         AEG21_18         /n/data1/hms/neurobio/sabatini/rich/virtual_envs/fr_venv\n",
      "\n",
      "dispatcher environment: /n/data1/hms/neurobio/sabatini/rich/virtual_envs/fr_venv\n",
      "\n",
      "Copying /n/data1/hms/neurobio/sabatini/rich/github_repos/face-rhythm/batch_run/convert_nwb_to_npy/convert_nwb_to_npy.py to /n/data1/hms/neurobio/sabatini/rich/analysis/faceRhythm/convert_nwb_to_npy/AEG21/2022_05_17/convert_nwb_to_npy.py\n",
      "\n",
      "Submitting job: jobNum_ 0\n",
      "\n",
      "Submitted batch job 54643536\n",
      "\n",
      "m/convert_nwb_to_npy/AEG21/2022_05_18         /n/data1/hms/neurobio/ss/faceRhyth \n"
     ]
    },
    {
     "data": {
      "text/plain": [
       "{'dispatch': '        python3         /n/data1/hms/neurobio/sabatini/rich/analysis/faceRhythm/convert_nwb_to_npy/AEG22/2022_05_13/dispatcher.py         /n/data1/hms/neurobio/sabatini/rich/github_repos/face-rhythm/batch_run/convert_nwb_to_npy/convert_nwb_to_npy.py         /n/data1/hms/neurobio/sabatini/rich/analysis/faceRhythm/convert_nwb_to_npy/AEG22/2022_05_13         /n/data1/hms/neurobio/sabatini/rich/analysis/faceRhythm/AEG22/2022_05_13/jobNum_0/batchRun/data/session_batch.nwb         jobNum_         AEG22_13         /n/data1/hms/neurobio/sabatini/rich/virtual_envs/fr_venv'}"
      ]
     },
     "metadata": {},
     "output_type": "display_data"
    },
    {
     "name": "stdout",
     "output_type": "stream",
     "text": [
      "tual_envs/fr_venv       AEG21_18         /n/data1/hms/neurobio/sabatini/rich/vir \n",
      "\n",
      "        python3         /n/data1/hms/neurobio/sabatini/rich/analysis/faceRhythm/convert_nwb_to_npy/AEG22/2022_05_13/dispatcher.py         /n/data1/hms/neurobio/sabatini/rich/github_repos/face-rhythm/batch_run/convert_nwb_to_npy/convert_nwb_to_npy.py         /n/data1/hms/neurobio/sabatini/rich/analysis/faceRhythm/convert_nwb_to_npy/AEG22/2022_05_13         /n/data1/hms/neurobio/sabatini/rich/analysis/faceRhythm/AEG22/2022_05_13/jobNum_0/batchRun/data/session_batch.nwb         jobNum_         AEG22_13         /n/data1/hms/neurobio/sabatini/rich/virtual_envs/fr_venv\n",
      "\n",
      "dispatcher environment: /n/data1/hms/neurobio/sabatini/rich/virtual_envs/fr_venv\n",
      "\n",
      "Copying /n/data1/hms/neurobio/sabatini/rich/github_repos/face-rhythm/batch_run/convert_nwb_to_npy/convert_nwb_to_npy.py to /n/data1/hms/neurobio/sabatini/rich/analysis/faceRhythm/convert_nwb_to_npy/AEG21/2022_05_18/convert_nwb_to_npy.py\n",
      "\n",
      "Submitting job: jobNum_ 0\n",
      "\n",
      "Submitted batch job 54643540\n",
      "\n",
      "eRhythm/convert_nwb_to_npy/AEG22/2022_05_13/dispatcio/sabatini/rich/analysis/fac \n"
     ]
    },
    {
     "data": {
      "text/plain": [
       "{'dispatch': '        python3         /n/data1/hms/neurobio/sabatini/rich/analysis/faceRhythm/convert_nwb_to_npy/AEG22/2022_05_14/dispatcher.py         /n/data1/hms/neurobio/sabatini/rich/github_repos/face-rhythm/batch_run/convert_nwb_to_npy/convert_nwb_to_npy.py         /n/data1/hms/neurobio/sabatini/rich/analysis/faceRhythm/convert_nwb_to_npy/AEG22/2022_05_14         /n/data1/hms/neurobio/sabatini/rich/analysis/faceRhythm/AEG22/2022_05_14/jobNum_0/batchRun/data/session_batch.nwb         jobNum_         AEG22_14         /n/data1/hms/neurobio/sabatini/rich/virtual_envs/fr_venv'}"
      ]
     },
     "metadata": {},
     "output_type": "display_data"
    },
    {
     "name": "stdout",
     "output_type": "stream",
     "text": [
      "tual_envs/fr_venv       AEG22_13         /n/data1/hms/neurobio/sabatini/rich/vir \n",
      "\n",
      "        python3         /n/data1/hms/neurobio/sabatini/rich/analysis/faceRhythm/convert_nwb_to_npy/AEG22/2022_05_14/dispatcher.py         /n/data1/hms/neurobio/sabatini/rich/github_repos/face-rhythm/batch_run/convert_nwb_to_npy/convert_nwb_to_npy.py         /n/data1/hms/neurobio/sabatini/rich/analysis/faceRhythm/convert_nwb_to_npy/AEG22/2022_05_14         /n/data1/hms/neurobio/sabatini/rich/analysis/faceRhythm/AEG22/2022_05_14/jobNum_0/batchRun/data/session_batch.nwb         jobNum_         AEG22_14         /n/data1/hms/neurobio/sabatini/rich/virtual_envs/fr_venv\n",
      "\n",
      "dispatcher environment: /n/data1/hms/neurobio/sabatini/rich/virtual_envs/fr_venv\n",
      "\n",
      "Copying /n/data1/hms/neurobio/sabatini/rich/github_repos/face-rhythm/batch_run/convert_nwb_to_npy/convert_nwb_to_npy.py to /n/data1/hms/neurobio/sabatini/rich/analysis/faceRhythm/convert_nwb_to_npy/AEG22/2022_05_13/convert_nwb_to_npy.py\n",
      "\n",
      "Submitting job: jobNum_ 0\n",
      "\n",
      "Submitted batch job 54643546\n",
      "\n",
      "ert_nwb_to_npy.py         /n/data1/hms/neurobio/sabatrun/convert_nwb_to_npy/conv \n"
     ]
    },
    {
     "data": {
      "text/plain": [
       "{'dispatch': '        python3         /n/data1/hms/neurobio/sabatini/rich/analysis/faceRhythm/convert_nwb_to_npy/AEG22/2022_05_16/dispatcher.py         /n/data1/hms/neurobio/sabatini/rich/github_repos/face-rhythm/batch_run/convert_nwb_to_npy/convert_nwb_to_npy.py         /n/data1/hms/neurobio/sabatini/rich/analysis/faceRhythm/convert_nwb_to_npy/AEG22/2022_05_16         /n/data1/hms/neurobio/sabatini/rich/analysis/faceRhythm/AEG22/2022_05_16/jobNum_0/batchRun/data/session_batch.nwb         jobNum_         AEG22_16         /n/data1/hms/neurobio/sabatini/rich/virtual_envs/fr_venv'}"
      ]
     },
     "metadata": {},
     "output_type": "display_data"
    },
    {
     "name": "stdout",
     "output_type": "stream",
     "text": [
      "tual_envs/fr_venv       AEG22_14         /n/data1/hms/neurobio/sabatini/rich/vir \n",
      "\n",
      "        python3         /n/data1/hms/neurobio/sabatini/rich/analysis/faceRhythm/convert_nwb_to_npy/AEG22/2022_05_16/dispatcher.py         /n/data1/hms/neurobio/sabatini/rich/github_repos/face-rhythm/batch_run/convert_nwb_to_npy/convert_nwb_to_npy.py         /n/data1/hms/neurobio/sabatini/rich/analysis/faceRhythm/convert_nwb_to_npy/AEG22/2022_05_16         /n/data1/hms/neurobio/sabatini/rich/analysis/faceRhythm/AEG22/2022_05_16/jobNum_0/batchRun/data/session_batch.nwb         jobNum_         AEG22_16         /n/data1/hms/neurobio/sabatini/rich/virtual_envs/fr_venv\n",
      "\n",
      "dispatcher environment: /n/data1/hms/neurobio/sabatini/rich/virtual_envs/fr_venv\n",
      "\n",
      "Copying /n/data1/hms/neurobio/sabatini/rich/github_repos/face-rhythm/batch_run/convert_nwb_to_npy/convert_nwb_to_npy.py to /n/data1/hms/neurobio/sabatini/rich/analysis/faceRhythm/convert_nwb_to_npy/AEG22/2022_05_14/convert_nwb_to_npy.py\n",
      "\n",
      "Submitting job: jobNum_ 0\n",
      "\n",
      "Submitted batch job 54643551\n",
      "\n",
      "m/convert_nwb_to_npy/AEG22/2022_05_16s/neurobio/sabatini/rich/analysis/faceRhyth \n"
     ]
    },
    {
     "data": {
      "text/plain": [
       "{'dispatch': '        python3         /n/data1/hms/neurobio/sabatini/rich/analysis/faceRhythm/convert_nwb_to_npy/AEG22/2022_05_17/dispatcher.py         /n/data1/hms/neurobio/sabatini/rich/github_repos/face-rhythm/batch_run/convert_nwb_to_npy/convert_nwb_to_npy.py         /n/data1/hms/neurobio/sabatini/rich/analysis/faceRhythm/convert_nwb_to_npy/AEG22/2022_05_17         /n/data1/hms/neurobio/sabatini/rich/analysis/faceRhythm/AEG22/2022_05_17/jobNum_0/batchRun/data/session_batch.nwb         jobNum_         AEG22_17         /n/data1/hms/neurobio/sabatini/rich/virtual_envs/fr_venv'}"
      ]
     },
     "metadata": {},
     "output_type": "display_data"
    },
    {
     "name": "stdout",
     "output_type": "stream",
     "text": [
      "tual_envs/fr_venv       AEG22_16         /n/data1/hms/neurobio/sabatini/rich/vir \n",
      "\n",
      "        python3         /n/data1/hms/neurobio/sabatini/rich/analysis/faceRhythm/convert_nwb_to_npy/AEG22/2022_05_17/dispatcher.py         /n/data1/hms/neurobio/sabatini/rich/github_repos/face-rhythm/batch_run/convert_nwb_to_npy/convert_nwb_to_npy.py         /n/data1/hms/neurobio/sabatini/rich/analysis/faceRhythm/convert_nwb_to_npy/AEG22/2022_05_17         /n/data1/hms/neurobio/sabatini/rich/analysis/faceRhythm/AEG22/2022_05_17/jobNum_0/batchRun/data/session_batch.nwb         jobNum_         AEG22_17         /n/data1/hms/neurobio/sabatini/rich/virtual_envs/fr_venv\n",
      "\n",
      "dispatcher environment: /n/data1/hms/neurobio/sabatini/rich/virtual_envs/fr_venv\n",
      "\n",
      "Copying /n/data1/hms/neurobio/sabatini/rich/github_repos/face-rhythm/batch_run/convert_nwb_to_npy/convert_nwb_to_npy.py to /n/data1/hms/neurobio/sabatini/rich/analysis/faceRhythm/convert_nwb_to_npy/AEG22/2022_05_16/convert_nwb_to_npy.py\n",
      "\n",
      "Submitting job: jobNum_ 0\n",
      "\n",
      "Submitted batch job 54643555\n",
      "\n",
      "tual_envs/fr_venv       AEG22_17         /n/data1/hms/neurobio/sabatini/rich/vir \n",
      "\n"
     ]
    },
    {
     "data": {
      "text/plain": [
       "{'dispatch': '        python3         /n/data1/hms/neurobio/sabatini/rich/analysis/faceRhythm/convert_nwb_to_npy/AEG22/2022_05_18/dispatcher.py         /n/data1/hms/neurobio/sabatini/rich/github_repos/face-rhythm/batch_run/convert_nwb_to_npy/convert_nwb_to_npy.py         /n/data1/hms/neurobio/sabatini/rich/analysis/faceRhythm/convert_nwb_to_npy/AEG22/2022_05_18         /n/data1/hms/neurobio/sabatini/rich/analysis/faceRhythm/AEG22/2022_05_18/jobNum_0/batchRun/data/session_batch.nwb         jobNum_         AEG22_18         /n/data1/hms/neurobio/sabatini/rich/virtual_envs/fr_venv'}"
      ]
     },
     "metadata": {},
     "output_type": "display_data"
    },
    {
     "name": "stdout",
     "output_type": "stream",
     "text": [
      "        python3         /n/data1/hms/neurobio/sabatini/rich/analysis/faceRhythm/convert_nwb_to_npy/AEG22/2022_05_18/dispatcher.py         /n/data1/hms/neurobio/sabatini/rich/github_repos/face-rhythm/batch_run/convert_nwb_to_npy/convert_nwb_to_npy.py         /n/data1/hms/neurobio/sabatini/rich/analysis/faceRhythm/convert_nwb_to_npy/AEG22/2022_05_18         /n/data1/hms/neurobio/sabatini/rich/analysis/faceRhythm/AEG22/2022_05_18/jobNum_0/batchRun/data/session_batch.nwb         jobNum_         AEG22_18         /n/data1/hms/neurobio/sabatini/rich/virtual_envs/fr_venv\n",
      "\n",
      "dispatcher environment: /n/data1/hms/neurobio/sabatini/rich/virtual_envs/fr_venv\n",
      "\n",
      "Copying /n/data1/hms/neurobio/sabatini/rich/github_repos/face-rhythm/batch_run/convert_nwb_to_npy/convert_nwb_to_npy.py to /n/data1/hms/neurobio/sabatini/rich/analysis/faceRhythm/convert_nwb_to_npy/AEG22/2022_05_17/convert_nwb_to_npy.py\n",
      "\n",
      "Submitting job: jobNum_ 0\n",
      "\n",
      "Submitted batch job 54643560\n",
      "\n",
      "tual_envs/fr_venv       AEG22_18         /n/data1/hms/neurobio/sabatini/rich/vir \n",
      "\n"
     ]
    }
   ],
   "source": [
    "import numpy as np\n",
    "\n",
    "mouse_names = ['AEG21', 'AEG22']\n",
    "dates = ['2022_05_13', '2022_05_14', '2022_05_16', '2022_05_17', '2022_05_18']\n",
    "\n",
    "for mouse_name in mouse_names:\n",
    "    for date in dates:\n",
    "\n",
    "        name_slurm = mouse_name + '_' + date[-2:]\n",
    "\n",
    "        path_FRNWB        = str(Path('/n/data1/hms/neurobio/sabatini/rich/analysis/faceRhythm') / mouse_name / date / 'jobNum_0/batchRun/data/session_batch.nwb')\n",
    "        dir_saveOutputs   = (Path('/n/data1/hms/neurobio/sabatini/rich/analysis/faceRhythm/convert_nwb_to_npy') / mouse_name / date).as_posix()\n",
    "        path_FRNWB_remote = '/n/data1/hms/neurobio/sabatini/rich/analysis/faceRhythm/AEG21/2022_05_13/jobNum_0/batchRun/data/session_batch.nwb'\n",
    "\n",
    "\n",
    "        name_job = 'jobNum_'\n",
    "\n",
    "\n",
    "        path_script_remote      = Path(r'/n/data1/hms/neurobio/sabatini/rich/github_repos/face-rhythm/batch_run/convert_nwb_to_npy/convert_nwb_to_npy.py').as_posix()  ## path to a copy of the remote_run_s2p.py file within the s2p_on_o2 repo on the server\n",
    "\n",
    "        path_dispatcher_local   = Path(r'/media/rich/Home_Linux_partition/github_repos/face-rhythm/batch_run/convert_nwb_to_npy/').resolve() / 'dispatcher.py'  ## path to the dispatcher.py file on local computer\n",
    "        path_dispatcher_remote  = (Path(dir_saveOutputs) / 'dispatcher.py').as_posix()  ## path to where you want the dispatcher.py file to be copied onto the server\n",
    "\n",
    "        ## Prepare commands\n",
    "\n",
    "        prompt_snip = f'[{username}'\n",
    "\n",
    "        commands = {\n",
    "            'dispatch': f\"\\\n",
    "        python3 \\\n",
    "        {path_dispatcher_remote} \\\n",
    "        {path_script_remote} \\\n",
    "        {dir_saveOutputs} \\\n",
    "        {path_FRNWB} \\\n",
    "        {name_job} \\\n",
    "        {name_slurm} \\\n",
    "        {name_env}\",\n",
    "        }\n",
    "        display(commands)\n",
    "\n",
    "        ## Upload `dispatcher.py` file\n",
    "\n",
    "        sftp.mkdir_p(Path(path_dispatcher_remote).parent.as_posix())\n",
    "        sftp.sftp.put(str(path_dispatcher_local), str(path_dispatcher_remote));\n",
    "\n",
    "        ## Dispatch `remote_run_s2p.py`\n",
    "\n",
    "        ssh_c.send(commands['dispatch']);\n",
    "\n",
    "        ssh_c.expect(str_success=prompt_snip);"
   ]
  },
  {
   "cell_type": "code",
   "execution_count": 148,
   "id": "97ffab65",
   "metadata": {},
   "outputs": [
    {
     "name": "stdout",
     "output_type": "stream",
     "text": [
      "squeue -u rh183 --Format=jobid,name,partition,state,timeused,starttime,t \r",
      "imelimit,reasonlist,minmemory,mincpus,gres\r\n",
      "\n",
      "JOBID               NAME                PARTITION           STATE               TIME                START_TIME          TIME_LIMIT          NODELIST(REASON)    MIN_MEMORY          MIN_CPUS            TRES_PER_NODE       \r\n",
      "(/n/data1/hms/neurobio/sabatini/rich/virtual_envs/fr_venv) [rh183@login05 face-rh\r",
      "hythm]$ \n"
     ]
    }
   ],
   "source": [
    "### check on jobs\n",
    "\n",
    "ssh_c.send_receive('')\n",
    "ssh_c.send(cmd=f'squeue -u {username} --Format=jobid,name,partition,state,timeused,starttime,timelimit,reasonlist,minmemory,mincpus,gres');\n",
    "ssh_c.expect(str_success=f\"[{username}\", total_timeout=10);"
   ]
  },
  {
   "cell_type": "raw",
   "id": "304fee8e",
   "metadata": {},
   "source": [
    "ssh_c.send_receive('scancel -u rh183')"
   ]
  },
  {
   "cell_type": "raw",
   "id": "12657dec",
   "metadata": {},
   "source": [
    "ssh_c.send_receive('scancel 54322178')"
   ]
  },
  {
   "cell_type": "code",
   "execution_count": 340,
   "id": "90f66b59",
   "metadata": {},
   "outputs": [],
   "source": [
    "## I think this code block caused an out of memory error on a few of my jobs... not sure why\n",
    "\n",
    "# ssh_c.send(cmd=f\"cat {(Path(dir_S2pOutput_remote) / (name_job+'0') / 'print*').as_posix()}\")\n",
    "# ssh_c.expect(str_success=f\"[{username}\", total_timeout=1);"
   ]
  },
  {
   "cell_type": "code",
   "execution_count": 27,
   "id": "c99f5ab7",
   "metadata": {
    "scrolled": true
   },
   "outputs": [
    {
     "name": "stdout",
     "output_type": "stream",
     "text": [
      "RUN COMPLETE!!!     Tue May 17 14:52:20 2022\n"
     ]
    }
   ],
   "source": [
    "ssh_c.send(cmd=f\"cat {(Path(dir_S2pOutput_remote) / (name_job+'0') / 'print*').as_posix()}\")\n",
    "ssh_c.expect(str_success=f\"RUN COMPLETE\", recv_timeout=0.3, total_timeout=60*60*10, sleep_time=0.1, verbose=False);\n",
    "\n",
    "print(f'RUN COMPLETE!!!     {time.ctime()}')"
   ]
  },
  {
   "cell_type": "markdown",
   "id": "33600579",
   "metadata": {},
   "source": [
    "## Clean up"
   ]
  },
  {
   "cell_type": "code",
   "execution_count": null,
   "id": "b31f6bcb",
   "metadata": {},
   "outputs": [],
   "source": [
    "## delete password\n",
    "del pw\n",
    "gc.collect()\n",
    "\n",
    "## close sftp\n",
    "if sftp: sftp.close()\n",
    "if transport: transport.close()\n",
    "del sftp\n",
    "del transport\n",
    "    \n",
    "## close ssh\n",
    "ssh_t.close()\n",
    "del ssh_t\n",
    "ssh_c.close()\n",
    "del ssh_c\n",
    "gc.collect()"
   ]
  },
  {
   "cell_type": "code",
   "execution_count": null,
   "id": "211f8398",
   "metadata": {},
   "outputs": [],
   "source": []
  },
  {
   "cell_type": "code",
   "execution_count": null,
   "id": "b1e29db0",
   "metadata": {},
   "outputs": [],
   "source": []
  },
  {
   "cell_type": "markdown",
   "id": "bc0f7b70",
   "metadata": {},
   "source": [
    "----\n",
    "# ==== Optional ====\n",
    "### transfer s2p outputs back from `data1` to `MICROSCOPE`"
   ]
  },
  {
   "cell_type": "markdown",
   "id": "ee823e31",
   "metadata": {},
   "source": [
    "## Prepare username + password"
   ]
  },
  {
   "cell_type": "code",
   "execution_count": 5,
   "id": "bc43abdd",
   "metadata": {},
   "outputs": [
    {
     "name": "stdout",
     "output_type": "stream",
     "text": [
      "Username: rh183\n",
      "Password: ········\n"
     ]
    }
   ],
   "source": [
    "remote_host_transfer = \"transfer.rc.hms.harvard.edu\"\n",
    "remote_host_compute = \"o2.hms.harvard.edu\"\n",
    "username = input('Username: ')\n",
    "pw = util.pw_encode(getpass.getpass(prompt='Password: '))"
   ]
  },
  {
   "cell_type": "markdown",
   "id": "d8d54f22",
   "metadata": {},
   "source": [
    "## Prepare `ssh` object"
   ]
  },
  {
   "cell_type": "code",
   "execution_count": null,
   "id": "38d10e50",
   "metadata": {},
   "outputs": [],
   "source": [
    "## initialize ssh_transfer\n",
    "ssh_t = util.ssh_interface(\n",
    "    nbytes_toReceive=4096,\n",
    "    recv_timeout=1,\n",
    "    verbose=True,\n",
    ")\n",
    "ssh_t.o2_connect(\n",
    "    hostname=remote_host_transfer,\n",
    "    username=username,\n",
    "    password=util.pw_decode(pw),\n",
    "    passcode_method=1,\n",
    "    verbose=1,\n",
    "    skip_passcode=False,\n",
    ")"
   ]
  },
  {
   "cell_type": "code",
   "execution_count": 274,
   "id": "4a74693f",
   "metadata": {},
   "outputs": [
    {
     "name": "stdout",
     "output_type": "stream",
     "text": [
      "contents of    /n/data1/hms/neurobio/sabatini/rich/analysis/suite2p_output/AEG21/2022_05_14    will be copied to    /n/files/Neurobio/MICROSCOPE/Ally/Mesoscope/AEG21/2022_05_14/suite2p_o2_output\n"
     ]
    }
   ],
   "source": [
    "dir_S2pOutput_remote = dir_S2pOutput_remote  ## from above\n",
    "dir_s2pOutput_MICROSCOPE = (Path(dir_data_MICROSCOPE) / 'suite2p_o2_output').as_posix()  ## from above\n",
    "print(f'contents of    {dir_S2pOutput_remote}    will be copied to    {dir_s2pOutput_MICROSCOPE}')"
   ]
  },
  {
   "cell_type": "code",
   "execution_count": 275,
   "id": "53d3fc7d",
   "metadata": {},
   "outputs": [
    {
     "data": {
      "text/plain": [
       "{'make_dir': 'mkdir -p /n/files/Neurobio/MICROSCOPE/Ally/Mesoscope/AEG21/2022_05_14/suite2p_o2_output',\n",
       " 'copy_s2p': 'cp -r /n/data1/hms/neurobio/sabatini/rich/analysis/suite2p_output/AEG21/2022_05_14/. /n/files/Neurobio/MICROSCOPE/Ally/Mesoscope/AEG21/2022_05_14/suite2p_o2_output'}"
      ]
     },
     "metadata": {},
     "output_type": "display_data"
    }
   ],
   "source": [
    "commands = {\n",
    "    'make_dir': f\"mkdir -p {dir_s2pOutput_MICROSCOPE}\",\n",
    "    'copy_s2p': f\"cp -r {(Path(dir_S2pOutput_remote)).as_posix()}/. {dir_s2pOutput_MICROSCOPE}\",\n",
    "}\n",
    "display(commands)"
   ]
  },
  {
   "cell_type": "code",
   "execution_count": 276,
   "id": "0d9854ac",
   "metadata": {},
   "outputs": [
    {
     "name": "stdout",
     "output_type": "stream",
     "text": [
      "mkdir -p /n/files/Neurobio/MICROSCOPE/Ally/Mesoscop \r\n",
      "e/AEG21/2022_05_14/suite2p_o2_output\r\n",
      "\n"
     ]
    }
   ],
   "source": [
    "ssh_t.send_receive(commands['make_dir']);"
   ]
  },
  {
   "cell_type": "code",
   "execution_count": 277,
   "id": "728e4e88",
   "metadata": {},
   "outputs": [
    {
     "name": "stdout",
     "output_type": "stream",
     "text": [
      "(base) [rh183@transfer03 ~]$ \n"
     ]
    }
   ],
   "source": [
    "ssh_t.send(commands['copy_s2p'])\n",
    "ssh_t.expect(str_success=f'[{username}', total_timeout=120, verbose=True);"
   ]
  },
  {
   "cell_type": "code",
   "execution_count": null,
   "id": "2d0f096e",
   "metadata": {},
   "outputs": [],
   "source": []
  },
  {
   "cell_type": "markdown",
   "id": "0097eadc",
   "metadata": {},
   "source": [
    "## Clean up"
   ]
  },
  {
   "cell_type": "code",
   "execution_count": null,
   "id": "b01e88d4",
   "metadata": {},
   "outputs": [],
   "source": [
    "## delete password\n",
    "del pw\n",
    "gc.collect()\n",
    "    \n",
    "## close ssh\n",
    "ssh_t.close()\n",
    "del ssh_t\n",
    "gc.collect()"
   ]
  },
  {
   "cell_type": "code",
   "execution_count": null,
   "id": "cc4d73d5",
   "metadata": {},
   "outputs": [],
   "source": []
  },
  {
   "cell_type": "markdown",
   "id": "607fe8d3",
   "metadata": {},
   "source": [
    "----\n",
    "# ==== Optional ====\n",
    "### transfer s2p outputs from `MICROSCOPE` to local machine"
   ]
  },
  {
   "cell_type": "code",
   "execution_count": 39,
   "id": "f443018b",
   "metadata": {},
   "outputs": [
    {
     "name": "stdout",
     "output_type": "stream",
     "text": [
      "contents of    /n/files/Neurobio/MICROSCOPE/Rich/data/test/suite2p_o2_output    will be copied to    /media/rich/bigSSD/tmp_data/suite2p_o2_output\n"
     ]
    }
   ],
   "source": [
    "dir_s2pOutput_MICROSCOPE = dir_s2pOutput_MICROSCOPE  ## from above\n",
    "dir_s2pOutput_local = str(Path(dir_data_local).resolve() / 'suite2p_o2_output')\n",
    "print(f'contents of    {dir_s2pOutput_MICROSCOPE}    will be copied to    {dir_s2pOutput_local}')"
   ]
  },
  {
   "cell_type": "code",
   "execution_count": 57,
   "id": "6721d7c7",
   "metadata": {},
   "outputs": [
    {
     "name": "stdout",
     "output_type": "stream",
     "text": [
      "Username: rh183\n",
      "Password: ········\n"
     ]
    }
   ],
   "source": [
    "remote_host_transfer = \"transfer.rc.hms.harvard.edu\"\n",
    "remote_host_compute = \"o2.hms.harvard.edu\"\n",
    "username = input('Username: ')\n",
    "pw = util.pw_encode(getpass.getpass(prompt='Password: '))"
   ]
  },
  {
   "cell_type": "markdown",
   "id": "055b0c6c",
   "metadata": {},
   "source": [
    "## Prepare `sftp` and `ssh` objects"
   ]
  },
  {
   "cell_type": "code",
   "execution_count": 40,
   "id": "b91b33b2",
   "metadata": {},
   "outputs": [],
   "source": [
    "sftp = util.sftp_interface(hostname=\"transfer.rc.hms.harvard.edu\", port=22)\n",
    "sftp.connect(username=username, password=util.pw_decode(pw))"
   ]
  },
  {
   "cell_type": "code",
   "execution_count": 41,
   "id": "c0e3af30",
   "metadata": {},
   "outputs": [
    {
     "name": "stdout",
     "output_type": "stream",
     "text": [
      "downloading /n/files/Neurobio/MICROSCOPE/Rich/data/test/suite2p_o2_output/jobNum_0/params.json   to   /media/rich/bigSSD/tmp_data/suite2p_o2_output/jobNum_0/params.json\n",
      "downloading /n/files/Neurobio/MICROSCOPE/Rich/data/test/suite2p_o2_output/jobNum_0/print_log_53419173.log   to   /media/rich/bigSSD/tmp_data/suite2p_o2_output/jobNum_0/print_log_53419173.log\n",
      "downloading /n/files/Neurobio/MICROSCOPE/Rich/data/test/suite2p_o2_output/jobNum_0/batch_run_output.png   to   /media/rich/bigSSD/tmp_data/suite2p_o2_output/jobNum_0/batch_run_output.png\n",
      "downloading /n/files/Neurobio/MICROSCOPE/Rich/data/test/suite2p_o2_output/jobNum_0/log.txt   to   /media/rich/bigSSD/tmp_data/suite2p_o2_output/jobNum_0/log.txt\n",
      "downloading /n/files/Neurobio/MICROSCOPE/Rich/data/test/suite2p_o2_output/jobNum_0/sbatch_config.sh   to   /media/rich/bigSSD/tmp_data/suite2p_o2_output/jobNum_0/sbatch_config.sh\n",
      "downloading /n/files/Neurobio/MICROSCOPE/Rich/data/test/suite2p_o2_output/jobNum_0/remote_run_s2p.py   to   /media/rich/bigSSD/tmp_data/suite2p_o2_output/jobNum_0/remote_run_s2p.py\n",
      "downloading /n/files/Neurobio/MICROSCOPE/Rich/data/test/suite2p_o2_output/jobNum_0/suite2p/plane0/spks.npy   to   /media/rich/bigSSD/tmp_data/suite2p_o2_output/jobNum_0/suite2p/plane0/spks.npy\n",
      "downloading /n/files/Neurobio/MICROSCOPE/Rich/data/test/suite2p_o2_output/jobNum_0/suite2p/plane0/stat.npy   to   /media/rich/bigSSD/tmp_data/suite2p_o2_output/jobNum_0/suite2p/plane0/stat.npy\n",
      "downloading /n/files/Neurobio/MICROSCOPE/Rich/data/test/suite2p_o2_output/jobNum_0/suite2p/plane0/Fneu.npy   to   /media/rich/bigSSD/tmp_data/suite2p_o2_output/jobNum_0/suite2p/plane0/Fneu.npy\n",
      "downloading /n/files/Neurobio/MICROSCOPE/Rich/data/test/suite2p_o2_output/jobNum_0/suite2p/plane0/iscell.npy   to   /media/rich/bigSSD/tmp_data/suite2p_o2_output/jobNum_0/suite2p/plane0/iscell.npy\n",
      "downloading /n/files/Neurobio/MICROSCOPE/Rich/data/test/suite2p_o2_output/jobNum_0/suite2p/plane0/F.npy   to   /media/rich/bigSSD/tmp_data/suite2p_o2_output/jobNum_0/suite2p/plane0/F.npy\n",
      "downloading /n/files/Neurobio/MICROSCOPE/Rich/data/test/suite2p_o2_output/jobNum_0/suite2p/plane0/ops.npy   to   /media/rich/bigSSD/tmp_data/suite2p_o2_output/jobNum_0/suite2p/plane0/ops.npy\n",
      "downloading /n/files/Neurobio/MICROSCOPE/Rich/data/test/suite2p_o2_output/notes.txt   to   /media/rich/bigSSD/tmp_data/suite2p_o2_output/notes.txt\n",
      "downloading /n/files/Neurobio/MICROSCOPE/Rich/data/test/suite2p_o2_output/remote_run_s2p.py   to   /media/rich/bigSSD/tmp_data/suite2p_o2_output/remote_run_s2p.py\n"
     ]
    }
   ],
   "source": [
    "sftp.get_dir(dir_s2pOutput_MICROSCOPE, dir_s2pOutput_local)"
   ]
  },
  {
   "cell_type": "markdown",
   "id": "4254abee",
   "metadata": {},
   "source": [
    "## Clean up"
   ]
  },
  {
   "cell_type": "code",
   "execution_count": 43,
   "id": "0e42b263",
   "metadata": {},
   "outputs": [],
   "source": [
    "## delete password\n",
    "del pw\n",
    "gc.collect()\n",
    "\n",
    "## close sftp\n",
    "sftp.close()\n",
    "del sftp"
   ]
  },
  {
   "cell_type": "code",
   "execution_count": 42,
   "id": "5059b009",
   "metadata": {},
   "outputs": [],
   "source": [
    "ssh_t.close()\n",
    "ssh_c.close()"
   ]
  },
  {
   "cell_type": "code",
   "execution_count": null,
   "id": "a2ee21fd",
   "metadata": {},
   "outputs": [],
   "source": []
  }
 ],
 "metadata": {
  "kernelspec": {
   "display_name": "Python 3 (ipykernel)",
   "language": "python",
   "name": "python3"
  },
  "language_info": {
   "codemirror_mode": {
    "name": "ipython",
    "version": 3
   },
   "file_extension": ".py",
   "mimetype": "text/x-python",
   "name": "python",
   "nbconvert_exporter": "python",
   "pygments_lexer": "ipython3",
   "version": "3.8.12"
  }
 },
 "nbformat": 4,
 "nbformat_minor": 5
}
