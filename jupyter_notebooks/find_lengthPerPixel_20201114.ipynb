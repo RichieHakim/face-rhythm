{
 "cells": [
  {
   "cell_type": "code",
   "execution_count": 1,
   "metadata": {},
   "outputs": [
    {
     "data": {
      "text/html": [
       "<style>.container {width:95% !important; }</style>"
      ],
      "text/plain": [
       "<IPython.core.display.HTML object>"
      ]
     },
     "metadata": {},
     "output_type": "display_data"
    }
   ],
   "source": [
    "# widen jupyter notebook window\n",
    "from IPython.core.display import display, HTML\n",
    "display(HTML(\"<style>.container {width:95% !important; }</style>\"))"
   ]
  },
  {
   "cell_type": "code",
   "execution_count": null,
   "metadata": {},
   "outputs": [],
   "source": [
    "# import libraries\n",
    "import sys\n",
    "import cv2\n",
    "import numpy as np\n",
    "import skimage.draw\n"
   ]
  },
  {
   "cell_type": "markdown",
   "metadata": {},
   "source": [
    "this is just a short script to figure out what the absolute length of pixels are so you can convert the y-axes of plots from pixels to millimeters or whatever"
   ]
  },
  {
   "cell_type": "code",
   "execution_count": 3,
   "metadata": {},
   "outputs": [
    {
     "name": "stdout",
     "output_type": "stream",
     "text": [
      "Autodetected operating system: Linux. Using \"/\" for directory slashes\n"
     ]
    }
   ],
   "source": [
    "## prep stuff\n",
    "## find slash type of operating system\n",
    "\n",
    "if sys.platform == 'linux':\n",
    "    slash_type = '/'\n",
    "    print('Autodetected operating system: Linux. Using \"/\" for directory slashes')\n",
    "elif sys.platform == 'win32':\n",
    "    slash_type = '\\\\'\n",
    "    print(f'Autodetected operating system: Windows. Using \"{slash_type}{slash_type}\" for directory slashes')\n",
    "elif sys.platform == 'darwin':\n",
    "    slash_type = '/'\n",
    "    print(\"What computer are you running this on? I haven't tested it on OSX or anything except windows and ubuntu.\")\n",
    "    print('Autodetected operating system: OSX. Using \"/\" for directory slashes')"
   ]
  },
  {
   "cell_type": "code",
   "execution_count": 4,
   "metadata": {},
   "outputs": [],
   "source": [
    "### Define LOAD DIRECTORY and FILENAME\n",
    "\n",
    "dir_vid = r'/media/rich/bigSSD RH/aniqa_tmp'\n",
    "fileName_vid = 'fc2_save_2020-11-13-173638-0000.avi'\n",
    "path_vid = f'{dir_vid}{slash_type}{fileName_vid}'\n"
   ]
  },
  {
   "cell_type": "code",
   "execution_count": 10,
   "metadata": {},
   "outputs": [],
   "source": [
    "### Define SAVE DIRECTORY: for camera_distancePerPixel.npy file\n",
    "dir_save = r'/media/rich/bigSSD RH/aniqa_tmp'\n",
    "name_save = 'camera_distancePerPixel'\n",
    "path_save = f'{dir_save}{slash_type}{name_save}.npy'"
   ]
  },
  {
   "cell_type": "code",
   "execution_count": 24,
   "metadata": {},
   "outputs": [],
   "source": [
    "### Select POLYGON SUBFRAME for DISPLACEMENT Eignfaces\n",
    "## This block of code will pop up a little GUI. Click around the\n",
    "## region of the face that you want to include in the analysis.\n",
    "## When you are done, press enter twice to accept and exit the GUI.\n",
    "\n",
    "frameToSet = 1 # 1 indexed. Sets the frame number to use to make an image\n",
    "\n",
    "video = cv2.VideoCapture(path_vid)\n",
    "    \n",
    "video.set(1,frameToSet)\n",
    "ok, frame = video.read()\n",
    "cv2.imshow('window', frame)\n",
    "# cv2.waitKey(1);\n",
    "\n",
    "## these colors aren't really important, they just allow the text and lines in the GUI to change color\n",
    "RED = (0, 0, 255)\n",
    "GREEN = (0, 255, 0)\n",
    "BLUE = (255, 0, 0)\n",
    "CYAN = (255, 255, 0)\n",
    "MAGENTA = (255, 0, 255)\n",
    "YELLOW = (0, 255, 255)\n",
    "WHITE = (255, 255, 255)\n",
    "\n",
    "colors = (WHITE , RED, GREEN, BLUE, CYAN, MAGENTA, YELLOW)\n",
    "\n",
    "## The below block is adapted code. It makes a GUI, then allows a user to click to define the\n",
    "## outline of the ROI to use. 'pts' are the clicked points.\n",
    "pts = [] # prepare for appending. I'm using this global in functions like a pleb. please forgive\n",
    "def draw(x):\n",
    "    d = cv2.getTrackbarPos('thickness', 'window')\n",
    "    d = 1 if d==0 else d\n",
    "    i = cv2.getTrackbarPos('color', 'window')\n",
    "    color = colors[i]\n",
    "    cv2.polylines(frame, np.array([pts]), False, color, d)\n",
    "    cv2.imshow('window', frame)\n",
    "    text = f'color={color}, thickness={d}'\n",
    "#     cv2.displayOverlay('window', text)\n",
    "\n",
    "\n",
    "def mouse(event, x, y, flags, param):\n",
    "    if event == cv2.EVENT_LBUTTONDOWN:\n",
    "        if len(pts) < 2:\n",
    "            pts.append((x, y))\n",
    "            draw(0)\n",
    "\n",
    "            \n",
    "cv2.setMouseCallback('window', mouse)\n",
    "cv2.createTrackbar('color', 'window', 0, 6, draw)\n",
    "cv2.createTrackbar('thickness', 'window', 1, 10, draw)\n",
    "cv2.putText(frame, f'Click on two points separated by a known distance', org=(10,20), fontFace=1, fontScale=1, color=(255,255,255), thickness=1)\n",
    "cv2.putText(frame, f'then press enter', org=(10,35), fontFace=1, fontScale=1, color=(255,255,255), thickness=1)\n",
    "\n",
    "draw(0)\n",
    "cv2.waitKey(0)\n",
    "\n",
    "cv2.destroyAllWindows()\n",
    "\n",
    "distance_betweenPoints = np.linalg.norm(np.array(pts[1]) - np.array(pts[0]))\n"
   ]
  },
  {
   "cell_type": "code",
   "execution_count": 29,
   "metadata": {},
   "outputs": [
    {
     "name": "stdout",
     "output_type": "stream",
     "text": [
      "Enter distance between the two clicked points (in centimeters):  4\n",
      "Distance per pixel in millimeters:  0.0587 mm/pixel\n"
     ]
    }
   ],
   "source": [
    "distance_userInput = input('Enter distance between the two clicked points (in centimeters):  ')\n",
    "distance_perPixel = np.double((np.double(distance_userInput)*10) / distance_betweenPoints)\n",
    "print(f'Distance per pixel in pixels:  {round(distance_betweenPoints,1)} pixels')\n",
    "print(f'Distance per pixel in millimeters:  {round(distance_perPixel,4)} mm/pixel')"
   ]
  },
  {
   "cell_type": "code",
   "execution_count": 20,
   "metadata": {},
   "outputs": [],
   "source": [
    "np.save(path_save , distance_perPixel)"
   ]
  },
  {
   "cell_type": "code",
   "execution_count": null,
   "metadata": {},
   "outputs": [],
   "source": []
  }
 ],
 "metadata": {
  "kernelspec": {
   "display_name": "Python 3",
   "language": "python",
   "name": "python3"
  },
  "language_info": {
   "codemirror_mode": {
    "name": "ipython",
    "version": 3
   },
   "file_extension": ".py",
   "mimetype": "text/x-python",
   "name": "python",
   "nbconvert_exporter": "python",
   "pygments_lexer": "ipython3",
   "version": "3.8.5"
  }
 },
 "nbformat": 4,
 "nbformat_minor": 4
}
