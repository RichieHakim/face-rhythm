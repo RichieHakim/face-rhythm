{
 "cells": [
  {
   "cell_type": "code",
   "execution_count": 1,
   "id": "eb297901",
   "metadata": {},
   "outputs": [
    {
     "data": {
      "text/html": [
       "<style>.container {width:95% !important; }</style>"
      ],
      "text/plain": [
       "<IPython.core.display.HTML object>"
      ]
     },
     "metadata": {},
     "output_type": "display_data"
    }
   ],
   "source": [
    "# ALWAYS RUN THIS CELL\n",
    "# widen jupyter notebook window\n",
    "from IPython.display import display, HTML\n",
    "display(HTML(\"<style>.container {width:95% !important; }</style>\"))"
   ]
  },
  {
   "cell_type": "markdown",
   "id": "e7ca9401",
   "metadata": {},
   "source": [
    "This requires having `bnpm`. Get it with `pip install bnpm` or here: https://github.com/RichieHakim/basic_neural_processing_modules"
   ]
  },
  {
   "cell_type": "code",
   "execution_count": 3,
   "id": "d5ec8c83",
   "metadata": {},
   "outputs": [],
   "source": [
    "from bnpm import server"
   ]
  },
  {
   "cell_type": "code",
   "execution_count": 6,
   "id": "47fe1e80",
   "metadata": {},
   "outputs": [],
   "source": [
    "import os\n",
    "from pathlib import Path\n",
    "import functools\n",
    "import tempfile\n",
    "import getpass\n",
    "import gc"
   ]
  },
  {
   "cell_type": "markdown",
   "id": "6114afcd",
   "metadata": {},
   "source": [
    "------------\n",
    "# ==== Start ===="
   ]
  },
  {
   "cell_type": "markdown",
   "id": "ae33b435",
   "metadata": {},
   "source": [
    "## Prepare username + password"
   ]
  },
  {
   "cell_type": "code",
   "execution_count": 8,
   "id": "af73363a",
   "metadata": {},
   "outputs": [
    {
     "name": "stdout",
     "output_type": "stream",
     "text": [
      "Username: rh183\n"
     ]
    }
   ],
   "source": [
    "remote_host_transfer = \"transfer.rc.hms.harvard.edu\"\n",
    "remote_host_compute = \"o2.hms.harvard.edu\"\n",
    "username = input('Username: ')\n",
    "\n",
    "use_localSshKey = True\n",
    "\n",
    "pw = server.pw_encode(getpass.getpass(prompt='Password: ')) if use_localSshKey==False else None\n",
    "\n",
    "path_sshKey = '/home/rich/.ssh/id_rsa' if use_localSshKey else None"
   ]
  },
  {
   "cell_type": "markdown",
   "id": "5cbb7d5b",
   "metadata": {},
   "source": [
    "## Prepare `sftp` and `ssh` objects"
   ]
  },
  {
   "cell_type": "code",
   "execution_count": 43,
   "id": "fdf1e2ba",
   "metadata": {},
   "outputs": [],
   "source": [
    "## initialize ssh_transfer\n",
    "ssh_t = server.ssh_interface(\n",
    "    nbytes_toReceive=20000,\n",
    "    recv_timeout=1,\n",
    "    verbose=True,\n",
    ")\n",
    "ssh_t.o2_connect(\n",
    "    hostname=remote_host_transfer,\n",
    "    username=username,\n",
    "    password=server.pw_decode(pw),\n",
    "    key_filename=path_sshKey,\n",
    "    look_for_keys=False,\n",
    "    passcode_method=1,\n",
    "    verbose=0,\n",
    "    skip_passcode=False,    \n",
    ")"
   ]
  },
  {
   "cell_type": "code",
   "execution_count": 10,
   "id": "fa578dd5",
   "metadata": {},
   "outputs": [],
   "source": [
    "## initialize ssh_compute\n",
    "ssh_c = server.ssh_interface(\n",
    "    nbytes_toReceive=20000,\n",
    "    recv_timeout=1,\n",
    "    verbose=True,\n",
    ")\n",
    "ssh_c.o2_connect(\n",
    "    hostname=remote_host_compute,\n",
    "    username=username,\n",
    "    password=server.pw_decode(pw),\n",
    "    key_filename=path_sshKey,\n",
    "    look_for_keys=False,\n",
    "    passcode_method=1,\n",
    "    verbose=0,\n",
    "    skip_passcode=False,    \n",
    ")"
   ]
  },
  {
   "cell_type": "code",
   "execution_count": 44,
   "id": "daea3d7a",
   "metadata": {},
   "outputs": [],
   "source": [
    "sftp = server.sftp_interface(ssh_client=ssh_t.client)"
   ]
  },
  {
   "cell_type": "code",
   "execution_count": 78,
   "id": "adc6b273",
   "metadata": {},
   "outputs": [],
   "source": [
    "prompt_snip = f'[{username}'"
   ]
  },
  {
   "cell_type": "code",
   "execution_count": 81,
   "id": "01f42f06",
   "metadata": {},
   "outputs": [],
   "source": [
    "send_expect = functools.partial(ssh_c.send_expect, str_success=prompt_snip)"
   ]
  },
  {
   "cell_type": "markdown",
   "id": "a5f7a465",
   "metadata": {},
   "source": [
    "## Start a small interactive node"
   ]
  },
  {
   "cell_type": "code",
   "execution_count": 167,
   "id": "3a64f998",
   "metadata": {},
   "outputs": [
    {
     "name": "stdout",
     "output_type": "stream",
     "text": [
      "srun: Force Terminated job 11970866\r\n",
      "slurmstepd: error: *** STEP 11970866.0 ON compute-e-16-233 CANCELLED AT 2023-07-02T12:09:26 DUE TO TIME LIMIT ***\r\n",
      "srun: Job step aborted: Waiting up to 62 seconds for job step to finish.\r\n",
      "srun: error: compute-e-16-233: task 0: Terminated\r\n",
      "(/n/data1/hms/neurobio/sabatini/rich/virtual_envs/FR) [rh183@login03 face-rhythm]\r",
      "]$ \n"
     ]
    }
   ],
   "source": [
    "send_expect(f'srun --pty -p interactive -t 0-00:30:00 --mem=4G /bin/bash');"
   ]
  },
  {
   "cell_type": "markdown",
   "id": "0cd3c682",
   "metadata": {},
   "source": [
    "## Pull/update repo"
   ]
  },
  {
   "cell_type": "code",
   "execution_count": 172,
   "id": "55fd8b14",
   "metadata": {},
   "outputs": [
    {
     "name": "stdout",
     "output_type": "stream",
     "text": [
      "ctivate /n/data1/hms/neurobi \r",
      "o/sabatini/rich/virtual_envs/FR\r\n",
      "(/n/data1/hms/neurobio/sabatini/rich/virtual_envs/FR) [rh183@compute-a-16-163 fac\r",
      "ce-rhythm]$ \n",
      "cd /n/data1/hms/neurobio/sabatini/rich/github_repos/face-rhythm\r\n",
      "(/n/data1/hms/neurobio/sabatini/rich/virtual_envs/FR) [rh183@compute-a-16-163 fac\r",
      "ce-rhythm]$ \n"
     ]
    }
   ],
   "source": [
    "send_expect('cd /n/data1/hms/neurobio/sabatini/rich/github_repos/face-rhythm')\n",
    "send_expect('git pull');"
   ]
  },
  {
   "cell_type": "markdown",
   "id": "4ef493c1",
   "metadata": {},
   "source": [
    "## Activate environment"
   ]
  },
  {
   "cell_type": "code",
   "execution_count": 168,
   "id": "be246a7a",
   "metadata": {},
   "outputs": [
    {
     "name": "stdout",
     "output_type": "stream",
     "text": [
      "srun --pty -p interactive -t 0-00:30:00 --mem=4G /bin/bash\n",
      "srun: job 11972660 queued and waiting for resources\n",
      "srun: job 11972660 has been allocated resources\n",
      "\n",
      "conda activate /n/data1/hms/neurobio/sabatini/rich/virtual_envs/FR\n",
      "\n",
      "(base) [rh183@compute-a-16-163 face-rhythm]$ conda a\n"
     ]
    }
   ],
   "source": [
    "name_env = '/n/data1/hms/neurobio/sabatini/rich/virtual_envs/FR'\n",
    "\n",
    "send_expect(f'conda activate {name_env}');"
   ]
  },
  {
   "cell_type": "markdown",
   "id": "558a1158",
   "metadata": {},
   "source": [
    "## Prepare directories"
   ]
  },
  {
   "cell_type": "code",
   "execution_count": 196,
   "id": "97ffab65",
   "metadata": {},
   "outputs": [],
   "source": [
    "import numpy as np\n",
    "\n",
    "mouse = 'mouse_0322N'\n",
    "date = '20230430'\n",
    "\n",
    "name_slurm = mouse + '_' + date[-4:]\n",
    "\n",
    "dir_videos      = str(Path('/n/data1/hms/neurobio/sabatini/gyu/data/full_data') / mouse / date / 'camera_data' / 'exp' / 'cam4')\n",
    "\n",
    "dir_ROIs        = str(Path('/n/data1/hms/neurobio/sabatini/rich/analysis/faceRhythm') / mouse / 'run_20230701' / 'ROIs_prealigned' / f'{mouse}__{date}' / 'ROIs.h5')\n",
    "\n",
    "dir_saveOutputs = str(Path('/n/data1/hms/neurobio/sabatini/rich/analysis/faceRhythm') / mouse / 'run_20230701' / date)\n",
    "\n",
    "\n",
    "name_job = 'jobNum_'\n",
    "\n",
    "\n",
    "path_script_remote      = str(Path(r'/n/data1/hms/neurobio/sabatini/rich/github_repos/face-rhythm/scripts/pipeline_basic.py'))  ## path to a copy of the script (.py) file to run within the repo on the server\n",
    "\n",
    "path_dispatcher_local   = str(Path(r'/media/rich/Home_Linux_partition/github_repos/face-rhythm/batch_run/').resolve() / 'dispatcher.py')  ## path to the dispatcher.py file on local computer\n",
    "path_dispatcher_remote  = (Path(dir_saveOutputs) / 'dispatcher.py').as_posix()  ## path to where you want the dispatcher.py file to be copied onto the server"
   ]
  },
  {
   "cell_type": "markdown",
   "id": "31ce097b",
   "metadata": {},
   "source": [
    "## Prepare commands"
   ]
  },
  {
   "cell_type": "code",
   "execution_count": 197,
   "id": "bea9dd44",
   "metadata": {},
   "outputs": [
    {
     "data": {
      "text/plain": [
       "{'dispatch': 'python3 /n/data1/hms/neurobio/sabatini/rich/analysis/faceRhythm/mouse_0322N/run_20230701/20230430/dispatcher.py /n/data1/hms/neurobio/sabatini/rich/github_repos/face-rhythm/scripts/pipeline_basic.py /n/data1/hms/neurobio/sabatini/rich/analysis/faceRhythm/mouse_0322N/run_20230701/20230430 /n/data1/hms/neurobio/sabatini/gyu/data/full_data/mouse_0322N/20230430/camera_data/exp/cam4 /n/data1/hms/neurobio/sabatini/rich/analysis/faceRhythm/mouse_0322N/run_20230701/ROIs_prealigned/mouse_0322N__20230430/ROIs.h5 jobNum_ mouse_0322N_0430 /n/data1/hms/neurobio/sabatini/rich/virtual_envs/FR'}"
      ]
     },
     "metadata": {},
     "output_type": "display_data"
    }
   ],
   "source": [
    "## Expectation for dispatch args: \n",
    "# path_script, dir_save, dir_videos, dir_ROIs, name_job, name_slurm, name_env\n",
    "\n",
    "\n",
    "commands = {\n",
    "#     'make_dir': f\"mkdir -p {dir_data_remote}\",\n",
    "#     'copy': f\"cp -r {dir_s2p_MICROSCOPE} {dir_data_remote}\",\n",
    "#     'dispatch': f\"python {str(path_dispatcher_remote)} {dir_saveOutputs} {path_script_remote} {name_job} {name_slurm} {dir_videos}\",  ## dispatcher expecting these args as inputs\n",
    "    'dispatch': f\"\\\n",
    "python3 \\\n",
    "{path_dispatcher_remote} \\\n",
    "{path_script_remote} \\\n",
    "{dir_saveOutputs} \\\n",
    "{dir_videos} \\\n",
    "{dir_ROIs} \\\n",
    "{name_job} \\\n",
    "{name_slurm} \\\n",
    "{name_env}\",\n",
    "}\n",
    "display(commands)"
   ]
  },
  {
   "cell_type": "markdown",
   "id": "f62cb3b7",
   "metadata": {},
   "source": [
    "## Upload `dispatcher.py` file"
   ]
  },
  {
   "cell_type": "code",
   "execution_count": 198,
   "id": "5d089037",
   "metadata": {},
   "outputs": [],
   "source": [
    "sftp.mkdir_p(str(Path(path_dispatcher_remote).parent))\n",
    "sftp.sftp.put(str(path_dispatcher_local), str(path_dispatcher_remote));"
   ]
  },
  {
   "cell_type": "markdown",
   "id": "c89ee6cc",
   "metadata": {},
   "source": [
    "## Dispatch"
   ]
  },
  {
   "cell_type": "code",
   "execution_count": 182,
   "id": "98a745e0",
   "metadata": {
    "scrolled": false
   },
   "outputs": [
    {
     "name": "stdout",
     "output_type": "stream",
     "text": [
      "python3 /n/data1/hms/neurobio/sabatini/rich/analysis/faceRhythm/mous \r",
      "e_0322N/run_20230701/20230430/dispatcher.py /n/data1/hms/neurobio/sabatini/rich/ \r",
      "github_repos/face-rhythm/scripts/pipeline_basic.py /n/data1/hms/neurobio/sabatin \r",
      "i/rich/analysis/faceRhythm/mouse_0322N/run_20230701/20230430 /n/data1/hms/neurob \r",
      "io/sabatini/gyu/data/full_data/mouse_0322N/20230430/camera_data/exp/cam4 /n/data \r",
      "1/hms/neurobio/sabatini/rich/analysis/faceRhythm/mouse_0322N/run_20230701/ROIs_p \r",
      "realigned/mouse_0322N__20230430/ROIs.h5 jobNum_ mouse_0322N_0430 /n/data1/hms/ne \r",
      "urobio/sabatini/rich/virtual_envs/FR\r\n",
      "dispatcher environment: /n/data1/hms/neurobio/sabatini/rich/virtual_envs/FR\r\n",
      "Copying /n/data1/hms/neurobio/sabatini/rich/github_repos/face-rhythm/scripts/pipeline_basic.py to /n/data1/hms/neurobio/sabatini/rich/analysis/faceRhythm/mouse_0322N/run_20230701/20230430/pipeline_basic.py\r\n",
      "Submitting job: jobNum_ 0\r\n",
      "sbatch: Setting QOS to gpuquad_qos\r\n",
      "Submitted batch job 11973022\r\n",
      "(/n/data1/hms/neurobio/sabatini/rich/virtual_envs/FR) [rh183@compute-a-16-163 fac\r",
      "ce-rhythm]$ \n"
     ]
    }
   ],
   "source": [
    "send_expect(commands['dispatch']);"
   ]
  },
  {
   "cell_type": "markdown",
   "id": "f166873c",
   "metadata": {},
   "source": [
    "## Run with serverteeny"
   ]
  },
  {
   "cell_type": "code",
   "execution_count": 207,
   "id": "175ae277",
   "metadata": {},
   "outputs": [],
   "source": [
    "run_file = {\n",
    "    \"name\": \"Rich\",\n",
    "    \"o2_acct\": \"km335\",\n",
    "    \"notes\": \"testing serverteeny for FR\",\n",
    "    \"command\": f\"sbatch /n/data1/hms/neurobio/sabatini/rich/serverteeny_submitter.sh {commands['dispatch']}\",\n",
    "}"
   ]
  },
  {
   "cell_type": "code",
   "execution_count": 204,
   "id": "b6544d3c",
   "metadata": {},
   "outputs": [],
   "source": [
    "run_file = {\n",
    "    \"name\": \"Rich\",\n",
    "    \"o2_acct\": \"km335\",\n",
    "    \"notes\": \"testing serverteeny for FR\",\n",
    "    \"command\": f\"sbatch /n/data1/hms/neurobio/sabatini/rich/serverteeny_submitter.sh pip list\",\n",
    "}"
   ]
  },
  {
   "cell_type": "code",
   "execution_count": 208,
   "id": "ee2cc6ef",
   "metadata": {},
   "outputs": [],
   "source": [
    "path_temp = str(Path(tempfile.gettempdir()) / 'run.json')\n",
    "bnpm.file_helpers.json_save(\n",
    "    obj=run_file,\n",
    "    filepath=path_temp,\n",
    ")"
   ]
  },
  {
   "cell_type": "code",
   "execution_count": 209,
   "id": "f5d77e01",
   "metadata": {},
   "outputs": [],
   "source": [
    "sftp.sftp.put(\n",
    "    localpath=path_temp,\n",
    "    remotepath=str(Path('/n/data1/hms/neurobio/sabatini/serverteeny/run') / Path(path_temp).name),\n",
    ");"
   ]
  },
  {
   "cell_type": "markdown",
   "id": "e6ea7494",
   "metadata": {},
   "source": [
    "### check on job"
   ]
  },
  {
   "cell_type": "code",
   "execution_count": 166,
   "id": "da7041f0",
   "metadata": {},
   "outputs": [
    {
     "name": "stdout",
     "output_type": "stream",
     "text": [
      "sque\n",
      "me,timelimit,reasonlist,minmemory,mincpus,grese,timeused,startti \n",
      "JOBID               NAME                PARTITION           STATE               TIME                START_TIME          TIME_LIMIT          NODELIST(REASON)    MIN_MEMORY          MIN_CPUS            TRES_PER_NODE       \n",
      "11971088            mouse_0322N_0430    gpu                 PENDING             0:00                N/A                 2:30:00             (None)              36G                 20                  gres:gpu:1,gres:vram\n",
      "11968637            mouse_0322N_0430    gpu_requeue         PENDING             0:00                2023-07-02T14:12:32 2:30:00             (Resources)         36G                 20                  gres:gpu:1,gres:vram\n",
      "11970866            bash                interactive         RUNNING             4:34                2023-07-02T11:39:10 30:00               compute-e-16-233    4G                  1                   N/A                 \n",
      "ce-rhythm]$ s/neurobio/sabatini/rich/virtual_envs/FR) [rh183@compute-e-16-233 fac\n"
     ]
    }
   ],
   "source": [
    "ssh_c.send_expect(f'squeue -u {username} --Format=jobid,name,partition,state,timeused,starttime,timelimit,reasonlist,minmemory,mincpus,gres');"
   ]
  },
  {
   "cell_type": "markdown",
   "id": "33600579",
   "metadata": {},
   "source": [
    "## Clean up"
   ]
  },
  {
   "cell_type": "code",
   "execution_count": null,
   "id": "b31f6bcb",
   "metadata": {},
   "outputs": [],
   "source": [
    "## delete password\n",
    "del pw\n",
    "gc.collect()\n",
    "\n",
    "## close sftp\n",
    "if sftp: sftp.close()\n",
    "if transport: transport.close()\n",
    "del sftp\n",
    "del transport\n",
    "    \n",
    "## close ssh\n",
    "ssh_t.close()\n",
    "del ssh_t\n",
    "ssh_c.close()\n",
    "del ssh_c\n",
    "gc.collect()"
   ]
  },
  {
   "cell_type": "code",
   "execution_count": null,
   "id": "b1e29db0",
   "metadata": {},
   "outputs": [],
   "source": []
  },
  {
   "cell_type": "code",
   "execution_count": null,
   "id": "a2ee21fd",
   "metadata": {},
   "outputs": [],
   "source": []
  }
 ],
 "metadata": {
  "kernelspec": {
   "display_name": "Python 3 (ipykernel)",
   "language": "python",
   "name": "python3"
  },
  "language_info": {
   "codemirror_mode": {
    "name": "ipython",
    "version": 3
   },
   "file_extension": ".py",
   "mimetype": "text/x-python",
   "name": "python",
   "nbconvert_exporter": "python",
   "pygments_lexer": "ipython3",
   "version": "3.9.16"
  }
 },
 "nbformat": 4,
 "nbformat_minor": 5
}
