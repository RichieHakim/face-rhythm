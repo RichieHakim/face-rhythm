{
 "cells": [
  {
   "cell_type": "code",
   "execution_count": 1,
   "id": "eb297901",
   "metadata": {},
   "outputs": [
    {
     "data": {
      "text/html": [
       "<style>.container {width:95% !important; }</style>"
      ],
      "text/plain": [
       "<IPython.core.display.HTML object>"
      ]
     },
     "metadata": {},
     "output_type": "display_data"
    }
   ],
   "source": [
    "# ALWAYS RUN THIS CELL\n",
    "# widen jupyter notebook window\n",
    "from IPython.display import display, HTML\n",
    "display(HTML(\"<style>.container {width:95% !important; }</style>\"))"
   ]
  },
  {
   "cell_type": "markdown",
   "id": "e7ca9401",
   "metadata": {},
   "source": [
    "This requires having `bnpm`. Get it with `pip install bnpm` or here: https://github.com/RichieHakim/basic_neural_processing_modules"
   ]
  },
  {
   "cell_type": "code",
   "execution_count": 3,
   "id": "de202ef3",
   "metadata": {},
   "outputs": [],
   "source": [
    "from bnpm import server"
   ]
  },
  {
   "cell_type": "code",
   "execution_count": 6,
   "id": "47fe1e80",
   "metadata": {},
   "outputs": [],
   "source": [
    "import os\n",
    "from pathlib import Path\n",
    "import functools\n",
    "import tempfile\n",
    "import getpass\n",
    "import gc"
   ]
  },
  {
   "cell_type": "markdown",
   "id": "6114afcd",
   "metadata": {},
   "source": [
    "------------\n",
    "# ==== Start ===="
   ]
  },
  {
   "cell_type": "markdown",
   "id": "ae33b435",
   "metadata": {},
   "source": [
    "## Prepare username + password"
   ]
  },
  {
   "cell_type": "code",
   "execution_count": 8,
   "id": "af73363a",
   "metadata": {},
   "outputs": [
    {
     "name": "stdout",
     "output_type": "stream",
     "text": [
      "Username: rh183\n"
     ]
    }
   ],
   "source": [
    "remote_host_transfer = \"transfer.rc.hms.harvard.edu\"\n",
    "remote_host_compute = \"o2.hms.harvard.edu\"\n",
    "username = input('Username: ')\n",
    "\n",
    "use_localSshKey = True\n",
    "\n",
    "pw = server.pw_encode(getpass.getpass(prompt='Password: ')) if use_localSshKey==False else None\n",
    "\n",
    "path_sshKey = '/home/rich/.ssh/id_rsa' if use_localSshKey else None"
   ]
  },
  {
   "cell_type": "markdown",
   "id": "5cbb7d5b",
   "metadata": {},
   "source": [
    "## Prepare `sftp` and `ssh` objects"
   ]
  },
  {
   "cell_type": "code",
   "execution_count": 43,
   "id": "fdf1e2ba",
   "metadata": {},
   "outputs": [],
   "source": [
    "## initialize ssh_transfer\n",
    "ssh_t = server.ssh_interface(\n",
    "    nbytes_toReceive=20000,\n",
    "    recv_timeout=1,\n",
    "    verbose=True,\n",
    ")\n",
    "ssh_t.o2_connect(\n",
    "    hostname=remote_host_transfer,\n",
    "    username=username,\n",
    "    password=server.pw_decode(pw),\n",
    "    key_filename=path_sshKey,\n",
    "    look_for_keys=False,\n",
    "    passcode_method=1,\n",
    "    verbose=0,\n",
    "    skip_passcode=False,    \n",
    ")"
   ]
  },
  {
   "cell_type": "code",
   "execution_count": 10,
   "id": "fa578dd5",
   "metadata": {},
   "outputs": [],
   "source": [
    "## initialize ssh_compute\n",
    "ssh_c = server.ssh_interface(\n",
    "    nbytes_toReceive=20000,\n",
    "    recv_timeout=1,\n",
    "    verbose=True,\n",
    ")\n",
    "ssh_c.o2_connect(\n",
    "    hostname=remote_host_compute,\n",
    "    username=username,\n",
    "    password=server.pw_decode(pw),\n",
    "    key_filename=path_sshKey,\n",
    "    look_for_keys=False,\n",
    "    passcode_method=1,\n",
    "    verbose=0,\n",
    "    skip_passcode=False,    \n",
    ")"
   ]
  },
  {
   "cell_type": "code",
   "execution_count": 44,
   "id": "daea3d7a",
   "metadata": {},
   "outputs": [],
   "source": [
    "sftp = server.sftp_interface(ssh_client=ssh_t.client)"
   ]
  },
  {
   "cell_type": "code",
   "execution_count": 78,
   "id": "03cac0c5",
   "metadata": {},
   "outputs": [],
   "source": [
    "prompt_snip = f'[{username}'"
   ]
  },
  {
   "cell_type": "code",
   "execution_count": 81,
   "id": "66e4a439",
   "metadata": {},
   "outputs": [],
   "source": [
    "send_expect = functools.partial(ssh_c.send_expect, str_success=prompt_snip)"
   ]
  },
  {
   "cell_type": "markdown",
   "id": "bd2603cf",
   "metadata": {},
   "source": [
    "## Start a small interactive node"
   ]
  },
  {
   "cell_type": "code",
   "execution_count": 261,
   "id": "af74c318",
   "metadata": {},
   "outputs": [
    {
     "name": "stdout",
     "output_type": "stream",
     "text": [
      "/n/data1/hms/neurobio/sabatini/gyu/data/full_data/mouse_0322N/20230531/camera_data/exp/cam4/cam42023-05-31T12_59_07.avi\n",
      "/n/data1/hms/neurobio/sabatini/gyu/data/full_data/mouse_0322N/20230523/camera_data/exp/cam4/cam42023-05-23T12_42_31.avi\n",
      "/n/data1/hms/neurobio/sabatini/gyu/data/full_data/mouse_0322N/20230517/camera_data/exp/cam4/cam42023-05-17T13_16_31.avi\n",
      "/n/data1/hms/neurobio/sabatini/gyu/data/full_data/mouse_0322N/20230515/camera_data/exp/cam4/cam42023-05-15T11_32_19.avi\n",
      "/n/data1/hms/neurobio/sabatini/gyu/data/full_data/mouse_0322N/20230430/camera_data/exp/cam4/cam42023-04-30T13_04_58.avi\n",
      "/n/data1/hms/neurobio/sabatini/gyu/data/full_data/mouse_0322N/20230528/camera_data/exp/cam4/cam42023-05-28T09_46_31.avi\n",
      "/n/data1/hms/neurobio/sabatini/gyu/data/full_data/mouse_0322N/20230601/camera_data/exp/cam4/cam42023-06-01T13_31_14.avi\n",
      "/n/data1/hms/neurobio/sabatini/gyu/data/full_data/mouse_0322N/20230512/camera_data/exp/cam4/cam42023-05-12T13_20_02.avi\n",
      "/n/data1/hms/neurobio/sabatini/gyu/data/full_data/mouse_0322N/20230510/camera_data/exp/cam4/cam42023-05-10T13_12_03.avi\n",
      "/n/data1/hms/neurobio/sabatini/gyu/data/full_data/mouse_0322N/20230511/camera_data/exp/cam4/cam42023-05-11T11_30_02.avi\n",
      "/n/data1/hms/neurobio/sabatini/gyu/data/full_data/mouse_0322N/20230514/camera_data/exp/cam4/cam42023-05-14T13_34_13.avi\n",
      "/n/data1/hms/neurobio/sabatini/gyu/data/full_data/mouse_0322N/20230504/camera_data/exp/cam4/cam42023-05-04T14_13_25.avi\n",
      "/n/data1/hms/neurobio/sabatini/gyu/data/full_data/mouse_0322N/20230507/camera_data/exp/cam4/cam42023-05-07T12_01_17.avi\n",
      "/n/data1/hms/neurobio/sabatini/gyu/data/full_data/mouse_0322N/20230525/camera_data/exp/cam4/cam42023-05-25T13_38_35.avi\n",
      "/n/data1/hms/neurobio/sabatini/gyu/data/full_data/mouse_0322N/20230522/camera_data/exp/cam4/cam42023-05-22T12_52_31.avi\n",
      "/n/data1/hms/neurobio/sabatini/gyu/data/full_data/mouse_0322N/20230526/camera_data/exp/cam4/cam42023-05-26T12_57_18.avi\n",
      "/n/data1/hms/neurobio/sabatini/gyu/data/full_data/mouse_0322N/20230521/camera_data/exp/cam4/cam42023-05-21T13_16_22.avi\n",
      "/n/data1/hms/neurobio/sabatini/gyu/data/full_data/mouse_0322N/20230518/camera_data/exp/cam4/cam42023-05-18T11_22_53.avi\n",
      "/n/data1/hms/neurobio/sabatini/gyu/data/full_data/mouse_0322N/20230530/camera_data/exp/cam4/cam42023-05-30T13_06_25.avi\n",
      "/n/data1/hms/neurobio/sabatini/gyu/data/full_data/mouse_0322N/20230520/camera_data/exp/cam4/cam42023-05-20T13_28_51.avi\n",
      "/n/data1/hms/neurobio/sabatini/gyu/data/full_data/mouse_0322N/20230508/camera_data/exp/cam4/cam42023-05-08T13_54_51.avi\n",
      "/n/data1/hms/neurobio/sabatini/gyu/data/full_data/mouse_0322N/20230506/camera_data/exp/cam4/cam42023-05-06T13_44_33.avi\n",
      "/n/data1/hms/neurobio/sabatini/gyu/data/full_data/mouse_0322N/20230527/camera_data/exp/cam4/cam42023-05-27T12_10_11.avi\n",
      "/n/data1/hms/neurobio/sabatini/gyu/data/full_data/mouse_0322N/20230519/camera_data/exp/cam4/cam42023-05-19T12_46_02.avi\n",
      "/n/data1/hms/neurobio/sabatini/gyu/data/full_data/mouse_0322N/20230501/camera_data/exp/cam4/cam42023-05-01T10_48_48.avi\n",
      "/n/data1/hms/neurobio/sabatini/gyu/data/full_data/mouse_0322N/20230505/camera_data/exp/cam4/cam42023-05-05T10_30_17.avi\n",
      "/n/data1/hms/neurobio/sabatini/gyu/data/full_data/mouse_0322N/20230516/camera_data/exp/cam4/cam42023-05-16T12_41_11.avi\n",
      "/n/data1/hms/neurobio/sabatini/gyu/data/full_data/mouse_0322N/20230509/camera_data/exp/cam4/cam42023-05-09T11_45_27.avi\n",
      "/n/data1/hms/neurobio/sabatini/gyu/data/full_data/mouse_0322N/20230529/camera_data/exp/cam4/cam42023-05-29T11_44_45.avi\n",
      "/n/data1/hms/neurobio/sabatini/gyu/data/full_data/mouse_0322N/20230503/camera_data/exp/cam4/cam42023-05-03T11_32_40.avi\n",
      "/n/data1/hms/neurobio/sabatini/gyu/data/full_data/mouse_0322N/20230524/camera_data/exp/cam4/cam42023-05-24T12_40_22.avi\n",
      "/n/data1/hms/neurobio/sabatini/gyu/data/full_data/mouse_0322N/20230502/camera_data/exp/cam4/cam42023-05-02T12_33_29.avi\n"
     ]
    }
   ],
   "source": [
    "paths_found = sftp.search_recursive(\n",
    "    path='/n/data1/hms/neurobio/sabatini/gyu/data/full_data/mouse_0322N',\n",
    "    search_pattern_re='cam4.*avi',\n",
    "    max_depth=5,\n",
    "    find_folders=False,\n",
    "    find_files=True,\n",
    ")"
   ]
  },
  {
   "cell_type": "code",
   "execution_count": 263,
   "id": "9383fdea",
   "metadata": {},
   "outputs": [],
   "source": [
    "import natsort"
   ]
  },
  {
   "cell_type": "code",
   "execution_count": 264,
   "id": "eb340061",
   "metadata": {},
   "outputs": [
    {
     "data": {
      "text/plain": [
       "['20230430',\n",
       " '20230501',\n",
       " '20230502',\n",
       " '20230503',\n",
       " '20230504',\n",
       " '20230505',\n",
       " '20230506',\n",
       " '20230507',\n",
       " '20230508',\n",
       " '20230509',\n",
       " '20230510',\n",
       " '20230511',\n",
       " '20230512',\n",
       " '20230514',\n",
       " '20230515',\n",
       " '20230516',\n",
       " '20230517',\n",
       " '20230518',\n",
       " '20230519',\n",
       " '20230520',\n",
       " '20230521',\n",
       " '20230522',\n",
       " '20230523',\n",
       " '20230524',\n",
       " '20230525',\n",
       " '20230526',\n",
       " '20230527',\n",
       " '20230528',\n",
       " '20230529',\n",
       " '20230530',\n",
       " '20230531',\n",
       " '20230601']"
      ]
     },
     "execution_count": 264,
     "metadata": {},
     "output_type": "execute_result"
    }
   ],
   "source": [
    "dates_toUse = natsort.natsorted([Path(p).parts[-5] for p in paths_found])\n",
    "dates_toUse"
   ]
  },
  {
   "cell_type": "code",
   "execution_count": 260,
   "id": "fed7100f",
   "metadata": {},
   "outputs": [
    {
     "name": "stdout",
     "output_type": "stream",
     "text": [
      "srun --pty -p interactive -t 0-00:30:00 --mem=4G /bin/bash\n",
      "\n",
      "srun: job 11993001 queued and waiting for resources\n",
      "\n"
     ]
    },
    {
     "ename": "KeyboardInterrupt",
     "evalue": "",
     "output_type": "error",
     "traceback": [
      "\u001b[0;31m---------------------------------------------------------------------------\u001b[0m",
      "\u001b[0;31mKeyboardInterrupt\u001b[0m                         Traceback (most recent call last)",
      "Cell \u001b[0;32mIn[260], line 1\u001b[0m\n\u001b[0;32m----> 1\u001b[0m \u001b[43msend_expect\u001b[49m\u001b[43m(\u001b[49m\u001b[38;5;124;43mf\u001b[39;49m\u001b[38;5;124;43m'\u001b[39;49m\u001b[38;5;124;43msrun --pty -p interactive -t 0-00:30:00 --mem=4G /bin/bash\u001b[39;49m\u001b[38;5;124;43m'\u001b[39;49m\u001b[43m)\u001b[49m;\n",
      "File \u001b[0;32m/media/rich/Home_Linux_partition/github_repos/basic_neural_processing_modules/bnpm/server.py:423\u001b[0m, in \u001b[0;36mssh_interface.send_expect\u001b[0;34m(self, cmd, str_success, partial_match, recv_timeout, total_timeout, sleep_time, verbose)\u001b[0m\n\u001b[1;32m    396\u001b[0m \u001b[38;5;250m\u001b[39m\u001b[38;5;124;03m\"\"\"\u001b[39;00m\n\u001b[1;32m    397\u001b[0m \u001b[38;5;124;03mSend a command to the remote server, wait for \u001b[39;00m\n\u001b[1;32m    398\u001b[0m \u001b[38;5;124;03m a string to appear in the output, and then \u001b[39;00m\n\u001b[0;32m   (...)\u001b[0m\n\u001b[1;32m    420\u001b[0m \u001b[38;5;124;03m        None: will default to self.verbose (1 or 2).\u001b[39;00m\n\u001b[1;32m    421\u001b[0m \u001b[38;5;124;03m\"\"\"\u001b[39;00m\n\u001b[1;32m    422\u001b[0m \u001b[38;5;28mself\u001b[39m\u001b[38;5;241m.\u001b[39msend(cmd\u001b[38;5;241m=\u001b[39mcmd)\n\u001b[0;32m--> 423\u001b[0m out, success \u001b[38;5;241m=\u001b[39m \u001b[38;5;28;43mself\u001b[39;49m\u001b[38;5;241;43m.\u001b[39;49m\u001b[43mexpect\u001b[49m\u001b[43m(\u001b[49m\n\u001b[1;32m    424\u001b[0m \u001b[43m    \u001b[49m\u001b[43mstr_success\u001b[49m\u001b[38;5;241;43m=\u001b[39;49m\u001b[43mstr_success\u001b[49m\u001b[43m,\u001b[49m\n\u001b[1;32m    425\u001b[0m \u001b[43m    \u001b[49m\u001b[43mpartial_match\u001b[49m\u001b[38;5;241;43m=\u001b[39;49m\u001b[43mpartial_match\u001b[49m\u001b[43m,\u001b[49m\n\u001b[1;32m    426\u001b[0m \u001b[43m    \u001b[49m\u001b[43mrecv_timeout\u001b[49m\u001b[38;5;241;43m=\u001b[39;49m\u001b[43mrecv_timeout\u001b[49m\u001b[43m,\u001b[49m\n\u001b[1;32m    427\u001b[0m \u001b[43m    \u001b[49m\u001b[43mtotal_timeout\u001b[49m\u001b[38;5;241;43m=\u001b[39;49m\u001b[43mtotal_timeout\u001b[49m\u001b[43m,\u001b[49m\n\u001b[1;32m    428\u001b[0m \u001b[43m    \u001b[49m\u001b[43msleep_time\u001b[49m\u001b[43m \u001b[49m\u001b[38;5;241;43m=\u001b[39;49m\u001b[43m \u001b[49m\u001b[43msleep_time\u001b[49m\u001b[43m,\u001b[49m\n\u001b[1;32m    429\u001b[0m \u001b[43m    \u001b[49m\u001b[43mverbose\u001b[49m\u001b[38;5;241;43m=\u001b[39;49m\u001b[43mverbose\u001b[49m\u001b[43m,\u001b[49m\n\u001b[1;32m    430\u001b[0m \u001b[43m\u001b[49m\u001b[43m)\u001b[49m\n\u001b[1;32m    431\u001b[0m \u001b[38;5;28;01mreturn\u001b[39;00m out, success\n",
      "File \u001b[0;32m/media/rich/Home_Linux_partition/github_repos/basic_neural_processing_modules/bnpm/server.py:373\u001b[0m, in \u001b[0;36mssh_interface.expect\u001b[0;34m(self, str_success, partial_match, recv_timeout, total_timeout, sleep_time, verbose)\u001b[0m\n\u001b[1;32m    370\u001b[0m     \u001b[38;5;28;01mif\u001b[39;00m str_success \u001b[38;5;241m==\u001b[39m out:\n\u001b[1;32m    371\u001b[0m         success \u001b[38;5;241m=\u001b[39m \u001b[38;5;28;01mTrue\u001b[39;00m\n\u001b[0;32m--> 373\u001b[0m \u001b[43mtime\u001b[49m\u001b[38;5;241;43m.\u001b[39;49m\u001b[43msleep\u001b[49m\u001b[43m(\u001b[49m\u001b[43msleep_time\u001b[49m\u001b[43m)\u001b[49m\n\u001b[1;32m    375\u001b[0m \u001b[38;5;28;01mif\u001b[39;00m time\u001b[38;5;241m.\u001b[39mtime() \u001b[38;5;241m-\u001b[39m t_start \u001b[38;5;241m>\u001b[39m total_timeout:\n\u001b[1;32m    376\u001b[0m     \u001b[38;5;28;01mbreak\u001b[39;00m\n",
      "\u001b[0;31mKeyboardInterrupt\u001b[0m: "
     ]
    }
   ],
   "source": [
    "send_expect(f'srun --pty -p interactive -t 0-00:30:00 --mem=4G /bin/bash');"
   ]
  },
  {
   "cell_type": "markdown",
   "id": "0cd3c682",
   "metadata": {},
   "source": [
    "## Pull/update repo"
   ]
  },
  {
   "cell_type": "code",
   "execution_count": 172,
   "id": "ca04498d",
   "metadata": {},
   "outputs": [
    {
     "name": "stdout",
     "output_type": "stream",
     "text": [
      "ctivate /n/data1/hms/neurobi \r",
      "o/sabatini/rich/virtual_envs/FR\r\n",
      "(/n/data1/hms/neurobio/sabatini/rich/virtual_envs/FR) [rh183@compute-a-16-163 fac\r",
      "ce-rhythm]$ \n",
      "cd /n/data1/hms/neurobio/sabatini/rich/github_repos/face-rhythm\r\n",
      "(/n/data1/hms/neurobio/sabatini/rich/virtual_envs/FR) [rh183@compute-a-16-163 fac\r",
      "ce-rhythm]$ \n"
     ]
    }
   ],
   "source": [
    "send_expect('cd /n/data1/hms/neurobio/sabatini/rich/github_repos/face-rhythm')\n",
    "send_expect('git pull');"
   ]
  },
  {
   "cell_type": "markdown",
   "id": "4ef493c1",
   "metadata": {},
   "source": [
    "## Activate environment"
   ]
  },
  {
   "cell_type": "code",
   "execution_count": 168,
   "id": "be246a7a",
   "metadata": {},
   "outputs": [
    {
     "name": "stdout",
     "output_type": "stream",
     "text": [
      "srun --pty -p interactive -t 0-00:30:00 --mem=4G /bin/bash\n",
      "srun: job 11972660 queued and waiting for resources\n",
      "srun: job 11972660 has been allocated resources\n",
      "\n",
      "conda activate /n/data1/hms/neurobio/sabatini/rich/virtual_envs/FR\n",
      "\n",
      "(base) [rh183@compute-a-16-163 face-rhythm]$ conda a\n"
     ]
    }
   ],
   "source": [
    "name_env = '/n/data1/hms/neurobio/sabatini/rich/virtual_envs/FR'\n",
    "\n",
    "send_expect(f'conda activate {name_env}');"
   ]
  },
  {
   "cell_type": "markdown",
   "id": "558a1158",
   "metadata": {},
   "source": [
    "## Prepare directories"
   ]
  },
  {
   "cell_type": "code",
   "execution_count": 196,
   "id": "97ffab65",
   "metadata": {},
   "outputs": [],
   "source": [
    "import numpy as np\n",
    "\n",
    "mouse = 'mouse_0322N'\n",
    "date = '20230430'\n",
    "\n",
    "name_slurm = mouse + '_' + date[-4:]\n",
    "\n",
    "dir_videos      = str(Path('/n/data1/hms/neurobio/sabatini/gyu/data/full_data') / mouse / date / 'camera_data' / 'exp' / 'cam4')\n",
    "\n",
    "dir_ROIs        = str(Path('/n/data1/hms/neurobio/sabatini/rich/analysis/faceRhythm') / mouse / 'run_20230701' / 'ROIs_prealigned' / f'{mouse}__{date}' / 'ROIs.h5')\n",
    "\n",
    "dir_saveOutputs = str(Path('/n/data1/hms/neurobio/sabatini/rich/analysis/faceRhythm') / mouse / 'run_20230701' / date)\n",
    "\n",
    "\n",
    "name_job = 'jobNum_'\n",
    "\n",
    "\n",
    "path_script_remote      = str(Path(r'/n/data1/hms/neurobio/sabatini/rich/github_repos/face-rhythm/scripts/pipeline_basic.py'))  ## path to a copy of the script (.py) file to run within the repo on the server\n",
    "\n",
    "path_dispatcher_local   = str(Path(r'/media/rich/Home_Linux_partition/github_repos/face-rhythm/batch_run/').resolve() / 'dispatcher.py')  ## path to the dispatcher.py file on local computer\n",
    "path_dispatcher_remote  = (Path(dir_saveOutputs) / 'dispatcher.py').as_posix()  ## path to where you want the dispatcher.py file to be copied onto the server"
   ]
  },
  {
   "cell_type": "markdown",
   "id": "31ce097b",
   "metadata": {},
   "source": [
    "## Prepare commands"
   ]
  },
  {
   "cell_type": "code",
   "execution_count": 197,
   "id": "bea9dd44",
   "metadata": {},
   "outputs": [
    {
     "data": {
      "text/plain": [
       "{'dispatch': 'python3 /n/data1/hms/neurobio/sabatini/rich/analysis/faceRhythm/mouse_0322N/run_20230701/20230430/dispatcher.py /n/data1/hms/neurobio/sabatini/rich/github_repos/face-rhythm/scripts/pipeline_basic.py /n/data1/hms/neurobio/sabatini/rich/analysis/faceRhythm/mouse_0322N/run_20230701/20230430 /n/data1/hms/neurobio/sabatini/gyu/data/full_data/mouse_0322N/20230430/camera_data/exp/cam4 /n/data1/hms/neurobio/sabatini/rich/analysis/faceRhythm/mouse_0322N/run_20230701/ROIs_prealigned/mouse_0322N__20230430/ROIs.h5 jobNum_ mouse_0322N_0430 /n/data1/hms/neurobio/sabatini/rich/virtual_envs/FR'}"
      ]
     },
     "metadata": {},
     "output_type": "display_data"
    }
   ],
   "source": [
    "## Expectation for dispatch args: \n",
    "# path_script, dir_save, dir_videos, dir_ROIs, name_job, name_slurm, name_env\n",
    "\n",
    "\n",
    "commands = {\n",
    "#     'make_dir': f\"mkdir -p {dir_data_remote}\",\n",
    "#     'copy': f\"cp -r {dir_s2p_MICROSCOPE} {dir_data_remote}\",\n",
    "#     'dispatch': f\"python {str(path_dispatcher_remote)} {dir_saveOutputs} {path_script_remote} {name_job} {name_slurm} {dir_videos}\",  ## dispatcher expecting these args as inputs\n",
    "    'dispatch': f\"\\\n",
    "python3 \\\n",
    "{path_dispatcher_remote} \\\n",
    "{path_script_remote} \\\n",
    "{dir_saveOutputs} \\\n",
    "{dir_videos} \\\n",
    "{dir_ROIs} \\\n",
    "{name_job} \\\n",
    "{name_slurm} \\\n",
    "{name_env}\",\n",
    "}\n",
    "display(commands)"
   ]
  },
  {
   "cell_type": "markdown",
   "id": "f62cb3b7",
   "metadata": {},
   "source": [
    "## Upload `dispatcher.py` file"
   ]
  },
  {
   "cell_type": "code",
   "execution_count": 255,
   "id": "b55519ff",
   "metadata": {},
   "outputs": [],
   "source": [
    "sftp.mkdir_p(str(Path(path_dispatcher_remote).parent))\n",
    "sftp.sftp.put(str(path_dispatcher_local), str(path_dispatcher_remote));"
   ]
  },
  {
   "cell_type": "markdown",
   "id": "c89ee6cc",
   "metadata": {},
   "source": [
    "## Dispatch"
   ]
  },
  {
   "cell_type": "raw",
   "id": "e58c04c9",
   "metadata": {
    "scrolled": false
   },
   "source": [
    "send_expect(commands['dispatch']);"
   ]
  },
  {
   "cell_type": "markdown",
   "id": "caa4fee6",
   "metadata": {},
   "source": [
    "## Run with serverteeny"
   ]
  },
  {
   "cell_type": "code",
   "execution_count": 256,
   "id": "077cf09a",
   "metadata": {},
   "outputs": [
    {
     "name": "stdout",
     "output_type": "stream",
     "text": [
      "chmod 777 /n/data1/hms/neurobio/sabatini/rich/analysis/faceRhythm/mouse_0322N \r",
      "/run_20230701/20230430/dispatcher.py\r\n",
      "\n",
      "(/n/data1/hms/neurobio/sabatini/rich/virtual_envs/FR) [rh183@login03 face-rhythm]\r",
      "]$ \n"
     ]
    },
    {
     "data": {
      "text/plain": [
       "('(/n/data1/hms/neurobio/sabatini/rich/virtual_envs/FR) [rh183@login03 face-rhythm]\\r]$ ',\n",
       " True)"
      ]
     },
     "execution_count": 256,
     "metadata": {},
     "output_type": "execute_result"
    }
   ],
   "source": [
    "send_expect(f\"chmod 777 {path_dispatcher_remote}\")"
   ]
  },
  {
   "cell_type": "code",
   "execution_count": 257,
   "id": "c3a1980a",
   "metadata": {},
   "outputs": [],
   "source": [
    "run_file = {\n",
    "    \"name\": \"Rich\",\n",
    "    \"o2_acct\": \"shl143\",\n",
    "    \"notes\": \"testing serverteeny for FR\",\n",
    "    \"command\": f\"sbatch /n/data1/hms/neurobio/sabatini/rich/serverteeny_submitter.sh {commands['dispatch']}\",\n",
    "}"
   ]
  },
  {
   "cell_type": "code",
   "execution_count": 258,
   "id": "ff8c60d8",
   "metadata": {},
   "outputs": [],
   "source": [
    "path_temp = str(Path(tempfile.gettempdir()) / 'run.json')\n",
    "bnpm.file_helpers.json_save(\n",
    "    obj=run_file,\n",
    "    filepath=path_temp,\n",
    ")"
   ]
  },
  {
   "cell_type": "code",
   "execution_count": 259,
   "id": "ed27bed7",
   "metadata": {},
   "outputs": [],
   "source": [
    "sftp.sftp.put(\n",
    "    localpath=path_temp,\n",
    "    remotepath=str(Path('/n/data1/hms/neurobio/sabatini/serverteeny/run') / Path(path_temp).name),\n",
    ");"
   ]
  },
  {
   "cell_type": "markdown",
   "id": "e6ea7494",
   "metadata": {},
   "source": [
    "### check on job"
   ]
  },
  {
   "cell_type": "raw",
   "id": "263225d1",
   "metadata": {
    "scrolled": true
   },
   "source": [
    "ssh_c.send_expect(f'squeue -u {username} --Format=jobid,name,partition,state,timeused,starttime,timelimit,reasonlist,minmemory,mincpus,gres');"
   ]
  },
  {
   "cell_type": "markdown",
   "id": "33600579",
   "metadata": {},
   "source": [
    "## Clean up"
   ]
  },
  {
   "cell_type": "code",
   "execution_count": null,
   "id": "b31f6bcb",
   "metadata": {},
   "outputs": [],
   "source": [
    "## delete password\n",
    "del pw\n",
    "gc.collect()\n",
    "\n",
    "## close sftp\n",
    "if sftp: sftp.close()\n",
    "if transport: transport.close()\n",
    "del sftp\n",
    "del transport\n",
    "    \n",
    "## close ssh\n",
    "ssh_t.close()\n",
    "del ssh_t\n",
    "ssh_c.close()\n",
    "del ssh_c\n",
    "gc.collect()"
   ]
  },
  {
   "cell_type": "code",
   "execution_count": null,
   "id": "b1e29db0",
   "metadata": {},
   "outputs": [],
   "source": []
  },
  {
   "cell_type": "code",
   "execution_count": null,
   "id": "a2ee21fd",
   "metadata": {},
   "outputs": [],
   "source": []
  }
 ],
 "metadata": {
  "kernelspec": {
   "display_name": "Python 3 (ipykernel)",
   "language": "python",
   "name": "python3"
  },
  "language_info": {
   "codemirror_mode": {
    "name": "ipython",
    "version": 3
   },
   "file_extension": ".py",
   "mimetype": "text/x-python",
   "name": "python",
   "nbconvert_exporter": "python",
   "pygments_lexer": "ipython3",
   "version": "3.9.16"
  }
 },
 "nbformat": 4,
 "nbformat_minor": 5
}
