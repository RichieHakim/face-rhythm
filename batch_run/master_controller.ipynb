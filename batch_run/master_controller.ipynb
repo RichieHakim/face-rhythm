{
 "cells": [
  {
   "cell_type": "code",
   "execution_count": 1,
   "id": "eb297901",
   "metadata": {},
   "outputs": [
    {
     "data": {
      "text/html": [
       "<style>.container {width:95% !important; }</style>"
      ],
      "text/plain": [
       "<IPython.core.display.HTML object>"
      ]
     },
     "metadata": {},
     "output_type": "display_data"
    }
   ],
   "source": [
    "# ALWAYS RUN THIS CELL\n",
    "# widen jupyter notebook window\n",
    "from IPython.display import display, HTML\n",
    "display(HTML(\"<style>.container {width:95% !important; }</style>\"))"
   ]
  },
  {
   "cell_type": "markdown",
   "id": "e7ca9401",
   "metadata": {},
   "source": [
    "This requires having `bnpm`. Get it with `pip install bnpm` or here: https://github.com/RichieHakim/basic_neural_processing_modules"
   ]
  },
  {
   "cell_type": "code",
   "execution_count": 21,
   "id": "b083639c",
   "metadata": {},
   "outputs": [],
   "source": [
    "import bnpm\n",
    "from bnpm import server"
   ]
  },
  {
   "cell_type": "code",
   "execution_count": 3,
   "id": "47fe1e80",
   "metadata": {},
   "outputs": [],
   "source": [
    "import os\n",
    "from pathlib import Path\n",
    "import functools\n",
    "import tempfile\n",
    "import getpass\n",
    "import gc"
   ]
  },
  {
   "cell_type": "markdown",
   "id": "6114afcd",
   "metadata": {},
   "source": [
    "------------\n",
    "# ==== Start ===="
   ]
  },
  {
   "cell_type": "markdown",
   "id": "ae33b435",
   "metadata": {},
   "source": [
    "## Prepare username + password"
   ]
  },
  {
   "cell_type": "code",
   "execution_count": 7,
   "id": "af73363a",
   "metadata": {},
   "outputs": [
    {
     "name": "stdout",
     "output_type": "stream",
     "text": [
      "Username: rh183\n",
      "Password: ········\n"
     ]
    }
   ],
   "source": [
    "remote_host_transfer = \"transfer.rc.hms.harvard.edu\"\n",
    "remote_host_compute = \"o2.hms.harvard.edu\"\n",
    "username = input('Username: ')\n",
    "\n",
    "use_localSshKey = False\n",
    "\n",
    "pw = server.pw_encode(getpass.getpass(prompt='Password: ')) if use_localSshKey==False else None\n",
    "\n",
    "path_sshKey = '/home/rich/.ssh/id_rsa' if use_localSshKey else None"
   ]
  },
  {
   "cell_type": "markdown",
   "id": "5cbb7d5b",
   "metadata": {},
   "source": [
    "## Prepare `sftp` and `ssh` objects"
   ]
  },
  {
   "cell_type": "code",
   "execution_count": 8,
   "id": "fdf1e2ba",
   "metadata": {},
   "outputs": [],
   "source": [
    "## initialize ssh_transfer\n",
    "ssh_t = server.ssh_interface(\n",
    "    nbytes_toReceive=20000,\n",
    "    recv_timeout=1,\n",
    "    verbose=True,\n",
    ")\n",
    "ssh_t.o2_connect(\n",
    "    hostname=remote_host_transfer,\n",
    "    username=username,\n",
    "    password=server.pw_decode(pw),\n",
    "    key_filename=path_sshKey,\n",
    "    look_for_keys=False,\n",
    "    passcode_method=1,\n",
    "    verbose=0,\n",
    "    skip_passcode=False,    \n",
    ")"
   ]
  },
  {
   "cell_type": "code",
   "execution_count": 9,
   "id": "fa578dd5",
   "metadata": {},
   "outputs": [],
   "source": [
    "## initialize ssh_compute\n",
    "ssh_c = server.ssh_interface(\n",
    "    nbytes_toReceive=20000,\n",
    "    recv_timeout=1,\n",
    "    verbose=True,\n",
    ")\n",
    "ssh_c.o2_connect(\n",
    "    hostname=remote_host_compute,\n",
    "    username=username,\n",
    "    password=server.pw_decode(pw),\n",
    "    key_filename=path_sshKey,\n",
    "    look_for_keys=False,\n",
    "    passcode_method=1,\n",
    "    verbose=0,\n",
    "    skip_passcode=False,    \n",
    ")"
   ]
  },
  {
   "cell_type": "code",
   "execution_count": 10,
   "id": "daea3d7a",
   "metadata": {},
   "outputs": [],
   "source": [
    "sftp = server.sftp_interface(ssh_client=ssh_t.client)"
   ]
  },
  {
   "cell_type": "code",
   "execution_count": 11,
   "id": "21af2f06",
   "metadata": {},
   "outputs": [],
   "source": [
    "prompt_snip = f'[{username}'"
   ]
  },
  {
   "cell_type": "code",
   "execution_count": 12,
   "id": "6d8554e7",
   "metadata": {},
   "outputs": [],
   "source": [
    "send_expect = functools.partial(ssh_c.send_expect, str_success=prompt_snip)"
   ]
  },
  {
   "cell_type": "markdown",
   "id": "229c3d31",
   "metadata": {},
   "source": [
    "## Start a small interactive node"
   ]
  },
  {
   "cell_type": "code",
   "execution_count": 13,
   "id": "3d4b6a6d",
   "metadata": {},
   "outputs": [
    {
     "name": "stdout",
     "output_type": "stream",
     "text": [
      "/n/data1/hms/neurobio/sabatini/gyu/data/full_data/mouse_0322N/20230531/camera_data/exp/cam4/cam42023-05-31T12_59_07.avi\n",
      "/n/data1/hms/neurobio/sabatini/gyu/data/full_data/mouse_0322N/20230523/camera_data/exp/cam4/cam42023-05-23T12_42_31.avi\n",
      "/n/data1/hms/neurobio/sabatini/gyu/data/full_data/mouse_0322N/20230517/camera_data/exp/cam4/cam42023-05-17T13_16_31.avi\n",
      "/n/data1/hms/neurobio/sabatini/gyu/data/full_data/mouse_0322N/20230515/camera_data/exp/cam4/cam42023-05-15T11_32_19.avi\n",
      "/n/data1/hms/neurobio/sabatini/gyu/data/full_data/mouse_0322N/20230430/camera_data/exp/cam4/cam42023-04-30T13_04_58.avi\n",
      "/n/data1/hms/neurobio/sabatini/gyu/data/full_data/mouse_0322N/20230528/camera_data/exp/cam4/cam42023-05-28T09_46_31.avi\n",
      "/n/data1/hms/neurobio/sabatini/gyu/data/full_data/mouse_0322N/20230601/camera_data/exp/cam4/cam42023-06-01T13_31_14.avi\n",
      "/n/data1/hms/neurobio/sabatini/gyu/data/full_data/mouse_0322N/20230512/camera_data/exp/cam4/cam42023-05-12T13_20_02.avi\n",
      "/n/data1/hms/neurobio/sabatini/gyu/data/full_data/mouse_0322N/20230510/camera_data/exp/cam4/cam42023-05-10T13_12_03.avi\n",
      "/n/data1/hms/neurobio/sabatini/gyu/data/full_data/mouse_0322N/20230511/camera_data/exp/cam4/cam42023-05-11T11_30_02.avi\n",
      "/n/data1/hms/neurobio/sabatini/gyu/data/full_data/mouse_0322N/20230514/camera_data/exp/cam4/cam42023-05-14T13_34_13.avi\n",
      "/n/data1/hms/neurobio/sabatini/gyu/data/full_data/mouse_0322N/20230504/camera_data/exp/cam4/cam42023-05-04T14_13_25.avi\n",
      "/n/data1/hms/neurobio/sabatini/gyu/data/full_data/mouse_0322N/20230507/camera_data/exp/cam4/cam42023-05-07T12_01_17.avi\n",
      "/n/data1/hms/neurobio/sabatini/gyu/data/full_data/mouse_0322N/20230525/camera_data/exp/cam4/cam42023-05-25T13_38_35.avi\n",
      "/n/data1/hms/neurobio/sabatini/gyu/data/full_data/mouse_0322N/20230522/camera_data/exp/cam4/cam42023-05-22T12_52_31.avi\n",
      "/n/data1/hms/neurobio/sabatini/gyu/data/full_data/mouse_0322N/20230526/camera_data/exp/cam4/cam42023-05-26T12_57_18.avi\n",
      "/n/data1/hms/neurobio/sabatini/gyu/data/full_data/mouse_0322N/20230521/camera_data/exp/cam4/cam42023-05-21T13_16_22.avi\n",
      "/n/data1/hms/neurobio/sabatini/gyu/data/full_data/mouse_0322N/20230518/camera_data/exp/cam4/cam42023-05-18T11_22_53.avi\n",
      "/n/data1/hms/neurobio/sabatini/gyu/data/full_data/mouse_0322N/20230530/camera_data/exp/cam4/cam42023-05-30T13_06_25.avi\n",
      "/n/data1/hms/neurobio/sabatini/gyu/data/full_data/mouse_0322N/20230520/camera_data/exp/cam4/cam42023-05-20T13_28_51.avi\n",
      "/n/data1/hms/neurobio/sabatini/gyu/data/full_data/mouse_0322N/20230508/camera_data/exp/cam4/cam42023-05-08T13_54_51.avi\n",
      "/n/data1/hms/neurobio/sabatini/gyu/data/full_data/mouse_0322N/20230506/camera_data/exp/cam4/cam42023-05-06T13_44_33.avi\n",
      "/n/data1/hms/neurobio/sabatini/gyu/data/full_data/mouse_0322N/20230527/camera_data/exp/cam4/cam42023-05-27T12_10_11.avi\n",
      "/n/data1/hms/neurobio/sabatini/gyu/data/full_data/mouse_0322N/20230519/camera_data/exp/cam4/cam42023-05-19T12_46_02.avi\n",
      "/n/data1/hms/neurobio/sabatini/gyu/data/full_data/mouse_0322N/20230501/camera_data/exp/cam4/cam42023-05-01T10_48_48.avi\n",
      "/n/data1/hms/neurobio/sabatini/gyu/data/full_data/mouse_0322N/20230505/camera_data/exp/cam4/cam42023-05-05T10_30_17.avi\n",
      "/n/data1/hms/neurobio/sabatini/gyu/data/full_data/mouse_0322N/20230516/camera_data/exp/cam4/cam42023-05-16T12_41_11.avi\n",
      "/n/data1/hms/neurobio/sabatini/gyu/data/full_data/mouse_0322N/20230509/camera_data/exp/cam4/cam42023-05-09T11_45_27.avi\n",
      "/n/data1/hms/neurobio/sabatini/gyu/data/full_data/mouse_0322N/20230529/camera_data/exp/cam4/cam42023-05-29T11_44_45.avi\n",
      "/n/data1/hms/neurobio/sabatini/gyu/data/full_data/mouse_0322N/20230503/camera_data/exp/cam4/cam42023-05-03T11_32_40.avi\n",
      "/n/data1/hms/neurobio/sabatini/gyu/data/full_data/mouse_0322N/20230524/camera_data/exp/cam4/cam42023-05-24T12_40_22.avi\n",
      "/n/data1/hms/neurobio/sabatini/gyu/data/full_data/mouse_0322N/20230502/camera_data/exp/cam4/cam42023-05-02T12_33_29.avi\n"
     ]
    }
   ],
   "source": [
    "paths_found = sftp.search_recursive(\n",
    "    path='/n/data1/hms/neurobio/sabatini/gyu/data/full_data/mouse_0322N',\n",
    "    search_pattern_re='cam4.*avi',\n",
    "    max_depth=5,\n",
    "    find_folders=False,\n",
    "    find_files=True,\n",
    ")"
   ]
  },
  {
   "cell_type": "code",
   "execution_count": 14,
   "id": "e3ac238d",
   "metadata": {},
   "outputs": [],
   "source": [
    "import natsort"
   ]
  },
  {
   "cell_type": "code",
   "execution_count": 15,
   "id": "5e12dc42",
   "metadata": {},
   "outputs": [
    {
     "data": {
      "text/plain": [
       "['20230430',\n",
       " '20230501',\n",
       " '20230502',\n",
       " '20230503',\n",
       " '20230504',\n",
       " '20230505',\n",
       " '20230506',\n",
       " '20230507',\n",
       " '20230508',\n",
       " '20230509',\n",
       " '20230510',\n",
       " '20230511',\n",
       " '20230512',\n",
       " '20230514',\n",
       " '20230515',\n",
       " '20230516',\n",
       " '20230517',\n",
       " '20230518',\n",
       " '20230519',\n",
       " '20230520',\n",
       " '20230521',\n",
       " '20230522',\n",
       " '20230523',\n",
       " '20230524',\n",
       " '20230525',\n",
       " '20230526',\n",
       " '20230527',\n",
       " '20230528',\n",
       " '20230529',\n",
       " '20230530',\n",
       " '20230531',\n",
       " '20230601']"
      ]
     },
     "execution_count": 15,
     "metadata": {},
     "output_type": "execute_result"
    }
   ],
   "source": [
    "dates_toUse = natsort.natsorted([Path(p).parts[-5] for p in paths_found])\n",
    "dates_toUse"
   ]
  },
  {
   "cell_type": "code",
   "execution_count": 18,
   "id": "82869be7",
   "metadata": {},
   "outputs": [],
   "source": [
    "dates_toUse = [\n",
    "    '20230523',\n",
    "]"
   ]
  },
  {
   "cell_type": "code",
   "execution_count": 336,
   "id": "e7deb28c",
   "metadata": {},
   "outputs": [],
   "source": [
    "dates_toUse = [\n",
    "    '20230502',\n",
    "    '20230509',\n",
    "    '20230518',\n",
    "    '20230531',\n",
    "]"
   ]
  },
  {
   "cell_type": "code",
   "execution_count": 330,
   "id": "c042f6c7",
   "metadata": {},
   "outputs": [],
   "source": [
    "dates_toUse = [\n",
    "    '20230430',\n",
    "    '20230501',\n",
    "#     '20230502',\n",
    "    '20230503',\n",
    "    '20230504',\n",
    "    '20230505',\n",
    "    '20230506',\n",
    "    '20230507',\n",
    "    '20230508',\n",
    "#     '20230509',\n",
    "    '20230510',\n",
    "    '20230511',\n",
    "    '20230512',\n",
    "    '20230514',\n",
    "    '20230515',\n",
    "    '20230516',\n",
    "    '20230517',\n",
    "#     '20230518',\n",
    "    '20230519',\n",
    "    '20230520',\n",
    "    '20230521',\n",
    "    '20230522',\n",
    "    '20230523',\n",
    "    '20230524',\n",
    "    '20230525',\n",
    "    '20230526',\n",
    "    '20230527',\n",
    "    '20230528',\n",
    "    '20230529',\n",
    "    '20230530',\n",
    "#     '20230531',\n",
    "    '20230601',\n",
    "]"
   ]
  },
  {
   "cell_type": "code",
   "execution_count": 337,
   "id": "1352d587",
   "metadata": {},
   "outputs": [],
   "source": [
    "names_st = ['rh183']*0 + ['joz608']*0 + ['km335']*0 + ['gyh930']*0 + ['ccb18']*0 + ['pac4988']*0 + ['aeg38']*0 + ['shl143']*1"
   ]
  },
  {
   "cell_type": "code",
   "execution_count": 17,
   "id": "2d3b65cb",
   "metadata": {},
   "outputs": [],
   "source": [
    "names_st = ['aeg38']*1"
   ]
  },
  {
   "cell_type": "markdown",
   "id": "44613eb8",
   "metadata": {},
   "source": [
    "sbatch /n/data1/hms/neurobio/sabatini/rich/serverteeny_submitter.sh     python3     /n/data1/hms/neurobio/sabatini/rich/analysis/faceRhythm/mouse_0322N/run_20230701/20230518/dispatcher.py     /n/data1/hms/neurobio/sabatini/rich/github_repos/face-rhythm/scripts/pipeline_basic.py     /n/data1/hms/neurobio/sabatini/rich/analysis/faceRhythm/mouse_0322N/run_20230701/20230518     /n/data1/hms/neurobio/sabatini/gyu/data/full_data/mouse_0322N/20230518/camera_data/exp/cam4     /n/data1/hms/neurobio/sabatini/rich/analysis/faceRhythm/mouse_0322N/run_20230701/ROIs_prealigned/mouse_0322N__20230518/ROIs.h5     jobNum_     mouse_0322N_0518     /n/data1/hms/neurobio/sabatini/rich/virtual_envs/FR"
   ]
  },
  {
   "cell_type": "code",
   "execution_count": 22,
   "id": "48582044",
   "metadata": {
    "scrolled": true
   },
   "outputs": [
    {
     "data": {
      "text/plain": [
       "{'dispatch': '    python3     /n/data1/hms/neurobio/sabatini/rich/analysis/faceRhythm/mouse_0322N/run_20230701/20230523/dispatcher.py     /n/data1/hms/neurobio/sabatini/rich/github_repos/face-rhythm/scripts/pipeline_basic.py     /n/data1/hms/neurobio/sabatini/rich/analysis/faceRhythm/mouse_0322N/run_20230701/20230523     /n/data1/hms/neurobio/sabatini/gyu/data/full_data/mouse_0322N/20230523/camera_data/exp/cam4     /n/data1/hms/neurobio/sabatini/rich/analysis/faceRhythm/mouse_0322N/run_20230701/ROIs_prealigned/mouse_0322N__20230523/ROIs.h5     jobNum_     mouse_0322N_0523     /n/data1/hms/neurobio/sabatini/rich/virtual_envs/FR'}"
      ]
     },
     "metadata": {},
     "output_type": "display_data"
    },
    {
     "name": "stdout",
     "output_type": "stream",
     "text": [
      "chmod 777 /n/data1/hms/neurobio/sabatini/rich/analysis \r",
      "/faceRhythm/mouse_0322N/run_20230701/20230523/dispatcher.py\r\n",
      "\n",
      "(base) [rh183@login06 ~]$ \n"
     ]
    }
   ],
   "source": [
    "name_env = f'/n/data1/hms/neurobio/sabatini/rich/virtual_envs/FR'\n",
    "\n",
    "for date, name_st in zip(dates_toUse, names_st):\n",
    "    mouse = 'mouse_0322N'\n",
    "    # date = '20230430'\n",
    "\n",
    "    name_slurm = mouse + '_' + date[-4:]\n",
    "\n",
    "    dir_videos      = str(Path('/n/data1/hms/neurobio/sabatini/gyu/data/full_data') / mouse / date / 'camera_data' / 'exp' / 'cam4')\n",
    "\n",
    "    dir_ROIs        = str(Path('/n/data1/hms/neurobio/sabatini/rich/analysis/faceRhythm') / mouse / 'run_20230701' / 'ROIs_prealigned' / f'{mouse}__{date}' / 'ROIs.h5')\n",
    "\n",
    "    dir_saveOutputs = str(Path('/n/data1/hms/neurobio/sabatini/rich/analysis/faceRhythm') / mouse / 'run_20230701' / date)\n",
    "\n",
    "\n",
    "    name_job = 'jobNum_'\n",
    "\n",
    "\n",
    "    path_script_remote      = str(Path(r'/n/data1/hms/neurobio/sabatini/rich/github_repos/face-rhythm/scripts/pipeline_basic.py'))  ## path to a copy of the script (.py) file to run within the repo on the server\n",
    "\n",
    "    path_dispatcher_local   = str(Path(r'/media/rich/Home_Linux_partition/github_repos/face-rhythm/batch_run/').resolve() / 'dispatcher.py')  ## path to the dispatcher.py file on local computer\n",
    "    path_dispatcher_remote  = (Path(dir_saveOutputs) / 'dispatcher.py').as_posix()  ## path to where you want the dispatcher.py file to be copied onto the server\n",
    "\n",
    "\n",
    "\n",
    "    ## Expectation for dispatch args: \n",
    "    # path_script, dir_save, dir_videos, dir_ROIs, name_job, name_slurm, name_env\n",
    "\n",
    "\n",
    "    commands = {\n",
    "    #     'make_dir': f\"mkdir -p {dir_data_remote}\",\n",
    "    #     'copy': f\"cp -r {dir_s2p_MICROSCOPE} {dir_data_remote}\",\n",
    "    #     'dispatch': f\"python {str(path_dispatcher_remote)} {dir_saveOutputs} {path_script_remote} {name_job} {name_slurm} {dir_videos}\",  ## dispatcher expecting these args as inputs\n",
    "        'dispatch': f\"\\\n",
    "    python3 \\\n",
    "    {path_dispatcher_remote} \\\n",
    "    {path_script_remote} \\\n",
    "    {dir_saveOutputs} \\\n",
    "    {dir_videos} \\\n",
    "    {dir_ROIs} \\\n",
    "    {name_job} \\\n",
    "    {name_slurm} \\\n",
    "    {name_env}\",\n",
    "    }\n",
    "    display(commands)\n",
    "\n",
    "\n",
    "\n",
    "    sftp.mkdir_p(str(Path(path_dispatcher_remote).parent))\n",
    "    sftp.sftp.put(str(path_dispatcher_local), str(path_dispatcher_remote));\n",
    "\n",
    "\n",
    "\n",
    "    send_expect(f\"chmod 777 {path_dispatcher_remote}\")\n",
    "\n",
    "\n",
    "\n",
    "    run_file = {\n",
    "        \"name\": \"Rich\",\n",
    "        \"o2_acct\": str(name_st),\n",
    "        \"notes\": f\"basic_run_{mouse}_{date}\",\n",
    "        \"command\": f\"sbatch /n/data1/hms/neurobio/sabatini/rich/serverteeny_submitter.sh {commands['dispatch']}\",\n",
    "    }\n",
    "\n",
    "    path_temp = str(Path(tempfile.gettempdir()) / f'run_{date}.json')\n",
    "    bnpm.file_helpers.json_save(\n",
    "        obj=run_file,\n",
    "        filepath=path_temp,\n",
    "    )\n",
    "\n",
    "    sftp.sftp.put(\n",
    "        localpath=path_temp,\n",
    "        remotepath=str(Path('/n/data1/hms/neurobio/sabatini/serverteeny/run') / Path(path_temp).name),\n",
    "    );"
   ]
  },
  {
   "cell_type": "code",
   "execution_count": 23,
   "id": "f554c843",
   "metadata": {},
   "outputs": [],
   "source": [
    "names_st = ['rh183']*1 + ['joz608']*1 + ['km335']*1 + ['gyh930']*1 + ['ccb18']*1 + ['pac4988']*1 + ['aeg38']*1 + ['shl143']*1"
   ]
  },
  {
   "cell_type": "code",
   "execution_count": 24,
   "id": "875943d1",
   "metadata": {},
   "outputs": [],
   "source": [
    "for name_st in names_st:\n",
    "\n",
    "    run_file = {\n",
    "        \"name\": \"Rich\",\n",
    "        \"o2_acct\": str(name_st),\n",
    "        \"notes\": f\"change permissions\",\n",
    "        \"command\": f\"cd /n/data1/hms/neurobio/sabatini/rich/analysis/faceRhythm/mouse_0322N; chmod 777 -R .\",\n",
    "#         \"command\": f\"scancel 12078393\",\n",
    "    }\n",
    "\n",
    "    path_temp = str(Path(tempfile.gettempdir()) / f'run_{name_st}.json')\n",
    "    bnpm.file_helpers.json_save(\n",
    "        obj=run_file,\n",
    "        filepath=path_temp,\n",
    "    )\n",
    "\n",
    "    sftp.sftp.put(\n",
    "        localpath=path_temp,\n",
    "        remotepath=str(Path('/n/data1/hms/neurobio/sabatini/serverteeny/run') / Path(path_temp).name),\n",
    "    );"
   ]
  },
  {
   "cell_type": "code",
   "execution_count": null,
   "id": "6841a1e2",
   "metadata": {},
   "outputs": [],
   "source": []
  },
  {
   "cell_type": "code",
   "execution_count": null,
   "id": "02744040",
   "metadata": {},
   "outputs": [],
   "source": []
  },
  {
   "cell_type": "code",
   "execution_count": null,
   "id": "55034700",
   "metadata": {},
   "outputs": [],
   "source": [
    "send_expect(f'srun --pty -p interactive -t 0-00:30:00 --mem=4G /bin/bash');"
   ]
  },
  {
   "cell_type": "markdown",
   "id": "0cd3c682",
   "metadata": {},
   "source": [
    "## Pull/update repo"
   ]
  },
  {
   "cell_type": "code",
   "execution_count": 266,
   "id": "49cb08c3",
   "metadata": {},
   "outputs": [
    {
     "name": "stdout",
     "output_type": "stream",
     "text": [
      "ich/github_repos/face-rhythmatini/r \n",
      "\n",
      "(base) [rh183@compute-a-16-165 face-rhythm]$ \n",
      "git p\n",
      "ull\n",
      "\n",
      "remote: Enumerating objects: 13, done.\u001b[K\n",
      "\n",
      "remote: Counting objects: 100% (13/13), done.\u001b[K\n",
      "remote: Compressing objects: 100% (2/2), done.\u001b[K\n",
      "remote: Total 7 (delta 5), reused 7 (delta 5), pack-reused 0\u001b[K\n",
      "Unpacking objects: 100% (7/7), done.\n",
      "\n",
      "From https://github.com/RichieHakim/face-rhythm\n",
      "   e5b64ef..b56a170  dev        -> origin/dev\n",
      "\n",
      "Updating e5b64ef..b56a170\n",
      "\n",
      "Fast-forward\n",
      "\n",
      " batch_run/dispatcher.py           |   2 +-\n",
      " batch_run/master_controller.ipynb | 122 ++++++++++++++++----------------------\n",
      " face_rhythm/project.py            |   1 -\n",
      " 3 files changed, 52 insertions(+), 73 deletions(-)\n",
      "(base) [rh183@compute-a-16-165 face-rhythm]$ \n"
     ]
    }
   ],
   "source": [
    "send_expect('cd /n/data1/hms/neurobio/sabatini/rich/github_repos/face-rhythm')\n",
    "send_expect('git pull');"
   ]
  },
  {
   "cell_type": "markdown",
   "id": "4ef493c1",
   "metadata": {},
   "source": [
    "## Activate environment"
   ]
  },
  {
   "cell_type": "code",
   "execution_count": 267,
   "id": "be246a7a",
   "metadata": {},
   "outputs": [
    {
     "name": "stdout",
     "output_type": "stream",
     "text": [
      "o/sabatini/rich/virtual_envs/FRrobi \n",
      "\n",
      "ce-rhythm]$ s/neurobio/sabatini/rich/virtual_envs/FR) [rh183@compute-a-16-165 fac\n"
     ]
    }
   ],
   "source": [
    "name_env = '/n/data1/hms/neurobio/sabatini/rich/virtual_envs/FR'\n",
    "\n",
    "send_expect(f'conda activate {name_env}');"
   ]
  },
  {
   "cell_type": "markdown",
   "id": "558a1158",
   "metadata": {},
   "source": [
    "## Prepare directories"
   ]
  },
  {
   "cell_type": "code",
   "execution_count": 196,
   "id": "97ffab65",
   "metadata": {},
   "outputs": [],
   "source": [
    "import numpy as np\n",
    "\n",
    "mouse = 'mouse_0322N'\n",
    "date = '20230430'\n",
    "\n",
    "name_slurm = mouse + '_' + date[-4:]\n",
    "\n",
    "dir_videos      = str(Path('/n/data1/hms/neurobio/sabatini/gyu/data/full_data') / mouse / date / 'camera_data' / 'exp' / 'cam4')\n",
    "\n",
    "dir_ROIs        = str(Path('/n/data1/hms/neurobio/sabatini/rich/analysis/faceRhythm') / mouse / 'run_20230701' / 'ROIs_prealigned' / f'{mouse}__{date}' / 'ROIs.h5')\n",
    "\n",
    "dir_saveOutputs = str(Path('/n/data1/hms/neurobio/sabatini/rich/analysis/faceRhythm') / mouse / 'run_20230701' / date)\n",
    "\n",
    "\n",
    "name_job = 'jobNum_'\n",
    "\n",
    "\n",
    "path_script_remote      = str(Path(r'/n/data1/hms/neurobio/sabatini/rich/github_repos/face-rhythm/scripts/pipeline_basic.py'))  ## path to a copy of the script (.py) file to run within the repo on the server\n",
    "\n",
    "path_dispatcher_local   = str(Path(r'/media/rich/Home_Linux_partition/github_repos/face-rhythm/batch_run/').resolve() / 'dispatcher.py')  ## path to the dispatcher.py file on local computer\n",
    "path_dispatcher_remote  = (Path(dir_saveOutputs) / 'dispatcher.py').as_posix()  ## path to where you want the dispatcher.py file to be copied onto the server"
   ]
  },
  {
   "cell_type": "markdown",
   "id": "31ce097b",
   "metadata": {},
   "source": [
    "## Prepare commands"
   ]
  },
  {
   "cell_type": "code",
   "execution_count": 197,
   "id": "bea9dd44",
   "metadata": {},
   "outputs": [
    {
     "data": {
      "text/plain": [
       "{'dispatch': 'python3 /n/data1/hms/neurobio/sabatini/rich/analysis/faceRhythm/mouse_0322N/run_20230701/20230430/dispatcher.py /n/data1/hms/neurobio/sabatini/rich/github_repos/face-rhythm/scripts/pipeline_basic.py /n/data1/hms/neurobio/sabatini/rich/analysis/faceRhythm/mouse_0322N/run_20230701/20230430 /n/data1/hms/neurobio/sabatini/gyu/data/full_data/mouse_0322N/20230430/camera_data/exp/cam4 /n/data1/hms/neurobio/sabatini/rich/analysis/faceRhythm/mouse_0322N/run_20230701/ROIs_prealigned/mouse_0322N__20230430/ROIs.h5 jobNum_ mouse_0322N_0430 /n/data1/hms/neurobio/sabatini/rich/virtual_envs/FR'}"
      ]
     },
     "metadata": {},
     "output_type": "display_data"
    }
   ],
   "source": [
    "## Expectation for dispatch args: \n",
    "# path_script, dir_save, dir_videos, dir_ROIs, name_job, name_slurm, name_env\n",
    "\n",
    "\n",
    "commands = {\n",
    "#     'make_dir': f\"mkdir -p {dir_data_remote}\",\n",
    "#     'copy': f\"cp -r {dir_s2p_MICROSCOPE} {dir_data_remote}\",\n",
    "#     'dispatch': f\"python {str(path_dispatcher_remote)} {dir_saveOutputs} {path_script_remote} {name_job} {name_slurm} {dir_videos}\",  ## dispatcher expecting these args as inputs\n",
    "    'dispatch': f\"\\\n",
    "python3 \\\n",
    "{path_dispatcher_remote} \\\n",
    "{path_script_remote} \\\n",
    "{dir_saveOutputs} \\\n",
    "{dir_videos} \\\n",
    "{dir_ROIs} \\\n",
    "{name_job} \\\n",
    "{name_slurm} \\\n",
    "{name_env}\",\n",
    "}\n",
    "display(commands)"
   ]
  },
  {
   "cell_type": "markdown",
   "id": "f62cb3b7",
   "metadata": {},
   "source": [
    "## Upload `dispatcher.py` file"
   ]
  },
  {
   "cell_type": "code",
   "execution_count": 255,
   "id": "2e23ecc2",
   "metadata": {},
   "outputs": [],
   "source": [
    "sftp.mkdir_p(str(Path(path_dispatcher_remote).parent))\n",
    "sftp.sftp.put(str(path_dispatcher_local), str(path_dispatcher_remote));"
   ]
  },
  {
   "cell_type": "markdown",
   "id": "c89ee6cc",
   "metadata": {},
   "source": [
    "## Dispatch"
   ]
  },
  {
   "cell_type": "raw",
   "id": "3989103f",
   "metadata": {
    "scrolled": false
   },
   "source": [
    "send_expect(commands['dispatch']);"
   ]
  },
  {
   "cell_type": "markdown",
   "id": "69017000",
   "metadata": {},
   "source": [
    "## Run with serverteeny"
   ]
  },
  {
   "cell_type": "code",
   "execution_count": 256,
   "id": "8ff477fb",
   "metadata": {},
   "outputs": [
    {
     "name": "stdout",
     "output_type": "stream",
     "text": [
      "chmod 777 /n/data1/hms/neurobio/sabatini/rich/analysis/faceRhythm/mouse_0322N \r",
      "/run_20230701/20230430/dispatcher.py\r\n",
      "\n",
      "(/n/data1/hms/neurobio/sabatini/rich/virtual_envs/FR) [rh183@login03 face-rhythm]\r",
      "]$ \n"
     ]
    },
    {
     "data": {
      "text/plain": [
       "('(/n/data1/hms/neurobio/sabatini/rich/virtual_envs/FR) [rh183@login03 face-rhythm]\\r]$ ',\n",
       " True)"
      ]
     },
     "execution_count": 256,
     "metadata": {},
     "output_type": "execute_result"
    }
   ],
   "source": [
    "send_expect(f\"chmod 777 {path_dispatcher_remote}\")"
   ]
  },
  {
   "cell_type": "code",
   "execution_count": 257,
   "id": "fe20f01d",
   "metadata": {},
   "outputs": [],
   "source": [
    "run_file = {\n",
    "    \"name\": \"Rich\",\n",
    "    \"o2_acct\": \"shl143\",\n",
    "    \"notes\": \"testing serverteeny for FR\",\n",
    "    \"command\": f\"sbatch /n/data1/hms/neurobio/sabatini/rich/serverteeny_submitter.sh {commands['dispatch']}\",\n",
    "}"
   ]
  },
  {
   "cell_type": "code",
   "execution_count": 258,
   "id": "1430b34a",
   "metadata": {},
   "outputs": [],
   "source": [
    "path_temp = str(Path(tempfile.gettempdir()) / 'run.json')\n",
    "bnpm.file_helpers.json_save(\n",
    "    obj=run_file,\n",
    "    filepath=path_temp,\n",
    ")"
   ]
  },
  {
   "cell_type": "code",
   "execution_count": 259,
   "id": "5ffdaff6",
   "metadata": {},
   "outputs": [],
   "source": [
    "sftp.sftp.put(\n",
    "    localpath=path_temp,\n",
    "    remotepath=str(Path('/n/data1/hms/neurobio/sabatini/serverteeny/run') / Path(path_temp).name),\n",
    ");"
   ]
  },
  {
   "cell_type": "markdown",
   "id": "e6ea7494",
   "metadata": {},
   "source": [
    "### check on job"
   ]
  },
  {
   "cell_type": "raw",
   "id": "90c33075",
   "metadata": {
    "scrolled": true
   },
   "source": [
    "ssh_c.send_expect(f'squeue -u {username} --Format=jobid,name,partition,state,timeused,starttime,timelimit,reasonlist,minmemory,mincpus,gres');"
   ]
  },
  {
   "cell_type": "markdown",
   "id": "33600579",
   "metadata": {},
   "source": [
    "## Clean up"
   ]
  },
  {
   "cell_type": "code",
   "execution_count": null,
   "id": "b31f6bcb",
   "metadata": {},
   "outputs": [],
   "source": [
    "## delete password\n",
    "del pw\n",
    "gc.collect()\n",
    "\n",
    "## close sftp\n",
    "if sftp: sftp.close()\n",
    "if transport: transport.close()\n",
    "del sftp\n",
    "del transport\n",
    "    \n",
    "## close ssh\n",
    "ssh_t.close()\n",
    "del ssh_t\n",
    "ssh_c.close()\n",
    "del ssh_c\n",
    "gc.collect()"
   ]
  },
  {
   "cell_type": "code",
   "execution_count": null,
   "id": "b1e29db0",
   "metadata": {},
   "outputs": [],
   "source": []
  },
  {
   "cell_type": "code",
   "execution_count": null,
   "id": "a2ee21fd",
   "metadata": {},
   "outputs": [],
   "source": []
  }
 ],
 "metadata": {
  "kernelspec": {
   "display_name": "Python 3 (ipykernel)",
   "language": "python",
   "name": "python3"
  },
  "language_info": {
   "codemirror_mode": {
    "name": "ipython",
    "version": 3
   },
   "file_extension": ".py",
   "mimetype": "text/x-python",
   "name": "python",
   "nbconvert_exporter": "python",
   "pygments_lexer": "ipython3",
   "version": "3.11.3"
  }
 },
 "nbformat": 4,
 "nbformat_minor": 5
}
