{
 "cells": [
  {
   "cell_type": "code",
   "execution_count": 78,
   "id": "eb297901",
   "metadata": {},
   "outputs": [
    {
     "data": {
      "text/html": [
       "<style>:root { --jp-notebook-max-width: 100% !important; }</style>"
      ],
      "text/plain": [
       "<IPython.core.display.HTML object>"
      ]
     },
     "metadata": {},
     "output_type": "display_data"
    },
    {
     "data": {
      "text/html": [
       "<style>.container {width:100% !important; }</style>"
      ],
      "text/plain": [
       "<IPython.core.display.HTML object>"
      ]
     },
     "metadata": {},
     "output_type": "display_data"
    }
   ],
   "source": [
    "# widen jupyter notebook window\n",
    "from IPython.display import display, HTML\n",
    "display(HTML(\"<style>:root { --jp-notebook-max-width: 100% !important; }</style>\"))\n",
    "display(HTML(\"<style>.container {width:100% !important; }</style>\"))"
   ]
  },
  {
   "cell_type": "markdown",
   "id": "e7ca9401",
   "metadata": {},
   "source": [
    "This requires having `bnpm`. Get it with `pip install bnpm` or here: https://github.com/RichieHakim/basic_neural_processing_modules"
   ]
  },
  {
   "cell_type": "code",
   "execution_count": 2,
   "id": "b083639c",
   "metadata": {},
   "outputs": [],
   "source": [
    "%load_ext autoreload\n",
    "%autoreload 2\n",
    "    \n",
    "import bnpm"
   ]
  },
  {
   "cell_type": "code",
   "execution_count": 3,
   "id": "47fe1e80",
   "metadata": {},
   "outputs": [],
   "source": [
    "import os\n",
    "from pathlib import Path\n",
    "import functools\n",
    "import tempfile\n",
    "import getpass\n",
    "import gc\n",
    "import time"
   ]
  },
  {
   "cell_type": "markdown",
   "id": "6114afcd",
   "metadata": {},
   "source": [
    "------------\n",
    "# ==== Start ===="
   ]
  },
  {
   "cell_type": "markdown",
   "id": "ae33b435",
   "metadata": {},
   "source": [
    "## Prepare username + password"
   ]
  },
  {
   "cell_type": "code",
   "execution_count": 4,
   "id": "af73363a",
   "metadata": {},
   "outputs": [
    {
     "name": "stdout",
     "output_type": "stream",
     "text": [
      "Username: rh183\n",
      "Password: ········\n"
     ]
    }
   ],
   "source": [
    "remote_host_transfer = \"transfer.rc.hms.harvard.edu\"\n",
    "remote_host_compute = \"o2.hms.harvard.edu\"\n",
    "username = input('Username: ')\n",
    "\n",
    "use_localSshKey = False\n",
    "\n",
    "pw = bnpm.server.pw_encode(getpass.getpass(prompt='Password: ')) if use_localSshKey==False else None\n",
    "\n",
    "path_sshKey = '/home/rich/.ssh/id_rsa' if use_localSshKey else None"
   ]
  },
  {
   "cell_type": "markdown",
   "id": "5cbb7d5b",
   "metadata": {},
   "source": [
    "## Prepare `sftp` and `ssh` objects"
   ]
  },
  {
   "cell_type": "code",
   "execution_count": 5,
   "id": "fdf1e2ba",
   "metadata": {},
   "outputs": [],
   "source": [
    "## initialize ssh_transfer\n",
    "ssh_t = bnpm.server.ssh_interface(\n",
    "    nbytes_toReceive=20000,\n",
    "    recv_timeout=1,\n",
    "    verbose=True,\n",
    ")\n",
    "ssh_t.o2_connect(\n",
    "    hostname=remote_host_transfer,\n",
    "    username=username,\n",
    "    password=bnpm.server.pw_decode(pw),\n",
    "    key_filename=path_sshKey,\n",
    "    look_for_keys=False,\n",
    "    passcode_method=1,\n",
    "    verbose=0,\n",
    "    skip_passcode=False,    \n",
    ")"
   ]
  },
  {
   "cell_type": "code",
   "execution_count": 6,
   "id": "fa578dd5",
   "metadata": {},
   "outputs": [],
   "source": [
    "## initialize ssh_compute\n",
    "ssh_c = bnpm.server.ssh_interface(\n",
    "    nbytes_toReceive=20000,\n",
    "    recv_timeout=1,\n",
    "    verbose=True,\n",
    ")\n",
    "ssh_c.o2_connect(\n",
    "    hostname=remote_host_compute,\n",
    "    username=username,\n",
    "    password=bnpm.server.pw_decode(pw),\n",
    "    key_filename=path_sshKey,\n",
    "    look_for_keys=False,\n",
    "    passcode_method=1,\n",
    "    verbose=0,\n",
    "    skip_passcode=False,    \n",
    ")"
   ]
  },
  {
   "cell_type": "code",
   "execution_count": 7,
   "id": "daea3d7a",
   "metadata": {},
   "outputs": [],
   "source": [
    "sftp = bnpm.server.sftp_interface(ssh_client=ssh_t.client)"
   ]
  },
  {
   "cell_type": "code",
   "execution_count": 8,
   "id": "42da745c-ea62-4b4f-9679-bbb4441c2182",
   "metadata": {},
   "outputs": [],
   "source": [
    "prompt_snip = f'[{username}'\n",
    "\n",
    "send_expect = functools.partial(ssh_c.send_expect, str_success=prompt_snip)"
   ]
  },
  {
   "cell_type": "markdown",
   "id": "229c3d31",
   "metadata": {},
   "source": [
    "## Find files and directories with data"
   ]
  },
  {
   "cell_type": "code",
   "execution_count": 66,
   "id": "726ad6a8-f76a-4f13-9f4a-3d07c55b5bc7",
   "metadata": {},
   "outputs": [
    {
     "name": "stdout",
     "output_type": "stream",
     "text": [
      "/n/data1/hms/neurobio/sabatini/rich/data/res2p/round_7_experiments/mouse_0916N/camera_data/20231029/cam42023-10-29T10_23_54.avi\n",
      "/n/data1/hms/neurobio/sabatini/rich/data/res2p/round_7_experiments/mouse_0916N/camera_data/20231024/cam42023-10-24T13_56_05.avi\n",
      "/n/data1/hms/neurobio/sabatini/rich/data/res2p/round_7_experiments/mouse_0916N/camera_data/20231025/cam42023-10-25T12_51_29.avi\n",
      "/n/data1/hms/neurobio/sabatini/rich/data/res2p/round_7_experiments/mouse_0916N/camera_data/20231106/cam42023-11-06T13_49_29.avi\n",
      "/n/data1/hms/neurobio/sabatini/rich/data/res2p/round_7_experiments/mouse_0916N/camera_data/20231023/cam42023-10-23T11_36_48.avi\n",
      "/n/data1/hms/neurobio/sabatini/rich/data/res2p/round_7_experiments/mouse_0916N/camera_data/20231022/cam42023-10-22T12_05_56.avi\n",
      "/n/data1/hms/neurobio/sabatini/rich/data/res2p/round_7_experiments/mouse_0916N/camera_data/20231031/cam42023-10-31T11_52_07.avi\n",
      "/n/data1/hms/neurobio/sabatini/rich/data/res2p/round_7_experiments/mouse_0916N/camera_data/20231027/cam42023-10-27T12_09_44.avi\n",
      "/n/data1/hms/neurobio/sabatini/rich/data/res2p/round_7_experiments/mouse_0916N/camera_data/20231102/cam42023-11-02T14_07_05.avi\n",
      "/n/data1/hms/neurobio/sabatini/rich/data/res2p/round_7_experiments/mouse_0916N/camera_data/20231105/cam42023-11-05T12_56_51.avi\n",
      "/n/data1/hms/neurobio/sabatini/rich/data/res2p/round_7_experiments/mouse_0916N/camera_data/20231026/cam42023-10-26T12_02_14.avi\n",
      "/n/data1/hms/neurobio/sabatini/rich/data/res2p/round_7_experiments/mouse_0916N/camera_data/20231028/cam42023-10-28T12_24_58.avi\n",
      "/n/data1/hms/neurobio/sabatini/rich/data/res2p/round_7_experiments/mouse_0916N/camera_data/20231104/cam42023-11-04T13_19_19.avi\n",
      "/n/data1/hms/neurobio/sabatini/rich/data/res2p/round_7_experiments/mouse_0916N/camera_data/20231030/cam42023-10-30T11_41_09.avi\n",
      "/n/data1/hms/neurobio/sabatini/rich/data/res2p/round_7_experiments/mouse_0916N/camera_data/20231103/cam42023-11-03T12_43_44.avi\n",
      "/n/data1/hms/neurobio/sabatini/rich/data/res2p/round_7_experiments/mouse_0916N/camera_data/20231101/cam42023-11-01T11_37_02.avi\n"
     ]
    }
   ],
   "source": [
    "paths_found = sftp.search_recursive(\n",
    "    path='/n/data1/hms/neurobio/sabatini/rich/data/res2p/round_7_experiments/mouse_0916N',\n",
    "    search_pattern_re='cam4.*avi',\n",
    "    max_depth=5,\n",
    "    find_folders=False,\n",
    "    find_files=True,\n",
    "    verbose=True,\n",
    ")"
   ]
  },
  {
   "cell_type": "code",
   "execution_count": 67,
   "id": "e3ac238d",
   "metadata": {},
   "outputs": [],
   "source": [
    "import natsort"
   ]
  },
  {
   "cell_type": "code",
   "execution_count": 68,
   "id": "5e12dc42",
   "metadata": {},
   "outputs": [
    {
     "data": {
      "text/plain": [
       "['20231022',\n",
       " '20231023',\n",
       " '20231024',\n",
       " '20231025',\n",
       " '20231026',\n",
       " '20231027',\n",
       " '20231028',\n",
       " '20231029',\n",
       " '20231030',\n",
       " '20231031',\n",
       " '20231101',\n",
       " '20231102',\n",
       " '20231103',\n",
       " '20231104',\n",
       " '20231105',\n",
       " '20231106']"
      ]
     },
     "execution_count": 68,
     "metadata": {},
     "output_type": "execute_result"
    }
   ],
   "source": [
    "dates_toUse = natsort.natsorted([Path(p).parts[-2] for p in paths_found])\n",
    "dates_toUse"
   ]
  },
  {
   "cell_type": "code",
   "execution_count": 45,
   "id": "3a657e40",
   "metadata": {},
   "outputs": [],
   "source": [
    "# dates_toUse = [\n",
    "#     '20231022',\n",
    "#     '20231023',\n",
    "#     '20231024',\n",
    "#     '20231025',\n",
    "#     '20231026',\n",
    "#     '20231027',\n",
    "#     '20231028',\n",
    "#     '20231029',\n",
    "#     '20231030',\n",
    "#     '20231031',\n",
    "#     '20231101',\n",
    "#     '20231102',\n",
    "#     '20231103',\n",
    "#     '20231104',\n",
    "#     '20231105',\n",
    "#     '20231106'\n",
    "# ]"
   ]
  },
  {
   "cell_type": "code",
   "execution_count": null,
   "id": "40a0b40c",
   "metadata": {},
   "outputs": [],
   "source": []
  },
  {
   "cell_type": "markdown",
   "id": "7fdc5f9d",
   "metadata": {},
   "source": [
    "## Start an interactive job for dispatching"
   ]
  },
  {
   "cell_type": "code",
   "execution_count": 46,
   "id": "37092baf",
   "metadata": {},
   "outputs": [
    {
     "name": "stdout",
     "output_type": "stream",
     "text": [
      "slurmstepd: error: *** STEP 31164719.0 ON compute-e-16-235 CANCELLED AT 2024-01-31T13:19:59 DUE TO TIME LIMIT ***\r\n",
      "srun: Job step aborted: Waiting up to 62 seconds for job step to finish.\r\n",
      "srun: error: compute-e-16-235: task 0: Terminated\r\n",
      "(base) [rh183@login01 ~]$ \n"
     ]
    }
   ],
   "source": [
    "send_expect(f'srun --pty -p interactive -t 0-00:30:00 --mem=2G /bin/bash');"
   ]
  },
  {
   "cell_type": "markdown",
   "id": "88580f93",
   "metadata": {},
   "source": [
    "## Pull/update repo"
   ]
  },
  {
   "cell_type": "code",
   "execution_count": 47,
   "id": "2653e8d3",
   "metadata": {},
   "outputs": [
    {
     "name": "stdout",
     "output_type": "stream",
     "text": [
      "bash --pty -p interactive -t 0-00:30:00 --mem=2G /bin/ \n",
      "srun: job 31166725 queued and waiting for resources\n",
      "\n",
      "cd /n/data1/hms/neurobio/sabatini/rich/github_repos/face-rhythm\n",
      "\n",
      "srun: job 31166725 has been allocated resources\n",
      "\n",
      "cd /n/data1/hms/neurobio/sabatini/rich/github_repos/face-rhythm\n",
      "\n",
      "(base) [rh183@compute-a-16-162 ~]$ cd /n/data1/h\n",
      "_repos/face-rhythmni/rich/github \n",
      "(base) [rh183@compute-a-16-162 face-rhythm]$ \n"
     ]
    }
   ],
   "source": [
    "send_expect('cd /n/data1/hms/neurobio/sabatini/rich/github_repos/face-rhythm')\n",
    "send_expect('git pull');"
   ]
  },
  {
   "cell_type": "markdown",
   "id": "4e50d9c8",
   "metadata": {},
   "source": [
    "## Activate environment"
   ]
  },
  {
   "cell_type": "code",
   "execution_count": 48,
   "id": "6d0d4465",
   "metadata": {},
   "outputs": [
    {
     "name": "stdout",
     "output_type": "stream",
     "text": [
      "git pull\n",
      "\n",
      "conda activate /n/data1/hms/neurobio/sabatini/rich/virtual_envs/FR\n",
      "\n",
      "Already up-to-date.\n",
      "\n",
      "o/sabatini/rich/virtual_envs/FRface-rhythm]$ conda activate /n/data1/hms/neurobi \n",
      "\n"
     ]
    }
   ],
   "source": [
    "name_env = '/n/data1/hms/neurobio/sabatini/rich/virtual_envs/FR'\n",
    "\n",
    "send_expect(f'conda activate {name_env}');"
   ]
  },
  {
   "cell_type": "markdown",
   "id": "493b6302",
   "metadata": {},
   "source": [
    "## Install face-rhythm"
   ]
  },
  {
   "cell_type": "code",
   "execution_count": null,
   "id": "27e243d9",
   "metadata": {},
   "outputs": [],
   "source": [
    "send_expect('cd /n/data1/hms/neurobio/sabatini/rich/github_repos/face-rhythm')\n",
    "send_expect(f'pip install -e .[all_cv2Headless] --upgrade')"
   ]
  },
  {
   "cell_type": "code",
   "execution_count": 50,
   "id": "48582044",
   "metadata": {
    "scrolled": true
   },
   "outputs": [
    {
     "data": {
      "text/plain": [
       "{'dispatch': '    python3     /n/data1/hms/neurobio/sabatini/rich/analysis/faceRhythm/mouse_0403R/run_20240131/20230702/dispatcher.py     /n/data1/hms/neurobio/sabatini/rich/github_repos/face-rhythm/scripts/run_pipeline_basic.py     /n/data1/hms/neurobio/sabatini/rich/analysis/faceRhythm/mouse_0403R/run_20240131/20230702     /n/data1/hms/neurobio/sabatini/rich/data/res2p/round_7_experiments/mouse_0403R/camera_data/20230702     /n/data1/hms/neurobio/sabatini/rich/analysis/faceRhythm/mouse_0403R/run_20240131/ROIs_prealigned/20230702/ROIs.h5     jobNum_     mouse_0403R_0702     /n/data1/hms/neurobio/sabatini/rich/virtual_envs/FR'}"
      ]
     },
     "metadata": {},
     "output_type": "display_data"
    },
    {
     "name": "stdout",
     "output_type": "stream",
     "text": [
      "dispatcher environment: /n/data1/hms/neurobio/sabatini/rich/virtual_envs/FR\r\n",
      "Copying /n/data1/hms/neurobio/sabatini/rich/github_repos/face-rhythm/scripts/run_pipeline_basic.py to /n/data1/hms/neurobio/sabatini/rich/analysis/faceRhythm/mouse_0403R/run_20240131/20230709/run_pipeline_basic.py\r\n",
      "chmod: cannot access ‘/n/data1/hms/neurobio/sabatini/rich/analysis/faceRhythm/mouse_0403R/run_20240131/ROIs_prealigned/20230709/ROIs.h5’: No such file or directory\r\n",
      "Submitting job: jobNum_ 0\r\n",
      "Submitted batch job 31166849\r\n",
      "(/n/data1/hms/neurobio/sabatini/rich/virtual_envs/FR) [rh183@compute-a-16-162 fac\r",
      "ce-rhythm]$ \n"
     ]
    },
    {
     "data": {
      "text/plain": [
       "{'dispatch': '    python3     /n/data1/hms/neurobio/sabatini/rich/analysis/faceRhythm/mouse_0403R/run_20240131/20230703/dispatcher.py     /n/data1/hms/neurobio/sabatini/rich/github_repos/face-rhythm/scripts/run_pipeline_basic.py     /n/data1/hms/neurobio/sabatini/rich/analysis/faceRhythm/mouse_0403R/run_20240131/20230703     /n/data1/hms/neurobio/sabatini/rich/data/res2p/round_7_experiments/mouse_0403R/camera_data/20230703     /n/data1/hms/neurobio/sabatini/rich/analysis/faceRhythm/mouse_0403R/run_20240131/ROIs_prealigned/20230703/ROIs.h5     jobNum_     mouse_0403R_0703     /n/data1/hms/neurobio/sabatini/rich/virtual_envs/FR'}"
      ]
     },
     "metadata": {},
     "output_type": "display_data"
    },
    {
     "name": "stdout",
     "output_type": "stream",
     "text": [
      "ouse_0403R_0702     /n/data1/hms/neurobio/sabatini/rich/virtual_envs/FRum_     m \n",
      "dispatcher environment: /n/data1/hms/neurobio/sabatini/rich/virtual_envs/FR\n",
      "\n",
      "    python3     /n/data1/hms/neurobio/sabatini/rich/analysis/faceRhythm/mouse_0403R/run_20240131/20230703/dispatcher.py     /n/data1/hms/neurobio/sabatini/rich/github_repos/face-rhythm/scripts/run_pipeline_basic.py     /n/data1/hms/neurobio/sabatini/rich/analysis/faceRhythm/mouse_0403R/run_20240131/20230703     /n/data1/hms/neurobio/sabatini/rich/data/res2p/round_7_experiments/mouse_0403R/camera_data/20230703     /n/data1/hms/neurobio/sabatini/rich/analysis/faceRhythm/mouse_0403R/run_20240131/ROIs_prealigned/20230703/ROIs.h5     jobNum_     mouse_0403R_0703     /n/data1/hms/neurobio/sabatini/rich/virtual_envs/FR\n",
      "\n",
      "Copying /n/data1/hms/neurobio/sabatini/rich/github_repos/face-rhythm/scripts/run_pipeline_basic.py to /n/data1/hms/neurobio/sabatini/rich/analysis/faceRhythm/mouse_0403R/run_20240131/20230702/run_pipeline_basic.py\n",
      "\n",
      "Submitting job: jobNum_ 0\n",
      "\n",
      "Submitted batch job 31167771\n",
      "\n",
      "ce-rhythm]$ s/neurobio/sabatini/rich/virtual_envs/FR) [rh183@compute-a-16-162 fac\n"
     ]
    },
    {
     "data": {
      "text/plain": [
       "{'dispatch': '    python3     /n/data1/hms/neurobio/sabatini/rich/analysis/faceRhythm/mouse_0403R/run_20240131/20230706/dispatcher.py     /n/data1/hms/neurobio/sabatini/rich/github_repos/face-rhythm/scripts/run_pipeline_basic.py     /n/data1/hms/neurobio/sabatini/rich/analysis/faceRhythm/mouse_0403R/run_20240131/20230706     /n/data1/hms/neurobio/sabatini/rich/data/res2p/round_7_experiments/mouse_0403R/camera_data/20230706     /n/data1/hms/neurobio/sabatini/rich/analysis/faceRhythm/mouse_0403R/run_20240131/ROIs_prealigned/20230706/ROIs.h5     jobNum_     mouse_0403R_0706     /n/data1/hms/neurobio/sabatini/rich/virtual_envs/FR'}"
      ]
     },
     "metadata": {},
     "output_type": "display_data"
    },
    {
     "name": "stdout",
     "output_type": "stream",
     "text": [
      "ouse_0403R_0703     /n/data1/hms/neurobio/sabatini/rich/virtual_envs/FRum_     m \n",
      "dispatcher environment: /n/data1/hms/neurobio/sabatini/rich/virtual_envs/FR\n",
      "\n",
      "    python3     /n/data1/hms/neurobio/sabatini/rich/analysis/faceRhythm/mouse_0403R/run_20240131/20230706/dispatcher.py     /n/data1/hms/neurobio/sabatini/rich/github_repos/face-rhythm/scripts/run_pipeline_basic.py     /n/data1/hms/neurobio/sabatini/rich/analysis/faceRhythm/mouse_0403R/run_20240131/20230706     /n/data1/hms/neurobio/sabatini/rich/data/res2p/round_7_experiments/mouse_0403R/camera_data/20230706     /n/data1/hms/neurobio/sabatini/rich/analysis/faceRhythm/mouse_0403R/run_20240131/ROIs_prealigned/20230706/ROIs.h5     jobNum_     mouse_0403R_0706     /n/data1/hms/neurobio/sabatini/rich/virtual_envs/FR\n",
      "\n",
      "Copying /n/data1/hms/neurobio/sabatini/rich/github_repos/face-rhythm/scripts/run_pipeline_basic.py to /n/data1/hms/neurobio/sabatini/rich/analysis/faceRhythm/mouse_0403R/run_20240131/20230703/run_pipeline_basic.py\n",
      "\n",
      "Submitting job: jobNum_ 0\n",
      "\n",
      "Submitted batch job 31167774\n",
      "\n",
      "     /n/obio/sabatini/rich/analysis/faceRhythm/mouse_0403R/run_20240131/20230706 \n"
     ]
    },
    {
     "data": {
      "text/plain": [
       "{'dispatch': '    python3     /n/data1/hms/neurobio/sabatini/rich/analysis/faceRhythm/mouse_0403R/run_20240131/20230707/dispatcher.py     /n/data1/hms/neurobio/sabatini/rich/github_repos/face-rhythm/scripts/run_pipeline_basic.py     /n/data1/hms/neurobio/sabatini/rich/analysis/faceRhythm/mouse_0403R/run_20240131/20230707     /n/data1/hms/neurobio/sabatini/rich/data/res2p/round_7_experiments/mouse_0403R/camera_data/20230707     /n/data1/hms/neurobio/sabatini/rich/analysis/faceRhythm/mouse_0403R/run_20240131/ROIs_prealigned/20230707/ROIs.h5     jobNum_     mouse_0403R_0707     /n/data1/hms/neurobio/sabatini/rich/virtual_envs/FR'}"
      ]
     },
     "metadata": {},
     "output_type": "display_data"
    },
    {
     "name": "stdout",
     "output_type": "stream",
     "text": [
      "ouse_0403R_0706     /n/data1/hms/neurobio/sabatini/rich/virtual_envs/FRum_     m \n",
      "dispatcher environment: /n/data1/hms/neurobio/sabatini/rich/virtual_envs/FR\n",
      "\n",
      "    python3     /n/data1/hms/neurobio/sabatini/rich/analysis/faceRhythm/mouse_0403R/run_20240131/20230707/dispatcher.py     /n/data1/hms/neurobio/sabatini/rich/github_repos/face-rhythm/scripts/run_pipeline_basic.py     /n/data1/hms/neurobio/sabatini/rich/analysis/faceRhythm/mouse_0403R/run_20240131/20230707     /n/data1/hms/neurobio/sabatini/rich/data/res2p/round_7_experiments/mouse_0403R/camera_data/20230707     /n/data1/hms/neurobio/sabatini/rich/analysis/faceRhythm/mouse_0403R/run_20240131/ROIs_prealigned/20230707/ROIs.h5     jobNum_     mouse_0403R_0707     /n/data1/hms/neurobio/sabatini/rich/virtual_envs/FR\n",
      "\n",
      "Copying /n/data1/hms/neurobio/sabatini/rich/github_repos/face-rhythm/scripts/run_pipeline_basic.py to /n/data1/hms/neurobio/sabatini/rich/analysis/faceRhythm/mouse_0403R/run_20240131/20230706/run_pipeline_basic.py\n",
      "\n",
      "Submitting job: jobNum_ 0\n",
      "\n",
      "Submitted batch job 31167777\n",
      "\n",
      "     eurobio/sabatini/rich/analysis/faceRhythm/mouse_0403R/run_20240131/20230707 \n"
     ]
    },
    {
     "data": {
      "text/plain": [
       "{'dispatch': '    python3     /n/data1/hms/neurobio/sabatini/rich/analysis/faceRhythm/mouse_0403R/run_20240131/20230708/dispatcher.py     /n/data1/hms/neurobio/sabatini/rich/github_repos/face-rhythm/scripts/run_pipeline_basic.py     /n/data1/hms/neurobio/sabatini/rich/analysis/faceRhythm/mouse_0403R/run_20240131/20230708     /n/data1/hms/neurobio/sabatini/rich/data/res2p/round_7_experiments/mouse_0403R/camera_data/20230708     /n/data1/hms/neurobio/sabatini/rich/analysis/faceRhythm/mouse_0403R/run_20240131/ROIs_prealigned/20230708/ROIs.h5     jobNum_     mouse_0403R_0708     /n/data1/hms/neurobio/sabatini/rich/virtual_envs/FR'}"
      ]
     },
     "metadata": {},
     "output_type": "display_data"
    },
    {
     "name": "stdout",
     "output_type": "stream",
     "text": [
      "ouse_0403R_0707     /n/data1/hms/neurobio/sabatini/rich/virtual_envs/FRum_     m \n",
      "dispatcher environment: /n/data1/hms/neurobio/sabatini/rich/virtual_envs/FR\n",
      "\n",
      "    python3     /n/data1/hms/neurobio/sabatini/rich/analysis/faceRhythm/mouse_0403R/run_20240131/20230708/dispatcher.py     /n/data1/hms/neurobio/sabatini/rich/github_repos/face-rhythm/scripts/run_pipeline_basic.py     /n/data1/hms/neurobio/sabatini/rich/analysis/faceRhythm/mouse_0403R/run_20240131/20230708     /n/data1/hms/neurobio/sabatini/rich/data/res2p/round_7_experiments/mouse_0403R/camera_data/20230708     /n/data1/hms/neurobio/sabatini/rich/analysis/faceRhythm/mouse_0403R/run_20240131/ROIs_prealigned/20230708/ROIs.h5     jobNum_     mouse_0403R_0708     /n/data1/hms/neurobio/sabatini/rich/virtual_envs/FR\n",
      "\n",
      "Copying /n/data1/hms/neurobio/sabatini/rich/github_repos/face-rhythm/scripts/run_pipeline_basic.py to /n/data1/hms/neurobio/sabatini/rich/analysis/faceRhythm/mouse_0403R/run_20240131/20230707/run_pipeline_basic.py\n",
      "Submitting job: jobNum_ 0\n",
      "\n",
      "\n",
      "Submitted batch job 31167779\n",
      "\n",
      "ce-rhythm]$     python3sabatini/rich/virtual_envs/FR) [rh183@compute-a-16-162 fac\n"
     ]
    },
    {
     "data": {
      "text/plain": [
       "{'dispatch': '    python3     /n/data1/hms/neurobio/sabatini/rich/analysis/faceRhythm/mouse_0403R/run_20240131/20230709/dispatcher.py     /n/data1/hms/neurobio/sabatini/rich/github_repos/face-rhythm/scripts/run_pipeline_basic.py     /n/data1/hms/neurobio/sabatini/rich/analysis/faceRhythm/mouse_0403R/run_20240131/20230709     /n/data1/hms/neurobio/sabatini/rich/data/res2p/round_7_experiments/mouse_0403R/camera_data/20230709     /n/data1/hms/neurobio/sabatini/rich/analysis/faceRhythm/mouse_0403R/run_20240131/ROIs_prealigned/20230709/ROIs.h5     jobNum_     mouse_0403R_0709     /n/data1/hms/neurobio/sabatini/rich/virtual_envs/FR'}"
      ]
     },
     "metadata": {},
     "output_type": "display_data"
    },
    {
     "name": "stdout",
     "output_type": "stream",
     "text": [
      "ouse_0403R_0708     /n/data1/hms/neurobio/sabatini/rich/virtual_envs/FRum_     m \n",
      "dispatcher environment: /n/data1/hms/neurobio/sabatini/rich/virtual_envs/FR\n",
      "\n",
      "    python3     /n/data1/hms/neurobio/sabatini/rich/analysis/faceRhythm/mouse_0403R/run_20240131/20230709/dispatcher.py     /n/data1/hms/neurobio/sabatini/rich/github_repos/face-rhythm/scripts/run_pipeline_basic.py     /n/data1/hms/neurobio/sabatini/rich/analysis/faceRhythm/mouse_0403R/run_20240131/20230709     /n/data1/hms/neurobio/sabatini/rich/data/res2p/round_7_experiments/mouse_0403R/camera_data/20230709     /n/data1/hms/neurobio/sabatini/rich/analysis/faceRhythm/mouse_0403R/run_20240131/ROIs_prealigned/20230709/ROIs.h5     jobNum_     mouse_0403R_0709     /n/data1/hms/neurobio/sabatini/rich/virtual_envs/FR\n",
      "\n",
      "Copying /n/data1/hms/neurobio/sabatini/rich/github_repos/face-rhythm/scripts/run_pipeline_basic.py to /n/data1/hms/neurobio/sabatini/rich/analysis/faceRhythm/mouse_0403R/run_20240131/20230708/run_pipeline_basic.py\n",
      "\n",
      "Submitting job: jobNum_ 0\n",
      "Submitted batch job 31167783\n",
      "\n",
      "ouse_0403R_0709     /n/data1/hms/neurobio/sabatini/rich/virtual_envs/FRum_     m \n",
      "\n"
     ]
    }
   ],
   "source": [
    "name_env = f'/n/data1/hms/neurobio/sabatini/rich/virtual_envs/FR'\n",
    "\n",
    "# names_st = ['rh183']*0 + ['joz608']*0 + ['km335']*0 + ['gyh930']*0 + ['ccb18']*0 + ['pac4988']*0 + ['aeg38']*0 + ['shl143']*1\n",
    "# for date, name_st in zip(dates_toUse, names_st):\n",
    "for date in dates_toUse[:]:\n",
    "    cage = 'cage_0916N'\n",
    "    mouse = 'mouse_0916N'\n",
    "\n",
    "    name_slurm = mouse + '_' + date[-4:]\n",
    "    \n",
    "    dir_videos      = str(Path('/n/data1/hms/neurobio/sabatini/rich/data/res2p/round_7_experiments/') / mouse / 'camera_data' / date)\n",
    "\n",
    "    dir_ROIs        = str(Path('/n/data1/hms/neurobio/sabatini/rich/analysis/faceRhythm') / mouse / 'run_20240131' / 'ROIs_prealigned' / f'{date}' / 'ROIs.h5')\n",
    "\n",
    "    dir_saveOutputs = str(Path('/n/data1/hms/neurobio/sabatini/rich/analysis/faceRhythm') / mouse / 'run_20240131' / date)\n",
    "\n",
    "\n",
    "    name_job = 'jobNum_'\n",
    "\n",
    "\n",
    "    path_script_remote      = str(Path(r'/n/data1/hms/neurobio/sabatini/rich/github_repos/face-rhythm/scripts/run_pipeline_basic.py'))  ## path to a copy of the script (.py) file to run within the repo on the server\n",
    "\n",
    "    path_dispatcher_local   = str(Path(r'/media/rich/Home_Linux_partition/github_repos/face-rhythm/batch_run/').resolve() / 'dispatcher.py')  ## path to the dispatcher.py file on local computer\n",
    "    path_dispatcher_remote  = (Path(dir_saveOutputs) / 'dispatcher.py').as_posix()  ## path to where you want the dispatcher.py file to be copied onto the server\n",
    "\n",
    "\n",
    "\n",
    "    ## Expectation for dispatch args: \n",
    "    # path_script, dir_save, dir_videos, dir_ROIs, name_job, name_slurm, name_env\n",
    "\n",
    "\n",
    "    commands = {\n",
    "    #     'make_dir': f\"mkdir -p {dir_data_remote}\",\n",
    "    #     'copy': f\"cp -r {dir_s2p_MICROSCOPE} {dir_data_remote}\",\n",
    "    #     'dispatch': f\"python {str(path_dispatcher_remote)} {dir_saveOutputs} {path_script_remote} {name_job} {name_slurm} {dir_videos}\",  ## dispatcher expecting these args as inputs\n",
    "        'dispatch': f\"\\\n",
    "    python3 \\\n",
    "    {path_dispatcher_remote} \\\n",
    "    {path_script_remote} \\\n",
    "    {dir_saveOutputs} \\\n",
    "    {dir_videos} \\\n",
    "    {dir_ROIs} \\\n",
    "    {name_job} \\\n",
    "    {name_slurm} \\\n",
    "    {name_env}\",\n",
    "    }\n",
    "    display(commands)\n",
    "    \n",
    "    ## Upload `dispatcher.py` file\n",
    "    \n",
    "    sftp.mkdir_p(str(Path(path_dispatcher_remote).parent))\n",
    "    sftp.sftp.put(str(path_dispatcher_local), str(path_dispatcher_remote));\n",
    "\n",
    "\n",
    "    send_expect(commands['dispatch']);\n",
    "\n",
    "\n",
    "    ## For serverteeny usage\n",
    "#     send_expect(f\"chmod 777 {path_dispatcher_remote}\")\n",
    "#     run_file = {\n",
    "#         \"name\": \"Rich\",\n",
    "#         \"o2_acct\": str(name_st),\n",
    "#         \"notes\": f\"basic_run_{mouse}_{date}\",\n",
    "#         \"command\": f\"sbatch /n/data1/hms/neurobio/sabatini/rich/serverteeny_submitter.sh {commands['dispatch']}\",\n",
    "#     }\n",
    "#     path_temp = str(Path(tempfile.gettempdir()) / f'run_{date}.json')\n",
    "#     bnpm.file_helpers.json_save(\n",
    "#         obj=run_file,\n",
    "#         filepath=path_temp,\n",
    "#     )\n",
    "#     sftp.sftp.put(\n",
    "#         localpath=path_temp,\n",
    "#         remotepath=str(Path('/n/data1/hms/neurobio/sabatini/serverteeny/run') / Path(path_temp).name),\n",
    "#     );\n",
    "        "
   ]
  },
  {
   "cell_type": "code",
   "execution_count": 34,
   "id": "9dd8f625",
   "metadata": {},
   "outputs": [
    {
     "name": "stdout",
     "output_type": "stream",
     "text": [
      "srun --pty -p interactive -t 0-00:30:00 --mem=2G /bin/ \r",
      "bash\r\n",
      "srun: job 31164719 queued and waiting for resources\r\n",
      "srun: job 31164719 has been allocated resources\r\n",
      "(base) [rh183@compute-e-16-235 ~]$ \n"
     ]
    },
    {
     "data": {
      "text/plain": [
       "('srun --pty -p interactive -t 0-00:30:00 --mem=2G /bin/ \\rbash\\r\\nsrun: job 31164719 queued and waiting for resources\\r\\nsrun: job 31164719 has been allocated resources\\r\\n(base) [rh183@compute-e-16-235 ~]$ ',\n",
       " True)"
      ]
     },
     "execution_count": 34,
     "metadata": {},
     "output_type": "execute_result"
    }
   ],
   "source": [
    "# ssh_c.expect()"
   ]
  },
  {
   "cell_type": "code",
   "execution_count": null,
   "id": "02744040",
   "metadata": {},
   "outputs": [],
   "source": []
  },
  {
   "cell_type": "code",
   "execution_count": null,
   "id": "bad28e8f",
   "metadata": {},
   "outputs": [],
   "source": []
  },
  {
   "cell_type": "code",
   "execution_count": null,
   "id": "d7cf89f7",
   "metadata": {},
   "outputs": [],
   "source": []
  },
  {
   "cell_type": "markdown",
   "id": "558a1158",
   "metadata": {},
   "source": [
    "## Prepare directories"
   ]
  },
  {
   "cell_type": "code",
   "execution_count": 59,
   "id": "97ffab65",
   "metadata": {},
   "outputs": [],
   "source": [
    "import numpy as np\n",
    "\n",
    "mouse = 'mouse_00916N'\n",
    "date = '20230420'\n",
    "\n",
    "name_slurm = date[-4:]\n",
    "\n",
    "dir_videos      = str(Path('/n/data1/hms/neurobio/sabatini/rich/data/res2p/round_7_experiments') / mouse / 'camera_data' / date)\n",
    "\n",
    "dir_ROIs        = str(Path('/n/data1/hms/neurobio/sabatini/rich/analysis/faceRhythm') / mouse / 'run_20230701' / 'ROIs_prealigned' / f'{mouse}__{date}' / 'ROIs.h5')\n",
    "\n",
    "dir_saveOutputs = str(Path('/n/data1/hms/neurobio/sabatini/rich/analysis/faceRhythm') / mouse / 'run_20230701' / date)\n",
    "\n",
    "\n",
    "name_job = 'jobNum_'\n",
    "\n",
    "\n",
    "path_script_remote      = str(Path(r'/n/data1/hms/neurobio/sabatini/rich/github_repos/face-rhythm/scripts/run_pipeline_basic.py'))  ## path to a copy of the script (.py) file to run within the repo on the server\n",
    "\n",
    "path_dispatcher_local   = str(Path(r'/media/rich/Home_Linux_partition/github_repos/face-rhythm/batch_run/').resolve() / 'dispatcher.py')  ## path to the dispatcher.py file on local computer\n",
    "path_dispatcher_remote  = (Path(dir_saveOutputs) / 'dispatcher.py').as_posix()  ## path to where you want the dispatcher.py file to be copied onto the server\n"
   ]
  },
  {
   "cell_type": "markdown",
   "id": "31ce097b",
   "metadata": {},
   "source": [
    "## Prepare commands"
   ]
  },
  {
   "cell_type": "code",
   "execution_count": 60,
   "id": "bea9dd44",
   "metadata": {},
   "outputs": [
    {
     "data": {
      "text/plain": [
       "{'dispatch': 'python3 /n/data1/hms/neurobio/sabatini/rich/analysis/faceRhythm/mouse_0322R/run_20230701/20230420/dispatcher.py /n/data1/hms/neurobio/sabatini/rich/github_repos/face-rhythm/scripts/pipeline_basic.py /n/data1/hms/neurobio/sabatini/rich/analysis/faceRhythm/mouse_0322R/run_20230701/20230420 /n/data1/hms/neurobio/sabatini/rich/data/res2p/round_7_experiments/mouse_0322R/camera_data/20230420 /n/data1/hms/neurobio/sabatini/rich/analysis/faceRhythm/mouse_0322R/run_20230701/ROIs_prealigned/mouse_0322R__20230420/ROIs.h5 jobNum_ 0420 /n/data1/hms/neurobio/sabatini/rich/virtual_envs/FR'}"
      ]
     },
     "metadata": {},
     "output_type": "display_data"
    }
   ],
   "source": [
    "## Expectation for dispatch args: \n",
    "# path_script, dir_save, dir_videos, dir_ROIs, name_job, name_slurm, name_env\n",
    "\n",
    "commands = {\n",
    "#     'make_dir': f\"mkdir -p {dir_data_remote}\",\n",
    "#     'copy': f\"cp -r {dir_s2p_MICROSCOPE} {dir_data_remote}\",\n",
    "#     'dispatch': f\"python {str(path_dispatcher_remote)} {dir_saveOutputs} {path_script_remote} {name_job} {name_slurm} {dir_videos}\",  ## dispatcher expecting these args as inputs\n",
    "    'dispatch': f\"\\\n",
    "python3 \\\n",
    "{path_dispatcher_remote} \\\n",
    "{path_script_remote} \\\n",
    "{dir_saveOutputs} \\\n",
    "{dir_videos} \\\n",
    "{dir_ROIs} \\\n",
    "{name_job} \\\n",
    "{name_slurm} \\\n",
    "{name_env}\",\n",
    "}\n",
    "display(commands)"
   ]
  },
  {
   "cell_type": "markdown",
   "id": "f62cb3b7",
   "metadata": {},
   "source": [
    "## Upload `dispatcher.py` file"
   ]
  },
  {
   "cell_type": "code",
   "execution_count": 61,
   "id": "2e23ecc2",
   "metadata": {},
   "outputs": [],
   "source": [
    "sftp.mkdir_p(str(Path(path_dispatcher_remote).parent))\n",
    "sftp.sftp.put(str(path_dispatcher_local), str(path_dispatcher_remote));"
   ]
  },
  {
   "cell_type": "markdown",
   "id": "c89ee6cc",
   "metadata": {},
   "source": [
    "## Dispatch"
   ]
  },
  {
   "cell_type": "code",
   "execution_count": 62,
   "id": "cb08359e-8035-42b8-b49b-a85662984736",
   "metadata": {},
   "outputs": [
    {
     "name": "stdout",
     "output_type": "stream",
     "text": [
      "_repos/face-rhythmurobio/sabatini/rich/github \n",
      "(base) [rh183@compute-e-16-191 face-rhythm]$ git pull\n",
      "\n"
     ]
    }
   ],
   "source": [
    "send_expect(commands['dispatch']);"
   ]
  },
  {
   "cell_type": "code",
   "execution_count": null,
   "id": "dc4e2851-d1c1-4531-94db-52be98908f3c",
   "metadata": {},
   "outputs": [],
   "source": []
  },
  {
   "cell_type": "code",
   "execution_count": null,
   "id": "d2f268bc-f474-48b1-b413-e2cae9350a9c",
   "metadata": {},
   "outputs": [],
   "source": []
  },
  {
   "cell_type": "code",
   "execution_count": null,
   "id": "02e9f10a-7034-409f-b2a4-73181b2f4e96",
   "metadata": {},
   "outputs": [],
   "source": []
  },
  {
   "cell_type": "code",
   "execution_count": 19,
   "id": "c1efbf4d-560b-4274-925e-1aca3fc1985c",
   "metadata": {
    "scrolled": true
   },
   "outputs": [
    {
     "data": {
      "text/plain": [
       "{'dispatch': '    python3     /n/data1/hms/neurobio/sabatini/rich/analysis/faceRhythm/mouse_0322N/run_20230701/20230430/dispatcher.py     /n/data1/hms/neurobio/sabatini/rich/github_repos/face-rhythm/scripts/pipeline_basic.py     /n/data1/hms/neurobio/sabatini/rich/analysis/faceRhythm/mouse_0322N/run_20230701/20230430     /n/data1/hms/neurobio/sabatini/rich/data/res2p/round_7_experiments/mouse_0322N/camera_data/20230430     /n/data1/hms/neurobio/sabatini/rich/analysis/faceRhythm/mouse_0322N/run_20230701/ROIs_prealigned/mouse_0322N__20230430/ROIs.h5     jobNum_     0430     /n/data1/hms/neurobio/sabatini/rich/virtual_envs/FR'}"
      ]
     },
     "metadata": {},
     "output_type": "display_data"
    },
    {
     "data": {
      "text/plain": [
       "{'dispatch': '    python3     /n/data1/hms/neurobio/sabatini/rich/analysis/faceRhythm/mouse_0322N/run_20230701/20230501/dispatcher.py     /n/data1/hms/neurobio/sabatini/rich/github_repos/face-rhythm/scripts/pipeline_basic.py     /n/data1/hms/neurobio/sabatini/rich/analysis/faceRhythm/mouse_0322N/run_20230701/20230501     /n/data1/hms/neurobio/sabatini/rich/data/res2p/round_7_experiments/mouse_0322N/camera_data/20230501     /n/data1/hms/neurobio/sabatini/rich/analysis/faceRhythm/mouse_0322N/run_20230701/ROIs_prealigned/mouse_0322N__20230501/ROIs.h5     jobNum_     0501     /n/data1/hms/neurobio/sabatini/rich/virtual_envs/FR'}"
      ]
     },
     "metadata": {},
     "output_type": "display_data"
    },
    {
     "data": {
      "text/plain": [
       "{'dispatch': '    python3     /n/data1/hms/neurobio/sabatini/rich/analysis/faceRhythm/mouse_0322N/run_20230701/20230502/dispatcher.py     /n/data1/hms/neurobio/sabatini/rich/github_repos/face-rhythm/scripts/pipeline_basic.py     /n/data1/hms/neurobio/sabatini/rich/analysis/faceRhythm/mouse_0322N/run_20230701/20230502     /n/data1/hms/neurobio/sabatini/rich/data/res2p/round_7_experiments/mouse_0322N/camera_data/20230502     /n/data1/hms/neurobio/sabatini/rich/analysis/faceRhythm/mouse_0322N/run_20230701/ROIs_prealigned/mouse_0322N__20230502/ROIs.h5     jobNum_     0502     /n/data1/hms/neurobio/sabatini/rich/virtual_envs/FR'}"
      ]
     },
     "metadata": {},
     "output_type": "display_data"
    },
    {
     "data": {
      "text/plain": [
       "{'dispatch': '    python3     /n/data1/hms/neurobio/sabatini/rich/analysis/faceRhythm/mouse_0322N/run_20230701/20230503/dispatcher.py     /n/data1/hms/neurobio/sabatini/rich/github_repos/face-rhythm/scripts/pipeline_basic.py     /n/data1/hms/neurobio/sabatini/rich/analysis/faceRhythm/mouse_0322N/run_20230701/20230503     /n/data1/hms/neurobio/sabatini/rich/data/res2p/round_7_experiments/mouse_0322N/camera_data/20230503     /n/data1/hms/neurobio/sabatini/rich/analysis/faceRhythm/mouse_0322N/run_20230701/ROIs_prealigned/mouse_0322N__20230503/ROIs.h5     jobNum_     0503     /n/data1/hms/neurobio/sabatini/rich/virtual_envs/FR'}"
      ]
     },
     "metadata": {},
     "output_type": "display_data"
    },
    {
     "data": {
      "text/plain": [
       "{'dispatch': '    python3     /n/data1/hms/neurobio/sabatini/rich/analysis/faceRhythm/mouse_0322N/run_20230701/20230504/dispatcher.py     /n/data1/hms/neurobio/sabatini/rich/github_repos/face-rhythm/scripts/pipeline_basic.py     /n/data1/hms/neurobio/sabatini/rich/analysis/faceRhythm/mouse_0322N/run_20230701/20230504     /n/data1/hms/neurobio/sabatini/rich/data/res2p/round_7_experiments/mouse_0322N/camera_data/20230504     /n/data1/hms/neurobio/sabatini/rich/analysis/faceRhythm/mouse_0322N/run_20230701/ROIs_prealigned/mouse_0322N__20230504/ROIs.h5     jobNum_     0504     /n/data1/hms/neurobio/sabatini/rich/virtual_envs/FR'}"
      ]
     },
     "metadata": {},
     "output_type": "display_data"
    },
    {
     "data": {
      "text/plain": [
       "{'dispatch': '    python3     /n/data1/hms/neurobio/sabatini/rich/analysis/faceRhythm/mouse_0322N/run_20230701/20230505/dispatcher.py     /n/data1/hms/neurobio/sabatini/rich/github_repos/face-rhythm/scripts/pipeline_basic.py     /n/data1/hms/neurobio/sabatini/rich/analysis/faceRhythm/mouse_0322N/run_20230701/20230505     /n/data1/hms/neurobio/sabatini/rich/data/res2p/round_7_experiments/mouse_0322N/camera_data/20230505     /n/data1/hms/neurobio/sabatini/rich/analysis/faceRhythm/mouse_0322N/run_20230701/ROIs_prealigned/mouse_0322N__20230505/ROIs.h5     jobNum_     0505     /n/data1/hms/neurobio/sabatini/rich/virtual_envs/FR'}"
      ]
     },
     "metadata": {},
     "output_type": "display_data"
    },
    {
     "data": {
      "text/plain": [
       "{'dispatch': '    python3     /n/data1/hms/neurobio/sabatini/rich/analysis/faceRhythm/mouse_0322N/run_20230701/20230506/dispatcher.py     /n/data1/hms/neurobio/sabatini/rich/github_repos/face-rhythm/scripts/pipeline_basic.py     /n/data1/hms/neurobio/sabatini/rich/analysis/faceRhythm/mouse_0322N/run_20230701/20230506     /n/data1/hms/neurobio/sabatini/rich/data/res2p/round_7_experiments/mouse_0322N/camera_data/20230506     /n/data1/hms/neurobio/sabatini/rich/analysis/faceRhythm/mouse_0322N/run_20230701/ROIs_prealigned/mouse_0322N__20230506/ROIs.h5     jobNum_     0506     /n/data1/hms/neurobio/sabatini/rich/virtual_envs/FR'}"
      ]
     },
     "metadata": {},
     "output_type": "display_data"
    },
    {
     "data": {
      "text/plain": [
       "{'dispatch': '    python3     /n/data1/hms/neurobio/sabatini/rich/analysis/faceRhythm/mouse_0322N/run_20230701/20230507/dispatcher.py     /n/data1/hms/neurobio/sabatini/rich/github_repos/face-rhythm/scripts/pipeline_basic.py     /n/data1/hms/neurobio/sabatini/rich/analysis/faceRhythm/mouse_0322N/run_20230701/20230507     /n/data1/hms/neurobio/sabatini/rich/data/res2p/round_7_experiments/mouse_0322N/camera_data/20230507     /n/data1/hms/neurobio/sabatini/rich/analysis/faceRhythm/mouse_0322N/run_20230701/ROIs_prealigned/mouse_0322N__20230507/ROIs.h5     jobNum_     0507     /n/data1/hms/neurobio/sabatini/rich/virtual_envs/FR'}"
      ]
     },
     "metadata": {},
     "output_type": "display_data"
    },
    {
     "data": {
      "text/plain": [
       "{'dispatch': '    python3     /n/data1/hms/neurobio/sabatini/rich/analysis/faceRhythm/mouse_0322N/run_20230701/20230508/dispatcher.py     /n/data1/hms/neurobio/sabatini/rich/github_repos/face-rhythm/scripts/pipeline_basic.py     /n/data1/hms/neurobio/sabatini/rich/analysis/faceRhythm/mouse_0322N/run_20230701/20230508     /n/data1/hms/neurobio/sabatini/rich/data/res2p/round_7_experiments/mouse_0322N/camera_data/20230508     /n/data1/hms/neurobio/sabatini/rich/analysis/faceRhythm/mouse_0322N/run_20230701/ROIs_prealigned/mouse_0322N__20230508/ROIs.h5     jobNum_     0508     /n/data1/hms/neurobio/sabatini/rich/virtual_envs/FR'}"
      ]
     },
     "metadata": {},
     "output_type": "display_data"
    },
    {
     "data": {
      "text/plain": [
       "{'dispatch': '    python3     /n/data1/hms/neurobio/sabatini/rich/analysis/faceRhythm/mouse_0322N/run_20230701/20230509/dispatcher.py     /n/data1/hms/neurobio/sabatini/rich/github_repos/face-rhythm/scripts/pipeline_basic.py     /n/data1/hms/neurobio/sabatini/rich/analysis/faceRhythm/mouse_0322N/run_20230701/20230509     /n/data1/hms/neurobio/sabatini/rich/data/res2p/round_7_experiments/mouse_0322N/camera_data/20230509     /n/data1/hms/neurobio/sabatini/rich/analysis/faceRhythm/mouse_0322N/run_20230701/ROIs_prealigned/mouse_0322N__20230509/ROIs.h5     jobNum_     0509     /n/data1/hms/neurobio/sabatini/rich/virtual_envs/FR'}"
      ]
     },
     "metadata": {},
     "output_type": "display_data"
    },
    {
     "data": {
      "text/plain": [
       "{'dispatch': '    python3     /n/data1/hms/neurobio/sabatini/rich/analysis/faceRhythm/mouse_0322N/run_20230701/20230510/dispatcher.py     /n/data1/hms/neurobio/sabatini/rich/github_repos/face-rhythm/scripts/pipeline_basic.py     /n/data1/hms/neurobio/sabatini/rich/analysis/faceRhythm/mouse_0322N/run_20230701/20230510     /n/data1/hms/neurobio/sabatini/rich/data/res2p/round_7_experiments/mouse_0322N/camera_data/20230510     /n/data1/hms/neurobio/sabatini/rich/analysis/faceRhythm/mouse_0322N/run_20230701/ROIs_prealigned/mouse_0322N__20230510/ROIs.h5     jobNum_     0510     /n/data1/hms/neurobio/sabatini/rich/virtual_envs/FR'}"
      ]
     },
     "metadata": {},
     "output_type": "display_data"
    },
    {
     "data": {
      "text/plain": [
       "{'dispatch': '    python3     /n/data1/hms/neurobio/sabatini/rich/analysis/faceRhythm/mouse_0322N/run_20230701/20230511/dispatcher.py     /n/data1/hms/neurobio/sabatini/rich/github_repos/face-rhythm/scripts/pipeline_basic.py     /n/data1/hms/neurobio/sabatini/rich/analysis/faceRhythm/mouse_0322N/run_20230701/20230511     /n/data1/hms/neurobio/sabatini/rich/data/res2p/round_7_experiments/mouse_0322N/camera_data/20230511     /n/data1/hms/neurobio/sabatini/rich/analysis/faceRhythm/mouse_0322N/run_20230701/ROIs_prealigned/mouse_0322N__20230511/ROIs.h5     jobNum_     0511     /n/data1/hms/neurobio/sabatini/rich/virtual_envs/FR'}"
      ]
     },
     "metadata": {},
     "output_type": "display_data"
    },
    {
     "data": {
      "text/plain": [
       "{'dispatch': '    python3     /n/data1/hms/neurobio/sabatini/rich/analysis/faceRhythm/mouse_0322N/run_20230701/20230512/dispatcher.py     /n/data1/hms/neurobio/sabatini/rich/github_repos/face-rhythm/scripts/pipeline_basic.py     /n/data1/hms/neurobio/sabatini/rich/analysis/faceRhythm/mouse_0322N/run_20230701/20230512     /n/data1/hms/neurobio/sabatini/rich/data/res2p/round_7_experiments/mouse_0322N/camera_data/20230512     /n/data1/hms/neurobio/sabatini/rich/analysis/faceRhythm/mouse_0322N/run_20230701/ROIs_prealigned/mouse_0322N__20230512/ROIs.h5     jobNum_     0512     /n/data1/hms/neurobio/sabatini/rich/virtual_envs/FR'}"
      ]
     },
     "metadata": {},
     "output_type": "display_data"
    },
    {
     "data": {
      "text/plain": [
       "{'dispatch': '    python3     /n/data1/hms/neurobio/sabatini/rich/analysis/faceRhythm/mouse_0322N/run_20230701/20230514/dispatcher.py     /n/data1/hms/neurobio/sabatini/rich/github_repos/face-rhythm/scripts/pipeline_basic.py     /n/data1/hms/neurobio/sabatini/rich/analysis/faceRhythm/mouse_0322N/run_20230701/20230514     /n/data1/hms/neurobio/sabatini/rich/data/res2p/round_7_experiments/mouse_0322N/camera_data/20230514     /n/data1/hms/neurobio/sabatini/rich/analysis/faceRhythm/mouse_0322N/run_20230701/ROIs_prealigned/mouse_0322N__20230514/ROIs.h5     jobNum_     0514     /n/data1/hms/neurobio/sabatini/rich/virtual_envs/FR'}"
      ]
     },
     "metadata": {},
     "output_type": "display_data"
    },
    {
     "data": {
      "text/plain": [
       "{'dispatch': '    python3     /n/data1/hms/neurobio/sabatini/rich/analysis/faceRhythm/mouse_0322N/run_20230701/20230515/dispatcher.py     /n/data1/hms/neurobio/sabatini/rich/github_repos/face-rhythm/scripts/pipeline_basic.py     /n/data1/hms/neurobio/sabatini/rich/analysis/faceRhythm/mouse_0322N/run_20230701/20230515     /n/data1/hms/neurobio/sabatini/rich/data/res2p/round_7_experiments/mouse_0322N/camera_data/20230515     /n/data1/hms/neurobio/sabatini/rich/analysis/faceRhythm/mouse_0322N/run_20230701/ROIs_prealigned/mouse_0322N__20230515/ROIs.h5     jobNum_     0515     /n/data1/hms/neurobio/sabatini/rich/virtual_envs/FR'}"
      ]
     },
     "metadata": {},
     "output_type": "display_data"
    },
    {
     "data": {
      "text/plain": [
       "{'dispatch': '    python3     /n/data1/hms/neurobio/sabatini/rich/analysis/faceRhythm/mouse_0322N/run_20230701/20230516/dispatcher.py     /n/data1/hms/neurobio/sabatini/rich/github_repos/face-rhythm/scripts/pipeline_basic.py     /n/data1/hms/neurobio/sabatini/rich/analysis/faceRhythm/mouse_0322N/run_20230701/20230516     /n/data1/hms/neurobio/sabatini/rich/data/res2p/round_7_experiments/mouse_0322N/camera_data/20230516     /n/data1/hms/neurobio/sabatini/rich/analysis/faceRhythm/mouse_0322N/run_20230701/ROIs_prealigned/mouse_0322N__20230516/ROIs.h5     jobNum_     0516     /n/data1/hms/neurobio/sabatini/rich/virtual_envs/FR'}"
      ]
     },
     "metadata": {},
     "output_type": "display_data"
    },
    {
     "data": {
      "text/plain": [
       "{'dispatch': '    python3     /n/data1/hms/neurobio/sabatini/rich/analysis/faceRhythm/mouse_0322N/run_20230701/20230517/dispatcher.py     /n/data1/hms/neurobio/sabatini/rich/github_repos/face-rhythm/scripts/pipeline_basic.py     /n/data1/hms/neurobio/sabatini/rich/analysis/faceRhythm/mouse_0322N/run_20230701/20230517     /n/data1/hms/neurobio/sabatini/rich/data/res2p/round_7_experiments/mouse_0322N/camera_data/20230517     /n/data1/hms/neurobio/sabatini/rich/analysis/faceRhythm/mouse_0322N/run_20230701/ROIs_prealigned/mouse_0322N__20230517/ROIs.h5     jobNum_     0517     /n/data1/hms/neurobio/sabatini/rich/virtual_envs/FR'}"
      ]
     },
     "metadata": {},
     "output_type": "display_data"
    },
    {
     "data": {
      "text/plain": [
       "{'dispatch': '    python3     /n/data1/hms/neurobio/sabatini/rich/analysis/faceRhythm/mouse_0322N/run_20230701/20230518/dispatcher.py     /n/data1/hms/neurobio/sabatini/rich/github_repos/face-rhythm/scripts/pipeline_basic.py     /n/data1/hms/neurobio/sabatini/rich/analysis/faceRhythm/mouse_0322N/run_20230701/20230518     /n/data1/hms/neurobio/sabatini/rich/data/res2p/round_7_experiments/mouse_0322N/camera_data/20230518     /n/data1/hms/neurobio/sabatini/rich/analysis/faceRhythm/mouse_0322N/run_20230701/ROIs_prealigned/mouse_0322N__20230518/ROIs.h5     jobNum_     0518     /n/data1/hms/neurobio/sabatini/rich/virtual_envs/FR'}"
      ]
     },
     "metadata": {},
     "output_type": "display_data"
    },
    {
     "data": {
      "text/plain": [
       "{'dispatch': '    python3     /n/data1/hms/neurobio/sabatini/rich/analysis/faceRhythm/mouse_0322N/run_20230701/20230519/dispatcher.py     /n/data1/hms/neurobio/sabatini/rich/github_repos/face-rhythm/scripts/pipeline_basic.py     /n/data1/hms/neurobio/sabatini/rich/analysis/faceRhythm/mouse_0322N/run_20230701/20230519     /n/data1/hms/neurobio/sabatini/rich/data/res2p/round_7_experiments/mouse_0322N/camera_data/20230519     /n/data1/hms/neurobio/sabatini/rich/analysis/faceRhythm/mouse_0322N/run_20230701/ROIs_prealigned/mouse_0322N__20230519/ROIs.h5     jobNum_     0519     /n/data1/hms/neurobio/sabatini/rich/virtual_envs/FR'}"
      ]
     },
     "metadata": {},
     "output_type": "display_data"
    },
    {
     "data": {
      "text/plain": [
       "{'dispatch': '    python3     /n/data1/hms/neurobio/sabatini/rich/analysis/faceRhythm/mouse_0322N/run_20230701/20230520/dispatcher.py     /n/data1/hms/neurobio/sabatini/rich/github_repos/face-rhythm/scripts/pipeline_basic.py     /n/data1/hms/neurobio/sabatini/rich/analysis/faceRhythm/mouse_0322N/run_20230701/20230520     /n/data1/hms/neurobio/sabatini/rich/data/res2p/round_7_experiments/mouse_0322N/camera_data/20230520     /n/data1/hms/neurobio/sabatini/rich/analysis/faceRhythm/mouse_0322N/run_20230701/ROIs_prealigned/mouse_0322N__20230520/ROIs.h5     jobNum_     0520     /n/data1/hms/neurobio/sabatini/rich/virtual_envs/FR'}"
      ]
     },
     "metadata": {},
     "output_type": "display_data"
    },
    {
     "data": {
      "text/plain": [
       "{'dispatch': '    python3     /n/data1/hms/neurobio/sabatini/rich/analysis/faceRhythm/mouse_0322N/run_20230701/20230521/dispatcher.py     /n/data1/hms/neurobio/sabatini/rich/github_repos/face-rhythm/scripts/pipeline_basic.py     /n/data1/hms/neurobio/sabatini/rich/analysis/faceRhythm/mouse_0322N/run_20230701/20230521     /n/data1/hms/neurobio/sabatini/rich/data/res2p/round_7_experiments/mouse_0322N/camera_data/20230521     /n/data1/hms/neurobio/sabatini/rich/analysis/faceRhythm/mouse_0322N/run_20230701/ROIs_prealigned/mouse_0322N__20230521/ROIs.h5     jobNum_     0521     /n/data1/hms/neurobio/sabatini/rich/virtual_envs/FR'}"
      ]
     },
     "metadata": {},
     "output_type": "display_data"
    },
    {
     "data": {
      "text/plain": [
       "{'dispatch': '    python3     /n/data1/hms/neurobio/sabatini/rich/analysis/faceRhythm/mouse_0322N/run_20230701/20230522/dispatcher.py     /n/data1/hms/neurobio/sabatini/rich/github_repos/face-rhythm/scripts/pipeline_basic.py     /n/data1/hms/neurobio/sabatini/rich/analysis/faceRhythm/mouse_0322N/run_20230701/20230522     /n/data1/hms/neurobio/sabatini/rich/data/res2p/round_7_experiments/mouse_0322N/camera_data/20230522     /n/data1/hms/neurobio/sabatini/rich/analysis/faceRhythm/mouse_0322N/run_20230701/ROIs_prealigned/mouse_0322N__20230522/ROIs.h5     jobNum_     0522     /n/data1/hms/neurobio/sabatini/rich/virtual_envs/FR'}"
      ]
     },
     "metadata": {},
     "output_type": "display_data"
    },
    {
     "data": {
      "text/plain": [
       "{'dispatch': '    python3     /n/data1/hms/neurobio/sabatini/rich/analysis/faceRhythm/mouse_0322N/run_20230701/20230523/dispatcher.py     /n/data1/hms/neurobio/sabatini/rich/github_repos/face-rhythm/scripts/pipeline_basic.py     /n/data1/hms/neurobio/sabatini/rich/analysis/faceRhythm/mouse_0322N/run_20230701/20230523     /n/data1/hms/neurobio/sabatini/rich/data/res2p/round_7_experiments/mouse_0322N/camera_data/20230523     /n/data1/hms/neurobio/sabatini/rich/analysis/faceRhythm/mouse_0322N/run_20230701/ROIs_prealigned/mouse_0322N__20230523/ROIs.h5     jobNum_     0523     /n/data1/hms/neurobio/sabatini/rich/virtual_envs/FR'}"
      ]
     },
     "metadata": {},
     "output_type": "display_data"
    },
    {
     "data": {
      "text/plain": [
       "{'dispatch': '    python3     /n/data1/hms/neurobio/sabatini/rich/analysis/faceRhythm/mouse_0322N/run_20230701/20230524/dispatcher.py     /n/data1/hms/neurobio/sabatini/rich/github_repos/face-rhythm/scripts/pipeline_basic.py     /n/data1/hms/neurobio/sabatini/rich/analysis/faceRhythm/mouse_0322N/run_20230701/20230524     /n/data1/hms/neurobio/sabatini/rich/data/res2p/round_7_experiments/mouse_0322N/camera_data/20230524     /n/data1/hms/neurobio/sabatini/rich/analysis/faceRhythm/mouse_0322N/run_20230701/ROIs_prealigned/mouse_0322N__20230524/ROIs.h5     jobNum_     0524     /n/data1/hms/neurobio/sabatini/rich/virtual_envs/FR'}"
      ]
     },
     "metadata": {},
     "output_type": "display_data"
    },
    {
     "data": {
      "text/plain": [
       "{'dispatch': '    python3     /n/data1/hms/neurobio/sabatini/rich/analysis/faceRhythm/mouse_0322N/run_20230701/20230525/dispatcher.py     /n/data1/hms/neurobio/sabatini/rich/github_repos/face-rhythm/scripts/pipeline_basic.py     /n/data1/hms/neurobio/sabatini/rich/analysis/faceRhythm/mouse_0322N/run_20230701/20230525     /n/data1/hms/neurobio/sabatini/rich/data/res2p/round_7_experiments/mouse_0322N/camera_data/20230525     /n/data1/hms/neurobio/sabatini/rich/analysis/faceRhythm/mouse_0322N/run_20230701/ROIs_prealigned/mouse_0322N__20230525/ROIs.h5     jobNum_     0525     /n/data1/hms/neurobio/sabatini/rich/virtual_envs/FR'}"
      ]
     },
     "metadata": {},
     "output_type": "display_data"
    },
    {
     "data": {
      "text/plain": [
       "{'dispatch': '    python3     /n/data1/hms/neurobio/sabatini/rich/analysis/faceRhythm/mouse_0322N/run_20230701/20230526/dispatcher.py     /n/data1/hms/neurobio/sabatini/rich/github_repos/face-rhythm/scripts/pipeline_basic.py     /n/data1/hms/neurobio/sabatini/rich/analysis/faceRhythm/mouse_0322N/run_20230701/20230526     /n/data1/hms/neurobio/sabatini/rich/data/res2p/round_7_experiments/mouse_0322N/camera_data/20230526     /n/data1/hms/neurobio/sabatini/rich/analysis/faceRhythm/mouse_0322N/run_20230701/ROIs_prealigned/mouse_0322N__20230526/ROIs.h5     jobNum_     0526     /n/data1/hms/neurobio/sabatini/rich/virtual_envs/FR'}"
      ]
     },
     "metadata": {},
     "output_type": "display_data"
    },
    {
     "data": {
      "text/plain": [
       "{'dispatch': '    python3     /n/data1/hms/neurobio/sabatini/rich/analysis/faceRhythm/mouse_0322N/run_20230701/20230527/dispatcher.py     /n/data1/hms/neurobio/sabatini/rich/github_repos/face-rhythm/scripts/pipeline_basic.py     /n/data1/hms/neurobio/sabatini/rich/analysis/faceRhythm/mouse_0322N/run_20230701/20230527     /n/data1/hms/neurobio/sabatini/rich/data/res2p/round_7_experiments/mouse_0322N/camera_data/20230527     /n/data1/hms/neurobio/sabatini/rich/analysis/faceRhythm/mouse_0322N/run_20230701/ROIs_prealigned/mouse_0322N__20230527/ROIs.h5     jobNum_     0527     /n/data1/hms/neurobio/sabatini/rich/virtual_envs/FR'}"
      ]
     },
     "metadata": {},
     "output_type": "display_data"
    },
    {
     "data": {
      "text/plain": [
       "{'dispatch': '    python3     /n/data1/hms/neurobio/sabatini/rich/analysis/faceRhythm/mouse_0322N/run_20230701/20230528/dispatcher.py     /n/data1/hms/neurobio/sabatini/rich/github_repos/face-rhythm/scripts/pipeline_basic.py     /n/data1/hms/neurobio/sabatini/rich/analysis/faceRhythm/mouse_0322N/run_20230701/20230528     /n/data1/hms/neurobio/sabatini/rich/data/res2p/round_7_experiments/mouse_0322N/camera_data/20230528     /n/data1/hms/neurobio/sabatini/rich/analysis/faceRhythm/mouse_0322N/run_20230701/ROIs_prealigned/mouse_0322N__20230528/ROIs.h5     jobNum_     0528     /n/data1/hms/neurobio/sabatini/rich/virtual_envs/FR'}"
      ]
     },
     "metadata": {},
     "output_type": "display_data"
    },
    {
     "data": {
      "text/plain": [
       "{'dispatch': '    python3     /n/data1/hms/neurobio/sabatini/rich/analysis/faceRhythm/mouse_0322N/run_20230701/20230529/dispatcher.py     /n/data1/hms/neurobio/sabatini/rich/github_repos/face-rhythm/scripts/pipeline_basic.py     /n/data1/hms/neurobio/sabatini/rich/analysis/faceRhythm/mouse_0322N/run_20230701/20230529     /n/data1/hms/neurobio/sabatini/rich/data/res2p/round_7_experiments/mouse_0322N/camera_data/20230529     /n/data1/hms/neurobio/sabatini/rich/analysis/faceRhythm/mouse_0322N/run_20230701/ROIs_prealigned/mouse_0322N__20230529/ROIs.h5     jobNum_     0529     /n/data1/hms/neurobio/sabatini/rich/virtual_envs/FR'}"
      ]
     },
     "metadata": {},
     "output_type": "display_data"
    },
    {
     "data": {
      "text/plain": [
       "{'dispatch': '    python3     /n/data1/hms/neurobio/sabatini/rich/analysis/faceRhythm/mouse_0322N/run_20230701/20230530/dispatcher.py     /n/data1/hms/neurobio/sabatini/rich/github_repos/face-rhythm/scripts/pipeline_basic.py     /n/data1/hms/neurobio/sabatini/rich/analysis/faceRhythm/mouse_0322N/run_20230701/20230530     /n/data1/hms/neurobio/sabatini/rich/data/res2p/round_7_experiments/mouse_0322N/camera_data/20230530     /n/data1/hms/neurobio/sabatini/rich/analysis/faceRhythm/mouse_0322N/run_20230701/ROIs_prealigned/mouse_0322N__20230530/ROIs.h5     jobNum_     0530     /n/data1/hms/neurobio/sabatini/rich/virtual_envs/FR'}"
      ]
     },
     "metadata": {},
     "output_type": "display_data"
    },
    {
     "data": {
      "text/plain": [
       "{'dispatch': '    python3     /n/data1/hms/neurobio/sabatini/rich/analysis/faceRhythm/mouse_0322N/run_20230701/20230531/dispatcher.py     /n/data1/hms/neurobio/sabatini/rich/github_repos/face-rhythm/scripts/pipeline_basic.py     /n/data1/hms/neurobio/sabatini/rich/analysis/faceRhythm/mouse_0322N/run_20230701/20230531     /n/data1/hms/neurobio/sabatini/rich/data/res2p/round_7_experiments/mouse_0322N/camera_data/20230531     /n/data1/hms/neurobio/sabatini/rich/analysis/faceRhythm/mouse_0322N/run_20230701/ROIs_prealigned/mouse_0322N__20230531/ROIs.h5     jobNum_     0531     /n/data1/hms/neurobio/sabatini/rich/virtual_envs/FR'}"
      ]
     },
     "metadata": {},
     "output_type": "display_data"
    },
    {
     "data": {
      "text/plain": [
       "{'dispatch': '    python3     /n/data1/hms/neurobio/sabatini/rich/analysis/faceRhythm/mouse_0322N/run_20230701/20230601/dispatcher.py     /n/data1/hms/neurobio/sabatini/rich/github_repos/face-rhythm/scripts/pipeline_basic.py     /n/data1/hms/neurobio/sabatini/rich/analysis/faceRhythm/mouse_0322N/run_20230701/20230601     /n/data1/hms/neurobio/sabatini/rich/data/res2p/round_7_experiments/mouse_0322N/camera_data/20230601     /n/data1/hms/neurobio/sabatini/rich/analysis/faceRhythm/mouse_0322N/run_20230701/ROIs_prealigned/mouse_0322N__20230601/ROIs.h5     jobNum_     0601     /n/data1/hms/neurobio/sabatini/rich/virtual_envs/FR'}"
      ]
     },
     "metadata": {},
     "output_type": "display_data"
    }
   ],
   "source": [
    "# for date in dates_toUse:\n",
    "for date in dates_toUse[:]:\n",
    "    # mouse = 'mouse_0403L'\n",
    "    mouse = 'mouse_0322N'\n",
    "    # date = '20230420'\n",
    "    \n",
    "    name_slurm = date[-4:]\n",
    "    \n",
    "    dir_videos      = str(Path('/n/data1/hms/neurobio/sabatini/rich/data/res2p/round_7_experiments') / mouse / 'camera_data' / date)\n",
    "    \n",
    "    # dir_ROIs        = str(Path('/n/data1/hms/neurobio/sabatini/rich/analysis/faceRhythm') / mouse / 'run_20230903' / 'ROIs_prealigned' / f'{date}' / 'ROIs.h5')\n",
    "    dir_ROIs        = str(Path('/n/data1/hms/neurobio/sabatini/rich/analysis/faceRhythm') / mouse / 'run_20230701' / 'ROIs_prealigned' / f'{mouse}__{date}' / 'ROIs.h5')\n",
    "    \n",
    "    # dir_saveOutputs = str(Path('/n/data1/hms/neurobio/sabatini/rich/analysis/faceRhythm') / mouse / 'run_20230903' / date)\n",
    "    dir_saveOutputs = str(Path('/n/data1/hms/neurobio/sabatini/rich/analysis/faceRhythm') / mouse / 'run_20230701' / date)\n",
    "    \n",
    "    \n",
    "    \n",
    "    name_job = 'jobNum_'\n",
    "    \n",
    "    \n",
    "    path_script_remote      = str(Path(r'/n/data1/hms/neurobio/sabatini/rich/github_repos/face-rhythm/scripts/run_pipeline_basic.py'))  ## path to a copy of the script (.py) file to run within the repo on the server\n",
    "    \n",
    "    path_dispatcher_local   = str(Path(r'/media/rich/Home_Linux_partition/github_repos/face-rhythm/batch_run/').resolve() / 'dispatcher.py')  ## path to the dispatcher.py file on local computer\n",
    "    path_dispatcher_remote  = (Path(dir_saveOutputs) / 'dispatcher.py').as_posix()  ## path to where you want the dispatcher.py file to be copied onto the server\n",
    "    \n",
    "    \n",
    "    ## Prepare commands\n",
    "    \n",
    "    ## Expectation for dispatch args: \n",
    "    # path_script, dir_save, dir_videos, dir_ROIs, name_job, name_slurm, name_env\n",
    "    \n",
    "    commands = {\n",
    "    #     'make_dir': f\"mkdir -p {dir_data_remote}\",\n",
    "    #     'copy': f\"cp -r {dir_s2p_MICROSCOPE} {dir_data_remote}\",\n",
    "    #     'dispatch': f\"python {str(path_dispatcher_remote)} {dir_saveOutputs} {path_script_remote} {name_job} {name_slurm} {dir_videos}\",  ## dispatcher expecting these args as inputs\n",
    "        'dispatch': f\"\\\n",
    "    python3 \\\n",
    "    {path_dispatcher_remote} \\\n",
    "    {path_script_remote} \\\n",
    "    {dir_saveOutputs} \\\n",
    "    {dir_videos} \\\n",
    "    {dir_ROIs} \\\n",
    "    {name_job} \\\n",
    "    {name_slurm} \\\n",
    "    {name_env}\",\n",
    "    }\n",
    "    display(commands)\n",
    "    \n",
    "    ## Upload `dispatcher.py` file\n",
    "    \n",
    "    sftp.mkdir_p(str(Path(path_dispatcher_remote).parent))\n",
    "    sftp.sftp.put(str(path_dispatcher_local), str(path_dispatcher_remote));\n",
    "    \n",
    "    ## Dispatch\n",
    "    \n",
    "    # send_expect(commands['dispatch']);\n",
    "\n",
    "    # time.sleep(60)"
   ]
  },
  {
   "cell_type": "code",
   "execution_count": 20,
   "id": "b515fe37-b22d-48d7-ad8b-d52c7d14b85b",
   "metadata": {},
   "outputs": [
    {
     "name": "stdout",
     "output_type": "stream",
     "text": [
      "/n/data1/hms/neurobio/sabatini/rich/analysis/faceRhythm/mouse_0322N/run_20230701/20230531/jobNum_0/analysis_files/VQT_Analyzer.h5\n",
      "/n/data1/hms/neurobio/sabatini/rich/analysis/faceRhythm/mouse_0322N/run_20230701/20230523/jobNum_0/analysis_files/VQT_Analyzer.h5\n",
      "/n/data1/hms/neurobio/sabatini/rich/analysis/faceRhythm/mouse_0322N/run_20230701/20230517/jobNum_0/analysis_files/VQT_Analyzer.h5\n",
      "/n/data1/hms/neurobio/sabatini/rich/analysis/faceRhythm/mouse_0322N/run_20230701/20230515/jobNum_0/analysis_files/VQT_Analyzer.h5\n",
      "/n/data1/hms/neurobio/sabatini/rich/analysis/faceRhythm/mouse_0322N/run_20230701/20230430/jobNum_0/analysis_files/VQT_Analyzer.h5\n",
      "/n/data1/hms/neurobio/sabatini/rich/analysis/faceRhythm/mouse_0322N/run_20230701/20230528/jobNum_0/analysis_files/VQT_Analyzer.h5\n",
      "/n/data1/hms/neurobio/sabatini/rich/analysis/faceRhythm/mouse_0322N/run_20230701/20230601/jobNum_0/analysis_files/VQT_Analyzer.h5\n",
      "/n/data1/hms/neurobio/sabatini/rich/analysis/faceRhythm/mouse_0322N/run_20230701/20230512/jobNum_0/analysis_files/VQT_Analyzer.h5\n",
      "/n/data1/hms/neurobio/sabatini/rich/analysis/faceRhythm/mouse_0322N/run_20230701/20230510/jobNum_0/analysis_files/VQT_Analyzer.h5\n",
      "/n/data1/hms/neurobio/sabatini/rich/analysis/faceRhythm/mouse_0322N/run_20230701/20230511/jobNum_0/analysis_files/VQT_Analyzer.h5\n",
      "/n/data1/hms/neurobio/sabatini/rich/analysis/faceRhythm/mouse_0322N/run_20230701/20230514/jobNum_0/analysis_files/VQT_Analyzer.h5\n",
      "/n/data1/hms/neurobio/sabatini/rich/analysis/faceRhythm/mouse_0322N/run_20230701/20230504/jobNum_0/analysis_files/VQT_Analyzer.h5\n",
      "/n/data1/hms/neurobio/sabatini/rich/analysis/faceRhythm/mouse_0322N/run_20230701/20230507/jobNum_0/analysis_files/VQT_Analyzer.h5\n",
      "/n/data1/hms/neurobio/sabatini/rich/analysis/faceRhythm/mouse_0322N/run_20230701/20230525/jobNum_0/analysis_files/VQT_Analyzer.h5\n",
      "/n/data1/hms/neurobio/sabatini/rich/analysis/faceRhythm/mouse_0322N/run_20230701/20230522/jobNum_0/analysis_files/VQT_Analyzer.h5\n",
      "/n/data1/hms/neurobio/sabatini/rich/analysis/faceRhythm/mouse_0322N/run_20230701/20230526/jobNum_0/analysis_files/VQT_Analyzer.h5\n",
      "/n/data1/hms/neurobio/sabatini/rich/analysis/faceRhythm/mouse_0322N/run_20230701/20230521/jobNum_0/analysis_files/VQT_Analyzer.h5\n",
      "/n/data1/hms/neurobio/sabatini/rich/analysis/faceRhythm/mouse_0322N/run_20230701/20230518/jobNum_0/analysis_files/VQT_Analyzer.h5\n",
      "/n/data1/hms/neurobio/sabatini/rich/analysis/faceRhythm/mouse_0322N/run_20230701/20230530/jobNum_0/analysis_files/VQT_Analyzer.h5\n",
      "/n/data1/hms/neurobio/sabatini/rich/analysis/faceRhythm/mouse_0322N/run_20230701/20230520/jobNum_0/analysis_files/VQT_Analyzer.h5\n",
      "/n/data1/hms/neurobio/sabatini/rich/analysis/faceRhythm/mouse_0322N/run_20230701/20230508/jobNum_0/analysis_files/VQT_Analyzer.h5\n",
      "/n/data1/hms/neurobio/sabatini/rich/analysis/faceRhythm/mouse_0322N/run_20230701/20230506/jobNum_0/analysis_files/VQT_Analyzer.h5\n",
      "/n/data1/hms/neurobio/sabatini/rich/analysis/faceRhythm/mouse_0322N/run_20230701/20230527/jobNum_0/analysis_files/VQT_Analyzer.h5\n",
      "/n/data1/hms/neurobio/sabatini/rich/analysis/faceRhythm/mouse_0322N/run_20230701/20230519/jobNum_0/analysis_files/VQT_Analyzer.h5\n",
      "/n/data1/hms/neurobio/sabatini/rich/analysis/faceRhythm/mouse_0322N/run_20230701/20230501/jobNum_0/analysis_files/VQT_Analyzer.h5\n",
      "/n/data1/hms/neurobio/sabatini/rich/analysis/faceRhythm/mouse_0322N/run_20230701/20230505/jobNum_0/analysis_files/VQT_Analyzer.h5\n",
      "/n/data1/hms/neurobio/sabatini/rich/analysis/faceRhythm/mouse_0322N/run_20230701/20230516/jobNum_0/analysis_files/VQT_Analyzer.h5\n",
      "/n/data1/hms/neurobio/sabatini/rich/analysis/faceRhythm/mouse_0322N/run_20230701/20230509/jobNum_0/analysis_files/VQT_Analyzer.h5\n",
      "/n/data1/hms/neurobio/sabatini/rich/analysis/faceRhythm/mouse_0322N/run_20230701/20230529/jobNum_0/analysis_files/VQT_Analyzer.h5\n",
      "/n/data1/hms/neurobio/sabatini/rich/analysis/faceRhythm/mouse_0322N/run_20230701/20230503/jobNum_0/analysis_files/VQT_Analyzer.h5\n",
      "/n/data1/hms/neurobio/sabatini/rich/analysis/faceRhythm/mouse_0322N/run_20230701/20230524/jobNum_0/analysis_files/VQT_Analyzer.h5\n",
      "/n/data1/hms/neurobio/sabatini/rich/analysis/faceRhythm/mouse_0322N/run_20230701/20230502/jobNum_0/analysis_files/VQT_Analyzer.h5\n"
     ]
    }
   ],
   "source": [
    "paths_all = sftp.search_recursive(\n",
    "    path=r'/n/data1/hms/neurobio/sabatini/rich/analysis/faceRhythm/mouse_0322N/run_20230701/',\n",
    "    search_pattern_re='VQT_Analyzer.h5',\n",
    "    max_depth=8,\n",
    ")"
   ]
  },
  {
   "cell_type": "code",
   "execution_count": 21,
   "id": "e789110b-de5b-4d01-a580-8602bdca45bf",
   "metadata": {},
   "outputs": [
    {
     "data": {
      "text/plain": [
       "{'/n/data1/hms/neurobio/sabatini/rich/analysis/faceRhythm/mouse_0322N/run_20230701/20230430/jobNum_0/analysis_files/VQT_Analyzer.h5': '2023-07-03 16:19:36',\n",
       " '/n/data1/hms/neurobio/sabatini/rich/analysis/faceRhythm/mouse_0322N/run_20230701/20230501/jobNum_0/analysis_files/VQT_Analyzer.h5': '2023-07-03 16:17:37',\n",
       " '/n/data1/hms/neurobio/sabatini/rich/analysis/faceRhythm/mouse_0322N/run_20230701/20230502/jobNum_0/analysis_files/VQT_Analyzer.h5': '2023-07-03 19:43:05',\n",
       " '/n/data1/hms/neurobio/sabatini/rich/analysis/faceRhythm/mouse_0322N/run_20230701/20230503/jobNum_0/analysis_files/VQT_Analyzer.h5': '2023-07-03 16:17:38',\n",
       " '/n/data1/hms/neurobio/sabatini/rich/analysis/faceRhythm/mouse_0322N/run_20230701/20230504/jobNum_0/analysis_files/VQT_Analyzer.h5': '2023-07-03 16:19:36',\n",
       " '/n/data1/hms/neurobio/sabatini/rich/analysis/faceRhythm/mouse_0322N/run_20230701/20230505/jobNum_0/analysis_files/VQT_Analyzer.h5': '2023-07-03 16:19:36',\n",
       " '/n/data1/hms/neurobio/sabatini/rich/analysis/faceRhythm/mouse_0322N/run_20230701/20230506/jobNum_0/analysis_files/VQT_Analyzer.h5': '2023-07-03 15:46:03',\n",
       " '/n/data1/hms/neurobio/sabatini/rich/analysis/faceRhythm/mouse_0322N/run_20230701/20230507/jobNum_0/analysis_files/VQT_Analyzer.h5': '2023-07-03 15:50:09',\n",
       " '/n/data1/hms/neurobio/sabatini/rich/analysis/faceRhythm/mouse_0322N/run_20230701/20230508/jobNum_0/analysis_files/VQT_Analyzer.h5': '2023-07-03 15:46:03',\n",
       " '/n/data1/hms/neurobio/sabatini/rich/analysis/faceRhythm/mouse_0322N/run_20230701/20230509/jobNum_0/analysis_files/VQT_Analyzer.h5': '2023-07-03 19:44:38',\n",
       " '/n/data1/hms/neurobio/sabatini/rich/analysis/faceRhythm/mouse_0322N/run_20230701/20230510/jobNum_0/analysis_files/VQT_Analyzer.h5': '2023-07-03 16:15:55',\n",
       " '/n/data1/hms/neurobio/sabatini/rich/analysis/faceRhythm/mouse_0322N/run_20230701/20230511/jobNum_0/analysis_files/VQT_Analyzer.h5': '2023-07-03 16:13:26',\n",
       " '/n/data1/hms/neurobio/sabatini/rich/analysis/faceRhythm/mouse_0322N/run_20230701/20230512/jobNum_0/analysis_files/VQT_Analyzer.h5': '2023-07-03 16:13:25',\n",
       " '/n/data1/hms/neurobio/sabatini/rich/analysis/faceRhythm/mouse_0322N/run_20230701/20230514/jobNum_0/analysis_files/VQT_Analyzer.h5': '2023-07-03 16:15:55',\n",
       " '/n/data1/hms/neurobio/sabatini/rich/analysis/faceRhythm/mouse_0322N/run_20230701/20230515/jobNum_0/analysis_files/VQT_Analyzer.h5': '2023-07-03 16:13:53',\n",
       " '/n/data1/hms/neurobio/sabatini/rich/analysis/faceRhythm/mouse_0322N/run_20230701/20230516/jobNum_0/analysis_files/VQT_Analyzer.h5': '2023-07-03 16:10:39',\n",
       " '/n/data1/hms/neurobio/sabatini/rich/analysis/faceRhythm/mouse_0322N/run_20230701/20230517/jobNum_0/analysis_files/VQT_Analyzer.h5': '2023-07-03 16:09:04',\n",
       " '/n/data1/hms/neurobio/sabatini/rich/analysis/faceRhythm/mouse_0322N/run_20230701/20230518/jobNum_0/analysis_files/VQT_Analyzer.h5': '2023-07-03 19:37:12',\n",
       " '/n/data1/hms/neurobio/sabatini/rich/analysis/faceRhythm/mouse_0322N/run_20230701/20230519/jobNum_0/analysis_files/VQT_Analyzer.h5': '2023-07-03 16:08:09',\n",
       " '/n/data1/hms/neurobio/sabatini/rich/analysis/faceRhythm/mouse_0322N/run_20230701/20230520/jobNum_0/analysis_files/VQT_Analyzer.h5': '2023-07-03 16:13:54',\n",
       " '/n/data1/hms/neurobio/sabatini/rich/analysis/faceRhythm/mouse_0322N/run_20230701/20230521/jobNum_0/analysis_files/VQT_Analyzer.h5': '2023-07-03 16:08:08',\n",
       " '/n/data1/hms/neurobio/sabatini/rich/analysis/faceRhythm/mouse_0322N/run_20230701/20230522/jobNum_0/analysis_files/VQT_Analyzer.h5': '2023-07-03 16:04:28',\n",
       " '/n/data1/hms/neurobio/sabatini/rich/analysis/faceRhythm/mouse_0322N/run_20230701/20230523/jobNum_0/analysis_files/VQT_Analyzer.h5': '2023-07-03 16:04:14',\n",
       " '/n/data1/hms/neurobio/sabatini/rich/analysis/faceRhythm/mouse_0322N/run_20230701/20230524/jobNum_0/analysis_files/VQT_Analyzer.h5': '2023-07-03 16:04:59',\n",
       " '/n/data1/hms/neurobio/sabatini/rich/analysis/faceRhythm/mouse_0322N/run_20230701/20230525/jobNum_0/analysis_files/VQT_Analyzer.h5': '2023-07-03 16:08:21',\n",
       " '/n/data1/hms/neurobio/sabatini/rich/analysis/faceRhythm/mouse_0322N/run_20230701/20230526/jobNum_0/analysis_files/VQT_Analyzer.h5': '2023-07-03 16:06:39',\n",
       " '/n/data1/hms/neurobio/sabatini/rich/analysis/faceRhythm/mouse_0322N/run_20230701/20230527/jobNum_0/analysis_files/VQT_Analyzer.h5': '2023-07-03 16:00:00',\n",
       " '/n/data1/hms/neurobio/sabatini/rich/analysis/faceRhythm/mouse_0322N/run_20230701/20230528/jobNum_0/analysis_files/VQT_Analyzer.h5': '2023-07-03 15:55:25',\n",
       " '/n/data1/hms/neurobio/sabatini/rich/analysis/faceRhythm/mouse_0322N/run_20230701/20230529/jobNum_0/analysis_files/VQT_Analyzer.h5': '2023-07-03 15:55:25',\n",
       " '/n/data1/hms/neurobio/sabatini/rich/analysis/faceRhythm/mouse_0322N/run_20230701/20230530/jobNum_0/analysis_files/VQT_Analyzer.h5': '2023-07-03 16:00:01',\n",
       " '/n/data1/hms/neurobio/sabatini/rich/analysis/faceRhythm/mouse_0322N/run_20230701/20230531/jobNum_0/analysis_files/VQT_Analyzer.h5': '2023-07-03 19:40:53',\n",
       " '/n/data1/hms/neurobio/sabatini/rich/analysis/faceRhythm/mouse_0322N/run_20230701/20230601/jobNum_0/analysis_files/VQT_Analyzer.h5': '2023-07-03 15:50:08'}"
      ]
     },
     "execution_count": 21,
     "metadata": {},
     "output_type": "execute_result"
    }
   ],
   "source": [
    "{p: f['last_modified'] for p, f in sftp.get_fileProperties(paths_all, error_on_missing=True).items()}"
   ]
  },
  {
   "cell_type": "code",
   "execution_count": null,
   "id": "1ef0f224-4f39-434f-a759-46de206a36a5",
   "metadata": {},
   "outputs": [],
   "source": [
    "send_expect('pip uninstall face-rhythm')"
   ]
  },
  {
   "cell_type": "code",
   "execution_count": 58,
   "id": "d6af92e0-223f-4e07-8988-052e8598221e",
   "metadata": {},
   "outputs": [
    {
     "name": "stdout",
     "output_type": "stream",
     "text": [
      "y\n",
      "\n",
      "  Successfully uninstalled face-rhythm-0.1.3\n",
      "\n",
      "ce-rhythm]$ s/neurobio/sabatini/rich/virtual_envs/FR) [rh183@compute-e-16-229 fac\n"
     ]
    },
    {
     "data": {
      "text/plain": [
       "('(/n/data1/hms/neurobio/sabatini/rich/virtual_envs/FR) [rh183@compute-e-16-229 fac\\rce-rhythm]$ ',\n",
       " True)"
      ]
     },
     "execution_count": 58,
     "metadata": {},
     "output_type": "execute_result"
    }
   ],
   "source": [
    "send_expect('y')"
   ]
  },
  {
   "cell_type": "code",
   "execution_count": 60,
   "id": "3e284829-c620-4ba9-9c67-9675881405be",
   "metadata": {},
   "outputs": [
    {
     "name": "stdout",
     "output_type": "stream",
     "text": [
      "pip \n",
      "install -e .\n",
      "\n",
      "Obtaining file:///n/data1/hms/neurobio/sabatini/rich/github_repos/face-rhythm\n",
      "\n",
      "  Preparing metadata (setup.py) ... \u001b[?25l-\n",
      "\bdone\n",
      "\n",
      "\u001b[?25hInstalling collected packages: face-rhythm\n",
      "\n",
      "  Running setup.py develop for face-rhythm\n",
      "\n",
      "Successfully installed face-rhythm-0.1.3\n",
      "\n",
      "ce-rhythm]$ s/neurobio/sabatini/rich/virtual_envs/FR) [rh183@compute-e-16-229 fac\n"
     ]
    },
    {
     "data": {
      "text/plain": [
       "('\\r\\n(/n/data1/hms/neurobio/sabatini/rich/virtual_envs/FR) [rh183@compute-e-16-229 fac\\rce-rhythm]$ ',\n",
       " True)"
      ]
     },
     "execution_count": 60,
     "metadata": {},
     "output_type": "execute_result"
    }
   ],
   "source": [
    "send_expect('pip install -e .')"
   ]
  },
  {
   "cell_type": "code",
   "execution_count": 61,
   "id": "ad2fdc8f-155a-4762-8341-614283de12c8",
   "metadata": {},
   "outputs": [
    {
     "name": "stdout",
     "output_type": "stream",
     "text": [
      "pip \n",
      "list\n",
      "\n",
      "Package                        Version    Editable project location\n",
      "------------------------------ ---------- ------------------------------------------------------------\n",
      "anyio                          3.7.0\n",
      "argon2-cffi                    21.3.0\n",
      "argon2-cffi-bindings           21.2.0\n",
      "arrow                          1.2.3\n",
      "asttokens                      2.2.1\n",
      "async-lru                      2.0.2\n",
      "attrs                          23.1.0\n",
      "Babel                          2.12.1\n",
      "backcall                       0.2.0\n",
      "bcrypt                         4.0.1\n",
      "beautifulsoup4                 4.12.2\n",
      "bleach                         6.0.0\n",
      "blosc2                         2.0.0\n",
      "bnpm                           0.2.4\n",
      "ccimport                       0.3.7\n",
      "certifi                        2023.5.7\n",
      "cffi                           1.15.1\n",
      "charset-normalizer             3.1.0\n",
      "cmake                          3.26.4\n",
      "comm                           0.1.3\n",
      "configparser                   5.3.0\n",
      "contourpy                      1.1.0\n",
      "cryptography                   41.0.2\n",
      "cycler                         0.11.0\n",
      "Cython                         0.29.35\n",
      "debugpy                        1.6.7\n",
      "decorator                      5.1.1\n",
      "decord                         0.6.0\n",
      "defusedxml                     0.7.1\n",
      "einops                         0.6.1\n",
      "exceptiongroup                 1.1.1\n",
      "executing                      1.2.0\n",
      "face-rhythm                    0.1.3      /n/data1/hms/neurobio/sabatini/rich/github_repos/face-rhythm\n",
      "fastjsonschema                 2.17.1\n",
      "filelock                       3.12.2\n",
      "fire                           0.4.0\n",
      "fonttools                      4.40.0\n",
      "fqdn                           1.5.1\n",
      "future                         0.18.3\n",
      "GPUtil                         1.4.0\n",
      "h5py                           3.9.0\n",
      "h5py-wrapper                   1.1.0\n",
      "hdfdict                        0.3.1\n",
      "hdmf                           3.6.1\n",
      "idna                           3.4\n",
      "imageio                        2.31.1\n",
      "imageio-ffmpeg                 0.4.8\n",
      "importlib-metadata             6.7.0\n",
      "importlib-resources            5.12.0\n",
      "iniconfig                      2.0.0\n",
      "ipykernel                      6.23.3\n",
      "ipython                        8.14.0\n",
      "ipywidgets                     8.0.6\n",
      "isoduration                    20.11.0\n",
      "jedi                           0.18.2\n",
      "Jinja2                         3.1.2\n",
      "joblib                         1.3.1\n",
      "json5                          0.9.14\n",
      "jsonpointer                    2.4\n",
      "jsonschema                     4.17.3\n",
      "jupyter_client                 8.3.0\n",
      "jupyter_core                   5.3.1\n",
      "jupyter-events                 0.6.3\n",
      "jupyter-lsp                    2.2.0\n",
      "jupyter_server                 2.7.0\n",
      "jupyter_server_terminals       0.4.4\n",
      "jupyterlab                     4.0.2\n",
      "jupyterlab-pygments            0.2.2\n",
      "jupyterlab_server              2.23.0\n",
      "jupyterlab-widgets             3.0.7\n",
      "kiwisolver                     1.4.4\n",
      "lark                           1.1.2\n",
      "lazy_loader                    0.3\n",
      "lit                            16.0.6\n",
      "llvmlite                       0.40.1\n",
      "MarkupSafe                     2.1.3\n",
      "matplotlib                     3.7.1\n",
      "\n",
      "matplotlib-inline              0.1.6\n",
      "mistune                        3.0.1\n",
      "mpmath                         1.3.0\n",
      "msgpack                        1.0.5\n",
      "natsort                        8.4.0\n",
      "nbclient                       0.8.0\n",
      "nbconvert                      7.6.0\n",
      "nbformat                       5.9.0\n",
      "nest-asyncio                   1.5.6\n",
      "networkx                       3.1\n",
      "ninja                          1.10.2.3\n",
      "notebook_shim                  0.2.3\n",
      "numba                          0.57.1\n",
      "numexpr                        2.8.4\n",
      "numpy                          1.24.4\n",
      "nvidia-cublas-cu11             11.10.3.66\n",
      "nvidia-cuda-cupti-cu11         11.7.101\n",
      "nvidia-cuda-nvrtc-cu11         11.7.99\n",
      "nvidia-cuda-runtime-cu11       11.7.99\n",
      "nvidia-cudnn-cu11              8.5.0.96\n",
      "nvidia-cufft-cu11              10.9.0.58\n",
      "nvidia-curand-cu11             10.2.10.91\n",
      "nvidia-cusolver-cu11           11.4.0.1\n",
      "nvidia-cusparse-cu11           11.7.4.91\n",
      "nvidia-ml-py3                  7.352.0\n",
      "nvidia-nccl-cu11               2.14.3\n",
      "nvidia-nvtx-cu11               11.7.91\n",
      "opencv-contrib-python-headless 4.8.0.74\n",
      "opt-einsum                     3.3.0\n",
      "overrides                      7.3.1\n",
      "packaging                      23.1\n",
      "pandas                         2.0.3\n",
      "pandocfilters                  1.5.0\n",
      "paramiko                       3.2.0\n",
      "parso                          0.8.3\n",
      "pccm                           0.3.4\n",
      "pexpect                        4.8.0\n",
      "pickleshare                    0.7.5\n",
      "Pillow                         10.0.0\n",
      "pip                            23.1.2\n",
      "platformdirs                   3.8.0\n",
      "pluggy                         1.2.0\n",
      "portalocker                    2.5.1\n",
      "prometheus-client              0.17.0\n",
      "prompt-toolkit                 3.0.38\n",
      "psutil                         5.9.5\n",
      "ptyprocess                     0.7.0\n",
      "pure-eval                      0.2.2\n",
      "py-cpuinfo                     9.0.0\n",
      "pybind11                       2.10.0\n",
      "pycparser                      2.21\n",
      "Pygments                       2.15.1\n",
      "PyNaCl                         1.5.0\n",
      "pynwb                          2.3.3\n",
      "pyparsing                      3.1.0\n",
      "pyrsistent                     0.19.3\n",
      "pytest                         7.4.0\n",
      "pytest-runner                  6.0.0\n",
      "python-dateutil                2.8.2\n",
      "python-json-logger             2.0.7\n",
      "pytz                           2023.3\n",
      "PyWavelets                     1.4.1\n",
      "PyYAML                         5.4.1\n",
      "pyzmq                          25.1.0\n",
      "requests                       2.31.0\n",
      "rfc3339-validator              0.1.4\n",
      "rfc3986-validator              0.1.1\n",
      "ruamel.yaml                    0.17.32\n",
      "ruamel.yaml.clib               0.2.7\n",
      "scikit-image                   0.21.0\n",
      "scikit-learn                   1.3.0\n",
      "scipy                          1.11.1\n",
      "Send2Trash                     1.8.2\n",
      "setuptools                     68.0.0\n",
      "six                            1.16.0\n",
      "sniffio                        1.3.0\n",
      "soupsieve                      2.4.1\n",
      "sparse                         0.14.0\n",
      "stack-data                     0.6.2\n",
      "sympy                          1.12\n",
      "tables                         3.8.0\n",
      "tensorly                       0.8.1\n",
      "termcolor                      1.1.0\n",
      "terminado                      0.17.1\n",
      "threadpoolctl                  3.1.0\n",
      "tifffile                       2023.4.12\n",
      "tinycss2                       1.2.1\n",
      "tomli                          2.0.1\n",
      "torch                          2.0.1\n",
      "torchaudio                     2.0.2\n",
      "torchvision                    0.15.2\n",
      "tornado                        6.3.2\n",
      "tqdm                           4.65.0\n",
      "traitlets                      5.9.0\n",
      "triton                         2.0.0\n",
      "typing_extensions              4.7.0\n",
      "tzdata                         2023.3\n",
      "uri-template                   1.3.0\n",
      "urllib3                        2.0.3\n",
      "wcwidth                        0.2.6\n",
      "webcolors                      1.13\n",
      "webencodings                   0.5.1\n",
      "websocket-client               1.6.1\n",
      "wheel                          0.40.0\n",
      "widgetsnbextension             4.0.7\n",
      "zipp                           3.15.0\n",
      "\n",
      "ce-rhythm]$ s/neurobio/sabatini/rich/virtual_envs/FR) [rh183@compute-e-16-229 fac\n"
     ]
    },
    {
     "data": {
      "text/plain": [
       "('(/n/data1/hms/neurobio/sabatini/rich/virtual_envs/FR) [rh183@compute-e-16-229 fac\\rce-rhythm]$ ',\n",
       " True)"
      ]
     },
     "execution_count": 61,
     "metadata": {},
     "output_type": "execute_result"
    }
   ],
   "source": [
    "send_expect('pip list')"
   ]
  },
  {
   "cell_type": "code",
   "execution_count": 62,
   "id": "f8aaefc5-23ea-4454-ac78-af5cb2255217",
   "metadata": {},
   "outputs": [
    {
     "name": "stdout",
     "output_type": "stream",
     "text": [
      "ls\n",
      "\n",
      "\u001b[0m\u001b[34;42mbatch_run\u001b[0m                 \u001b[34;42mface_rhythm\u001b[0m           \u001b[34;42mnotebooks\u001b[0m         setup.py\n",
      "\u001b[01;34mbuild\u001b[0m                     \u001b[34;42mface_rhythm.egg-info\u001b[0m  \u001b[34;42mold\u001b[0m               \u001b[34;42mtest_data\u001b[0m\n",
      "\u001b[34;42mdocs\u001b[0m                      LICENSE               README.md         tox.ini\n",
      "environment_CPU_only.yml  lucas_kanade.py       requirements.txt\n",
      "environment_GPU.yml       Makefile              \u001b[34;42mscripts\u001b[0m\n",
      "ce-rhythm]$ s/neurobio/sabatini/rich/virtual_envs/FR) [rh183@compute-e-16-229 fac\n"
     ]
    },
    {
     "data": {
      "text/plain": [
       "('\\x1b[0m\\x1b[34;42mbatch_run\\x1b[0m                 \\x1b[34;42mface_rhythm\\x1b[0m           \\x1b[34;42mnotebooks\\x1b[0m         setup.py\\r\\n\\x1b[01;34mbuild\\x1b[0m                     \\x1b[34;42mface_rhythm.egg-info\\x1b[0m  \\x1b[34;42mold\\x1b[0m               \\x1b[34;42mtest_data\\x1b[0m\\r\\n\\x1b[34;42mdocs\\x1b[0m                      LICENSE               README.md         tox.ini\\r\\nenvironment_CPU_only.yml  lucas_kanade.py       requirements.txt\\r\\nenvironment_GPU.yml       Makefile              \\x1b[34;42mscripts\\x1b[0m\\r\\n(/n/data1/hms/neurobio/sabatini/rich/virtual_envs/FR) [rh183@compute-e-16-229 fac\\rce-rhythm]$ ',\n",
       " True)"
      ]
     },
     "execution_count": 62,
     "metadata": {},
     "output_type": "execute_result"
    }
   ],
   "source": [
    "send_expect()"
   ]
  },
  {
   "cell_type": "code",
   "execution_count": null,
   "id": "0b6df968-bde4-40ff-acee-ee8b3adc845a",
   "metadata": {},
   "outputs": [],
   "source": []
  },
  {
   "cell_type": "markdown",
   "id": "69017000",
   "metadata": {},
   "source": [
    "## Run with serverteeny"
   ]
  },
  {
   "cell_type": "raw",
   "id": "49ddd247-c0aa-4407-9441-9ca0ad5b6edf",
   "metadata": {},
   "source": [
    "send_expect(f\"chmod 777 {path_dispatcher_remote}\")"
   ]
  },
  {
   "cell_type": "raw",
   "id": "b79a1c06-9f09-4f8b-825d-236f7405e6e2",
   "metadata": {},
   "source": [
    "run_file = {\n",
    "    \"name\": \"Rich\",\n",
    "    \"o2_acct\": \"shl143\",\n",
    "    \"notes\": \"testing serverteeny for FR\",\n",
    "    \"command\": f\"sbatch /n/data1/hms/neurobio/sabatini/rich/serverteeny_submitter.sh {commands['dispatch']}\",\n",
    "}"
   ]
  },
  {
   "cell_type": "raw",
   "id": "10452423-51e2-4465-8ac1-c1bfebecedec",
   "metadata": {},
   "source": [
    "path_temp = str(Path(tempfile.gettempdir()) / 'run.json')\n",
    "bnpm.file_helpers.json_save(\n",
    "    obj=run_file,\n",
    "    filepath=path_temp,\n",
    ")"
   ]
  },
  {
   "cell_type": "raw",
   "id": "186a0651-d0d9-449d-bb0f-d323911b800f",
   "metadata": {},
   "source": [
    "sftp.sftp.put(\n",
    "    localpath=path_temp,\n",
    "    remotepath=str(Path('/n/data1/hms/neurobio/sabatini/serverteeny/run') / Path(path_temp).name),\n",
    ");"
   ]
  },
  {
   "cell_type": "markdown",
   "id": "e6ea7494",
   "metadata": {},
   "source": [
    "### check on job"
   ]
  },
  {
   "cell_type": "raw",
   "id": "90c33075",
   "metadata": {
    "scrolled": true
   },
   "source": [
    "ssh_c.send_expect(f'squeue -u {username} --Format=jobid,name,partition,state,timeused,starttime,timelimit,reasonlist,minmemory,mincpus,gres');"
   ]
  },
  {
   "cell_type": "markdown",
   "id": "33600579",
   "metadata": {},
   "source": [
    "## Clean up"
   ]
  },
  {
   "cell_type": "code",
   "execution_count": null,
   "id": "b31f6bcb",
   "metadata": {},
   "outputs": [],
   "source": [
    "## delete password\n",
    "del pw\n",
    "gc.collect()\n",
    "\n",
    "## close sftp\n",
    "if sftp: sftp.close()\n",
    "if transport: transport.close()\n",
    "del sftp\n",
    "del transport\n",
    "    \n",
    "## close ssh\n",
    "ssh_t.close()\n",
    "del ssh_t\n",
    "ssh_c.close()\n",
    "del ssh_c\n",
    "gc.collect()"
   ]
  },
  {
   "cell_type": "code",
   "execution_count": null,
   "id": "b1e29db0",
   "metadata": {},
   "outputs": [],
   "source": []
  },
  {
   "cell_type": "code",
   "execution_count": null,
   "id": "a2ee21fd",
   "metadata": {},
   "outputs": [],
   "source": []
  }
 ],
 "metadata": {
  "kernelspec": {
   "display_name": "Python 3 (ipykernel)",
   "language": "python",
   "name": "python3"
  },
  "language_info": {
   "codemirror_mode": {
    "name": "ipython",
    "version": 3
   },
   "file_extension": ".py",
   "mimetype": "text/x-python",
   "name": "python",
   "nbconvert_exporter": "python",
   "pygments_lexer": "ipython3",
   "version": "3.9.16"
  }
 },
 "nbformat": 4,
 "nbformat_minor": 5
}
