{
 "cells": [
  {
   "cell_type": "code",
   "execution_count": 1,
   "id": "cdcc6e17",
   "metadata": {},
   "outputs": [
    {
     "data": {
      "text/html": [
       "<style>.container {width:95% !important; }</style>"
      ],
      "text/plain": [
       "<IPython.core.display.HTML object>"
      ]
     },
     "metadata": {},
     "output_type": "display_data"
    }
   ],
   "source": [
    "# ALWAYS RUN THIS CELL\n",
    "# widen jupyter notebook window\n",
    "from IPython.display import display, HTML\n",
    "display(HTML(\"<style>.container {width:95% !important; }</style>\"))"
   ]
  },
  {
   "cell_type": "code",
   "execution_count": 2,
   "id": "4946a824",
   "metadata": {},
   "outputs": [],
   "source": [
    "import os\n",
    "from pathlib import Path\n",
    "\n",
    "import paramiko\n",
    "from scp import SCPClient\n",
    "\n",
    "import getpass\n",
    "import gc\n",
    "import time"
   ]
  },
  {
   "cell_type": "code",
   "execution_count": 3,
   "id": "5b0d60e1",
   "metadata": {},
   "outputs": [],
   "source": [
    "dir_github = '/media/rich/Home_Linux_partition/github_repos/'\n",
    "import sys\n",
    "sys.path.append(dir_github)\n",
    "\n",
    "%load_ext autoreload\n",
    "%autoreload 2\n",
    "from basic_neural_processing_modules import server"
   ]
  },
  {
   "cell_type": "markdown",
   "id": "c7552f37",
   "metadata": {},
   "source": [
    "----\n",
    "# ==== Optional ====\n",
    "### transfer raw data from local machine to `MICROSCOPE`"
   ]
  },
  {
   "cell_type": "code",
   "execution_count": 4,
   "id": "e7307e35",
   "metadata": {},
   "outputs": [
    {
     "name": "stdout",
     "output_type": "stream",
     "text": [
      "Username: rh183\n",
      "Password: ········\n"
     ]
    }
   ],
   "source": [
    "remote_host_transfer = \"transfer.rc.hms.harvard.edu\"\n",
    "remote_host_compute = \"o2.hms.harvard.edu\"\n",
    "username = input('Username: ')\n",
    "pw = server.pw_encode(getpass.getpass(prompt='Password: '))"
   ]
  },
  {
   "cell_type": "code",
   "execution_count": 5,
   "id": "b842577f",
   "metadata": {},
   "outputs": [],
   "source": [
    "sftp = server.sftp_interface(hostname=\"transfer.rc.hms.harvard.edu\", port=22)\n",
    "sftp.connect(username=username, password=server.pw_decode(pw))"
   ]
  },
  {
   "cell_type": "code",
   "execution_count": 24,
   "id": "1b6db1f0",
   "metadata": {},
   "outputs": [
    {
     "name": "stdout",
     "output_type": "stream",
     "text": [
      "Duo two-factor login for rh183\n",
      "\n",
      "Enter a passcode or select one of the following options:\n",
      "\n",
      " 1. Duo Push to XXX-XXX-4151\n",
      " 2. Phone call to XXX-XXX-4151\n",
      " 3. SMS passcodes to XXX-XXX-4151\n",
      "\n",
      "Passcode or option (1-3): \n",
      "1\n",
      "\n",
      "\n",
      "\n",
      "Pushed a login request to your device...\n",
      "\n",
      "Success. Logging you in...\n",
      "Welcome to O2 (Orchestra 2)!\n",
      "\u001b[32m\n",
      "   ___    ____\n",
      "  / _ \\  |___ \\\n",
      " | | | |   __) |\n",
      " | |_| |  / __/\n",
      "  \\___/  |_____|\n",
      "\n",
      "\u001b[0m\n",
      "You've landed on \u001b[33mtransfer04\u001b[0m which is a\n",
      "\u001b[33m4\u001b[0m core system with \u001b[33m7.62 GiB\u001b[0m memory\n",
      "running kernel \u001b[33m3.10.0\u001b[0m born on \u001b[33m2020-08-06\u001b[0m\n",
      "\n",
      "==== O2 ===================================================================\n",
      "\n",
      "  \u001b[31mNews (Jan 3 2022)\u001b[0m\n",
      "  \u001b[37m\n",
      "\n",
      "  +-------------------------------------------------------------------------------+\n",
      "  | ##################### RC Core launched in July 2021 ######################### |\n",
      "  |                                                                               |\n",
      "  | Since July 2021, researchers whose PI does not have a primary or secondary    |\n",
      "  | faculty appointment in an HMS Basic or Social Science Department will incur   |\n",
      "  | charges to their lab for O2 usage. Details at: it.hms.harvard.edu/rc/core     |\n",
      "  +-------------------------------------------------------------------------------+\n",
      "\n",
      "  ------------------------------\n",
      "  Contact HMS Research Computing:\n",
      "\n",
      "  E-mail      rchelp@hms.harvard.edu\n",
      "  Web         it.hms.harvard.edu/rc\n",
      "  Twitter     @hms_rc\n",
      "\n",
      "===========================================================================\n",
      "\n",
      "\u001b[0m\n",
      "\n",
      "(base) [rh183@transfer04 ~]$ \n"
     ]
    }
   ],
   "source": [
    "## initialize ssh_transfer\n",
    "ssh_t = server.ssh_interface(\n",
    "    nbytes_toReceive=20000,\n",
    "    recv_timeout=1,\n",
    "    verbose=True,\n",
    ")\n",
    "ssh_t.o2_connect(\n",
    "    hostname=remote_host_transfer,\n",
    "    username=username,\n",
    "    password=server.pw_decode(pw),\n",
    "    passcode_method=1,\n",
    "    verbose=1,\n",
    "    skip_passcode=False,    \n",
    ")"
   ]
  },
  {
   "cell_type": "code",
   "execution_count": 25,
   "id": "7684bdf2",
   "metadata": {},
   "outputs": [],
   "source": [
    "def mkdir_transfer_check(dir_from, dir_to, sftp, ssh_t, str_expect='[rh183', verbose=1, timeout_cp=10, timeout_diff=10):\n",
    "    \"\"\"\n",
    "    Makes a directory\n",
    "    Transfers\n",
    "    Checks to make sure the transfer worked\n",
    "    \"\"\"\n",
    "    ssh_t.receive(timeout=0.1, verbose=False, throw_error=False) ## clean any lingering receives\n",
    "    \n",
    "    sftp.mkdir_p(dir_to)\n",
    "    \n",
    "    if verbose>1:\n",
    "        print(f'copy starting,         time: {time.ctime()}, dir:{dir_from}')\n",
    "    ssh_t.send(f\"cp -r {dir_from}/. {dir_to}/.\")\n",
    "    test = ssh_t.expect(str_expect, verbose=0, total_timeout=timeout_cp)  ## wait for copy to end\n",
    "    if test[0] is None:\n",
    "        print('copy expect timed out')\n",
    "    elif 'No such file or directory' in test[0]:\n",
    "        print(f'copy failed: {test[0]}')\n",
    "    elif test[1]==False:\n",
    "        if verbose>0:\n",
    "            print(f'Post copy expect timed out. time: {time.ctime()}, dir: {dir_from}')\n",
    "    else:\n",
    "        if verbose>1:\n",
    "            print(f'copy expect completed. time: {time.ctime()}, dir: {dir_from}')\n",
    "\n",
    "    diff = ssh_t.send(f\"diff -qr {dir_from} {dir_to}\") ## check differences in directory\n",
    "    test = ssh_t.expect('Only in', verbose=0, total_timeout=timeout_diff)\n",
    "    if test[0] is None:\n",
    "        print('diff expect timed out')\n",
    "    elif 'No such file or directory' in test[0]:\n",
    "        print(f'diff check failed: {test[0]}')\n",
    "    elif verbose>0:\n",
    "        if test[1]:\n",
    "            print(f\"differences found: {test}\")\n",
    "        else:\n",
    "            print(f\"diff check passes: No differences found. time: {time.ctime()}, from dir: {dir_from} to dir: {dir_to}\")\n",
    "    \n",
    "    ssh_t.receive(timeout=0.1, verbose=False, throw_error=False) ## clean any lingering receives"
   ]
  },
  {
   "cell_type": "code",
   "execution_count": null,
   "id": "6f68c970",
   "metadata": {},
   "outputs": [],
   "source": []
  },
  {
   "cell_type": "code",
   "execution_count": 26,
   "id": "c9dd59fd",
   "metadata": {},
   "outputs": [],
   "source": [
    "# ## make directory structure on MICROSCOPE\n",
    "# animals = ['AEG21', 'AEG22']\n",
    "# dates = ['2022_05_13', '2022_05_14', '2022_05_16', '2022_05_17', '2022_05_18']\n",
    "# methods_MICROSCOPE = ['clean_traces', 'ROI_classification_logisticRegression', 'spike_inference', 'suite2p_output']\n",
    "# methods_o2 = ['cleanTraces', 'classify_rois', 'spike_inference', 'suite2p_output']"
   ]
  },
  {
   "cell_type": "code",
   "execution_count": 27,
   "id": "6af8458a",
   "metadata": {},
   "outputs": [],
   "source": [
    "# ## Define directories for where the local data is and the remote directory where the contents of that folder should be copied to (MICROSCOPE)\n",
    "# dir_data_o2 = '/n/data1/hms/neurobio/sabatini/rich/analysis/'\n",
    "# dir_data_MICROSCOPE = '/n/files/Neurobio/MICROSCOPE/Rich/analysis_data/face_rhythm_paper/fig_4_2pRAM'  ## contents of dir_data_local will be dumped into dir_data_MICROSCOPE\n",
    "\n",
    "# [[[mkdir_transfer_check(\n",
    "#     dir_from=str(Path(dir_data_o2) / method_o2 / animal / date / 'jobNum_0'),\n",
    "#     dir_to=str(Path(dir_data_MICROSCOPE) / animal / date / method_MICROSCOPE),\n",
    "#     sftp=sftp,\n",
    "#     ssh_t=ssh_t,\n",
    "#     str_expect='[rh183',\n",
    "# ) for method_o2,method_MICROSCOPE in zip(methods_o2, methods_MICROSCOPE)] for date in dates] for animal in animals];"
   ]
  },
  {
   "cell_type": "code",
   "execution_count": 28,
   "id": "a31805cd",
   "metadata": {},
   "outputs": [],
   "source": [
    "## make directory structure on MICROSCOPE\n",
    "\n",
    "animals = ['AEG21', 'AEG22']\n",
    "# animals = ['AEG21']\n",
    "dates = ['2022_05_13', '2022_05_14', '2022_05_16', '2022_05_17', '2022_05_18']\n",
    "# dates = ['2022_05_13']"
   ]
  },
  {
   "cell_type": "code",
   "execution_count": null,
   "id": "f162383d",
   "metadata": {},
   "outputs": [],
   "source": [
    "## Define directories for where the local data is and the remote directory where the contents of that folder should be copied to (MICROSCOPE)\n",
    "dir_data_from = '/n/files/Neurobio/MICROSCOPE/Priya/FaceRhythms'\n",
    "dir_data_to = '/n/files/Neurobio/MICROSCOPE/Rich/data/2pRAM/face_rhythm_motor_mapping'  ## contents of dir_data_local will be dumped into dir_data_MICROSCOPE\n",
    "\n",
    "[[mkdir_transfer_check(\n",
    "    dir_from=str(Path(dir_data_from) / animal / (date+'_'+animal)),\n",
    "    dir_to=str(Path(dir_data_to) / animal / date / 'camera'),\n",
    "    sftp=sftp,\n",
    "    ssh_t=ssh_t,\n",
    "    str_expect='[rh183',\n",
    "    verbose=1,\n",
    "    timeout_cp=60*45,\n",
    "    timeout_diff=60*15\n",
    ") for date in dates] for animal in animals];"
   ]
  },
  {
   "cell_type": "code",
   "execution_count": 23,
   "id": "7f39c853",
   "metadata": {},
   "outputs": [],
   "source": [
    "# ssh_t.close()"
   ]
  },
  {
   "cell_type": "code",
   "execution_count": null,
   "id": "45bccc10",
   "metadata": {},
   "outputs": [],
   "source": []
  },
  {
   "cell_type": "code",
   "execution_count": null,
   "id": "03de9a76",
   "metadata": {},
   "outputs": [],
   "source": []
  },
  {
   "cell_type": "code",
   "execution_count": null,
   "id": "e26ab44e",
   "metadata": {},
   "outputs": [],
   "source": []
  },
  {
   "cell_type": "code",
   "execution_count": null,
   "id": "114cd7a7",
   "metadata": {},
   "outputs": [],
   "source": []
  },
  {
   "cell_type": "code",
   "execution_count": null,
   "id": "2eb9106f",
   "metadata": {},
   "outputs": [],
   "source": []
  },
  {
   "cell_type": "code",
   "execution_count": null,
   "id": "08612715",
   "metadata": {},
   "outputs": [],
   "source": []
  },
  {
   "cell_type": "code",
   "execution_count": null,
   "id": "73f65b38",
   "metadata": {},
   "outputs": [],
   "source": []
  },
  {
   "cell_type": "code",
   "execution_count": null,
   "id": "a45d12bf",
   "metadata": {},
   "outputs": [],
   "source": []
  },
  {
   "cell_type": "code",
   "execution_count": null,
   "id": "aae0a8af",
   "metadata": {},
   "outputs": [],
   "source": []
  },
  {
   "cell_type": "code",
   "execution_count": null,
   "id": "11ff22ea",
   "metadata": {},
   "outputs": [],
   "source": []
  },
  {
   "cell_type": "code",
   "execution_count": null,
   "id": "00cf197f",
   "metadata": {},
   "outputs": [],
   "source": []
  },
  {
   "cell_type": "code",
   "execution_count": null,
   "id": "bea9308f",
   "metadata": {},
   "outputs": [],
   "source": []
  },
  {
   "cell_type": "code",
   "execution_count": null,
   "id": "dd04c787",
   "metadata": {},
   "outputs": [],
   "source": []
  },
  {
   "cell_type": "code",
   "execution_count": null,
   "id": "fcff89e8",
   "metadata": {},
   "outputs": [],
   "source": []
  }
 ],
 "metadata": {
  "kernelspec": {
   "display_name": "Python 3 (ipykernel)",
   "language": "python",
   "name": "python3"
  },
  "language_info": {
   "codemirror_mode": {
    "name": "ipython",
    "version": 3
   },
   "file_extension": ".py",
   "mimetype": "text/x-python",
   "name": "python",
   "nbconvert_exporter": "python",
   "pygments_lexer": "ipython3",
   "version": "3.8.12"
  }
 },
 "nbformat": 4,
 "nbformat_minor": 5
}
