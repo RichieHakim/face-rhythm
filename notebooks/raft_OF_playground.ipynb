{
 "cells": [
  {
   "cell_type": "code",
   "execution_count": 1,
   "id": "3d9b9236",
   "metadata": {},
   "outputs": [
    {
     "data": {
      "text/html": [
       "<style>.container {width:95% !important; }</style>"
      ],
      "text/plain": [
       "<IPython.core.display.HTML object>"
      ]
     },
     "metadata": {},
     "output_type": "display_data"
    }
   ],
   "source": [
    "# ALWAYS RUN THIS CELL\n",
    "# widen jupyter notebook window\n",
    "from IPython.display import display, HTML\n",
    "display(HTML(\"<style>.container {width:95% !important; }</style>\"))"
   ]
  },
  {
   "cell_type": "code",
   "execution_count": 2,
   "id": "cabc34a3",
   "metadata": {},
   "outputs": [],
   "source": [
    "dir_github = '/media/rich/Home_Linux_partition/github_repos/'\n",
    "import sys\n",
    "sys.path.append(dir_github)\n",
    "\n",
    "%load_ext autoreload\n",
    "%autoreload 2\n",
    "from basic_neural_processing_modules import *"
   ]
  },
  {
   "cell_type": "raw",
   "id": "1517e668",
   "metadata": {},
   "source": [
    "\"\"\"\n",
    "=====================================================\n",
    "Optical Flow: Predicting movement with the RAFT model\n",
    "=====================================================\n",
    "\n",
    "Optical flow is the task of predicting movement between two images, usually two\n",
    "consecutive frames of a video. Optical flow models take two images as input, and\n",
    "predict a flow: the flow indicates the displacement of every single pixel in the\n",
    "first image, and maps it to its corresponding pixel in the second image. Flows\n",
    "are (2, H, W)-dimensional tensors, where the first axis corresponds to the\n",
    "predicted horizontal and vertical displacements.\n",
    "\n",
    "The following example illustrates how torchvision can be used to predict flows\n",
    "using our implementation of the RAFT model. We will also see how to convert the\n",
    "predicted flows to RGB images for visualization.\n",
    "\"\"\"\n",
    "\n",
    "import numpy as np\n",
    "import torch\n",
    "import matplotlib.pyplot as plt\n",
    "import torchvision.transforms.functional as F\n",
    "import torchvision.transforms as T\n",
    "\n",
    "\n",
    "# plt.rcParams[\"savefig.bbox\"] = \"tight\"\n",
    "# # sphinx_gallery_thumbnail_number = 2\n",
    "\n",
    "\n",
    "def plot(imgs, **imshow_kwargs):\n",
    "    if not isinstance(imgs[0], list):\n",
    "        # Make a 2d grid even if there's just 1 row\n",
    "        imgs = [imgs]\n",
    "\n",
    "    num_rows = len(imgs)\n",
    "    num_cols = len(imgs[0])\n",
    "    _, axs = plt.subplots(nrows=num_rows, ncols=num_cols, squeeze=False)\n",
    "    for row_idx, row in enumerate(imgs):\n",
    "        for col_idx, img in enumerate(row):\n",
    "            ax = axs[row_idx, col_idx]\n",
    "            img = F.to_pil_image(img.to(\"cpu\"))\n",
    "            ax.imshow(np.asarray(img), **imshow_kwargs)\n",
    "            ax.set(xticklabels=[], yticklabels=[], xticks=[], yticks=[])\n",
    "\n",
    "    plt.tight_layout()"
   ]
  },
  {
   "cell_type": "code",
   "execution_count": 3,
   "id": "c1a09cbc",
   "metadata": {},
   "outputs": [],
   "source": [
    "###################################\n",
    "# Reading Videos Using Torchvision\n",
    "# --------------------------------\n",
    "# We will first read a video using :func:`~torchvision.io.read_video`.\n",
    "# Alternatively one can use the new :class:`~torchvision.io.VideoReader` API (if\n",
    "# torchvision is built from source).\n",
    "# The video we will use here is free of use from `pexels.com\n",
    "# <https://www.pexels.com/video/a-man-playing-a-game-of-basketball-5192157/>`_,\n",
    "# credits go to `Pavel Danilyuk <https://www.pexels.com/@pavel-danilyuk>`_.\n",
    "\n",
    "\n",
    "import tempfile\n",
    "from pathlib import Path\n",
    "from urllib.request import urlretrieve\n",
    "\n",
    "\n",
    "# video_url = \"https://download.pytorch.org/tutorial/pexelscom_pavel_danilyuk_basketball_hd.mp4\"\n",
    "# video_path = Path(tempfile.mkdtemp()) / \"basketball.mp4\"\n",
    "# _ = urlretrieve(video_url, video_path)\n",
    "\n",
    "path_video = str(Path('/media/rich/bigSSD/res2p/Camera data/round 5 experiments/mouse 2_6/20210417/cam3/experiment/cam32021-04-18T00_41_02.avi').resolve())"
   ]
  },
  {
   "cell_type": "raw",
   "id": "3ec385d7",
   "metadata": {},
   "source": [
    "#########################\n",
    "# :func:`~torchvision.io.read_video` returns the video frames, audio frames and\n",
    "# the metadata associated with the video. In our case, we only need the video\n",
    "# frames.\n",
    "#\n",
    "# Here we will just make 2 predictions between 2 pre-selected pairs of frames,\n",
    "# namely frames (100, 101) and (150, 151). Each of these pairs corresponds to a\n",
    "# single model input.\n",
    "\n",
    "from torchvision.io import read_video\n",
    "frames, _, _ = read_video(str(video_path))"
   ]
  },
  {
   "cell_type": "code",
   "execution_count": 4,
   "id": "cf5366f3",
   "metadata": {},
   "outputs": [],
   "source": [
    "import decord\n",
    "vid = decord.VideoReader(path_video, ctx=decord.cpu())"
   ]
  },
  {
   "cell_type": "code",
   "execution_count": 5,
   "id": "bb15b814",
   "metadata": {},
   "outputs": [],
   "source": [
    "import torch\n",
    "import torchvision\n",
    "# frames = torch.as_tensor(vid[:200].asnumpy()).permute(0,3,1,2)\n",
    "# img1_batch_raw = frames[0:20]\n",
    "# img2_batch_raw = frames[1:21]"
   ]
  },
  {
   "cell_type": "raw",
   "id": "dd1a2f23",
   "metadata": {},
   "source": [
    "frames = frames.permute(0, 3, 1, 2)  # (N, H, W, C) -> (N, C, H, W)\n",
    "\n",
    "img1_batch = torch.stack([frames[100], frames[150]])\n",
    "img2_batch = torch.stack([frames[101], frames[151]])\n",
    "\n",
    "plot(img1_batch)"
   ]
  },
  {
   "cell_type": "raw",
   "id": "21c39123",
   "metadata": {},
   "source": [
    "img1_batch.shape"
   ]
  },
  {
   "cell_type": "raw",
   "id": "d7bcc0c7",
   "metadata": {},
   "source": [
    "#########################\n",
    "# The RAFT model that we will use accepts RGB float images with pixel values in\n",
    "# [-1, 1]. The frames we got from :func:`~torchvision.io.read_video` are int\n",
    "# images with values in [0, 255], so we will have to pre-process them. We also\n",
    "# reduce the image sizes for the example to run faster. Image dimension must be\n",
    "# divisible by 8.\n",
    "\n",
    "\n",
    "def preprocess(batch):\n",
    "    transforms = torchvision.transforms.Compose(\n",
    "        [\n",
    "            torchvision.transforms.ConvertImageDtype(torch.float32),\n",
    "            torchvision.transforms.Normalize(mean=0.5, std=0.5),  # map [0, 1] into [-1, 1]\n",
    "#             torchvision.transforms.Resize(size=(520, 960)),\n",
    "            torchvision.transforms.Resize(size=(304, 392)),\n",
    "        ]\n",
    "    )\n",
    "    batch = transforms(batch)\n",
    "    return batch\n",
    "\n"
   ]
  },
  {
   "cell_type": "raw",
   "id": "8c6d9f0e",
   "metadata": {},
   "source": [
    "img1_batch = preprocess(img1_batch_raw).to(device_preprocess)\n",
    "img2_batch = preprocess(img2_batch_raw).to(device_preprocess)\n",
    "\n",
    "print(f\"shape = {img1_batch.shape}, dtype = {img1_batch.dtype}\")"
   ]
  },
  {
   "cell_type": "code",
   "execution_count": 6,
   "id": "2e7dc5bf",
   "metadata": {},
   "outputs": [],
   "source": [
    "####################################\n",
    "# Estimating Optical flow using RAFT\n",
    "# ----------------------------------\n",
    "# We will use our RAFT implementation from\n",
    "# :func:`~torchvision.models.optical_flow.raft_large`, which follows the same\n",
    "# architecture as the one described in the `original paper <https://arxiv.org/abs/2003.12039>`_.\n",
    "# We also provide the :func:`~torchvision.models.optical_flow.raft_small` model\n",
    "# builder, which is smaller and faster to run, sacrificing a bit of accuracy.\n",
    "\n",
    "from torchvision.models.optical_flow import raft_large\n",
    "\n",
    "# If you can, run this example on a GPU, it will be a lot faster.\n",
    "device_model = \"cuda\" if torch.cuda.is_available() else \"cpu\"\n",
    "device_preprocess = 'cpu'\n",
    "\n",
    "model = raft_large(pretrained=True, progress=False).to(device_model)\n",
    "model = model.eval()"
   ]
  },
  {
   "cell_type": "code",
   "execution_count": 7,
   "id": "0a721d86",
   "metadata": {},
   "outputs": [],
   "source": [
    "for param in model.parameters():\n",
    "    param.requires_grad = False"
   ]
  },
  {
   "cell_type": "raw",
   "id": "03a29226",
   "metadata": {},
   "source": [
    "list_of_flows = model(img1_batch.to(device_model), img2_batch.to(device_model))\n",
    "print(f\"type = {type(list_of_flows)}\")\n",
    "print(f\"length = {len(list_of_flows)} = number of iterations of the model\")"
   ]
  },
  {
   "cell_type": "raw",
   "id": "8fe53bfd",
   "metadata": {},
   "source": [
    "def plot(imgs, subplots_kwargs={}, **imshow_kwargs):\n",
    "    if not isinstance(imgs[0], list):\n",
    "        # Make a 2d grid even if there's just 1 row\n",
    "        imgs = [imgs]\n",
    "\n",
    "    num_rows = len(imgs)\n",
    "    num_cols = len(imgs[0])\n",
    "    _, axs = plt.subplots(nrows=num_rows, ncols=num_cols, squeeze=False, **subplots_kwargs)\n",
    "    for row_idx, row in enumerate(imgs):\n",
    "        for col_idx, img in enumerate(row):\n",
    "            ax = axs[row_idx, col_idx]\n",
    "            img[img>=0.99] = 0.99\n",
    "            img = torchvision.transforms.functional.to_pil_image(img.to(\"cpu\"))\n",
    "            ax.imshow(np.asarray(img), **imshow_kwargs)\n",
    "            ax.set(xticklabels=[], yticklabels=[], xticks=[], yticks=[])\n",
    "\n",
    "    plt.tight_layout()"
   ]
  },
  {
   "cell_type": "raw",
   "id": "3a6b4dd6",
   "metadata": {},
   "source": [
    "plt.figure()\n",
    "plt.hist(img1_batch.numpy().reshape(-1), 100)"
   ]
  },
  {
   "cell_type": "code",
   "execution_count": 8,
   "id": "4e10caa5",
   "metadata": {},
   "outputs": [],
   "source": [
    "import matplotlib.pyplot as plt\n",
    "import numpy as np"
   ]
  },
  {
   "cell_type": "raw",
   "id": "42d9e5ac",
   "metadata": {},
   "source": [
    "flow_ims = (torch.as_tensor(np.stack([image_processing.stack_to_RGB(list(list_of_flows[-1][ii].detach().numpy())).transpose(2,0,1) for ii in range(2)], axis=0)) +1)/2\n",
    "plot(flow_ims)"
   ]
  },
  {
   "cell_type": "raw",
   "id": "36c8172a",
   "metadata": {},
   "source": [
    "# plt.figure()\n",
    "# plt.imshow(list_of_flows[-1][4][0].detach().cpu().numpy())\n",
    "plotting_helpers.plot_image_grid([list_of_flows[-1][ii][0].detach().cpu().numpy() for ii in range(20)], grid_shape=(5,4), kwargs_imshow={'vmin':-1, 'vmax':1});"
   ]
  },
  {
   "cell_type": "raw",
   "id": "a3078bad",
   "metadata": {},
   "source": [
    "####################################\n",
    "# The RAFT model outputs lists of predicted flows where each entry is a\n",
    "# (N, 2, H, W) batch of predicted flows that corresponds to a given \"iteration\"\n",
    "# in the model. For more details on the iterative nature of the model, please\n",
    "# refer to the `original paper <https://arxiv.org/abs/2003.12039>`_. Here, we\n",
    "# are only interested in the final predicted flows (they are the most acccurate\n",
    "# ones), so we will just retrieve the last item in the list.\n",
    "#\n",
    "# As described above, a flow is a tensor with dimensions (2, H, W) (or (N, 2, H,\n",
    "# W) for batches of flows) where each entry corresponds to the horizontal and\n",
    "# vertical displacement of each pixel from the first image to the second image.\n",
    "# Note that the predicted flows are in \"pixel\" unit, they are not normalized\n",
    "# w.r.t. the dimensions of the images.\n",
    "predicted_flows = list_of_flows[-1]\n",
    "print(f\"dtype = {predicted_flows.dtype}\")\n",
    "print(f\"shape = {predicted_flows.shape} = (N, 2, H, W)\")\n",
    "print(f\"min = {predicted_flows.min()}, max = {predicted_flows.max()}\")\n",
    "\n",
    "\n",
    "####################################\n",
    "# Visualizing predicted flows\n",
    "# ---------------------------\n",
    "# Torchvision provides the :func:`~torchvision.utils.flow_to_image` utlity to\n",
    "# convert a flow into an RGB image. It also supports batches of flows.\n",
    "# each \"direction\" in the flow will be mapped to a given RGB color. In the\n",
    "# images below, pixels with similar colors are assumed by the model to be moving\n",
    "# in similar directions. The model is properly able to predict the movement of\n",
    "# the ball and the player. Note in particular the different predicted direction\n",
    "# of the ball in the first image (going to the left) and in the second image\n",
    "# (going up).\n",
    "\n",
    "from torchvision.utils import flow_to_image\n",
    "\n",
    "flow_imgs = flow_to_image(predicted_flows[:10])\n",
    "\n",
    "# The images have been mapped into [-1, 1] but for plotting we want them in [0, 1]\n",
    "img1_batch = [(img1 + 1) / 2 for img1 in img1_batch]\n",
    "\n",
    "grid = [[img1, flow_img] for (img1, flow_img) in zip(img1_batch, flow_imgs)]\n",
    "plot(grid, subplots_kwargs={'figsize':(5,14)})"
   ]
  },
  {
   "cell_type": "raw",
   "id": "975038f5",
   "metadata": {},
   "source": [
    "video_url = \"https://download.pytorch.org/tutorial/pexelscom_pavel_danilyuk_basketball_hd.mp4\"\n",
    "video_path = Path(tempfile.mkdtemp()) / \"basketball.mp4\"\n",
    "_ = urlretrieve(video_url, video_path)\n",
    "\n",
    "from torchvision.io import read_video\n",
    "frames, _, _ = read_video(str(video_path))\n",
    "frames = frames.permute(0, 3, 1, 2)  # (N, H, W, C) -> (N, C, H, W)"
   ]
  },
  {
   "cell_type": "code",
   "execution_count": 9,
   "id": "33e8d474",
   "metadata": {},
   "outputs": [],
   "source": [
    "#########################\n",
    "# The RAFT model that we will use accepts RGB float images with pixel values in\n",
    "# [-1, 1]. The frames we got from :func:`~torchvision.io.read_video` are int\n",
    "# images with values in [0, 255], so we will have to pre-process them. We also\n",
    "# reduce the image sizes for the example to run faster. Image dimension must be\n",
    "# divisible by 8.\n",
    "\n",
    "\n",
    "def preprocess(batch):\n",
    "    transforms = torchvision.transforms.Compose(\n",
    "        [\n",
    "            torchvision.transforms.ConvertImageDtype(torch.float32),\n",
    "            torchvision.transforms.Normalize(mean=0.5, std=0.5),  # map [0, 1] into [-1, 1]\n",
    "#             torchvision.transforms.Normalize(mean=[0,0,0], std=0.5),  # map [0, 1] into [-1, 1]\n",
    "#             torchvision.transforms.Resize(size=(520, 960)),\n",
    "#             torchvision.transforms.Resize(size=(304, 392)),\n",
    "#             torchvision.transforms.Resize(size=(560, 800)),            \n",
    "            torchvision.transforms.Resize(size=(608, 784)),            \n",
    "        ]\n",
    "    )\n",
    "    batch = transforms(batch)\n",
    "    return batch\n",
    "\n",
    "\n",
    "# If you can, run this example on a GPU, it will be a lot faster.\n",
    "device_model = \"cuda\" if torch.cuda.is_available() else \"cpu\"\n",
    "device_preprocess = 'cpu'"
   ]
  },
  {
   "cell_type": "code",
   "execution_count": 10,
   "id": "1324f389",
   "metadata": {},
   "outputs": [],
   "source": [
    "####################################\n",
    "# Bonus: Creating GIFs of predicted flows\n",
    "# ---------------------------------------\n",
    "# In the example above we have only shown the predicted flows of 2 pairs of\n",
    "# frames. A fun way to apply the Optical Flow models is to run the model on an\n",
    "# entire video, and create a new video from all the predicted flows. Below is a\n",
    "# snippet that can get you started with this. We comment out the code, because\n",
    "# this example is being rendered on a machine without a GPU, and it would take\n",
    "# too long to run it.\n",
    "\n",
    "from torchvision.utils import flow_to_image\n",
    "\n",
    "frames = torch.as_tensor(vid[8300:8400].asnumpy()).permute(0,3,1,2)\n",
    "# imgs = preprocess(frames/255)\n",
    "imgs = preprocess(frames)\n",
    "\n",
    "ims = []"
   ]
  },
  {
   "cell_type": "code",
   "execution_count": 11,
   "id": "6045c024",
   "metadata": {},
   "outputs": [
    {
     "data": {
      "text/plain": [
       "(tensor(0, dtype=torch.uint8), tensor(255, dtype=torch.uint8))"
      ]
     },
     "execution_count": 11,
     "metadata": {},
     "output_type": "execute_result"
    }
   ],
   "source": [
    "frames.min(), frames.max()"
   ]
  },
  {
   "cell_type": "code",
   "execution_count": 12,
   "id": "c94467a0",
   "metadata": {},
   "outputs": [
    {
     "data": {
      "text/plain": [
       "(tensor(-1.), tensor(1.))"
      ]
     },
     "execution_count": 12,
     "metadata": {},
     "output_type": "execute_result"
    }
   ],
   "source": [
    "imgs.min(), imgs.max()"
   ]
  },
  {
   "cell_type": "code",
   "execution_count": 13,
   "id": "37446c6f",
   "metadata": {},
   "outputs": [
    {
     "name": "stderr",
     "output_type": "stream",
     "text": [
      "99it [00:07, 13.11it/s]\n"
     ]
    }
   ],
   "source": [
    "from torchvision.io import write_jpeg\n",
    "from tqdm import tqdm\n",
    "for i, (img1, img2) in tqdm(enumerate(zip(imgs[:-1], imgs[1:]))):\n",
    "    # Note: it would be faster to predict batches of flows instead of individual flows\n",
    "    list_of_flows = model(img1[None,...].to(device_model), img2[None,...].to(device_model))\n",
    "    predicted_flow = list_of_flows[-1][0].to('cpu')\n",
    "    \n",
    "    ims.append(predicted_flow)\n",
    "#     break"
   ]
  },
  {
   "cell_type": "code",
   "execution_count": 14,
   "id": "f5ff6b07",
   "metadata": {},
   "outputs": [],
   "source": [
    "ims_all = torch.stack(ims)"
   ]
  },
  {
   "cell_type": "code",
   "execution_count": 457,
   "id": "416ff815",
   "metadata": {},
   "outputs": [],
   "source": [
    "ims_all_conv = timeSeries.convolve_torch(ims_all, torch.ones(3))"
   ]
  },
  {
   "cell_type": "code",
   "execution_count": 15,
   "id": "c45fe74a",
   "metadata": {},
   "outputs": [],
   "source": [
    "flow_ims = flow_to_image(ims_all)"
   ]
  },
  {
   "cell_type": "code",
   "execution_count": 458,
   "id": "5818c047",
   "metadata": {},
   "outputs": [],
   "source": [
    "flow_ims = flow_to_image(ims_all_conv)"
   ]
  },
  {
   "cell_type": "raw",
   "id": "4cb9f563",
   "metadata": {},
   "source": [
    "import gc\n",
    "torch.cuda.empty_cache()\n",
    "gc.collect()"
   ]
  },
  {
   "cell_type": "code",
   "execution_count": 433,
   "id": "7ffc5fd4",
   "metadata": {},
   "outputs": [
    {
     "data": {
      "text/plain": [
       "torch.Size([333, 3, 720, 1280])"
      ]
     },
     "execution_count": 433,
     "metadata": {},
     "output_type": "execute_result"
    }
   ],
   "source": [
    "frames.shape"
   ]
  },
  {
   "cell_type": "code",
   "execution_count": 453,
   "id": "44134367",
   "metadata": {},
   "outputs": [
    {
     "data": {
      "text/plain": [
       "torch.Size([200, 3, 520, 960])"
      ]
     },
     "execution_count": 453,
     "metadata": {},
     "output_type": "execute_result"
    }
   ],
   "source": [
    "imgs.shape"
   ]
  },
  {
   "cell_type": "code",
   "execution_count": 57,
   "id": "36fb420b",
   "metadata": {},
   "outputs": [
    {
     "data": {
      "application/vnd.jupyter.widget-view+json": {
       "model_id": "be9ad348957349e29dc78e4fcbf70964",
       "version_major": 2,
       "version_minor": 0
      },
      "text/plain": [
       "  0%|          | 0/99 [00:00<?, ?it/s]"
      ]
     },
     "metadata": {},
     "output_type": "display_data"
    }
   ],
   "source": [
    "image_processing.play_video_cv2(array=flow_ims.permute(0,2,3,1).numpy(), frameRate=20)\n",
    "    \n",
    "#     output_folder = \"/tmp/\"  # Update this to the folder of your choice\n",
    "#     write_jpeg(flow_img, output_folder + f\"predicted_flow_{i}.jpg\")"
   ]
  },
  {
   "cell_type": "code",
   "execution_count": 24,
   "id": "87684741",
   "metadata": {},
   "outputs": [
    {
     "data": {
      "application/vnd.jupyter.widget-view+json": {
       "model_id": "eed688f0e1d4499e88b8dd52cd32cebf",
       "version_major": 2,
       "version_minor": 0
      },
      "text/plain": [
       "  0%|          | 0/99 [00:00<?, ?it/s]"
      ]
     },
     "metadata": {},
     "output_type": "display_data"
    }
   ],
   "source": [
    "image_processing.play_video_cv2(array=((ims_all[:,1,...] +5)*10).permute(0,1,2).numpy(), frameRate=20)\n",
    "    \n",
    "#     output_folder = \"/tmp/\"  # Update this to the folder of your choice\n",
    "#     write_jpeg(flow_img, output_folder + f\"predicted_flow_{i}.jpg\")"
   ]
  },
  {
   "cell_type": "code",
   "execution_count": 628,
   "id": "da2dba90",
   "metadata": {},
   "outputs": [
    {
     "data": {
      "application/vnd.jupyter.widget-view+json": {
       "model_id": "461f3b8fbc234ec187c9713edbd25dea",
       "version_major": 2,
       "version_minor": 0
      },
      "text/plain": [
       "  0%|          | 0/600 [00:00<?, ?it/s]"
      ]
     },
     "metadata": {},
     "output_type": "display_data"
    }
   ],
   "source": [
    "image_processing.play_video_cv2(array=frames.permute(0,2,3,1).numpy(), frameRate=20)\n",
    "    \n",
    "#     output_folder = \"/tmp/\"  # Update this to the folder of your choice\n",
    "#     write_jpeg(flow_img, output_folder + f\"predicted_flow_{i}.jpg\")"
   ]
  },
  {
   "cell_type": "code",
   "execution_count": 23,
   "id": "d7a39f4a",
   "metadata": {},
   "outputs": [
    {
     "data": {
      "text/plain": [
       "[<matplotlib.lines.Line2D at 0x7faa1033ed60>]"
      ]
     },
     "execution_count": 23,
     "metadata": {},
     "output_type": "execute_result"
    },
    {
     "data": {
      "image/png": "[encoded data removed]",
      "text/plain": [
       "<Figure size 432x288 with 1 Axes>"
      ]
     },
     "metadata": {
      "needs_background": "light"
     },
     "output_type": "display_data"
    }
   ],
   "source": [
    "plt.figure()\n",
    "plt.plot(np.cumsum(ims_all[:,1,170,658]))"
   ]
  },
  {
   "cell_type": "code",
   "execution_count": 25,
   "id": "4698cb94",
   "metadata": {},
   "outputs": [
    {
     "data": {
      "text/plain": [
       "torch.Size([99, 2, 608, 784])"
      ]
     },
     "execution_count": 25,
     "metadata": {},
     "output_type": "execute_result"
    }
   ],
   "source": [
    "ims_all.shape"
   ]
  },
  {
   "cell_type": "code",
   "execution_count": 18,
   "id": "8725e5c8",
   "metadata": {},
   "outputs": [],
   "source": [
    "import copy"
   ]
  },
  {
   "cell_type": "code",
   "execution_count": 39,
   "id": "b2833e3e",
   "metadata": {},
   "outputs": [
    {
     "data": {
      "text/plain": [
       "torch.float32"
      ]
     },
     "execution_count": 39,
     "metadata": {},
     "output_type": "execute_result"
    }
   ],
   "source": [
    "ff.dtype"
   ]
  },
  {
   "cell_type": "code",
   "execution_count": 41,
   "id": "6e521099",
   "metadata": {},
   "outputs": [
    {
     "name": "stderr",
     "output_type": "stream",
     "text": [
      "99it [00:00, 84141.05it/s]\n"
     ]
    }
   ],
   "source": [
    "pt_starting = torch.tensor([300,300], dtype=torch.float32)\n",
    "\n",
    "pt_current = copy.copy(pt_starting)\n",
    "pos = [pt_starting]\n",
    "for ii, ff in tqdm(enumerate(ims_all)):\n",
    "    pt_current = pt_current + ff[:, int(pt_current[0]), int(pt_current[1])]\n",
    "    pos.append(pt_current)"
   ]
  },
  {
   "cell_type": "code",
   "execution_count": 47,
   "id": "c4ffb45b",
   "metadata": {},
   "outputs": [],
   "source": [
    "pos_arr = torch.stack(pos)"
   ]
  },
  {
   "cell_type": "code",
   "execution_count": 48,
   "id": "920781e4",
   "metadata": {},
   "outputs": [
    {
     "data": {
      "text/plain": [
       "torch.Size([100, 2])"
      ]
     },
     "execution_count": 48,
     "metadata": {},
     "output_type": "execute_result"
    }
   ],
   "source": [
    "pos_arr.shape"
   ]
  },
  {
   "cell_type": "code",
   "execution_count": 49,
   "id": "6a07a5a2",
   "metadata": {},
   "outputs": [
    {
     "data": {
      "text/plain": [
       "[<matplotlib.lines.Line2D at 0x7f73ec590d60>,\n",
       " <matplotlib.lines.Line2D at 0x7f73ec590dc0>]"
      ]
     },
     "execution_count": 49,
     "metadata": {},
     "output_type": "execute_result"
    },
    {
     "data": {
      "image/png": "[encoded data removed]",
      "text/plain": [
       "<Figure size 432x288 with 1 Axes>"
      ]
     },
     "metadata": {
      "needs_background": "light"
     },
     "output_type": "display_data"
    }
   ],
   "source": [
    "plt.figure()\n",
    "plt.plot(pos_arr - pos_arr.mean(0))"
   ]
  },
  {
   "cell_type": "code",
   "execution_count": 302,
   "id": "033c7ba5",
   "metadata": {},
   "outputs": [
    {
     "data": {
      "text/plain": [
       "torch.Size([20, 3, 610, 784])"
      ]
     },
     "execution_count": 302,
     "metadata": {},
     "output_type": "execute_result"
    }
   ],
   "source": [
    "frames.shape"
   ]
  },
  {
   "cell_type": "code",
   "execution_count": 587,
   "id": "90afb886",
   "metadata": {},
   "outputs": [
    {
     "data": {
      "text/plain": [
       "torch.Size([100, 3, 610, 784])"
      ]
     },
     "execution_count": 587,
     "metadata": {},
     "output_type": "execute_result"
    }
   ],
   "source": [
    "frames.shape"
   ]
  },
  {
   "cell_type": "code",
   "execution_count": 314,
   "id": "25b0aff3",
   "metadata": {},
   "outputs": [
    {
     "data": {
      "text/plain": [
       "torch.Size([20, 3, 610, 784])"
      ]
     },
     "execution_count": 314,
     "metadata": {},
     "output_type": "execute_result"
    }
   ],
   "source": [
    "frames.shape"
   ]
  },
  {
   "cell_type": "code",
   "execution_count": 331,
   "id": "1242fa33",
   "metadata": {},
   "outputs": [],
   "source": [
    "imgs = preprocess(frames/255)"
   ]
  },
  {
   "cell_type": "raw",
   "id": "f53d3e80",
   "metadata": {},
   "source": [
    "imgs = ((frames/255)-0.5)*2"
   ]
  },
  {
   "cell_type": "raw",
   "id": "2c5ad563",
   "metadata": {},
   "source": [
    "imgs = ((imgs/255)-0.5)*2"
   ]
  },
  {
   "cell_type": "code",
   "execution_count": 332,
   "id": "ded81796",
   "metadata": {},
   "outputs": [
    {
     "data": {
      "text/plain": [
       "tensor(-1.)"
      ]
     },
     "execution_count": 332,
     "metadata": {},
     "output_type": "execute_result"
    }
   ],
   "source": [
    "imgs.min()"
   ]
  },
  {
   "cell_type": "code",
   "execution_count": 333,
   "id": "e5fd1c17",
   "metadata": {},
   "outputs": [
    {
     "data": {
      "text/plain": [
       "tensor(1.)"
      ]
     },
     "execution_count": 333,
     "metadata": {},
     "output_type": "execute_result"
    }
   ],
   "source": [
    "imgs.max()"
   ]
  },
  {
   "cell_type": "code",
   "execution_count": 309,
   "id": "e58a8582",
   "metadata": {},
   "outputs": [
    {
     "data": {
      "text/plain": [
       "tensor(91.7186)"
      ]
     },
     "execution_count": 309,
     "metadata": {},
     "output_type": "execute_result"
    }
   ],
   "source": [
    "torch.mean(imgs)"
   ]
  },
  {
   "cell_type": "code",
   "execution_count": 206,
   "id": "2dda3d16",
   "metadata": {},
   "outputs": [
    {
     "data": {
      "text/plain": [
       "torch.Size([20, 3, 520, 960])"
      ]
     },
     "execution_count": 206,
     "metadata": {},
     "output_type": "execute_result"
    }
   ],
   "source": [
    "imgs.shape"
   ]
  },
  {
   "cell_type": "code",
   "execution_count": 186,
   "id": "9f4e816a",
   "metadata": {},
   "outputs": [
    {
     "name": "stdout",
     "output_type": "stream",
     "text": [
      "Error in callback <function flush_figures at 0x7f51981f10d0> (for post_execute):\n"
     ]
    },
    {
     "name": "stderr",
     "output_type": "stream",
     "text": [
      "\n",
      "KeyboardInterrupt\n",
      "\n",
      "\n",
      "KeyboardInterrupt\n",
      "\n"
     ]
    }
   ],
   "source": [
    "import matplotlib.pyplot as plt\n",
    "\n",
    "plt.figure()\n",
    "plt.hist(imgs[0].reshape(-1), 100)"
   ]
  },
  {
   "cell_type": "code",
   "execution_count": 158,
   "id": "16cb893b",
   "metadata": {},
   "outputs": [
    {
     "data": {
      "text/plain": [
       "tensor(0.)"
      ]
     },
     "execution_count": 158,
     "metadata": {},
     "output_type": "execute_result"
    }
   ],
   "source": [
    "frames.min()"
   ]
  },
  {
   "cell_type": "code",
   "execution_count": 157,
   "id": "2bb88720",
   "metadata": {},
   "outputs": [
    {
     "data": {
      "text/plain": [
       "tensor(255.)"
      ]
     },
     "execution_count": 157,
     "metadata": {},
     "output_type": "execute_result"
    }
   ],
   "source": [
    "frames.max()"
   ]
  },
  {
   "cell_type": "code",
   "execution_count": 398,
   "id": "25edde75",
   "metadata": {},
   "outputs": [
    {
     "data": {
      "application/vnd.jupyter.widget-view+json": {
       "model_id": "363d41d51015422b939f9be894f0547d",
       "version_major": 2,
       "version_minor": 0
      },
      "text/plain": [
       "  0%|          | 0/200 [00:00<?, ?it/s]"
      ]
     },
     "metadata": {},
     "output_type": "display_data"
    }
   ],
   "source": [
    "image_processing.play_video_cv2(array=(((imgs+1)/2)*255).permute(0,2,3,1).numpy(), frameRate=20)\n",
    "    \n",
    "#     output_folder = \"/tmp/\"  # Update this to the folder of your choice\n",
    "#     write_jpeg(flow_img, output_folder + f\"predicted_flow_{i}.jpg\")"
   ]
  },
  {
   "cell_type": "code",
   "execution_count": 399,
   "id": "35ae942e",
   "metadata": {},
   "outputs": [
    {
     "data": {
      "application/vnd.jupyter.widget-view+json": {
       "model_id": "918473587d074f85a12a52e3a1baf71b",
       "version_major": 2,
       "version_minor": 0
      },
      "text/plain": [
       "  0%|          | 0/200 [00:00<?, ?it/s]"
      ]
     },
     "metadata": {},
     "output_type": "display_data"
    },
    {
     "ename": "KeyboardInterrupt",
     "evalue": "",
     "output_type": "error",
     "traceback": [
      "\u001b[0;31m---------------------------------------------------------------------------\u001b[0m",
      "\u001b[0;31mKeyboardInterrupt\u001b[0m                         Traceback (most recent call last)",
      "Input \u001b[0;32mIn [399]\u001b[0m, in \u001b[0;36m<cell line: 1>\u001b[0;34m()\u001b[0m\n\u001b[0;32m----> 1\u001b[0m \u001b[43mimage_processing\u001b[49m\u001b[38;5;241;43m.\u001b[39;49m\u001b[43mplay_video_cv2\u001b[49m\u001b[43m(\u001b[49m\u001b[43marray\u001b[49m\u001b[38;5;241;43m=\u001b[39;49m\u001b[43mframes\u001b[49m\u001b[38;5;241;43m.\u001b[39;49m\u001b[43mpermute\u001b[49m\u001b[43m(\u001b[49m\u001b[38;5;241;43m0\u001b[39;49m\u001b[43m,\u001b[49m\u001b[38;5;241;43m2\u001b[39;49m\u001b[43m,\u001b[49m\u001b[38;5;241;43m3\u001b[39;49m\u001b[43m,\u001b[49m\u001b[38;5;241;43m1\u001b[39;49m\u001b[43m)\u001b[49m\u001b[38;5;241;43m.\u001b[39;49m\u001b[43mnumpy\u001b[49m\u001b[43m(\u001b[49m\u001b[43m)\u001b[49m\u001b[43m,\u001b[49m\u001b[43m \u001b[49m\u001b[43mframeRate\u001b[49m\u001b[38;5;241;43m=\u001b[39;49m\u001b[38;5;241;43m20\u001b[39;49m\u001b[43m)\u001b[49m\n",
      "File \u001b[0;32m/media/rich/Home_Linux_partition/github_repos/basic_neural_processing_modules/image_processing.py:754\u001b[0m, in \u001b[0;36mplay_video_cv2\u001b[0;34m(array, path, frameRate, save_path, show, fourcc_code, text, kwargs_text)\u001b[0m\n\u001b[1;32m    752\u001b[0m \u001b[38;5;28;01mif\u001b[39;00m show:\n\u001b[1;32m    753\u001b[0m     cv2\u001b[38;5;241m.\u001b[39mimshow(\u001b[38;5;124m'\u001b[39m\u001b[38;5;124mhandle\u001b[39m\u001b[38;5;124m'\u001b[39m, np\u001b[38;5;241m.\u001b[39muint8(frame))\n\u001b[0;32m--> 754\u001b[0m     \u001b[43mcv2\u001b[49m\u001b[38;5;241;43m.\u001b[39;49m\u001b[43mwaitKey\u001b[49m\u001b[43m(\u001b[49m\u001b[43mwait_frames\u001b[49m\u001b[43m)\u001b[49m\n\u001b[1;32m    755\u001b[0m \u001b[38;5;28;01mif\u001b[39;00m save_path \u001b[38;5;129;01mis\u001b[39;00m \u001b[38;5;129;01mnot\u001b[39;00m \u001b[38;5;28;01mNone\u001b[39;00m:\n\u001b[1;32m    756\u001b[0m     writer\u001b[38;5;241m.\u001b[39mwrite(np\u001b[38;5;241m.\u001b[39muint8(frame))\n",
      "\u001b[0;31mKeyboardInterrupt\u001b[0m: "
     ]
    }
   ],
   "source": [
    "image_processing.play_video_cv2(array=frames.permute(0,2,3,1).numpy(), frameRate=20)\n",
    "    \n",
    "#     output_folder = \"/tmp/\"  # Update this to the folder of your choice\n",
    "#     write_jpeg(flow_img, output_folder + f\"predicted_flow_{i}.jpg\")"
   ]
  },
  {
   "cell_type": "code",
   "execution_count": null,
   "id": "d4e80917",
   "metadata": {},
   "outputs": [],
   "source": []
  },
  {
   "cell_type": "code",
   "execution_count": null,
   "id": "cefd928d",
   "metadata": {},
   "outputs": [],
   "source": [
    "####################################\n",
    "# Once the .jpg flow images are saved, you can convert them into a video or a\n",
    "# GIF using ffmpeg with e.g.:\n",
    "\n",
    "ffmpeg -f image2 -framerate 30 -i predicted_flow_%d.jpg -loop -1 flow.gif"
   ]
  },
  {
   "cell_type": "code",
   "execution_count": null,
   "id": "697407da",
   "metadata": {},
   "outputs": [],
   "source": []
  },
  {
   "cell_type": "code",
   "execution_count": null,
   "id": "9b6a3a63",
   "metadata": {},
   "outputs": [],
   "source": []
  },
  {
   "cell_type": "code",
   "execution_count": null,
   "id": "31216cdc",
   "metadata": {},
   "outputs": [],
   "source": []
  },
  {
   "cell_type": "code",
   "execution_count": null,
   "id": "50e55573",
   "metadata": {},
   "outputs": [],
   "source": []
  },
  {
   "cell_type": "code",
   "execution_count": null,
   "id": "7d3c774f",
   "metadata": {},
   "outputs": [],
   "source": []
  },
  {
   "cell_type": "code",
   "execution_count": null,
   "id": "1f4bd310",
   "metadata": {},
   "outputs": [],
   "source": []
  },
  {
   "cell_type": "code",
   "execution_count": null,
   "id": "d176b950",
   "metadata": {},
   "outputs": [],
   "source": []
  },
  {
   "cell_type": "code",
   "execution_count": null,
   "id": "cec55460",
   "metadata": {},
   "outputs": [],
   "source": []
  },
  {
   "cell_type": "code",
   "execution_count": null,
   "id": "49030b22",
   "metadata": {},
   "outputs": [],
   "source": []
  },
  {
   "cell_type": "code",
   "execution_count": null,
   "id": "c90477d0",
   "metadata": {},
   "outputs": [],
   "source": []
  },
  {
   "cell_type": "code",
   "execution_count": null,
   "id": "023bdce2",
   "metadata": {},
   "outputs": [],
   "source": []
  }
 ],
 "metadata": {
  "kernelspec": {
   "display_name": "Python 3 (ipykernel)",
   "language": "python",
   "name": "python3"
  },
  "language_info": {
   "codemirror_mode": {
    "name": "ipython",
    "version": 3
   },
   "file_extension": ".py",
   "mimetype": "text/x-python",
   "name": "python",
   "nbconvert_exporter": "python",
   "pygments_lexer": "ipython3",
   "version": "3.8.12"
  }
 },
 "nbformat": 4,
 "nbformat_minor": 5
}
