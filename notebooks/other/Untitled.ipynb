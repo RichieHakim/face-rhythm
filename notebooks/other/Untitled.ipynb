{
 "cells": [
  {
   "cell_type": "code",
   "execution_count": 1,
   "id": "5a168157",
   "metadata": {},
   "outputs": [],
   "source": [
    "import face_rhythm as fr"
   ]
  },
  {
   "cell_type": "code",
   "execution_count": 3,
   "id": "3a67cef3",
   "metadata": {},
   "outputs": [],
   "source": [
    "test = fr.h5_handling.simple_load('/home/rich/Desktop/test_FR/analysis_files/VQT_Analyzer.h5')"
   ]
  },
  {
   "cell_type": "code",
   "execution_count": 11,
   "id": "2c43ea44",
   "metadata": {},
   "outputs": [],
   "source": [
    "pt = fr.h5_handling.simple_load('/home/rich/Desktop/test_FR/analysis_files/PointTracker.h5')"
   ]
  },
  {
   "cell_type": "code",
   "execution_count": 4,
   "id": "556b50c5",
   "metadata": {},
   "outputs": [
    {
     "data": {
      "text/plain": [
       "dict_keys(['VQT', 'frequencies', 'point_positions', 'spectrograms', 'x_axis'])"
      ]
     },
     "execution_count": 4,
     "metadata": {},
     "output_type": "execute_result"
    }
   ],
   "source": [
    "test.keys()"
   ]
  },
  {
   "cell_type": "code",
   "execution_count": 6,
   "id": "a7284c40",
   "metadata": {},
   "outputs": [
    {
     "data": {
      "text/plain": [
       "(2, 936, 36, 21750)"
      ]
     },
     "execution_count": 6,
     "metadata": {},
     "output_type": "execute_result"
    }
   ],
   "source": [
    "test['spectrograms']['0'].shape"
   ]
  },
  {
   "cell_type": "code",
   "execution_count": 7,
   "id": "79afa711",
   "metadata": {},
   "outputs": [
    {
     "data": {
      "text/plain": [
       "(2, 936, 36, 25)"
      ]
     },
     "execution_count": 7,
     "metadata": {},
     "output_type": "execute_result"
    }
   ],
   "source": [
    "test['spectrograms']['1'].shape"
   ]
  },
  {
   "cell_type": "code",
   "execution_count": 8,
   "id": "83ac9551",
   "metadata": {},
   "outputs": [],
   "source": [
    "import bnpm"
   ]
  },
  {
   "cell_type": "code",
   "execution_count": 9,
   "id": "f9a6263e",
   "metadata": {},
   "outputs": [
    {
     "data": {
      "text/plain": [
       "5.863104"
      ]
     },
     "execution_count": 9,
     "metadata": {},
     "output_type": "execute_result"
    }
   ],
   "source": [
    "bnpm.misc.estimate_array_size(test['spectrograms']['0'])"
   ]
  },
  {
   "cell_type": "code",
   "execution_count": 14,
   "id": "8376eb08",
   "metadata": {},
   "outputs": [
    {
     "data": {
      "text/plain": [
       "3.260964096"
      ]
     },
     "execution_count": 14,
     "metadata": {},
     "output_type": "execute_result"
    }
   ],
   "source": [
    "bnpm.misc.estimate_array_size(pt['points_tracked']['0'])"
   ]
  },
  {
   "cell_type": "code",
   "execution_count": 15,
   "id": "626a32f8",
   "metadata": {},
   "outputs": [
    {
     "data": {
      "text/plain": [
       "(435492, 936, 2)"
      ]
     },
     "execution_count": 15,
     "metadata": {},
     "output_type": "execute_result"
    }
   ],
   "source": [
    "pt['points_tracked']['0'].shape"
   ]
  },
  {
   "cell_type": "code",
   "execution_count": 17,
   "id": "c183a8da",
   "metadata": {},
   "outputs": [
    {
     "data": {
      "text/plain": [
       "43549.2"
      ]
     },
     "execution_count": 17,
     "metadata": {},
     "output_type": "execute_result"
    }
   ],
   "source": [
    "435492/10"
   ]
  },
  {
   "cell_type": "code",
   "execution_count": 16,
   "id": "cb94e584",
   "metadata": {},
   "outputs": [
    {
     "data": {
      "text/plain": [
       "3629.1"
      ]
     },
     "execution_count": 16,
     "metadata": {},
     "output_type": "execute_result"
    }
   ],
   "source": [
    "435492/120"
   ]
  },
  {
   "cell_type": "code",
   "execution_count": 13,
   "id": "55a37ffe",
   "metadata": {},
   "outputs": [
    {
     "data": {
      "text/plain": [
       "array([[321.91610859, 180.97170516],\n",
       "       [321.91909766, 189.96267171],\n",
       "       [321.93020753, 198.97068084],\n",
       "       ...,\n",
       "       [645.53803454, 144.95735362],\n",
       "       [645.54645484, 153.94340585],\n",
       "       [645.54552687, 162.87542841]])"
      ]
     },
     "execution_count": 13,
     "metadata": {},
     "output_type": "execute_result"
    }
   ],
   "source": [
    "pt['point_positions']"
   ]
  },
  {
   "cell_type": "code",
   "execution_count": null,
   "id": "b158c57e",
   "metadata": {},
   "outputs": [],
   "source": []
  }
 ],
 "metadata": {
  "kernelspec": {
   "display_name": "Python 3 (ipykernel)",
   "language": "python",
   "name": "python3"
  },
  "language_info": {
   "codemirror_mode": {
    "name": "ipython",
    "version": 3
   },
   "file_extension": ".py",
   "mimetype": "text/x-python",
   "name": "python",
   "nbconvert_exporter": "python",
   "pygments_lexer": "ipython3",
   "version": "3.9.16"
  }
 },
 "nbformat": 4,
 "nbformat_minor": 5
}
