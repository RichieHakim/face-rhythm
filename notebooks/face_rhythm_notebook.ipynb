{
 "cells": [
  {
   "cell_type": "markdown",
   "metadata": {
    "pycharm": {
     "name": "#%% md\n"
    }
   },
   "source": [
    "***\n",
    "<center><h1>Face Rhythm</h1></center>\n",
    "\n",
    "***\n",
    "\n",
    "<table><tr>\n",
    "<td> <img src=\"https://images.squarespace-cdn.com/content/5688a31305f8e23aa2893502/1614723283221-5Z5038AT7Y6KCOM2PIU4/Screenshot+from+2021-03-02+17-05-12.png?content-type=image%2Fpng\" style=\"height: 200px\"> </td>\n",
    "<td> <img src=\"https://images.squarespace-cdn.com/content/5688a31305f8e23aa2893502/1614723856628-J89PYYSF7K7JATE2KMF9/Screenshot+from+2021-03-02+17-23-46.png?format=300w&content-type=image%2Fpng\" style=\"height: 200px\"> </td>\n",
    "<td> <img src=\"https://images.squarespace-cdn.com/content/5688a31305f8e23aa2893502/1614723931026-OORV0RAPZNWV3R8TBOXB/Screenshot+from+2021-03-02+17-25-11.png?format=300w&content-type=image%2Fpng\" style=\"height: 200px\"> </td>\n",
    "<td> <img src=\"https://images.squarespace-cdn.com/content/5688a31305f8e23aa2893502/1614724055033-O3GBEF1D9MULFZKI2IUJ/Screenshot+from+2021-03-02+17-27-10.png?format=300w&content-type=image%2Fpng\" style=\"height: 200px\"> </td>\n",
    "<td> <img src=\"https://images.squarespace-cdn.com/content/5688a31305f8e23aa2893502/1614723378405-WXN74ZTT1KYZUQGDM07X/face_rhythm_banner2.png?format=1000w&content-type=image%2Fpng\" style=\"height: 200px\"> </td>\n",
    "</tr></table>\n",
    "\n",
    "***\n",
    "\n",
    "##### Notebook Shortcuts\n",
    "- **[Notebook Setup](#Notebook-Setup)**: Prepare all the necessary config files and folders\n",
    "- **[Set ROI](#Set-ROI)**: Set the ROI for the analysis\n",
    "- **[Run Optic Flow](#Run-Optic-Flow)**: Run the optic flow analysis\n",
    "- **[Clean Optic Flow](#Clean-Optic-Flow)**: Optic flow post-processing\n",
    "- **[Convolutional Dimensionality Reduction](#Convolutional-Dimensionality-Reduction)**: Convolutional Dimensionality Reduction\n",
    "- **[Analysis](#Analysis)**: Decompose and Analyze the optic flow data in many ways\n",
    "- **[Comparisons](#Comparisons)**: Compare Face Rhythm to some peer algorithms\n",
    "\n",
    "***"
   ]
  },
  {
   "cell_type": "markdown",
   "metadata": {
    "pycharm": {
     "name": "#%% md\n"
    }
   },
   "source": [
    "# Tips on running this notebook:\n",
    "In theory it would be nice if you could just enter the path of the video(s) and just let it run all the way through. In practice, there are a few hoops to jump through\n",
    "- Run the Notebook Setup Block (two blocks below this one). This should pretty much always be done, even if you are loading precomputed file from disk instead of calculating them. This step loads in some useful meta data used throughout.\n",
    "- Even if you are restarting at a specific point in your analysis, run your Setup Block then head down to your current analysis step cell "
   ]
  },
  {
   "cell_type": "markdown",
   "metadata": {
    "pycharm": {
     "name": "#%% md\n"
    }
   },
   "source": [
    "***\n",
    "<center><h1>Notebook Setup</h1></center>\n",
    "\n",
    "***\n",
    "\n",
    "### Creates config and locates videos\n",
    "\n",
    "**Crucially, always run this first cell every time you run this notebook.**\n",
    "\n",
    "Also, generally make sure to read through the config parameters before running.\n",
    "\n",
    "The Project path is the path to a folder (existing or not) where we will store our derived files. I recommend creating a project folder and then copying this notebook into that folder.\n",
    "The Video path is the path to a folder containing videos. \n",
    "The run name will determine the name of the config. You might create multiple configs if you want to re-run the same data with slightly different parameters\n",
    "\n",
    "Previous face rhythm users might be familiar with the 'sessions' structure. Some users will want to run multiple sessions through Face Rhythm at the same time. If that's you, then read the docs to see what parameters to change:\n",
    "https://face-rhythm.readthedocs.io/\n",
    "\n",
    "If you did everything according to the readme, you should see that the video_path currently points to a folder containing one sample video in the testing folder. Give this a try!"
   ]
  },
  {
   "cell_type": "code",
   "execution_count": 1,
   "metadata": {
    "pycharm": {
     "name": "#%%\n"
    }
   },
   "outputs": [
    {
     "data": {
      "text/html": [
       "<style>.container {width:95% !important; }</style>"
      ],
      "text/plain": [
       "<IPython.core.display.HTML object>"
      ]
     },
     "metadata": {},
     "output_type": "display_data"
    }
   ],
   "source": [
    "# ALWAYS RUN THIS CELL\n",
    "# widen jupyter notebook window\n",
    "from IPython.display import display, HTML\n",
    "display(HTML(\"<style>.container {width:95% !important; }</style>\"))"
   ]
  },
  {
   "cell_type": "code",
   "execution_count": 2,
   "metadata": {
    "pycharm": {
     "name": "#%%\n"
    }
   },
   "outputs": [],
   "source": [
    "%load_ext autoreload\n",
    "%autoreload 2\n",
    "import face_rhythm as fr"
   ]
  },
  {
   "cell_type": "code",
   "execution_count": 3,
   "metadata": {
    "pycharm": {
     "name": "#%%\n"
    }
   },
   "outputs": [
    {
     "name": "stdout",
     "output_type": "stream",
     "text": [
      "Operating System: Linux: 5.15.0-53-generic, #59~20.04.1-Ubuntu SMP Thu Oct 20 15:10:22 UTC 2022, x86_64, node: rich-L-CLASS\n",
      "Conda Environment: FR\n",
      "Python Version: 3.9.13\n",
      "GCC Version: 9.4.0\n",
      "PyTorch Version: 1.12.0+cu113\n",
      "Numpy Version: 1.21.6\n",
      "OpenCV Version: 4.6.0\n",
      "face-rhythm Version: 0.1.0\n"
     ]
    }
   ],
   "source": [
    "fr.helpers.get_system_versions(verbose=True);"
   ]
  },
  {
   "cell_type": "markdown",
   "metadata": {},
   "source": [
    "# Project Directory Organization\n",
    "------------\n",
    "\n",
    "    Project Directory\n",
    "    ├── config.yaml           <- Configuration parameters to run each module in the pipeline. Dictionary.\n",
    "    ├── run_info.yaml         <- Output information from each module. Dictionary.\n",
    "    │\n",
    "    ├── run_data              <- Output data from each module.\n",
    "    │   ├── point_tracking.h5 <- Output data from optic flow module.\n",
    "    │   ├── spectral.h5       <- Output data from spectral decomposition module.\n",
    "    │   └── decomposition.h5  <- Output data from PCA/TCA modules.\n",
    "    │   \n",
    "    └── visualizations        <- Output visualizations.\n",
    "        ├── example_plot.png  <- Example plot.\n",
    "        └── example_video.mp4 <- Example video.\n"
   ]
  },
  {
   "cell_type": "code",
   "execution_count": 4,
   "metadata": {},
   "outputs": [],
   "source": [
    "directory_project = '/media/rich/bigSSD/analysis_data/demo_faceRhythm_svoboda/fr_run_20221013_new/'\n",
    "directory_videos  = '/media/rich/bigSSD/other lab data/Svoboda_lab/BCI34_2022-07-19/side/2022-07-19_13-34-06'\n",
    "\n",
    "filename_strMatch = 'trial_.*mp4'  ## You can use regular expressions to search and match more complex strings"
   ]
  },
  {
   "cell_type": "code",
   "execution_count": 5,
   "metadata": {},
   "outputs": [
    {
     "name": "stdout",
     "output_type": "stream",
     "text": [
      "Initializing cv2.imshow\n",
      "FR: Found config.yaml file at /media/rich/bigSSD/analysis_data/demo_faceRhythm_svoboda/fr_run_20221013_new/config.yaml\n"
     ]
    }
   ],
   "source": [
    "path_config, path_run_info, directory_project = fr.project.prepare_project(\n",
    "    directory_project=directory_project,\n",
    "    overwrite_config=False,  ## WARNING! CHECK THIS.\n",
    "    verbose=2,\n",
    ")"
   ]
  },
  {
   "cell_type": "code",
   "execution_count": 6,
   "metadata": {
    "pycharm": {
     "name": "#%%\n"
    }
   },
   "outputs": [],
   "source": [
    "from pprint import pprint\n",
    "from pathlib import Path\n",
    "\n",
    "import cv2"
   ]
  },
  {
   "cell_type": "code",
   "execution_count": 7,
   "metadata": {},
   "outputs": [
    {
     "name": "stdout",
     "output_type": "stream",
     "text": [
      "['/media/rich/bigSSD/other lab data/Svoboda_lab/BCI34_2022-07-19/side/2022-07-19_13-34-06/trial_00000__2022-07-19_13-34-07.mp4',\n",
      " '/media/rich/bigSSD/other lab data/Svoboda_lab/BCI34_2022-07-19/side/2022-07-19_13-34-06/trial_00001__2022-07-19_13-34-51.mp4',\n",
      " '/media/rich/bigSSD/other lab data/Svoboda_lab/BCI34_2022-07-19/side/2022-07-19_13-34-06/trial_00002__2022-07-19_13-35-02.mp4',\n",
      " '/media/rich/bigSSD/other lab data/Svoboda_lab/BCI34_2022-07-19/side/2022-07-19_13-34-06/trial_00003__2022-07-19_13-35-14.mp4',\n",
      " '/media/rich/bigSSD/other lab data/Svoboda_lab/BCI34_2022-07-19/side/2022-07-19_13-34-06/trial_00004__2022-07-19_13-35-24.mp4',\n",
      " '/media/rich/bigSSD/other lab data/Svoboda_lab/BCI34_2022-07-19/side/2022-07-19_13-34-06/trial_00005__2022-07-19_13-35-36.mp4',\n",
      " '/media/rich/bigSSD/other lab data/Svoboda_lab/BCI34_2022-07-19/side/2022-07-19_13-34-06/trial_00006__2022-07-19_13-35-49.mp4',\n",
      " '/media/rich/bigSSD/other lab data/Svoboda_lab/BCI34_2022-07-19/side/2022-07-19_13-34-06/trial_00007__2022-07-19_13-36-01.mp4',\n",
      " '/media/rich/bigSSD/other lab data/Svoboda_lab/BCI34_2022-07-19/side/2022-07-19_13-34-06/trial_00008__2022-07-19_13-36-08.mp4',\n",
      " '/media/rich/bigSSD/other lab data/Svoboda_lab/BCI34_2022-07-19/side/2022-07-19_13-34-06/trial_00009__2022-07-19_13-36-20.mp4',\n",
      " '/media/rich/bigSSD/other lab data/Svoboda_lab/BCI34_2022-07-19/side/2022-07-19_13-34-06/trial_00010__2022-07-19_13-36-32.mp4',\n",
      " '/media/rich/bigSSD/other lab data/Svoboda_lab/BCI34_2022-07-19/side/2022-07-19_13-34-06/trial_00011__2022-07-19_13-36-44.mp4',\n",
      " '/media/rich/bigSSD/other lab data/Svoboda_lab/BCI34_2022-07-19/side/2022-07-19_13-34-06/trial_00012__2022-07-19_13-36-56.mp4',\n",
      " '/media/rich/bigSSD/other lab data/Svoboda_lab/BCI34_2022-07-19/side/2022-07-19_13-34-06/trial_00013__2022-07-19_13-37-09.mp4',\n",
      " '/media/rich/bigSSD/other lab data/Svoboda_lab/BCI34_2022-07-19/side/2022-07-19_13-34-06/trial_00014__2022-07-19_13-37-21.mp4',\n",
      " '/media/rich/bigSSD/other lab data/Svoboda_lab/BCI34_2022-07-19/side/2022-07-19_13-34-06/trial_00015__2022-07-19_13-37-31.mp4',\n",
      " '/media/rich/bigSSD/other lab data/Svoboda_lab/BCI34_2022-07-19/side/2022-07-19_13-34-06/trial_00016__2022-07-19_13-37-39.mp4',\n",
      " '/media/rich/bigSSD/other lab data/Svoboda_lab/BCI34_2022-07-19/side/2022-07-19_13-34-06/trial_00017__2022-07-19_13-37-51.mp4',\n",
      " '/media/rich/bigSSD/other lab data/Svoboda_lab/BCI34_2022-07-19/side/2022-07-19_13-34-06/trial_00018__2022-07-19_13-37-58.mp4',\n",
      " '/media/rich/bigSSD/other lab data/Svoboda_lab/BCI34_2022-07-19/side/2022-07-19_13-34-06/trial_00019__2022-07-19_13-38-15.mp4',\n",
      " '/media/rich/bigSSD/other lab data/Svoboda_lab/BCI34_2022-07-19/side/2022-07-19_13-34-06/trial_00020__2022-07-19_13-38-27.mp4',\n",
      " '/media/rich/bigSSD/other lab data/Svoboda_lab/BCI34_2022-07-19/side/2022-07-19_13-34-06/trial_00021__2022-07-19_13-38-39.mp4',\n",
      " '/media/rich/bigSSD/other lab data/Svoboda_lab/BCI34_2022-07-19/side/2022-07-19_13-34-06/trial_00022__2022-07-19_13-38-55.mp4',\n",
      " '/media/rich/bigSSD/other lab data/Svoboda_lab/BCI34_2022-07-19/side/2022-07-19_13-34-06/trial_00023__2022-07-19_13-39-02.mp4',\n",
      " '/media/rich/bigSSD/other lab data/Svoboda_lab/BCI34_2022-07-19/side/2022-07-19_13-34-06/trial_00024__2022-07-19_13-39-14.mp4',\n",
      " '/media/rich/bigSSD/other lab data/Svoboda_lab/BCI34_2022-07-19/side/2022-07-19_13-34-06/trial_00025__2022-07-19_13-39-26.mp4',\n",
      " '/media/rich/bigSSD/other lab data/Svoboda_lab/BCI34_2022-07-19/side/2022-07-19_13-34-06/trial_00026__2022-07-19_13-39-32.mp4',\n",
      " '/media/rich/bigSSD/other lab data/Svoboda_lab/BCI34_2022-07-19/side/2022-07-19_13-34-06/trial_00027__2022-07-19_13-39-41.mp4',\n",
      " '/media/rich/bigSSD/other lab data/Svoboda_lab/BCI34_2022-07-19/side/2022-07-19_13-34-06/trial_00028__2022-07-19_13-39-48.mp4',\n",
      " '/media/rich/bigSSD/other lab data/Svoboda_lab/BCI34_2022-07-19/side/2022-07-19_13-34-06/trial_00029__2022-07-19_13-40-00.mp4',\n",
      " '/media/rich/bigSSD/other lab data/Svoboda_lab/BCI34_2022-07-19/side/2022-07-19_13-34-06/trial_00030__2022-07-19_13-40-10.mp4',\n",
      " '/media/rich/bigSSD/other lab data/Svoboda_lab/BCI34_2022-07-19/side/2022-07-19_13-34-06/trial_00031__2022-07-19_13-40-23.mp4',\n",
      " '/media/rich/bigSSD/other lab data/Svoboda_lab/BCI34_2022-07-19/side/2022-07-19_13-34-06/trial_00032__2022-07-19_13-40-37.mp4',\n",
      " '/media/rich/bigSSD/other lab data/Svoboda_lab/BCI34_2022-07-19/side/2022-07-19_13-34-06/trial_00033__2022-07-19_13-40-43.mp4',\n",
      " '/media/rich/bigSSD/other lab data/Svoboda_lab/BCI34_2022-07-19/side/2022-07-19_13-34-06/trial_00034__2022-07-19_13-41-02.mp4',\n",
      " '/media/rich/bigSSD/other lab data/Svoboda_lab/BCI34_2022-07-19/side/2022-07-19_13-34-06/trial_00035__2022-07-19_13-41-18.mp4',\n",
      " '/media/rich/bigSSD/other lab data/Svoboda_lab/BCI34_2022-07-19/side/2022-07-19_13-34-06/trial_00036__2022-07-19_13-41-30.mp4',\n",
      " '/media/rich/bigSSD/other lab data/Svoboda_lab/BCI34_2022-07-19/side/2022-07-19_13-34-06/trial_00037__2022-07-19_13-41-39.mp4',\n",
      " '/media/rich/bigSSD/other lab data/Svoboda_lab/BCI34_2022-07-19/side/2022-07-19_13-34-06/trial_00038__2022-07-19_13-41-51.mp4',\n",
      " '/media/rich/bigSSD/other lab data/Svoboda_lab/BCI34_2022-07-19/side/2022-07-19_13-34-06/trial_00039__2022-07-19_13-42-03.mp4',\n",
      " '/media/rich/bigSSD/other lab data/Svoboda_lab/BCI34_2022-07-19/side/2022-07-19_13-34-06/trial_00040__2022-07-19_13-42-11.mp4',\n",
      " '/media/rich/bigSSD/other lab data/Svoboda_lab/BCI34_2022-07-19/side/2022-07-19_13-34-06/trial_00041__2022-07-19_13-42-28.mp4',\n",
      " '/media/rich/bigSSD/other lab data/Svoboda_lab/BCI34_2022-07-19/side/2022-07-19_13-34-06/trial_00042__2022-07-19_13-42-42.mp4',\n",
      " '/media/rich/bigSSD/other lab data/Svoboda_lab/BCI34_2022-07-19/side/2022-07-19_13-34-06/trial_00043__2022-07-19_13-42-54.mp4',\n",
      " '/media/rich/bigSSD/other lab data/Svoboda_lab/BCI34_2022-07-19/side/2022-07-19_13-34-06/trial_00044__2022-07-19_13-43-02.mp4',\n",
      " '/media/rich/bigSSD/other lab data/Svoboda_lab/BCI34_2022-07-19/side/2022-07-19_13-34-06/trial_00045__2022-07-19_13-43-11.mp4',\n",
      " '/media/rich/bigSSD/other lab data/Svoboda_lab/BCI34_2022-07-19/side/2022-07-19_13-34-06/trial_00046__2022-07-19_13-43-23.mp4',\n",
      " '/media/rich/bigSSD/other lab data/Svoboda_lab/BCI34_2022-07-19/side/2022-07-19_13-34-06/trial_00047__2022-07-19_13-43-29.mp4',\n",
      " '/media/rich/bigSSD/other lab data/Svoboda_lab/BCI34_2022-07-19/side/2022-07-19_13-34-06/trial_00048__2022-07-19_13-43-39.mp4',\n",
      " '/media/rich/bigSSD/other lab data/Svoboda_lab/BCI34_2022-07-19/side/2022-07-19_13-34-06/trial_00049__2022-07-19_13-43-51.mp4',\n",
      " '/media/rich/bigSSD/other lab data/Svoboda_lab/BCI34_2022-07-19/side/2022-07-19_13-34-06/trial_00050__2022-07-19_13-44-00.mp4',\n",
      " '/media/rich/bigSSD/other lab data/Svoboda_lab/BCI34_2022-07-19/side/2022-07-19_13-34-06/trial_00051__2022-07-19_13-44-08.mp4',\n",
      " '/media/rich/bigSSD/other lab data/Svoboda_lab/BCI34_2022-07-19/side/2022-07-19_13-34-06/trial_00052__2022-07-19_13-44-20.mp4',\n",
      " '/media/rich/bigSSD/other lab data/Svoboda_lab/BCI34_2022-07-19/side/2022-07-19_13-34-06/trial_00053__2022-07-19_13-44-32.mp4',\n",
      " '/media/rich/bigSSD/other lab data/Svoboda_lab/BCI34_2022-07-19/side/2022-07-19_13-34-06/trial_00054__2022-07-19_13-44-45.mp4',\n",
      " '/media/rich/bigSSD/other lab data/Svoboda_lab/BCI34_2022-07-19/side/2022-07-19_13-34-06/trial_00055__2022-07-19_13-44-54.mp4',\n",
      " '/media/rich/bigSSD/other lab data/Svoboda_lab/BCI34_2022-07-19/side/2022-07-19_13-34-06/trial_00056__2022-07-19_13-45-13.mp4',\n",
      " '/media/rich/bigSSD/other lab data/Svoboda_lab/BCI34_2022-07-19/side/2022-07-19_13-34-06/trial_00057__2022-07-19_13-45-20.mp4',\n",
      " '/media/rich/bigSSD/other lab data/Svoboda_lab/BCI34_2022-07-19/side/2022-07-19_13-34-06/trial_00058__2022-07-19_13-45-28.mp4',\n",
      " '/media/rich/bigSSD/other lab data/Svoboda_lab/BCI34_2022-07-19/side/2022-07-19_13-34-06/trial_00059__2022-07-19_13-45-44.mp4',\n",
      " '/media/rich/bigSSD/other lab data/Svoboda_lab/BCI34_2022-07-19/side/2022-07-19_13-34-06/trial_00060__2022-07-19_13-45-56.mp4',\n",
      " '/media/rich/bigSSD/other lab data/Svoboda_lab/BCI34_2022-07-19/side/2022-07-19_13-34-06/trial_00061__2022-07-19_13-46-10.mp4',\n",
      " '/media/rich/bigSSD/other lab data/Svoboda_lab/BCI34_2022-07-19/side/2022-07-19_13-34-06/trial_00062__2022-07-19_13-46-16.mp4',\n",
      " '/media/rich/bigSSD/other lab data/Svoboda_lab/BCI34_2022-07-19/side/2022-07-19_13-34-06/trial_00063__2022-07-19_13-46-31.mp4',\n",
      " '/media/rich/bigSSD/other lab data/Svoboda_lab/BCI34_2022-07-19/side/2022-07-19_13-34-06/trial_00064__2022-07-19_13-46-42.mp4',\n",
      " '/media/rich/bigSSD/other lab data/Svoboda_lab/BCI34_2022-07-19/side/2022-07-19_13-34-06/trial_00065__2022-07-19_13-47-00.mp4',\n",
      " '/media/rich/bigSSD/other lab data/Svoboda_lab/BCI34_2022-07-19/side/2022-07-19_13-34-06/trial_00066__2022-07-19_13-47-14.mp4',\n",
      " '/media/rich/bigSSD/other lab data/Svoboda_lab/BCI34_2022-07-19/side/2022-07-19_13-34-06/trial_00067__2022-07-19_13-47-28.mp4',\n",
      " '/media/rich/bigSSD/other lab data/Svoboda_lab/BCI34_2022-07-19/side/2022-07-19_13-34-06/trial_00068__2022-07-19_13-47-37.mp4',\n",
      " '/media/rich/bigSSD/other lab data/Svoboda_lab/BCI34_2022-07-19/side/2022-07-19_13-34-06/trial_00069__2022-07-19_13-47-46.mp4',\n",
      " '/media/rich/bigSSD/other lab data/Svoboda_lab/BCI34_2022-07-19/side/2022-07-19_13-34-06/trial_00070__2022-07-19_13-47-57.mp4',\n",
      " '/media/rich/bigSSD/other lab data/Svoboda_lab/BCI34_2022-07-19/side/2022-07-19_13-34-06/trial_00071__2022-07-19_13-48-04.mp4',\n",
      " '/media/rich/bigSSD/other lab data/Svoboda_lab/BCI34_2022-07-19/side/2022-07-19_13-34-06/trial_00072__2022-07-19_13-48-13.mp4',\n",
      " '/media/rich/bigSSD/other lab data/Svoboda_lab/BCI34_2022-07-19/side/2022-07-19_13-34-06/trial_00073__2022-07-19_13-48-23.mp4',\n",
      " '/media/rich/bigSSD/other lab data/Svoboda_lab/BCI34_2022-07-19/side/2022-07-19_13-34-06/trial_00074__2022-07-19_13-48-34.mp4',\n",
      " '/media/rich/bigSSD/other lab data/Svoboda_lab/BCI34_2022-07-19/side/2022-07-19_13-34-06/trial_00075__2022-07-19_13-48-46.mp4',\n",
      " '/media/rich/bigSSD/other lab data/Svoboda_lab/BCI34_2022-07-19/side/2022-07-19_13-34-06/trial_00076__2022-07-19_13-49-00.mp4',\n",
      " '/media/rich/bigSSD/other lab data/Svoboda_lab/BCI34_2022-07-19/side/2022-07-19_13-34-06/trial_00077__2022-07-19_13-49-16.mp4',\n",
      " '/media/rich/bigSSD/other lab data/Svoboda_lab/BCI34_2022-07-19/side/2022-07-19_13-34-06/trial_00078__2022-07-19_13-49-33.mp4',\n",
      " '/media/rich/bigSSD/other lab data/Svoboda_lab/BCI34_2022-07-19/side/2022-07-19_13-34-06/trial_00079__2022-07-19_13-49-49.mp4',\n",
      " '/media/rich/bigSSD/other lab data/Svoboda_lab/BCI34_2022-07-19/side/2022-07-19_13-34-06/trial_00080__2022-07-19_13-50-03.mp4',\n",
      " '/media/rich/bigSSD/other lab data/Svoboda_lab/BCI34_2022-07-19/side/2022-07-19_13-34-06/trial_00081__2022-07-19_13-50-13.mp4',\n",
      " '/media/rich/bigSSD/other lab data/Svoboda_lab/BCI34_2022-07-19/side/2022-07-19_13-34-06/trial_00082__2022-07-19_13-50-22.mp4',\n",
      " '/media/rich/bigSSD/other lab data/Svoboda_lab/BCI34_2022-07-19/side/2022-07-19_13-34-06/trial_00083__2022-07-19_13-50-34.mp4',\n",
      " '/media/rich/bigSSD/other lab data/Svoboda_lab/BCI34_2022-07-19/side/2022-07-19_13-34-06/trial_00084__2022-07-19_13-50-50.mp4',\n",
      " '/media/rich/bigSSD/other lab data/Svoboda_lab/BCI34_2022-07-19/side/2022-07-19_13-34-06/trial_00085__2022-07-19_13-51-01.mp4',\n",
      " '/media/rich/bigSSD/other lab data/Svoboda_lab/BCI34_2022-07-19/side/2022-07-19_13-34-06/trial_00086__2022-07-19_13-51-13.mp4',\n",
      " '/media/rich/bigSSD/other lab data/Svoboda_lab/BCI34_2022-07-19/side/2022-07-19_13-34-06/trial_00087__2022-07-19_13-51-25.mp4',\n",
      " '/media/rich/bigSSD/other lab data/Svoboda_lab/BCI34_2022-07-19/side/2022-07-19_13-34-06/trial_00088__2022-07-19_13-51-37.mp4',\n",
      " '/media/rich/bigSSD/other lab data/Svoboda_lab/BCI34_2022-07-19/side/2022-07-19_13-34-06/trial_00089__2022-07-19_13-51-48.mp4',\n",
      " '/media/rich/bigSSD/other lab data/Svoboda_lab/BCI34_2022-07-19/side/2022-07-19_13-34-06/trial_00090__2022-07-19_13-52-00.mp4',\n",
      " '/media/rich/bigSSD/other lab data/Svoboda_lab/BCI34_2022-07-19/side/2022-07-19_13-34-06/trial_00091__2022-07-19_13-52-12.mp4',\n",
      " '/media/rich/bigSSD/other lab data/Svoboda_lab/BCI34_2022-07-19/side/2022-07-19_13-34-06/trial_00092__2022-07-19_13-52-29.mp4',\n",
      " '/media/rich/bigSSD/other lab data/Svoboda_lab/BCI34_2022-07-19/side/2022-07-19_13-34-06/trial_00093__2022-07-19_13-52-35.mp4',\n",
      " '/media/rich/bigSSD/other lab data/Svoboda_lab/BCI34_2022-07-19/side/2022-07-19_13-34-06/trial_00094__2022-07-19_13-52-48.mp4',\n",
      " '/media/rich/bigSSD/other lab data/Svoboda_lab/BCI34_2022-07-19/side/2022-07-19_13-34-06/trial_00095__2022-07-19_13-53-00.mp4',\n",
      " '/media/rich/bigSSD/other lab data/Svoboda_lab/BCI34_2022-07-19/side/2022-07-19_13-34-06/trial_00096__2022-07-19_13-53-11.mp4',\n",
      " '/media/rich/bigSSD/other lab data/Svoboda_lab/BCI34_2022-07-19/side/2022-07-19_13-34-06/trial_00097__2022-07-19_13-53-22.mp4',\n",
      " '/media/rich/bigSSD/other lab data/Svoboda_lab/BCI34_2022-07-19/side/2022-07-19_13-34-06/trial_00098__2022-07-19_13-53-38.mp4',\n",
      " '/media/rich/bigSSD/other lab data/Svoboda_lab/BCI34_2022-07-19/side/2022-07-19_13-34-06/trial_00099__2022-07-19_13-53-51.mp4',\n",
      " '/media/rich/bigSSD/other lab data/Svoboda_lab/BCI34_2022-07-19/side/2022-07-19_13-34-06/trial_00100__2022-07-19_13-54-05.mp4',\n",
      " '/media/rich/bigSSD/other lab data/Svoboda_lab/BCI34_2022-07-19/side/2022-07-19_13-34-06/trial_00101__2022-07-19_13-54-16.mp4',\n",
      " '/media/rich/bigSSD/other lab data/Svoboda_lab/BCI34_2022-07-19/side/2022-07-19_13-34-06/trial_00102__2022-07-19_13-54-27.mp4',\n",
      " '/media/rich/bigSSD/other lab data/Svoboda_lab/BCI34_2022-07-19/side/2022-07-19_13-34-06/trial_00103__2022-07-19_13-54-41.mp4',\n",
      " '/media/rich/bigSSD/other lab data/Svoboda_lab/BCI34_2022-07-19/side/2022-07-19_13-34-06/trial_00104__2022-07-19_13-54-53.mp4',\n",
      " '/media/rich/bigSSD/other lab data/Svoboda_lab/BCI34_2022-07-19/side/2022-07-19_13-34-06/trial_00105__2022-07-19_13-54-58.mp4',\n",
      " '/media/rich/bigSSD/other lab data/Svoboda_lab/BCI34_2022-07-19/side/2022-07-19_13-34-06/trial_00106__2022-07-19_13-55-09.mp4',\n",
      " '/media/rich/bigSSD/other lab data/Svoboda_lab/BCI34_2022-07-19/side/2022-07-19_13-34-06/trial_00107__2022-07-19_13-55-17.mp4',\n",
      " '/media/rich/bigSSD/other lab data/Svoboda_lab/BCI34_2022-07-19/side/2022-07-19_13-34-06/trial_00108__2022-07-19_13-55-24.mp4',\n",
      " '/media/rich/bigSSD/other lab data/Svoboda_lab/BCI34_2022-07-19/side/2022-07-19_13-34-06/trial_00109__2022-07-19_13-55-34.mp4',\n",
      " '/media/rich/bigSSD/other lab data/Svoboda_lab/BCI34_2022-07-19/side/2022-07-19_13-34-06/trial_00110__2022-07-19_13-55-43.mp4',\n",
      " '/media/rich/bigSSD/other lab data/Svoboda_lab/BCI34_2022-07-19/side/2022-07-19_13-34-06/trial_00111__2022-07-19_13-55-56.mp4',\n",
      " '/media/rich/bigSSD/other lab data/Svoboda_lab/BCI34_2022-07-19/side/2022-07-19_13-34-06/trial_00112__2022-07-19_13-56-15.mp4',\n",
      " '/media/rich/bigSSD/other lab data/Svoboda_lab/BCI34_2022-07-19/side/2022-07-19_13-34-06/trial_00113__2022-07-19_13-56-22.mp4',\n",
      " '/media/rich/bigSSD/other lab data/Svoboda_lab/BCI34_2022-07-19/side/2022-07-19_13-34-06/trial_00114__2022-07-19_13-56-34.mp4',\n",
      " '/media/rich/bigSSD/other lab data/Svoboda_lab/BCI34_2022-07-19/side/2022-07-19_13-34-06/trial_00115__2022-07-19_13-56-45.mp4',\n",
      " '/media/rich/bigSSD/other lab data/Svoboda_lab/BCI34_2022-07-19/side/2022-07-19_13-34-06/trial_00116__2022-07-19_13-56-52.mp4',\n",
      " '/media/rich/bigSSD/other lab data/Svoboda_lab/BCI34_2022-07-19/side/2022-07-19_13-34-06/trial_00117__2022-07-19_13-57-05.mp4',\n",
      " '/media/rich/bigSSD/other lab data/Svoboda_lab/BCI34_2022-07-19/side/2022-07-19_13-34-06/trial_00118__2022-07-19_13-57-11.mp4',\n",
      " '/media/rich/bigSSD/other lab data/Svoboda_lab/BCI34_2022-07-19/side/2022-07-19_13-34-06/trial_00119__2022-07-19_13-57-17.mp4',\n",
      " '/media/rich/bigSSD/other lab data/Svoboda_lab/BCI34_2022-07-19/side/2022-07-19_13-34-06/trial_00120__2022-07-19_13-57-29.mp4',\n",
      " '/media/rich/bigSSD/other lab data/Svoboda_lab/BCI34_2022-07-19/side/2022-07-19_13-34-06/trial_00121__2022-07-19_13-57-41.mp4',\n",
      " '/media/rich/bigSSD/other lab data/Svoboda_lab/BCI34_2022-07-19/side/2022-07-19_13-34-06/trial_00122__2022-07-19_13-57-50.mp4',\n",
      " '/media/rich/bigSSD/other lab data/Svoboda_lab/BCI34_2022-07-19/side/2022-07-19_13-34-06/trial_00123__2022-07-19_13-58-03.mp4',\n",
      " '/media/rich/bigSSD/other lab data/Svoboda_lab/BCI34_2022-07-19/side/2022-07-19_13-34-06/trial_00124__2022-07-19_13-58-17.mp4',\n",
      " '/media/rich/bigSSD/other lab data/Svoboda_lab/BCI34_2022-07-19/side/2022-07-19_13-34-06/trial_00125__2022-07-19_13-58-33.mp4',\n",
      " '/media/rich/bigSSD/other lab data/Svoboda_lab/BCI34_2022-07-19/side/2022-07-19_13-34-06/trial_00126__2022-07-19_13-58-50.mp4']\n"
     ]
    }
   ],
   "source": [
    "paths_videos = fr.helpers.find_paths(\n",
    "    dir_outer=directory_videos,\n",
    "    reMatch=filename_strMatch,  ## string to use to search for files in directory. Uses regular expressions!\n",
    "    depth=0,  ## how many folders deep to search\n",
    ")\n",
    "\n",
    "pprint(paths_videos, width=1000)"
   ]
  },
  {
   "cell_type": "code",
   "execution_count": 8,
   "metadata": {},
   "outputs": [],
   "source": [
    "videos = fr.helpers.BufferedVideoReader(\n",
    "#     video_readers=data.videos, \n",
    "    paths_videos=paths_videos,\n",
    "    buffer_size=1000, \n",
    "    prefetch=1, \n",
    "    posthold=1,\n",
    "    method_getitem='by_video',\n",
    "    verbose=1,\n",
    ")"
   ]
  },
  {
   "cell_type": "code",
   "execution_count": 9,
   "metadata": {
    "scrolled": false
   },
   "outputs": [],
   "source": [
    "data = fr.data_importing.Dataset_videos(\n",
    "    bufferedVideoReader=videos,\n",
    "#     paths_videos=paths_videos,\n",
    "    contiguous=False,\n",
    "    frame_rate_clamp=240,\n",
    "    verbose=2,\n",
    ")"
   ]
  },
  {
   "cell_type": "code",
   "execution_count": 10,
   "metadata": {},
   "outputs": [],
   "source": [
    "# data.save_config(path_config=path_config, overwrite=True, verbose=1)\n",
    "# data.save_run_info(path_config=path_config, overwrite=True, verbose=1)\n",
    "# data.save_run_data(path_config=path_config, overwrite=True, verbose=1)"
   ]
  },
  {
   "cell_type": "code",
   "execution_count": 11,
   "metadata": {},
   "outputs": [],
   "source": [
    "# %matplotlib notebook\n",
    "rois = fr.rois.ROIs(\n",
    "#     select_mode='gui',\n",
    "#     exampleImage=data[0][0],\n",
    "    select_mode='file',\n",
    "    file_path=str(Path(directory_project) / 'analysis_files' / 'ROIs.h5'),\n",
    "    verbose=2\n",
    ")"
   ]
  },
  {
   "cell_type": "code",
   "execution_count": 12,
   "metadata": {},
   "outputs": [],
   "source": [
    "# rois.save_config(path_config=path_config, overwrite=True, verbose=1)\n",
    "# rois.save_run_info(path_config=path_config, overwrite=True, verbose=1)\n",
    "# rois.save_run_data(path_config=path_config, overwrite=True, verbose=1)"
   ]
  },
  {
   "cell_type": "code",
   "execution_count": 13,
   "metadata": {},
   "outputs": [],
   "source": [
    "# rois.plot_masks(data[0][0])"
   ]
  },
  {
   "cell_type": "code",
   "execution_count": 107,
   "metadata": {},
   "outputs": [
    {
     "name": "stdout",
     "output_type": "stream",
     "text": [
      "<class 'face_rhythm.helpers.BufferedVideoReader'>\n",
      "True\n",
      "FR: Setting parameters for optical flow\n",
      "FR: Making points to track\n",
      "FR: 2041 points will be tracked\n",
      "FR: Collapsing mask ROI images into single mask\n",
      "FR: Initializing mesh distances\n"
     ]
    }
   ],
   "source": [
    "pt = fr.point_tracking.PointTracker(\n",
    "    buffered_video_reader=videos[:2],\n",
    "#     buffered_video_reader=videos,\n",
    "    rois_points=[rois[0]],\n",
    "    rois_masks=[rois[1]],\n",
    "    contiguous=False,\n",
    "    params_optical_flow={\n",
    "        \"method\": \"lucas_kanade\",\n",
    "        \"point_spacing\": 6,\n",
    "        \"mesh_rigidity\": 0.01,\n",
    "        \"mesh_n_neighbors\": 15,\n",
    "        \"relaxation\": 0.0010,\n",
    "        \"kwargs_method\": {\n",
    "            \"winSize\": [22,22],\n",
    "            \"maxLevel\": 2,\n",
    "            \"criteria\": [cv2.TERM_CRITERIA_EPS | cv2.TERM_CRITERIA_COUNT, 2, 0.03],\n",
    "        },        \n",
    "    },\n",
    "    visualize_video=False,\n",
    "    params_visualization={\n",
    "                'alpha':0.2,\n",
    "                'point_sizes':2,\n",
    "                'writer_cv2':None,\n",
    "    },\n",
    "    params_outlier_handling = {\n",
    "        'threshold_displacement': 80,  ## Maximum displacement between frames, in pixels.\n",
    "        'framesHalted_before': 30,  ## Number of frames to halt tracking before a violation.\n",
    "        'framesHalted_after': 30,  ## Number of frames to halt tracking after a violation.\n",
    "    },\n",
    "\n",
    "    verbose=2,\n",
    ")"
   ]
  },
  {
   "cell_type": "code",
   "execution_count": 133,
   "metadata": {
    "scrolled": true
   },
   "outputs": [
    {
     "name": "stdout",
     "output_type": "stream",
     "text": [
      "FR: Setting initial frame_prev\n",
      "FR: Iterating point tracking through videos\n"
     ]
    },
    {
     "name": "stderr",
     "output_type": "stream",
     "text": [
      "video #:   0%|                                            | 0/2 [00:00<?, ?it/s]\n",
      "frame #:   0%|                                         | 0/4547 [00:00<?, ?it/s]\u001b[A\n",
      "frame #:   0%|                               | 12/4547 [00:00<00:38, 117.40it/s]\u001b[A\n",
      "frame #:   1%|▏                              | 29/4547 [00:00<00:31, 144.13it/s]\u001b[A\n",
      "frame #:   1%|▎                              | 44/4547 [00:00<00:30, 145.97it/s]\u001b[A\n",
      "frame #:   1%|▍                              | 59/4547 [00:00<00:31, 144.72it/s]\u001b[A\n",
      "frame #:   2%|▌                              | 74/4547 [00:00<00:31, 142.06it/s]\u001b[A\n",
      "frame #:   2%|▌                              | 90/4547 [00:00<00:30, 147.22it/s]\u001b[A\n",
      "frame #:   2%|▋                             | 106/4547 [00:00<00:29, 149.65it/s]\u001b[A\n",
      "frame #:   3%|▊                             | 123/4547 [00:00<00:28, 153.40it/s]\u001b[A\n",
      "frame #:   3%|▉                             | 140/4547 [00:00<00:28, 155.53it/s]\u001b[A\n",
      "frame #:   3%|█                             | 156/4547 [00:01<00:28, 153.38it/s]\u001b[A\n",
      "frame #:   4%|█▏                            | 173/4547 [00:01<00:28, 155.45it/s]\u001b[A\n",
      "frame #:   4%|█▏                            | 189/4547 [00:01<00:28, 154.89it/s]\u001b[A\n",
      "frame #:   5%|█▎                            | 206/4547 [00:01<00:27, 158.76it/s]\u001b[A\n",
      "frame #:   5%|█▌                            | 229/4547 [00:01<00:24, 178.00it/s]\u001b[A\n",
      "frame #:   5%|█▋                            | 250/4547 [00:01<00:23, 186.08it/s]\u001b[A\n",
      "frame #:   6%|█▊                            | 272/4547 [00:01<00:21, 194.34it/s]\u001b[A\n",
      "frame #:   6%|█▉                            | 292/4547 [00:01<00:21, 195.80it/s]\u001b[A\n",
      "frame #:   7%|██                            | 315/4547 [00:01<00:20, 204.69it/s]\u001b[A\n",
      "frame #:   7%|██▏                           | 336/4547 [00:01<00:20, 203.59it/s]\u001b[A\n",
      "frame #:   8%|██▎                           | 358/4547 [00:02<00:20, 207.54it/s]\u001b[A\n",
      "frame #:   8%|██▌                           | 380/4547 [00:02<00:20, 207.23it/s]\u001b[A\n",
      "frame #:   9%|██▋                           | 401/4547 [00:02<00:20, 206.19it/s]\u001b[A\n",
      "frame #:   9%|██▊                           | 424/4547 [00:02<00:19, 211.10it/s]\u001b[A\n",
      "frame #:  10%|██▉                           | 446/4547 [00:02<00:19, 212.93it/s]\u001b[A\n",
      "frame #:  10%|███                           | 468/4547 [00:02<00:19, 207.09it/s]\u001b[A\n",
      "frame #:  11%|███▏                          | 489/4547 [00:02<00:20, 201.34it/s]\u001b[A\n",
      "frame #:  11%|███▎                          | 511/4547 [00:02<00:19, 202.47it/s]\u001b[A\n",
      "frame #:  12%|███▌                          | 534/4547 [00:02<00:19, 208.58it/s]\u001b[A\n",
      "frame #:  12%|███▋                          | 555/4547 [00:03<00:19, 206.94it/s]\u001b[A\n",
      "frame #:  13%|███▊                          | 576/4547 [00:03<00:20, 197.68it/s]\u001b[A\n",
      "frame #:  13%|███▉                          | 596/4547 [00:03<00:20, 195.70it/s]\u001b[A\n",
      "frame #:  14%|████                          | 616/4547 [00:03<00:20, 196.01it/s]\u001b[A\n",
      "frame #:  14%|████▏                         | 636/4547 [00:03<00:20, 195.28it/s]\u001b[A\n",
      "frame #:  14%|████▎                         | 656/4547 [00:03<00:19, 195.83it/s]\u001b[A\n",
      "frame #:  15%|████▍                         | 676/4547 [00:03<00:19, 195.82it/s]\u001b[A\n",
      "frame #:  15%|████▌                         | 697/4547 [00:03<00:19, 199.66it/s]\u001b[A\n",
      "frame #:  16%|████▋                         | 718/4547 [00:03<00:18, 202.66it/s]\u001b[A\n",
      "frame #:  16%|████▉                         | 739/4547 [00:03<00:18, 203.13it/s]\u001b[A\n",
      "frame #:  17%|█████                         | 760/4547 [00:04<00:19, 191.65it/s]\u001b[A\n",
      "frame #:  17%|█████▏                        | 781/4547 [00:04<00:19, 195.49it/s]\u001b[A\n",
      "frame #:  18%|█████▎                        | 802/4547 [00:04<00:18, 197.92it/s]\u001b[A\n",
      "frame #:  18%|█████▍                        | 823/4547 [00:04<00:18, 200.66it/s]\u001b[A\n",
      "frame #:  19%|█████▌                        | 845/4547 [00:04<00:17, 205.77it/s]\u001b[A\n",
      "frame #:  19%|█████▋                        | 869/4547 [00:04<00:17, 215.01it/s]\u001b[A\n",
      "frame #:  20%|█████▉                        | 891/4547 [00:04<00:17, 212.77it/s]\u001b[A\n",
      "frame #:  20%|██████                        | 914/4547 [00:04<00:16, 217.78it/s]\u001b[A\n",
      "frame #:  21%|██████▏                       | 936/4547 [00:04<00:16, 218.08it/s]\u001b[A\n",
      "frame #:  21%|██████▎                       | 958/4547 [00:05<00:16, 214.69it/s]\u001b[A\n",
      "frame #:  22%|██████▍                       | 980/4547 [00:05<00:17, 208.63it/s]\u001b[A\n",
      "frame #:  22%|██████▍                      | 1003/4547 [00:05<00:16, 210.99it/s]\u001b[A\n",
      "frame #:  23%|██████▌                      | 1025/4547 [00:05<00:18, 190.74it/s]\u001b[A\n",
      "frame #:  23%|██████▋                      | 1045/4547 [00:05<00:19, 183.21it/s]\u001b[A\n",
      "frame #:  23%|██████▊                      | 1064/4547 [00:05<00:19, 178.31it/s]\u001b[A\n",
      "frame #:  24%|██████▉                      | 1083/4547 [00:05<00:20, 169.11it/s]\u001b[A\n",
      "frame #:  24%|███████                      | 1101/4547 [00:05<00:20, 167.43it/s]\u001b[A\n",
      "frame #:  25%|███████▏                     | 1118/4547 [00:05<00:20, 163.88it/s]\u001b[A\n",
      "frame #:  25%|███████▏                     | 1135/4547 [00:06<00:21, 161.53it/s]\u001b[A\n",
      "frame #:  25%|███████▎                     | 1152/4547 [00:06<00:20, 161.80it/s]\u001b[A\n",
      "frame #:  26%|███████▍                     | 1169/4547 [00:06<00:20, 163.11it/s]\u001b[A\n",
      "frame #:  26%|███████▌                     | 1187/4547 [00:06<00:20, 166.14it/s]\u001b[A\n",
      "frame #:  26%|███████▋                     | 1204/4547 [00:06<00:20, 162.76it/s]\u001b[A\n",
      "frame #:  27%|███████▊                     | 1221/4547 [00:06<00:20, 161.07it/s]\u001b[A\n",
      "frame #:  27%|███████▉                     | 1241/4547 [00:06<00:19, 170.60it/s]\u001b[A\n",
      "frame #:  28%|████████                     | 1263/4547 [00:06<00:17, 183.29it/s]\u001b[A\n",
      "frame #:  28%|████████▏                    | 1285/4547 [00:06<00:16, 193.07it/s]\u001b[A\n",
      "frame #:  29%|████████▎                    | 1307/4547 [00:06<00:16, 198.92it/s]\u001b[A\n",
      "frame #:  29%|████████▍                    | 1328/4547 [00:07<00:16, 200.94it/s]\u001b[A\n",
      "frame #:  30%|████████▌                    | 1350/4547 [00:07<00:15, 204.11it/s]\u001b[A\n",
      "frame #:  30%|████████▊                    | 1373/4547 [00:07<00:15, 210.76it/s]\u001b[A\n",
      "frame #:  31%|████████▉                    | 1395/4547 [00:07<00:14, 210.91it/s]\u001b[A\n",
      "frame #:  31%|█████████                    | 1418/4547 [00:07<00:14, 214.43it/s]\u001b[A\n",
      "frame #:  32%|█████████▏                   | 1440/4547 [00:07<00:14, 209.87it/s]\u001b[A\n",
      "frame #:  32%|█████████▎                   | 1462/4547 [00:07<00:14, 210.32it/s]\u001b[A\n",
      "frame #:  33%|█████████▍                   | 1484/4547 [00:07<00:14, 212.25it/s]\u001b[A\n",
      "frame #:  33%|█████████▌                   | 1506/4547 [00:07<00:15, 202.68it/s]\u001b[A\n",
      "frame #:  34%|█████████▋                   | 1527/4547 [00:08<00:15, 199.34it/s]\u001b[A\n",
      "frame #:  34%|█████████▊                   | 1548/4547 [00:08<00:14, 200.36it/s]\u001b[A\n",
      "frame #:  35%|██████████                   | 1571/4547 [00:08<00:14, 208.35it/s]\u001b[A\n",
      "frame #:  35%|██████████▏                  | 1592/4547 [00:08<00:14, 200.71it/s]\u001b[A\n",
      "frame #:  36%|██████████▎                  | 1615/4547 [00:08<00:14, 206.84it/s]\u001b[A\n",
      "frame #:  36%|██████████▍                  | 1636/4547 [00:08<00:14, 201.24it/s]\u001b[A\n",
      "frame #:  36%|██████████▌                  | 1657/4547 [00:08<00:14, 203.59it/s]\u001b[A\n",
      "frame #:  37%|██████████▋                  | 1678/4547 [00:08<00:14, 202.23it/s]\u001b[A\n",
      "frame #:  37%|██████████▊                  | 1699/4547 [00:08<00:14, 198.75it/s]\u001b[A\n",
      "frame #:  38%|██████████▉                  | 1720/4547 [00:09<00:14, 199.61it/s]\u001b[A\n",
      "frame #:  38%|███████████                  | 1743/4547 [00:09<00:13, 207.49it/s]\u001b[A\n",
      "frame #:  39%|███████████▎                 | 1765/4547 [00:09<00:13, 209.64it/s]\u001b[A\n",
      "frame #:  39%|███████████▍                 | 1787/4547 [00:09<00:13, 198.35it/s]\u001b[A\n",
      "frame #:  40%|███████████▌                 | 1808/4547 [00:09<00:13, 200.19it/s]\u001b[A\n",
      "frame #:  40%|███████████▋                 | 1829/4547 [00:09<00:13, 199.89it/s]\u001b[A\n",
      "frame #:  41%|███████████▊                 | 1850/4547 [00:09<00:13, 202.56it/s]\u001b[A\n",
      "frame #:  41%|███████████▉                 | 1871/4547 [00:09<00:13, 198.61it/s]\u001b[A\n",
      "frame #:  42%|████████████                 | 1891/4547 [00:09<00:13, 195.69it/s]\u001b[A\n",
      "frame #:  42%|████████████▏                | 1911/4547 [00:09<00:13, 194.16it/s]\u001b[A\n",
      "frame #:  42%|████████████▎                | 1932/4547 [00:10<00:13, 197.83it/s]\u001b[A\n"
     ]
    },
    {
     "name": "stderr",
     "output_type": "stream",
     "text": [
      "frame #:  43%|████████████▍                | 1955/4547 [00:10<00:12, 206.60it/s]\u001b[A\n",
      "frame #:  43%|████████████▌                | 1976/4547 [00:10<00:12, 199.15it/s]\u001b[A\n",
      "frame #:  44%|████████████▊                | 2000/4547 [00:10<00:12, 209.62it/s]\u001b[A\n",
      "frame #:  44%|████████████▉                | 2022/4547 [00:10<00:16, 157.44it/s]\u001b[A\n",
      "frame #:  45%|█████████████                | 2040/4547 [00:10<00:16, 153.84it/s]\u001b[A\n",
      "frame #:  45%|█████████████                | 2057/4547 [00:10<00:16, 154.55it/s]\u001b[A\n",
      "frame #:  46%|█████████████▏               | 2074/4547 [00:10<00:16, 153.42it/s]\u001b[A\n",
      "frame #:  46%|█████████████▎               | 2091/4547 [00:11<00:15, 156.54it/s]\u001b[A\n",
      "frame #:  46%|█████████████▍               | 2109/4547 [00:11<00:15, 160.42it/s]\u001b[A\n",
      "frame #:  47%|█████████████▌               | 2127/4547 [00:11<00:14, 165.70it/s]\u001b[A\n",
      "frame #:  47%|█████████████▋               | 2144/4547 [00:11<00:14, 160.21it/s]\u001b[A\n",
      "frame #:  48%|█████████████▊               | 2162/4547 [00:11<00:14, 165.60it/s]\u001b[A\n",
      "frame #:  48%|█████████████▉               | 2179/4547 [00:11<00:14, 163.01it/s]\u001b[A\n",
      "frame #:  48%|██████████████               | 2196/4547 [00:11<00:14, 160.21it/s]\u001b[A\n",
      "frame #:  49%|██████████████               | 2213/4547 [00:11<00:14, 158.65it/s]\u001b[A\n",
      "frame #:  49%|██████████████▏              | 2229/4547 [00:11<00:14, 158.67it/s]\u001b[A\n",
      "frame #:  50%|██████████████▎              | 2251/4547 [00:12<00:13, 175.17it/s]\u001b[A\n",
      "frame #:  50%|██████████████▍              | 2272/4547 [00:12<00:12, 184.74it/s]\u001b[A\n",
      "frame #:  50%|██████████████▋              | 2294/4547 [00:12<00:11, 193.26it/s]\u001b[A\n",
      "frame #:  51%|██████████████▊              | 2317/4547 [00:12<00:11, 202.14it/s]\u001b[A\n",
      "frame #:  51%|██████████████▉              | 2339/4547 [00:12<00:10, 202.50it/s]\u001b[A\n",
      "frame #:  52%|███████████████              | 2360/4547 [00:12<00:10, 203.12it/s]\u001b[A\n",
      "frame #:  52%|███████████████▏             | 2382/4547 [00:12<00:10, 205.85it/s]\u001b[A\n",
      "frame #:  53%|███████████████▎             | 2403/4547 [00:12<00:10, 203.14it/s]\u001b[A\n",
      "frame #:  53%|███████████████▍             | 2425/4547 [00:12<00:10, 206.24it/s]\u001b[A\n",
      "frame #:  54%|███████████████▌             | 2446/4547 [00:12<00:10, 206.22it/s]\u001b[A\n",
      "frame #:  54%|███████████████▋             | 2467/4547 [00:13<00:10, 203.35it/s]\u001b[A\n",
      "frame #:  55%|███████████████▊             | 2488/4547 [00:13<00:10, 202.02it/s]\u001b[A\n",
      "frame #:  55%|████████████████             | 2509/4547 [00:13<00:10, 197.03it/s]\u001b[A\n",
      "frame #:  56%|████████████████▏            | 2530/4547 [00:13<00:10, 200.61it/s]\u001b[A\n",
      "frame #:  56%|████████████████▎            | 2551/4547 [00:13<00:10, 197.90it/s]\u001b[A\n",
      "frame #:  57%|████████████████▍            | 2573/4547 [00:13<00:09, 203.94it/s]\u001b[A\n",
      "frame #:  57%|████████████████▌            | 2596/4547 [00:13<00:09, 208.09it/s]\u001b[A\n",
      "frame #:  58%|████████████████▋            | 2617/4547 [00:13<00:09, 208.11it/s]\u001b[A\n",
      "frame #:  58%|████████████████▊            | 2639/4547 [00:13<00:09, 211.30it/s]\u001b[A\n",
      "frame #:  59%|████████████████▉            | 2661/4547 [00:13<00:09, 208.79it/s]\u001b[A\n",
      "frame #:  59%|█████████████████            | 2683/4547 [00:14<00:08, 211.14it/s]\u001b[A\n",
      "frame #:  59%|█████████████████▎           | 2705/4547 [00:14<00:08, 211.38it/s]\u001b[A\n",
      "frame #:  60%|█████████████████▍           | 2727/4547 [00:14<00:08, 210.38it/s]\u001b[A\n",
      "frame #:  60%|█████████████████▌           | 2750/4547 [00:14<00:08, 215.39it/s]\u001b[A\n",
      "frame #:  61%|█████████████████▋           | 2772/4547 [00:14<00:08, 215.00it/s]\u001b[A\n",
      "frame #:  61%|█████████████████▊           | 2794/4547 [00:14<00:08, 214.32it/s]\u001b[A\n",
      "frame #:  62%|█████████████████▉           | 2816/4547 [00:14<00:08, 205.34it/s]\u001b[A\n",
      "frame #:  62%|██████████████████           | 2840/4547 [00:14<00:07, 213.44it/s]\u001b[A\n",
      "frame #:  63%|██████████████████▎          | 2862/4547 [00:14<00:07, 210.64it/s]\u001b[A\n",
      "frame #:  63%|██████████████████▍          | 2884/4547 [00:15<00:07, 209.49it/s]\u001b[A\n",
      "frame #:  64%|██████████████████▌          | 2907/4547 [00:15<00:07, 212.21it/s]\u001b[A\n",
      "frame #:  64%|██████████████████▋          | 2929/4547 [00:15<00:07, 210.41it/s]\u001b[A\n",
      "frame #:  65%|██████████████████▊          | 2951/4547 [00:15<00:07, 211.12it/s]\u001b[A\n",
      "frame #:  65%|██████████████████▉          | 2973/4547 [00:15<00:07, 211.16it/s]\u001b[A\n",
      "frame #:  66%|███████████████████          | 2995/4547 [00:15<00:07, 212.65it/s]\u001b[A\n",
      "frame #:  66%|███████████████████▏         | 3017/4547 [00:15<00:09, 163.38it/s]\u001b[A\n",
      "frame #:  67%|███████████████████▎         | 3036/4547 [00:15<00:08, 169.72it/s]\u001b[A\n",
      "frame #:  67%|███████████████████▍         | 3055/4547 [00:16<00:09, 163.73it/s]\u001b[A\n",
      "frame #:  68%|███████████████████▌         | 3073/4547 [00:16<00:09, 157.47it/s]\u001b[A\n",
      "frame #:  68%|███████████████████▋         | 3090/4547 [00:16<00:09, 155.56it/s]\u001b[A\n",
      "frame #:  68%|███████████████████▊         | 3107/4547 [00:16<00:09, 150.36it/s]\u001b[A\n",
      "frame #:  69%|███████████████████▉         | 3126/4547 [00:16<00:09, 157.49it/s]\u001b[A\n",
      "frame #:  69%|████████████████████         | 3150/4547 [00:16<00:07, 178.79it/s]\u001b[A\n",
      "frame #:  70%|████████████████████▏        | 3174/4547 [00:16<00:07, 194.80it/s]\u001b[A\n",
      "frame #:  70%|████████████████████▎        | 3194/4547 [00:16<00:06, 195.15it/s]\u001b[A\n",
      "frame #:  71%|████████████████████▌        | 3217/4547 [00:16<00:06, 203.19it/s]\u001b[A\n",
      "frame #:  71%|████████████████████▋        | 3239/4547 [00:16<00:06, 206.54it/s]\u001b[A\n",
      "frame #:  72%|████████████████████▊        | 3260/4547 [00:17<00:06, 205.82it/s]\u001b[A\n",
      "frame #:  72%|████████████████████▉        | 3281/4547 [00:17<00:06, 204.75it/s]\u001b[A\n",
      "frame #:  73%|█████████████████████        | 3302/4547 [00:17<00:06, 202.58it/s]\u001b[A\n",
      "frame #:  73%|█████████████████████▏       | 3323/4547 [00:17<00:06, 201.82it/s]\u001b[A\n",
      "frame #:  74%|█████████████████████▎       | 3344/4547 [00:17<00:06, 199.31it/s]\u001b[A\n",
      "frame #:  74%|█████████████████████▍       | 3366/4547 [00:17<00:05, 204.32it/s]\u001b[A\n",
      "frame #:  75%|█████████████████████▌       | 3390/4547 [00:17<00:05, 213.72it/s]\u001b[A\n",
      "frame #:  75%|█████████████████████▊       | 3412/4547 [00:17<00:05, 212.35it/s]\u001b[A\n",
      "frame #:  76%|█████████████████████▉       | 3434/4547 [00:17<00:05, 212.06it/s]\u001b[A\n",
      "frame #:  76%|██████████████████████       | 3456/4547 [00:18<00:05, 208.64it/s]\u001b[A\n",
      "frame #:  76%|██████████████████████▏      | 3477/4547 [00:18<00:05, 202.04it/s]\u001b[A\n",
      "frame #:  77%|██████████████████████▎      | 3501/4547 [00:18<00:04, 211.26it/s]\u001b[A\n",
      "frame #:  77%|██████████████████████▍      | 3523/4547 [00:18<00:04, 206.52it/s]\u001b[A\n",
      "frame #:  78%|██████████████████████▌      | 3545/4547 [00:18<00:04, 210.33it/s]\u001b[A\n",
      "frame #:  78%|██████████████████████▋      | 3567/4547 [00:18<00:04, 211.62it/s]\u001b[A\n",
      "frame #:  79%|██████████████████████▉      | 3590/4547 [00:18<00:04, 214.61it/s]\u001b[A\n",
      "frame #:  79%|███████████████████████      | 3612/4547 [00:18<00:04, 213.00it/s]\u001b[A\n",
      "frame #:  80%|███████████████████████▏     | 3634/4547 [00:18<00:04, 206.41it/s]\u001b[A\n",
      "frame #:  80%|███████████████████████▎     | 3655/4547 [00:18<00:04, 203.22it/s]\u001b[A\n",
      "frame #:  81%|███████████████████████▍     | 3676/4547 [00:19<00:04, 197.19it/s]\u001b[A\n",
      "frame #:  81%|███████████████████████▌     | 3698/4547 [00:19<00:04, 201.64it/s]\u001b[A\n",
      "frame #:  82%|███████████████████████▋     | 3719/4547 [00:19<00:04, 203.97it/s]\u001b[A\n",
      "frame #:  82%|███████████████████████▊     | 3741/4547 [00:19<00:03, 208.06it/s]\u001b[A\n",
      "frame #:  83%|███████████████████████▉     | 3763/4547 [00:19<00:03, 210.54it/s]\u001b[A\n",
      "frame #:  83%|████████████████████████▏    | 3785/4547 [00:19<00:03, 207.47it/s]\u001b[A\n",
      "frame #:  84%|████████████████████████▎    | 3806/4547 [00:19<00:03, 207.56it/s]\u001b[A\n",
      "frame #:  84%|████████████████████████▍    | 3829/4547 [00:19<00:03, 211.26it/s]\u001b[A\n",
      "frame #:  85%|████████████████████████▌    | 3851/4547 [00:19<00:03, 203.67it/s]\u001b[A\n",
      "frame #:  85%|████████████████████████▋    | 3872/4547 [00:20<00:03, 200.32it/s]\u001b[A\n",
      "frame #:  86%|████████████████████████▊    | 3893/4547 [00:20<00:03, 199.74it/s]\u001b[A\n",
      "frame #:  86%|████████████████████████▉    | 3915/4547 [00:20<00:03, 204.00it/s]\u001b[A\n",
      "frame #:  87%|█████████████████████████    | 3937/4547 [00:20<00:02, 207.90it/s]\u001b[A\n",
      "frame #:  87%|█████████████████████████▏   | 3958/4547 [00:20<00:02, 202.48it/s]\u001b[A\n",
      "frame #:  88%|█████████████████████████▍   | 3979/4547 [00:20<00:02, 199.72it/s]\u001b[A\n"
     ]
    },
    {
     "name": "stderr",
     "output_type": "stream",
     "text": [
      "frame #:  88%|█████████████████████████▌   | 4000/4547 [00:20<00:02, 201.12it/s]\u001b[A\n",
      "frame #:  88%|█████████████████████████▋   | 4021/4547 [00:20<00:03, 172.62it/s]\u001b[A\n",
      "frame #:  89%|█████████████████████████▊   | 4044/4547 [00:20<00:02, 186.77it/s]\u001b[A\n",
      "frame #:  89%|█████████████████████████▉   | 4064/4547 [00:21<00:02, 189.70it/s]\u001b[A\n",
      "frame #:  90%|██████████████████████████   | 4085/4547 [00:21<00:02, 193.24it/s]\u001b[A\n",
      "frame #:  90%|██████████████████████████▏  | 4105/4547 [00:21<00:02, 194.23it/s]\u001b[A\n",
      "frame #:  91%|██████████████████████████▎  | 4125/4547 [00:21<00:02, 195.00it/s]\u001b[A\n",
      "frame #:  91%|██████████████████████████▍  | 4146/4547 [00:21<00:02, 199.01it/s]\u001b[A\n",
      "frame #:  92%|██████████████████████████▌  | 4167/4547 [00:21<00:01, 193.47it/s]\u001b[A\n",
      "frame #:  92%|██████████████████████████▋  | 4189/4547 [00:21<00:01, 199.91it/s]\u001b[A\n",
      "frame #:  93%|██████████████████████████▊  | 4211/4547 [00:21<00:01, 204.72it/s]\u001b[A\n",
      "frame #:  93%|██████████████████████████▉  | 4232/4547 [00:21<00:01, 205.78it/s]\u001b[A\n",
      "frame #:  94%|███████████████████████████  | 4253/4547 [00:21<00:01, 203.86it/s]\u001b[A\n",
      "frame #:  94%|███████████████████████████▎ | 4274/4547 [00:22<00:01, 200.06it/s]\u001b[A\n",
      "frame #:  94%|███████████████████████████▍ | 4295/4547 [00:22<00:01, 201.81it/s]\u001b[A\n",
      "frame #:  95%|███████████████████████████▌ | 4316/4547 [00:22<00:01, 200.34it/s]\u001b[A\n",
      "frame #:  95%|███████████████████████████▋ | 4338/4547 [00:22<00:01, 200.70it/s]\u001b[A\n",
      "frame #:  96%|███████████████████████████▊ | 4360/4547 [00:22<00:00, 202.68it/s]\u001b[A\n",
      "frame #:  96%|███████████████████████████▉ | 4381/4547 [00:22<00:00, 195.62it/s]\u001b[A\n",
      "frame #:  97%|████████████████████████████ | 4402/4547 [00:22<00:00, 197.86it/s]\u001b[A\n",
      "frame #:  97%|████████████████████████████▏| 4423/4547 [00:22<00:00, 199.95it/s]\u001b[A\n",
      "frame #:  98%|████████████████████████████▎| 4444/4547 [00:22<00:00, 196.25it/s]\u001b[A\n",
      "frame #:  98%|████████████████████████████▍| 4465/4547 [00:23<00:00, 199.34it/s]\u001b[A\n",
      "frame #:  99%|████████████████████████████▌| 4486/4547 [00:23<00:00, 201.46it/s]\u001b[A\n",
      "frame #:  99%|████████████████████████████▊| 4508/4547 [00:23<00:00, 205.38it/s]\u001b[A\n",
      "frame #: 100%|████████████████████████████▉| 4530/4547 [00:23<00:00, 207.83it/s]\u001b[A\n",
      "video #:  50%|██████████████████                  | 1/2 [00:24<00:24, 24.44s/it]\u001b[A\n",
      "frame #:   0%|                                         | 0/4258 [00:00<?, ?it/s]\u001b[A\n",
      "frame #:   0%|                               | 15/4258 [00:00<00:29, 144.82it/s]\u001b[A\n",
      "frame #:   1%|▏                              | 30/4258 [00:00<00:29, 145.71it/s]\u001b[A\n",
      "frame #:   1%|▎                              | 48/4258 [00:00<00:26, 159.05it/s]\u001b[A\n",
      "frame #:   2%|▍                              | 65/4258 [00:00<00:25, 161.82it/s]\u001b[A\n",
      "frame #:   2%|▌                              | 83/4258 [00:00<00:25, 165.80it/s]\u001b[A\n",
      "frame #:   2%|▋                             | 100/4258 [00:00<00:25, 163.83it/s]\u001b[A\n",
      "frame #:   3%|▊                             | 117/4258 [00:00<00:25, 165.28it/s]\u001b[A\n",
      "frame #:   3%|▉                             | 134/4258 [00:00<00:25, 162.33it/s]\u001b[A\n",
      "frame #:   4%|█                             | 152/4258 [00:00<00:25, 163.88it/s]\u001b[A\n",
      "frame #:   4%|█▏                            | 169/4258 [00:01<00:25, 161.78it/s]\u001b[A\n",
      "frame #:   4%|█▎                            | 189/4258 [00:01<00:23, 169.86it/s]\u001b[A\n",
      "frame #:   5%|█▍                            | 208/4258 [00:01<00:23, 173.79it/s]\u001b[A\n",
      "frame #:   5%|█▌                            | 226/4258 [00:01<00:23, 170.27it/s]\u001b[A\n",
      "frame #:   6%|█▋                            | 244/4258 [00:01<00:23, 169.43it/s]\u001b[A\n",
      "frame #:   6%|█▊                            | 264/4258 [00:01<00:22, 177.91it/s]\u001b[A\n",
      "frame #:   7%|█▉                            | 283/4258 [00:01<00:22, 180.36it/s]\u001b[A\n",
      "frame #:   7%|██▏                           | 306/4258 [00:01<00:20, 193.21it/s]\u001b[A\n",
      "frame #:   8%|██▎                           | 327/4258 [00:01<00:19, 197.39it/s]\u001b[A\n",
      "frame #:   8%|██▍                           | 350/4258 [00:01<00:19, 204.51it/s]\u001b[A\n",
      "frame #:   9%|██▌                           | 372/4258 [00:02<00:18, 208.24it/s]\u001b[A\n",
      "frame #:   9%|██▊                           | 394/4258 [00:02<00:18, 211.12it/s]\u001b[A\n",
      "frame #:  10%|██▉                           | 416/4258 [00:02<00:18, 210.53it/s]\u001b[A\n",
      "frame #:  10%|███                           | 438/4258 [00:02<00:18, 205.99it/s]\u001b[A\n",
      "frame #:  11%|███▏                          | 459/4258 [00:02<00:18, 204.80it/s]\u001b[A\n",
      "frame #:  11%|███▍                          | 480/4258 [00:02<00:18, 201.61it/s]\u001b[A\n",
      "frame #:  12%|███▌                          | 501/4258 [00:02<00:18, 201.10it/s]\u001b[A\n",
      "frame #:  12%|███▋                          | 522/4258 [00:02<00:18, 200.33it/s]\u001b[A\n",
      "frame #:  13%|███▊                          | 543/4258 [00:02<00:18, 202.35it/s]\u001b[A\n",
      "frame #:  13%|███▉                          | 565/4258 [00:03<00:18, 204.88it/s]\u001b[A\n",
      "frame #:  14%|████▏                         | 586/4258 [00:03<00:18, 201.22it/s]\u001b[A\n",
      "frame #:  14%|████▎                         | 608/4258 [00:03<00:17, 205.69it/s]\u001b[A\n",
      "frame #:  15%|████▍                         | 630/4258 [00:03<00:17, 208.25it/s]\u001b[A\n",
      "frame #:  15%|████▌                         | 652/4258 [00:03<00:17, 210.96it/s]\u001b[A\n",
      "frame #:  16%|████▋                         | 674/4258 [00:03<00:16, 211.06it/s]\u001b[A\n",
      "frame #:  16%|████▉                         | 696/4258 [00:03<00:17, 205.89it/s]\u001b[A\n",
      "frame #:  17%|█████                         | 717/4258 [00:03<00:17, 205.07it/s]\u001b[A\n",
      "frame #:  17%|█████▏                        | 740/4258 [00:03<00:16, 210.68it/s]\u001b[A\n",
      "frame #:  18%|█████▍                        | 763/4258 [00:03<00:16, 214.29it/s]\u001b[A\n",
      "frame #:  18%|█████▌                        | 785/4258 [00:04<00:16, 213.93it/s]\u001b[A\n",
      "frame #:  19%|█████▋                        | 807/4258 [00:04<00:16, 213.50it/s]\u001b[A\n",
      "frame #:  19%|█████▊                        | 829/4258 [00:04<00:16, 209.60it/s]\u001b[A\n",
      "frame #:  20%|█████▉                        | 851/4258 [00:04<00:16, 212.57it/s]\u001b[A\n",
      "frame #:  21%|██████▏                       | 873/4258 [00:04<00:16, 210.08it/s]\u001b[A\n",
      "frame #:  21%|██████▎                       | 896/4258 [00:04<00:15, 213.00it/s]\u001b[A\n",
      "frame #:  22%|██████▍                       | 918/4258 [00:04<00:16, 207.34it/s]\u001b[A\n",
      "frame #:  22%|██████▋                       | 941/4258 [00:04<00:15, 211.65it/s]\u001b[A\n",
      "frame #:  23%|██████▊                       | 963/4258 [00:04<00:15, 207.88it/s]\u001b[A\n",
      "frame #:  23%|██████▉                       | 985/4258 [00:05<00:15, 209.32it/s]\u001b[A\n",
      "frame #:  24%|██████▊                      | 1006/4258 [00:05<00:16, 198.71it/s]\u001b[A\n",
      "frame #:  24%|██████▉                      | 1026/4258 [00:05<00:17, 189.21it/s]\u001b[A\n",
      "frame #:  25%|███████                      | 1046/4258 [00:05<00:17, 182.62it/s]\u001b[A\n",
      "frame #:  25%|███████▎                     | 1065/4258 [00:05<00:17, 178.44it/s]\u001b[A\n",
      "frame #:  25%|███████▍                     | 1083/4258 [00:05<00:18, 169.50it/s]\u001b[A\n",
      "frame #:  26%|███████▍                     | 1101/4258 [00:05<00:19, 165.90it/s]\u001b[A\n",
      "frame #:  26%|███████▋                     | 1120/4258 [00:05<00:18, 171.75it/s]\u001b[A\n",
      "frame #:  27%|███████▊                     | 1138/4258 [00:05<00:18, 170.38it/s]\u001b[A\n",
      "frame #:  27%|███████▊                     | 1156/4258 [00:06<00:18, 169.36it/s]\u001b[A\n",
      "frame #:  28%|███████▉                     | 1173/4258 [00:06<00:19, 161.06it/s]\u001b[A\n",
      "frame #:  28%|████████                     | 1192/4258 [00:06<00:18, 167.61it/s]\u001b[A\n",
      "frame #:  28%|████████▏                    | 1209/4258 [00:06<00:18, 167.26it/s]\u001b[A\n",
      "frame #:  29%|████████▎                    | 1226/4258 [00:06<00:18, 159.75it/s]\u001b[A\n",
      "frame #:  29%|████████▍                    | 1243/4258 [00:06<00:18, 159.60it/s]\u001b[A\n",
      "frame #:  30%|████████▋                    | 1268/4258 [00:06<00:16, 181.41it/s]\u001b[A\n",
      "frame #:  30%|████████▊                    | 1288/4258 [00:06<00:15, 185.88it/s]\u001b[A\n",
      "frame #:  31%|████████▉                    | 1310/4258 [00:06<00:15, 194.26it/s]\u001b[A\n",
      "frame #:  31%|█████████                    | 1331/4258 [00:07<00:14, 197.13it/s]\u001b[A\n",
      "frame #:  32%|█████████▏                   | 1354/4258 [00:07<00:14, 203.54it/s]\u001b[A\n",
      "frame #:  32%|█████████▍                   | 1377/4258 [00:07<00:13, 211.04it/s]\u001b[A\n",
      "frame #:  33%|█████████▌                   | 1399/4258 [00:07<00:14, 202.22it/s]\u001b[A\n"
     ]
    },
    {
     "name": "stderr",
     "output_type": "stream",
     "text": [
      "frame #:  33%|█████████▋                   | 1420/4258 [00:07<00:14, 201.82it/s]\u001b[A\n",
      "frame #:  34%|█████████▊                   | 1441/4258 [00:07<00:14, 197.79it/s]\u001b[A\n",
      "frame #:  34%|█████████▉                   | 1464/4258 [00:07<00:13, 204.58it/s]\u001b[A\n",
      "frame #:  35%|██████████                   | 1486/4258 [00:07<00:13, 207.33it/s]\u001b[A\n",
      "frame #:  35%|██████████▎                  | 1507/4258 [00:07<00:13, 206.08it/s]\u001b[A\n",
      "frame #:  36%|██████████▍                  | 1530/4258 [00:07<00:12, 212.35it/s]\u001b[A\n",
      "frame #:  36%|██████████▌                  | 1553/4258 [00:08<00:12, 216.20it/s]\u001b[A\n",
      "frame #:  37%|██████████▋                  | 1575/4258 [00:08<00:12, 210.52it/s]\u001b[A\n",
      "frame #:  38%|██████████▉                  | 1597/4258 [00:08<00:12, 206.21it/s]\u001b[A\n",
      "frame #:  38%|███████████                  | 1618/4258 [00:08<00:13, 194.45it/s]\u001b[A\n",
      "frame #:  38%|███████████▏                 | 1639/4258 [00:08<00:13, 196.61it/s]\u001b[A\n",
      "frame #:  39%|███████████▎                 | 1659/4258 [00:08<00:14, 179.63it/s]\u001b[A\n",
      "frame #:  39%|███████████▍                 | 1681/4258 [00:08<00:13, 189.17it/s]\u001b[A\n",
      "frame #:  40%|███████████▌                 | 1701/4258 [00:08<00:13, 188.81it/s]\u001b[A\n",
      "frame #:  40%|███████████▋                 | 1722/4258 [00:08<00:13, 192.94it/s]\u001b[A\n",
      "frame #:  41%|███████████▊                 | 1742/4258 [00:09<00:13, 193.40it/s]\u001b[A\n",
      "frame #:  41%|████████████                 | 1762/4258 [00:09<00:12, 192.69it/s]\u001b[A\n",
      "frame #:  42%|████████████▏                | 1782/4258 [00:09<00:12, 192.97it/s]\u001b[A\n",
      "frame #:  42%|████████████▎                | 1805/4258 [00:09<00:12, 202.13it/s]\u001b[A\n",
      "frame #:  43%|████████████▍                | 1826/4258 [00:09<00:12, 198.05it/s]\u001b[A\n",
      "frame #:  43%|████████████▌                | 1848/4258 [00:09<00:11, 203.27it/s]\u001b[A\n",
      "frame #:  44%|████████████▋                | 1871/4258 [00:09<00:11, 206.76it/s]\u001b[A\n",
      "frame #:  44%|████████████▉                | 1892/4258 [00:09<00:11, 207.57it/s]\u001b[A\n",
      "frame #:  45%|█████████████                | 1913/4258 [00:09<00:11, 204.79it/s]\u001b[A\n",
      "frame #:  45%|█████████████▏               | 1934/4258 [00:10<00:11, 205.67it/s]\u001b[A\n",
      "frame #:  46%|█████████████▎               | 1956/4258 [00:10<00:11, 209.01it/s]\u001b[A\n",
      "frame #:  46%|█████████████▍               | 1978/4258 [00:10<00:10, 211.01it/s]\u001b[A\n",
      "frame #:  47%|█████████████▋               | 2001/4258 [00:10<00:12, 176.36it/s]\u001b[A\n",
      "frame #:  47%|█████████████▊               | 2020/4258 [00:10<00:13, 169.58it/s]\u001b[A\n",
      "frame #:  48%|█████████████▉               | 2038/4258 [00:10<00:13, 167.98it/s]\u001b[A\n",
      "frame #:  48%|██████████████               | 2056/4258 [00:10<00:13, 162.84it/s]\u001b[A\n",
      "frame #:  49%|██████████████               | 2073/4258 [00:10<00:13, 161.97it/s]\u001b[A\n",
      "frame #:  49%|██████████████▏              | 2092/4258 [00:10<00:13, 166.52it/s]\u001b[A\n",
      "frame #:  50%|██████████████▎              | 2110/4258 [00:11<00:12, 169.52it/s]\u001b[A\n",
      "frame #:  50%|██████████████▍              | 2128/4258 [00:11<00:12, 166.52it/s]\u001b[A\n",
      "frame #:  50%|██████████████▌              | 2145/4258 [00:11<00:12, 164.73it/s]\u001b[A\n",
      "frame #:  51%|██████████████▋              | 2162/4258 [00:11<00:12, 163.86it/s]\u001b[A\n",
      "frame #:  51%|██████████████▊              | 2179/4258 [00:11<00:12, 162.21it/s]\u001b[A\n",
      "frame #:  52%|██████████████▉              | 2198/4258 [00:11<00:12, 168.80it/s]\u001b[A\n",
      "frame #:  52%|███████████████              | 2215/4258 [00:11<00:12, 161.24it/s]\u001b[A\n",
      "frame #:  52%|███████████████▏             | 2233/4258 [00:11<00:12, 165.89it/s]\u001b[A\n",
      "frame #:  53%|███████████████▎             | 2256/4258 [00:11<00:10, 184.19it/s]\u001b[A\n",
      "frame #:  53%|███████████████▌             | 2277/4258 [00:12<00:10, 189.50it/s]\u001b[A\n",
      "frame #:  54%|███████████████▋             | 2301/4258 [00:12<00:09, 199.62it/s]\u001b[A\n",
      "frame #:  55%|███████████████▊             | 2322/4258 [00:12<00:09, 197.23it/s]\u001b[A\n",
      "frame #:  55%|███████████████▉             | 2342/4258 [00:12<00:09, 195.53it/s]\u001b[A\n",
      "frame #:  55%|████████████████             | 2362/4258 [00:12<00:09, 195.64it/s]\u001b[A\n",
      "frame #:  56%|████████████████▏            | 2384/4258 [00:12<00:09, 200.82it/s]\u001b[A\n",
      "frame #:  57%|████████████████▍            | 2407/4258 [00:12<00:08, 205.90it/s]\u001b[A\n",
      "frame #:  57%|████████████████▌            | 2428/4258 [00:12<00:08, 204.48it/s]\u001b[A\n",
      "frame #:  58%|████████████████▋            | 2449/4258 [00:12<00:09, 199.85it/s]\u001b[A\n",
      "frame #:  58%|████████████████▊            | 2471/4258 [00:12<00:08, 204.23it/s]\u001b[A\n",
      "frame #:  59%|████████████████▉            | 2492/4258 [00:13<00:08, 204.53it/s]\u001b[A\n",
      "frame #:  59%|█████████████████            | 2513/4258 [00:13<00:08, 205.79it/s]\u001b[A\n",
      "frame #:  60%|█████████████████▎           | 2534/4258 [00:13<00:08, 204.61it/s]\u001b[A\n",
      "frame #:  60%|█████████████████▍           | 2556/4258 [00:13<00:08, 205.58it/s]\u001b[A\n",
      "frame #:  61%|█████████████████▌           | 2579/4258 [00:13<00:07, 211.00it/s]\u001b[A\n",
      "frame #:  61%|█████████████████▋           | 2601/4258 [00:13<00:07, 209.98it/s]\u001b[A\n",
      "frame #:  62%|█████████████████▊           | 2623/4258 [00:13<00:07, 210.84it/s]\u001b[A\n",
      "frame #:  62%|██████████████████           | 2645/4258 [00:13<00:07, 206.08it/s]\u001b[A\n",
      "frame #:  63%|██████████████████▏          | 2666/4258 [00:13<00:07, 205.43it/s]\u001b[A\n",
      "frame #:  63%|██████████████████▎          | 2687/4258 [00:14<00:07, 204.60it/s]\u001b[A\n",
      "frame #:  64%|██████████████████▍          | 2710/4258 [00:14<00:07, 210.39it/s]\u001b[A\n",
      "frame #:  64%|██████████████████▌          | 2732/4258 [00:14<00:07, 200.89it/s]\u001b[A\n",
      "frame #:  65%|██████████████████▋          | 2753/4258 [00:14<00:08, 187.52it/s]\u001b[A\n",
      "frame #:  65%|██████████████████▉          | 2772/4258 [00:14<00:07, 185.80it/s]\u001b[A\n",
      "frame #:  66%|███████████████████          | 2791/4258 [00:14<00:07, 185.00it/s]\u001b[A\n",
      "frame #:  66%|███████████████████▏         | 2810/4258 [00:14<00:07, 186.30it/s]\u001b[A\n",
      "frame #:  66%|███████████████████▎         | 2829/4258 [00:14<00:08, 178.08it/s]\u001b[A\n",
      "frame #:  67%|███████████████████▍         | 2847/4258 [00:14<00:07, 178.09it/s]\u001b[A\n",
      "frame #:  67%|███████████████████▌         | 2866/4258 [00:14<00:07, 181.27it/s]\u001b[A\n",
      "frame #:  68%|███████████████████▋         | 2886/4258 [00:15<00:07, 184.56it/s]\u001b[A\n",
      "frame #:  68%|███████████████████▊         | 2906/4258 [00:15<00:07, 187.13it/s]\u001b[A\n",
      "frame #:  69%|███████████████████▉         | 2925/4258 [00:15<00:07, 185.83it/s]\u001b[A\n",
      "frame #:  69%|████████████████████         | 2944/4258 [00:15<00:07, 183.63it/s]\u001b[A\n",
      "frame #:  70%|████████████████████▏        | 2963/4258 [00:15<00:07, 183.70it/s]\u001b[A\n",
      "frame #:  70%|████████████████████▎        | 2982/4258 [00:15<00:07, 180.53it/s]\u001b[A\n",
      "frame #:  70%|████████████████████▍        | 3001/4258 [00:15<00:08, 149.04it/s]\u001b[A\n",
      "frame #:  71%|████████████████████▌        | 3017/4258 [00:15<00:08, 151.35it/s]\u001b[A\n",
      "frame #:  71%|████████████████████▋        | 3033/4258 [00:16<00:07, 153.45it/s]\u001b[A\n",
      "frame #:  72%|████████████████████▊        | 3049/4258 [00:16<00:11, 108.40it/s]\u001b[A\n",
      "frame #:  72%|████████████████████▉        | 3070/4258 [00:16<00:09, 129.55it/s]\u001b[A\n",
      "frame #:  73%|█████████████████████        | 3091/4258 [00:16<00:07, 146.93it/s]\u001b[A\n",
      "frame #:  73%|█████████████████████▏       | 3108/4258 [00:16<00:07, 151.58it/s]\u001b[A\n",
      "frame #:  73%|█████████████████████▎       | 3129/4258 [00:16<00:06, 164.63it/s]\u001b[A\n",
      "frame #:  74%|█████████████████████▍       | 3149/4258 [00:16<00:06, 173.57it/s]\u001b[A\n",
      "frame #:  74%|█████████████████████▌       | 3170/4258 [00:16<00:05, 183.15it/s]\u001b[A\n",
      "frame #:  75%|█████████████████████▋       | 3191/4258 [00:16<00:05, 190.72it/s]\u001b[A\n",
      "frame #:  75%|█████████████████████▊       | 3211/4258 [00:17<00:05, 189.50it/s]\u001b[A\n",
      "frame #:  76%|██████████████████████       | 3232/4258 [00:17<00:05, 194.61it/s]\u001b[A\n",
      "frame #:  76%|██████████████████████▏      | 3252/4258 [00:17<00:05, 195.72it/s]\u001b[A\n",
      "frame #:  77%|██████████████████████▎      | 3272/4258 [00:17<00:05, 192.41it/s]\u001b[A\n",
      "frame #:  77%|██████████████████████▍      | 3293/4258 [00:17<00:04, 196.07it/s]\u001b[A\n",
      "frame #:  78%|██████████████████████▌      | 3314/4258 [00:17<00:04, 199.22it/s]\u001b[A\n",
      "frame #:  78%|██████████████████████▋      | 3335/4258 [00:17<00:04, 201.80it/s]\u001b[A\n",
      "frame #:  79%|██████████████████████▊      | 3356/4258 [00:17<00:04, 198.44it/s]\u001b[A\n",
      "frame #:  79%|██████████████████████▉      | 3377/4258 [00:17<00:04, 199.27it/s]\u001b[A\n"
     ]
    },
    {
     "name": "stderr",
     "output_type": "stream",
     "text": [
      "frame #:  80%|███████████████████████▏     | 3398/4258 [00:18<00:04, 201.05it/s]\u001b[A\n",
      "frame #:  80%|███████████████████████▎     | 3419/4258 [00:18<00:04, 200.84it/s]\u001b[A\n",
      "frame #:  81%|███████████████████████▍     | 3441/4258 [00:18<00:03, 204.65it/s]\u001b[A\n",
      "frame #:  81%|███████████████████████▌     | 3462/4258 [00:18<00:03, 200.45it/s]\u001b[A\n",
      "frame #:  82%|███████████████████████▋     | 3483/4258 [00:18<00:03, 203.19it/s]\u001b[A\n",
      "frame #:  82%|███████████████████████▊     | 3504/4258 [00:18<00:03, 200.07it/s]\u001b[A\n",
      "frame #:  83%|████████████████████████     | 3525/4258 [00:18<00:03, 202.62it/s]\u001b[A\n",
      "frame #:  83%|████████████████████████▏    | 3547/4258 [00:18<00:03, 205.86it/s]\u001b[A\n",
      "frame #:  84%|████████████████████████▎    | 3568/4258 [00:18<00:03, 203.54it/s]\u001b[A\n",
      "frame #:  84%|████████████████████████▍    | 3589/4258 [00:18<00:03, 199.56it/s]\u001b[A\n",
      "frame #:  85%|████████████████████████▌    | 3611/4258 [00:19<00:03, 203.48it/s]\u001b[A\n",
      "frame #:  85%|████████████████████████▋    | 3632/4258 [00:19<00:03, 204.01it/s]\u001b[A\n",
      "frame #:  86%|████████████████████████▉    | 3655/4258 [00:19<00:02, 209.53it/s]\u001b[A\n",
      "frame #:  86%|█████████████████████████    | 3677/4258 [00:19<00:02, 212.32it/s]\u001b[A\n",
      "frame #:  87%|█████████████████████████▏   | 3699/4258 [00:19<00:02, 207.85it/s]\u001b[A\n",
      "frame #:  87%|█████████████████████████▎   | 3721/4258 [00:19<00:02, 209.31it/s]\u001b[A\n",
      "frame #:  88%|█████████████████████████▍   | 3742/4258 [00:19<00:02, 205.61it/s]\u001b[A\n",
      "frame #:  88%|█████████████████████████▋   | 3763/4258 [00:19<00:02, 200.32it/s]\u001b[A\n",
      "frame #:  89%|█████████████████████████▊   | 3785/4258 [00:19<00:02, 205.31it/s]\u001b[A\n",
      "frame #:  89%|█████████████████████████▉   | 3806/4258 [00:20<00:02, 206.04it/s]\u001b[A\n",
      "frame #:  90%|██████████████████████████   | 3827/4258 [00:20<00:02, 204.60it/s]\u001b[A\n",
      "frame #:  90%|██████████████████████████▏  | 3848/4258 [00:20<00:02, 201.80it/s]\u001b[A\n",
      "frame #:  91%|██████████████████████████▎  | 3869/4258 [00:20<00:01, 196.24it/s]\u001b[A\n",
      "frame #:  91%|██████████████████████████▍  | 3890/4258 [00:20<00:01, 197.83it/s]\u001b[A\n",
      "frame #:  92%|██████████████████████████▋  | 3912/4258 [00:20<00:01, 201.77it/s]\u001b[A\n",
      "frame #:  92%|██████████████████████████▊  | 3933/4258 [00:20<00:01, 200.93it/s]\u001b[A\n",
      "frame #:  93%|██████████████████████████▉  | 3955/4258 [00:20<00:01, 205.14it/s]\u001b[A\n",
      "frame #:  93%|███████████████████████████  | 3977/4258 [00:20<00:01, 207.06it/s]\u001b[A\n",
      "frame #:  94%|███████████████████████████▏ | 3998/4258 [00:20<00:01, 202.69it/s]\u001b[A\n",
      "frame #:  94%|███████████████████████████▎ | 4019/4258 [00:21<00:01, 174.20it/s]\u001b[A\n",
      "frame #:  95%|███████████████████████████▌ | 4042/4258 [00:21<00:01, 186.63it/s]\u001b[A\n",
      "frame #:  95%|███████████████████████████▋ | 4065/4258 [00:21<00:00, 197.61it/s]\u001b[A\n",
      "frame #:  96%|███████████████████████████▊ | 4086/4258 [00:21<00:00, 199.34it/s]\u001b[A\n",
      "frame #:  96%|███████████████████████████▉ | 4107/4258 [00:21<00:00, 201.82it/s]\u001b[A\n",
      "frame #:  97%|████████████████████████████ | 4128/4258 [00:21<00:00, 201.43it/s]\u001b[A\n",
      "frame #:  97%|████████████████████████████▎| 4149/4258 [00:21<00:00, 201.55it/s]\u001b[A\n",
      "frame #:  98%|████████████████████████████▍| 4172/4258 [00:21<00:00, 206.63it/s]\u001b[A\n",
      "frame #:  98%|████████████████████████████▌| 4194/4258 [00:21<00:00, 209.68it/s]\u001b[A\n",
      "frame #:  99%|████████████████████████████▋| 4216/4258 [00:22<00:00, 212.23it/s]\u001b[A\n",
      "frame #: 100%|████████████████████████████▊| 4238/4258 [00:22<00:00, 212.84it/s]\u001b[A\n",
      "video #: 100%|████████████████████████████████████| 2/2 [00:47<00:00, 23.84s/it]\u001b[A"
     ]
    },
    {
     "name": "stdout",
     "output_type": "stream",
     "text": [
      "FR: Tracking complete\n",
      "FR: Placing points_tracked into dictionary self.points_tracked where keys are video indices\n",
      "FR: Placing violations into dictionary self.violations where keys are video indices\n"
     ]
    },
    {
     "name": "stderr",
     "output_type": "stream",
     "text": [
      "\n"
     ]
    }
   ],
   "source": [
    "pt.track_points()"
   ]
  },
  {
   "cell_type": "code",
   "execution_count": 134,
   "metadata": {},
   "outputs": [
    {
     "name": "stdout",
     "output_type": "stream",
     "text": [
      "FR Warning: Overwriting field. 'PointTracker' already in config.yaml.\n",
      "FR Warning: Overwriting field. 'PointTracker' is already a field in the run_info.yaml dictionary.\n",
      "FR Warning: Overwriting file. File: /media/rich/bigSSD/analysis_data/demo_faceRhythm_svoboda/fr_run_20221013_new/analysis_files/PointTracker.h5 already exists.\n",
      "FR Warning: /media/rich/bigSSD/analysis_data/demo_faceRhythm_svoboda/fr_run_20221013_new/analysis_files/PointTracker.h5 is already open. Closing all open h5py.File objects and trying again.\n"
     ]
    }
   ],
   "source": [
    "pt.save_config(path_config=path_config, overwrite=True, verbose=1)\n",
    "pt.save_run_info(path_config=path_config, overwrite=True, verbose=1)\n",
    "pt.save_run_data(path_config=path_config, overwrite=True, use_compression=True, verbose=1)"
   ]
  },
  {
   "cell_type": "code",
   "execution_count": 111,
   "metadata": {},
   "outputs": [],
   "source": [
    "fr.h5_handling.simple_save(pt.run_data, path=str(Path(directory_project) / 'analysis_files' / 'PointTracker2.h5'))"
   ]
  },
  {
   "cell_type": "code",
   "execution_count": 135,
   "metadata": {},
   "outputs": [],
   "source": [
    "test = fr.h5_handling.simple_load(str(Path(directory_project) / 'analysis_files' / 'PointTracker.h5'))"
   ]
  },
  {
   "cell_type": "code",
   "execution_count": 136,
   "metadata": {},
   "outputs": [],
   "source": [
    "import numpy as np\n",
    "import scipy.sparse"
   ]
  },
  {
   "cell_type": "code",
   "execution_count": null,
   "metadata": {},
   "outputs": [],
   "source": []
  },
  {
   "cell_type": "code",
   "execution_count": null,
   "metadata": {},
   "outputs": [],
   "source": []
  },
  {
   "cell_type": "code",
   "execution_count": null,
   "metadata": {},
   "outputs": [],
   "source": []
  },
  {
   "cell_type": "code",
   "execution_count": null,
   "metadata": {},
   "outputs": [],
   "source": []
  },
  {
   "cell_type": "code",
   "execution_count": null,
   "metadata": {},
   "outputs": [],
   "source": []
  },
  {
   "cell_type": "code",
   "execution_count": null,
   "metadata": {},
   "outputs": [],
   "source": []
  },
  {
   "cell_type": "code",
   "execution_count": null,
   "metadata": {},
   "outputs": [],
   "source": []
  },
  {
   "cell_type": "code",
   "execution_count": null,
   "metadata": {},
   "outputs": [],
   "source": []
  },
  {
   "cell_type": "code",
   "execution_count": null,
   "metadata": {},
   "outputs": [],
   "source": [
    "from face_rhythm.optic_flow import clean_results\n",
    "\n",
    "## Create position trace from displacements\n",
    "## This block does a few things:\n",
    "\n",
    "## 1. Finds outliers: These are currently defined as time points when the integrated position goes beyond some threshold.\n",
    "##  Note that since displacements are calculated for x and y separately, outlier events are also separated into x outlier events\n",
    "##  and y outlier events.\n",
    "\n",
    "## 2. Sets displacements during outlier events to ZERO: There are some parameters below that define the time window (in frames)\n",
    "##  before and after outliers to also set to zero. Note again, that DISPLACEMENT (the derivative of position) is set to zero, \n",
    "##  effectively pausing the position of the ingegrated position.\n",
    "\n",
    "## 3. Rectifies the position to its 'anchor position': I am defining position as the integrated displacement arising from a STATIC\n",
    "##  place in the image. Because this analysis is image agnostic, drift naturally occurs. This term counteracts drift by simply\n",
    "##  relaxing each dot's position back to the center of its displacement analysis window. This term should be as low as possible\n",
    "##  because it also acts as a high pass filter, thus precluding analysis of slow timescale changes.\n",
    "\n",
    "## Note that using a standard frequency filter (fir, iir) here for the rectification / relaxation doesn't work well\n",
    "\n",
    "config = helpers.load_config(config_filepath)\n",
    "config['Clean']['outlier_threshold_positions'] = 25 ## in pixels. If position goes past this, short time window before and including outlier timepoint has displacement set to 0 \n",
    "config['Clean']['outlier_threshold_displacements'] = 3 ## in pixels. If displacement goes past this, displacement set to 0 at those time points\n",
    "config['Clean']['framesHalted_beforeOutlier'] = 100 # in frames. best to make even\n",
    "config['Clean']['framesHalted_afterOutlier'] = 150 # in frames. best to make even\n",
    "config['Clean']['relaxation_factor'] = 0.003 # This is the speed at which the integrated position exponentially relaxes back to its anchored position. Make ~0.005 to 0.05 for face video at 120 Hz\n",
    "helpers.save_config(config, config_filepath)\n",
    "\n",
    "clean_results.clean_workflow(config_filepath)"
   ]
  },
  {
   "cell_type": "code",
   "execution_count": null,
   "metadata": {},
   "outputs": [],
   "source": []
  },
  {
   "cell_type": "code",
   "execution_count": null,
   "metadata": {},
   "outputs": [],
   "source": [
    "import numpy as np\n",
    "import torch\n",
    "import scipy.sparse\n",
    "\n",
    "import matplotlib.pyplot as plt"
   ]
  },
  {
   "cell_type": "code",
   "execution_count": null,
   "metadata": {},
   "outputs": [],
   "source": [
    "frame = videos[0][0][0][:,:,0].numpy()"
   ]
  },
  {
   "cell_type": "code",
   "execution_count": null,
   "metadata": {},
   "outputs": [],
   "source": [
    "frame.shape, frame.dtype"
   ]
  },
  {
   "cell_type": "code",
   "execution_count": null,
   "metadata": {},
   "outputs": [],
   "source": [
    "points = pt.point_positions.astype(np.int64).copy()"
   ]
  },
  {
   "cell_type": "code",
   "execution_count": null,
   "metadata": {},
   "outputs": [],
   "source": [
    "points"
   ]
  },
  {
   "cell_type": "code",
   "execution_count": null,
   "metadata": {},
   "outputs": [],
   "source": [
    "mat = scipy.sparse.coo_matrix((frame.shape[0], frame.shape[1]))"
   ]
  },
  {
   "cell_type": "code",
   "execution_count": null,
   "metadata": {},
   "outputs": [],
   "source": [
    "mat.row = points[:,1]\n",
    "mat.col = points[:,0]\n",
    "mat.data = np.ones((points.shape[0]))"
   ]
  },
  {
   "cell_type": "code",
   "execution_count": null,
   "metadata": {},
   "outputs": [],
   "source": [
    "mat"
   ]
  },
  {
   "cell_type": "code",
   "execution_count": null,
   "metadata": {},
   "outputs": [],
   "source": [
    "diameter = 5\n",
    "d = int((diameter//2)*2+1)\n",
    "c = int(diameter//2)\n",
    "r = diameter/2\n",
    "center = r\n",
    "k = fr.helpers.cosine_kernel_2D(center=(c,c), image_size=(d,d), width=r*2)**0.05"
   ]
  },
  {
   "cell_type": "code",
   "execution_count": null,
   "metadata": {},
   "outputs": [],
   "source": [
    "%matplotlib notebook"
   ]
  },
  {
   "cell_type": "code",
   "execution_count": null,
   "metadata": {},
   "outputs": [],
   "source": [
    "plt.figure()\n",
    "plt.imshow(k)"
   ]
  },
  {
   "cell_type": "code",
   "execution_count": null,
   "metadata": {},
   "outputs": [],
   "source": [
    "from typing import Union"
   ]
  },
  {
   "cell_type": "code",
   "execution_count": null,
   "metadata": {},
   "outputs": [],
   "source": [
    "videos."
   ]
  },
  {
   "cell_type": "code",
   "execution_count": null,
   "metadata": {},
   "outputs": [],
   "source": [
    "fr.video_playback.FrameVisualizer(\n",
    "    image_height_width=(vide)\n",
    ")"
   ]
  },
  {
   "cell_type": "code",
   "execution_count": null,
   "metadata": {},
   "outputs": [],
   "source": [
    "conv = fr.helpers.Toeplitz_convolution2d(\n",
    "    x_shape=(frame.shape[0], frame.shape[1]),\n",
    "    k=k,\n",
    "    mode='same',\n",
    "    dtype=np.float32\n",
    ")"
   ]
  },
  {
   "cell_type": "code",
   "execution_count": null,
   "metadata": {},
   "outputs": [],
   "source": [
    "out = (np.clip(conv(mat, batching=False).toarray(), a_min=None, a_max=1)*255).astype(np.uint8)"
   ]
  },
  {
   "cell_type": "code",
   "execution_count": null,
   "metadata": {},
   "outputs": [],
   "source": [
    "plt.figure()\n",
    "plt.imshow(mat.A)"
   ]
  },
  {
   "cell_type": "code",
   "execution_count": null,
   "metadata": {},
   "outputs": [],
   "source": [
    "plt.figure()\n",
    "plt.imshow(out)"
   ]
  },
  {
   "cell_type": "code",
   "execution_count": null,
   "metadata": {},
   "outputs": [],
   "source": []
  },
  {
   "cell_type": "code",
   "execution_count": null,
   "metadata": {},
   "outputs": [],
   "source": []
  },
  {
   "cell_type": "code",
   "execution_count": null,
   "metadata": {},
   "outputs": [],
   "source": []
  },
  {
   "cell_type": "code",
   "execution_count": null,
   "metadata": {},
   "outputs": [],
   "source": []
  },
  {
   "cell_type": "code",
   "execution_count": null,
   "metadata": {},
   "outputs": [],
   "source": []
  },
  {
   "cell_type": "code",
   "execution_count": null,
   "metadata": {},
   "outputs": [],
   "source": [
    "import numpy as np"
   ]
  },
  {
   "cell_type": "code",
   "execution_count": null,
   "metadata": {},
   "outputs": [],
   "source": [
    "import torch"
   ]
  },
  {
   "cell_type": "code",
   "execution_count": null,
   "metadata": {},
   "outputs": [],
   "source": [
    "deez = [torch.arange(len(d))[:,None,None,None] for d in data]"
   ]
  },
  {
   "cell_type": "raw",
   "metadata": {
    "scrolled": false
   },
   "source": [
    "test = fr.helpers.BufferedVideoReader([d for d in data], buffer_size=1000, prefetch=2, method_getitem='continuous', verbose=2)"
   ]
  },
  {
   "cell_type": "code",
   "execution_count": null,
   "metadata": {
    "scrolled": true
   },
   "outputs": [],
   "source": [
    "test = fr.helpers.BufferedVideoReader(deez, buffer_size=1000, prefetch=2, method_getitem='continuous', verbose=1)"
   ]
  },
  {
   "cell_type": "code",
   "execution_count": null,
   "metadata": {},
   "outputs": [],
   "source": [
    "test"
   ]
  },
  {
   "cell_type": "code",
   "execution_count": null,
   "metadata": {},
   "outputs": [],
   "source": [
    "import time"
   ]
  },
  {
   "cell_type": "code",
   "execution_count": null,
   "metadata": {
    "scrolled": true
   },
   "outputs": [],
   "source": [
    "test._delete_all_slots()\n",
    "time.sleep(1)"
   ]
  },
  {
   "cell_type": "code",
   "execution_count": null,
   "metadata": {},
   "outputs": [],
   "source": [
    "test.method_getitem = 'continuous'"
   ]
  },
  {
   "cell_type": "code",
   "execution_count": null,
   "metadata": {},
   "outputs": [],
   "source": [
    "tic = time.time()\n",
    "for ii,val in enumerate(test):\n",
    "#     print(val)\n",
    "    if ii ==547145:\n",
    "        break\n",
    "    continue\n",
    "print(time.time() - tic)"
   ]
  },
  {
   "cell_type": "code",
   "execution_count": null,
   "metadata": {},
   "outputs": [],
   "source": [
    "tic = time.time()\n",
    "out = np.array([i.squeeze().numpy() for i in test])\n",
    "print(time.time() - tic)"
   ]
  },
  {
   "cell_type": "raw",
   "metadata": {
    "scrolled": true
   },
   "source": [
    "test = fr.helpers.BufferedVideoReader([d for d in data], buffer_size=1000, prefetch=2, method_getitem='continuous', verbose=1)"
   ]
  },
  {
   "cell_type": "code",
   "execution_count": null,
   "metadata": {
    "scrolled": true
   },
   "outputs": [],
   "source": [
    "test = fr.helpers.BufferedVideoReader(deez, buffer_size=1000, prefetch=2, method_getitem='continuous', verbose=1)"
   ]
  },
  {
   "cell_type": "code",
   "execution_count": null,
   "metadata": {},
   "outputs": [],
   "source": [
    "test"
   ]
  },
  {
   "cell_type": "code",
   "execution_count": null,
   "metadata": {
    "scrolled": true
   },
   "outputs": [],
   "source": [
    "test._delete_all_slots()\n",
    "time.sleep(1)"
   ]
  },
  {
   "cell_type": "code",
   "execution_count": null,
   "metadata": {},
   "outputs": [],
   "source": [
    "tic_all = time.time()\n",
    "for ii in range(5000):\n",
    "#     tic = time.time()\n",
    "    test[ii]\n",
    "#     print(time.time() - tic)\n",
    "print(time.time() - tic_all)    "
   ]
  },
  {
   "cell_type": "raw",
   "metadata": {
    "scrolled": true
   },
   "source": [
    "test = fr.helpers.BufferedVideoReader([d for d in data], buffer_size=1000, prefetch=2, method_getitem='continuous', verbose=1)"
   ]
  },
  {
   "cell_type": "code",
   "execution_count": null,
   "metadata": {
    "scrolled": true
   },
   "outputs": [],
   "source": [
    "test = fr.helpers.BufferedVideoReader(deez, buffer_size=1000, prefetch=2, method_getitem='continuous', verbose=1)"
   ]
  },
  {
   "cell_type": "code",
   "execution_count": null,
   "metadata": {},
   "outputs": [],
   "source": [
    "test"
   ]
  },
  {
   "cell_type": "code",
   "execution_count": null,
   "metadata": {
    "scrolled": true
   },
   "outputs": [],
   "source": [
    "test._delete_all_slots()\n",
    "time.sleep(1)"
   ]
  },
  {
   "cell_type": "code",
   "execution_count": null,
   "metadata": {},
   "outputs": [],
   "source": [
    "test.method_getitem = 'continuous'\n",
    "tic_all = time.time()\n",
    "frames = test[0:547145]\n",
    "print('starting')\n",
    "for ii, frame in enumerate(frames):\n",
    "    continue\n",
    "print(time.time() - tic_all)"
   ]
  },
  {
   "cell_type": "code",
   "execution_count": null,
   "metadata": {},
   "outputs": [],
   "source": []
  },
  {
   "cell_type": "code",
   "execution_count": null,
   "metadata": {},
   "outputs": [],
   "source": [
    "# WRITE TESTS FOR VIDEO GENERATOR\n",
    "# MAKE BACKEND OPTIONAL\n",
    "# PUT IT ON GITHUB\n",
    "REWRITE POINT TRACKER WITH CONTINUOUS LOADING"
   ]
  },
  {
   "cell_type": "code",
   "execution_count": null,
   "metadata": {},
   "outputs": [],
   "source": []
  },
  {
   "cell_type": "code",
   "execution_count": null,
   "metadata": {},
   "outputs": [],
   "source": []
  },
  {
   "cell_type": "code",
   "execution_count": null,
   "metadata": {},
   "outputs": [],
   "source": []
  },
  {
   "cell_type": "code",
   "execution_count": null,
   "metadata": {},
   "outputs": [],
   "source": []
  },
  {
   "cell_type": "code",
   "execution_count": null,
   "metadata": {},
   "outputs": [],
   "source": []
  },
  {
   "cell_type": "code",
   "execution_count": null,
   "metadata": {
    "pycharm": {
     "name": "#%%\n"
    }
   },
   "outputs": [],
   "source": [
    "# # General Parameters\n",
    "# overwrite_config = False\n",
    "# remote           = False # Select true if running on any system where your kernel isn't on your local machine\n",
    "# trials           = False # Let us know if you're using trials and want to use them as a dimension in the factorization. Make sure to add a trial_indices.npy file with shape: [trials , times].\n",
    "# multisession     = False # Set to true if you're doing a multisession analysis\n",
    "\n",
    "# # Project path, video path, and (optionally) run name\n",
    "# project_path     = Path(r'/media/rich/bigSSD/analysis_data/demo_faceRhythm_svoboda/fr_run_20221013_batched/').resolve() # often Path.cwd().resolve() is useful\n",
    "# video_path       = Path(r'/media/rich/bigSSD/downloads_tmp/BCI34_2022-07-19/side/2022-07-19_13-34-06/').resolve() \n",
    "# run_name         = 'run'\n",
    "\n",
    "# update_paths     = False  # if set to True and project_path is different from the paths in the config file, this will update config paths to be from project_path\n",
    "\n",
    "# config_filepath = setup.setup_project(project_path, video_path, run_name, overwrite_config, remote, trials, multisession, update_paths)"
   ]
  },
  {
   "cell_type": "code",
   "execution_count": null,
   "metadata": {
    "pycharm": {
     "name": "#%%\n"
    }
   },
   "outputs": [],
   "source": [
    "%load_ext autoreload\n",
    "%autoreload 2\n",
    "from face_rhythm.util import helpers, setup\n",
    "# IMPORT VIDEOS\n",
    "# See the docs for more information on video path setting\n",
    "# https://face-rhythm.readthedocs.io/\n",
    "\n",
    "config = helpers.load_config(config_filepath)\n",
    "config['Video']['file_strMatch'] = 'trial_' # Set to '' to grab all vids in video_path. Set to 'session_prefix' if multisession.\n",
    "config['Video']['sort_filenames']  = True\n",
    "config['Video']['print_filenames'] = True\n",
    "config['General']['overwrite_nwbs'] = False\n",
    "helpers.save_config(config, config_filepath)\n",
    "\n",
    "setup.prepare_videos(config_filepath)"
   ]
  },
  {
   "cell_type": "markdown",
   "metadata": {},
   "source": [
    "Manually change the frame rate if needed. Skip if frame rate is correct."
   ]
  },
  {
   "cell_type": "code",
   "execution_count": null,
   "metadata": {},
   "outputs": [],
   "source": [
    "config = helpers.load_config(config_filepath)\n",
    "config['Video']['Fs'] = 400.0\n",
    "helpers.save_config(config, config_filepath)"
   ]
  },
  {
   "cell_type": "markdown",
   "metadata": {},
   "source": [
    "***\n",
    "<center><h1>Set ROI</h1></center>\n",
    "\n",
    "***\n",
    "\n",
    "### Manually specify your roi\n",
    "\n",
    "This is good if your animal doesn't fill the view and if you have stationary objects nearby."
   ]
  },
  {
   "cell_type": "code",
   "execution_count": null,
   "metadata": {
    "pycharm": {
     "name": "#%%\n"
    }
   },
   "outputs": [],
   "source": [
    "%matplotlib notebook\n",
    "\n",
    "from face_rhythm.util import helpers, set_roi\n",
    "\n",
    "# Select Bounding ROI for this analysis\n",
    "# This block of code will pop up a little GUI. Click around the\n",
    "# region of the face that you want to include in the analysis.\n",
    "# When you are done, click the 'Confirm ROI' button\n",
    "\n",
    "config = helpers.load_config(config_filepath)\n",
    "config['ROI']['session_to_set'] = 0 # 0 indexed. Chooses the session to use\n",
    "config['ROI']['vid_to_set'] = 0 # 0 indexed. Sets the video to use to make an image\n",
    "config['ROI']['frame_to_set'] = 1 # 0 indexed. Sets the frame number to use to make an image\n",
    "\n",
    "config['ROI']['load_from_file'] = False # if you want to use the ROI from a previous session (different .nwb file), set to True and define path below\n",
    "config['ROI']['path_to_oldNWB'] = r'/media/rich/bigSSD/analysis_data/demo_faceRhythm_svoboda/fr_run_20221004/data/sessionrun.nwb' # if 'load_from_file' is true, define path to that .nwb file here\n",
    "helpers.save_config(config, config_filepath)\n",
    "\n",
    "frame, pts_all = set_roi.get_roi(config_filepath)"
   ]
  },
  {
   "cell_type": "code",
   "execution_count": null,
   "metadata": {},
   "outputs": [],
   "source": [
    "# Don't run this until you're done selecting\n",
    "set_roi.save_roi(config_filepath, frame, pts_all)"
   ]
  },
  {
   "cell_type": "markdown",
   "metadata": {
    "pycharm": {
     "name": "#%% md\n"
    }
   },
   "source": [
    "***\n",
    "<center><h1>Run Optic Flow</h1></center>\n",
    "\n",
    "***\n",
    "\n",
    "# Optic flow calculation\n",
    "\n",
    "Multithread is generally 2X to many-X faster, but may fail when too many dots are selected (memory overload)\n",
    "\n",
    "*If show video set to true on a remote connection, the video won't show, but it will save to the proj folder.*\n",
    "\n",
    "Key Optic flow params:\n",
    "- **'spacing'**: ~ 3 to 12. Spacing between dots, in pixels. Inversely related to number of dots to use in the calculation. Try to keep the number of dots below 2000 if possible (eats up memory and computation time). More dots generally means better final results, more robust to outliers and weird stuff. I'd make the spacing as small (more dots) as you can go before you run out of RAM in the final calculations\n",
    "- **lk_params 'win_size'**: ~ 25,25 to 80,80. This is the spatial integration window for the optical flow measurement. Try to make it as small as possible without it becoming unstable. The two values are for X and Y length of square integration window. Probably keep the same for most applications\n",
    "- **multithread**: There are two ways to run optic flow: one single-threaded and one multi-threaded. Do parameter tuning on the single-threaded one so you can quit out of it, as well as watch the calculation as it happens with showVideo_pref=True. The multi-threaded one is only faster if you have a lot of cores in your CPU (>10), then it's faster, else stick with the single-threaded version and set showVideo_pref=False."
   ]
  },
  {
   "cell_type": "code",
   "execution_count": null,
   "metadata": {
    "pycharm": {
     "name": "#%%\n"
    },
    "scrolled": true
   },
   "outputs": [],
   "source": [
    "%load_ext autoreload\n",
    "%autoreload 2\n",
    "from face_rhythm.optic_flow import optic_flow\n",
    "import cv2\n",
    "\n",
    "\n",
    "config = helpers.load_config(config_filepath)\n",
    "\n",
    "config['Optic']['vidNums_toUse'] = list(range(config['General']['sessions'][0]['num_vids'])) ## 0 indexing. Use this line of code to run all the videos in a particular session\n",
    "\n",
    "# Parameters for lucas kanade optical flow\n",
    "# win size: spatial integration window (make small as possible, but make bigger if youre having issues with outliers)\n",
    "# max level: only moderate effects if everything working properly. Keep around 3.\n",
    "# criteria values have to do with the search algorithm. For speed: EPS small, COUNT big (if data is good)\n",
    "config['Optic']['spacing'] = 5 ## This is the distance between points in the grid (both in x and y dims)\n",
    "config['Optic']['lk'] = {}\n",
    "config['Optic']['lk']['winSize']     = (30, 30)\n",
    "config['Optic']['lk']['maxLevel']    = 2\n",
    "config['Optic']['lk']['criteria']    = (cv2.TERM_CRITERIA_EPS | cv2.TERM_CRITERIA_COUNT, 2, 0.0001)\n",
    "\n",
    "\n",
    "config['Optic']['showVideo_pref'] = False ## USE THIS TO TUNE PARAMETERS! Much faster when video is off. If 'remote' option chosen (from first cell block), video will be saved as file in project folder.\n",
    "config['Video']['dot_size'] = 2 # for viewing purposes\n",
    "config['Video']['save_video'] = False # Whether to save the demo video (true for remote users when showvideo is true)\n",
    "config['Video']['demo_len'] = 10 # used when remote users when show_video==True\n",
    "config['Video']['fps_counterPeriod'] = 10 # number of frames between fps averaging calculation\n",
    "config['Video']['printFPS_pref'] = False # option for whether fps should be printed in notebook\n",
    "config['Video']['frames_to_ignore_pref'] = False # optional. If True, then a 'frames_to_ignore.npy' file must be in the video path. It must contain a boolean array of same length as the video\n",
    "\n",
    "config['Optic']['recursive'] = True # ONLY TRUE WORKS FOR NOW. For good quality data with minimal occlusions, use True. Else use False.\n",
    "config['Optic']['recursive_relaxation_factor'] = 0.01\n",
    "config['Optic']['multithread'] = False # Must be False if 'recursive'==True  OR  if 'showVideo_pref'==True\n",
    "\n",
    "helpers.save_config(config, config_filepath)\n",
    "\n",
    "\n",
    "### == CALCULATION ==\n",
    "\n",
    "optic_flow.optic_workflow(config_filepath)"
   ]
  },
  {
   "cell_type": "markdown",
   "metadata": {
    "pycharm": {
     "name": "#%% md\n"
    }
   },
   "source": [
    "***\n",
    "<center><h1>Clean Optic Flow</h1></center>\n",
    "\n",
    "***\n",
    "\n",
    "### Clean up displacements traces and make good positions traces\n",
    "\n",
    "Key Outlier removal params:\n",
    "- **outlier_threshold_positions**: ~ 20 to 100. If a dot strays more than this many pixels away from its anchor position, its displacement in the dimension it cross the threshold in, for those time points (and some time points around it, see params below), for that dot only, will be set to zero\n",
    "- **outlier_threshold_displacements** ~ 5 to 25. Similar to above, but for displacement. Only the outlier time points are removed (no window around outliers considered).\n",
    "- **framesHalted_beforeOutlier**: ~ 0 to 30. The number of frames to also remove before detected outlier events. Consider what is causing your outlier event. If it is an arm movement or something, how long does such a movement last? How long before it will cause a dot to move to the outlier threshold?\n",
    "- **framesHalted_afterOutlier**: ~ 0 to 10. Simlar to above but for after an outlier event is detected\n",
    "- **relaxation_factor** : ~ 0.03 to 0.1. This is the rate of the exponential decay / relaxation / attraction back to the anchor position that a point undergoes. It is meant to prevent baseline drift. Think of it like a high pass on the dot position trace"
   ]
  },
  {
   "cell_type": "code",
   "execution_count": null,
   "metadata": {
    "pycharm": {
     "name": "#%%\n"
    }
   },
   "outputs": [],
   "source": [
    "from face_rhythm.optic_flow import clean_results\n",
    "\n",
    "## Create position trace from displacements\n",
    "## This block does a few things:\n",
    "\n",
    "## 1. Finds outliers: These are currently defined as time points when the integrated position goes beyond some threshold.\n",
    "##  Note that since displacements are calculated for x and y separately, outlier events are also separated into x outlier events\n",
    "##  and y outlier events.\n",
    "\n",
    "## 2. Sets displacements during outlier events to ZERO: There are some parameters below that define the time window (in frames)\n",
    "##  before and after outliers to also set to zero. Note again, that DISPLACEMENT (the derivative of position) is set to zero, \n",
    "##  effectively pausing the position of the ingegrated position.\n",
    "\n",
    "## 3. Rectifies the position to its 'anchor position': I am defining position as the integrated displacement arising from a STATIC\n",
    "##  place in the image. Because this analysis is image agnostic, drift naturally occurs. This term counteracts drift by simply\n",
    "##  relaxing each dot's position back to the center of its displacement analysis window. This term should be as low as possible\n",
    "##  because it also acts as a high pass filter, thus precluding analysis of slow timescale changes.\n",
    "\n",
    "## Note that using a standard frequency filter (fir, iir) here for the rectification / relaxation doesn't work well\n",
    "\n",
    "config = helpers.load_config(config_filepath)\n",
    "config['Clean']['outlier_threshold_positions'] = 25 ## in pixels. If position goes past this, short time window before and including outlier timepoint has displacement set to 0 \n",
    "config['Clean']['outlier_threshold_displacements'] = 3 ## in pixels. If displacement goes past this, displacement set to 0 at those time points\n",
    "config['Clean']['framesHalted_beforeOutlier'] = 100 # in frames. best to make even\n",
    "config['Clean']['framesHalted_afterOutlier'] = 150 # in frames. best to make even\n",
    "config['Clean']['relaxation_factor'] = 0.003 # This is the speed at which the integrated position exponentially relaxes back to its anchored position. Make ~0.005 to 0.05 for face video at 120 Hz\n",
    "helpers.save_config(config, config_filepath)\n",
    "\n",
    "clean_results.clean_workflow(config_filepath)"
   ]
  },
  {
   "cell_type": "code",
   "execution_count": null,
   "metadata": {},
   "outputs": [],
   "source": [
    "# Display the new points!\n",
    "from face_rhythm.visualize import videos\n",
    "videos.visualize_points(config_filepath, positions_to_display='positions_cleanup', offset_positions=True, demo_len=100000, start_frame=15000, dot_size=1, save_video=False)"
   ]
  },
  {
   "cell_type": "markdown",
   "metadata": {},
   "source": [
    "***\n",
    "<center><h1>Convolutional Dimensionality Reduction</h1></center>\n",
    "\n",
    "***\n",
    "\n",
    "### Do some denoising and get the number of dots down to a managable number\n",
    "\n",
    "In particular, it is nice for the batched CP decomposition later that the batches can be as big as possible in the temporal dimension, so doing some mild convolutional dim reduction first is helpful."
   ]
  },
  {
   "cell_type": "code",
   "execution_count": null,
   "metadata": {
    "pycharm": {
     "name": "#%%\n"
    }
   },
   "outputs": [],
   "source": [
    "%matplotlib inline\n",
    "\n",
    "from face_rhythm.optic_flow import conv_dim_reduce\n",
    "\n",
    "config = helpers.load_config(config_filepath)\n",
    "\n",
    "# Create kernel\n",
    "config['CDR']['width_cosKernel'] = 40 # This is the diameter of a 2-dimensional cosine kernel. If you get an error about SVD not working, probably increase this\n",
    "config['CDR']['num_dots'] = config['Optic']['num_dots']\n",
    "\n",
    "# Distance between points in the grid, longer than optic \n",
    "config['CDR']['spacing'] = 10\n",
    "\n",
    "# Coefficients of influence \n",
    "config['CDR']['num_components'] = 2\n",
    "\n",
    "# For displaying dots\n",
    "config['CDR']['display_points'] = True # checkout the dots and overlayed filter\n",
    "config['CDR']['vidNum'] = 0 # 0 indexed\n",
    "config['CDR']['frameNum'] = 1 # 0 indexed\n",
    "config['CDR']['dot_size'] = 3\n",
    "config['CDR']['kernel_alpha'] = 0.3\n",
    "config['CDR']['kernel_pixel'] = 100\n",
    "\n",
    "helpers.save_config(config, config_filepath)\n",
    "\n",
    "conv_dim_reduce.conv_dim_reduce_workflow(config_filepath)\n",
    "\n",
    "helpers.save_config(config, config_filepath)"
   ]
  },
  {
   "cell_type": "code",
   "execution_count": null,
   "metadata": {},
   "outputs": [],
   "source": [
    "# Display the new points!\n",
    "from face_rhythm.visualize import videos\n",
    "videos.visualize_points(config_filepath, positions_to_display='positions_convDR_absolute', offset_positions=False, demo_len=43545, start_frame=0, dot_size=2, show_video=False, save_video=True)"
   ]
  },
  {
   "cell_type": "markdown",
   "metadata": {},
   "source": [
    "***\n",
    "<center><h1>Analysis</h1></center>\n",
    "\n",
    "***\n",
    "\n",
    "### Decompose and Analyze the Data in different ways\n",
    "\n",
    "Below you'll find the following:\n",
    "- PCA done on the point positions\n",
    "- TCA done on the point positions\n",
    "- Spectral analysis of every pixel to transoform the basis to be oscillatory\n",
    "- TCA done on the spectra"
   ]
  },
  {
   "cell_type": "markdown",
   "metadata": {},
   "source": [
    "### PCA"
   ]
  },
  {
   "cell_type": "code",
   "execution_count": null,
   "metadata": {
    "pycharm": {
     "name": "#%%\n"
    }
   },
   "outputs": [],
   "source": [
    "from face_rhythm.analysis import pca\n",
    "\n",
    "pca.pca_workflow(config_filepath, 'positions_convDR_absolute')"
   ]
  },
  {
   "cell_type": "code",
   "execution_count": null,
   "metadata": {},
   "outputs": [],
   "source": [
    "%matplotlib notebook\n",
    "from face_rhythm.visualize import plots\n",
    "\n",
    "config = helpers.load_config(config_filepath)\n",
    "config['PCA']['n_factors_to_show'] = 3\n",
    "helpers.save_config(config, config_filepath)\n",
    "\n",
    "plots.plot_pca_diagnostics(config_filepath)"
   ]
  },
  {
   "cell_type": "code",
   "execution_count": null,
   "metadata": {},
   "outputs": [],
   "source": [
    "from face_rhythm.visualize import videos\n",
    "\n",
    "config = helpers.load_config(config_filepath)\n",
    "\n",
    "config['Video']['factor_category_to_display'] = 'PCA' # eg: 'TCA' or 'PCA'\n",
    "config['Video']['factor_to_display'] = 'factors_points' # eg: (if 'TCA'):'factors_frequential_points' (if 'PCA'):'factors_points'\n",
    "config['Video']['points_to_display'] = 'positions_convDR_absolute' # eg: 'positions_convDR_absolute' or 'positions_absolute' or 'positions_recursive'\n",
    "config['Video']['demo_len'] = 100\n",
    "config['Video']['dot_size'] = 2\n",
    "config['Video']['save_demo'] = True \n",
    "helpers.save_config(config, config_filepath)\n",
    "\n",
    "videos.visualize_factor(config_filepath)"
   ]
  },
  {
   "cell_type": "markdown",
   "metadata": {},
   "source": [
    "### Positional TCA\n",
    "\n",
    "Key TCA parameters:\n",
    "- **device**: runs a small function to get your device. Set to true if you want to use the GPU. If the input is small (< half the size of your GPU memory), set to True. It's super fast.\n",
    "- **rank**: ~ 2 to 10. The number of factors to look for in the PARAFAC model. More can be good but less reproduceable, but less can mix together obviously different factors\n",
    "- **tolerance**: ~1e-05 to 1e-07. The minimum variance of the model between steps before declaring convergence. If you're trying to really optimize your TCA fit, try decreasing this. \n",
    "- **n_iters**: ~100 to 600. The fit of the model usually improves if you give it more iterations"
   ]
  },
  {
   "cell_type": "code",
   "execution_count": null,
   "metadata": {
    "pycharm": {
     "name": "#%%\n"
    },
    "scrolled": true
   },
   "outputs": [],
   "source": [
    "from face_rhythm.analysis import tca\n",
    "\n",
    "config = helpers.load_config(config_filepath)\n",
    "config['TCA']['pref_useGPU'] = False\n",
    "config['TCA']['rank'] = 4\n",
    "config['TCA']['init'] = 'svd' # set this to 'svd' for small datasets or 'random' for large datasets\n",
    "config['TCA']['tolerance'] = 1e-06\n",
    "config['TCA']['verbosity'] = 0\n",
    "config['TCA']['n_iters'] = 100\n",
    "helpers.save_config(config, config_filepath)\n",
    "\n",
    "tca.positional_tca_workflow(config_filepath, 'positions_convDR_meanSub') # you can use different positions data"
   ]
  },
  {
   "cell_type": "code",
   "execution_count": null,
   "metadata": {},
   "outputs": [],
   "source": [
    "%matplotlib notebook\n",
    "from face_rhythm.visualize import plots\n",
    "\n",
    "config = helpers.load_config(config_filepath)\n",
    "config['TCA']['ftype'] = 'positional'\n",
    "helpers.save_config(config, config_filepath)\n",
    "\n",
    "plots.plot_tca_factors(config_filepath)"
   ]
  },
  {
   "cell_type": "code",
   "execution_count": null,
   "metadata": {},
   "outputs": [],
   "source": [
    "from face_rhythm.visualize import videos\n",
    "\n",
    "config = helpers.load_config(config_filepath)\n",
    "\n",
    "config['Video']['factor_category_to_display'] = 'TCA' # eg: 'TCA' or 'PCA'\n",
    "config['Video']['factor_to_display'] = 'factors_positional_points' # eg: (if 'TCA'):'factors_frequential_points' (if 'PCA'):'scores_points'\n",
    "config['Video']['points_to_display'] = 'positions_convDR_absolute' # eg: 'positions_convDR_absolute' or 'positions_absolute' or 'positions_recursive'\n",
    "config['Video']['demo_len'] = 100\n",
    "config['Video']['dot_size'] = 2\n",
    "config['Video']['save_demo'] = False\n",
    "helpers.save_config(config, config_filepath)\n",
    "\n",
    "videos.visualize_factor(config_filepath)"
   ]
  },
  {
   "cell_type": "markdown",
   "metadata": {},
   "source": [
    "## Spectral Analysis\n",
    "I've played with a few different methods. While multiresolution methods seems ideal for this use-case, It just ends up severly overrepresenting low frequency factors, making noisier high frequency factors, and doing an overall worse job at reconstruction.\n",
    "A good ol' multitaper short time fourier transform seems to work fine. Adding in raw positions to subsequent dimensionality reduction later on seems like a natural thing to do, as single resolution spectral analysis ends up kind of ignoring slower dynamics.\n",
    "\n",
    "We recommend running the first cell to just visualize and assess the frequencies you're using. You can change this frequency distribution by altering the provided parameters \n",
    "\n",
    "Key Spectral analysis params:\n",
    "- **hop_length**: ~ 5 to 20. The length of the time window used for the short-time Fourier transform. Longer gives better spectral resolution, shorter gives better temporal resolution. There are several other parameters that are related but this is the most important. Longer windows (along with decreasing the overlap parameter) also decrease the size of the output spectrograms, which can help with memory and computation time in the subsequent analyses"
   ]
  },
  {
   "cell_type": "code",
   "execution_count": null,
   "metadata": {},
   "outputs": [],
   "source": [
    "%load_ext autoreload\n",
    "%autoreload 2\n",
    "from face_rhythm.analysis import spectral_analysis"
   ]
  },
  {
   "cell_type": "raw",
   "metadata": {},
   "source": [
    "config['Video']['Fs'] = 77\n",
    "\n",
    "helpers.save_config(config, config_filepath)"
   ]
  },
  {
   "cell_type": "code",
   "execution_count": null,
   "metadata": {
    "pycharm": {
     "name": "#%%\n"
    },
    "scrolled": false
   },
   "outputs": [],
   "source": [
    "%matplotlib notebook\n",
    "\n",
    "config = helpers.load_config(config_filepath)\n",
    "\n",
    "# config['Video']['Fs'] = 400 ## OPTIONAL: manually set the frame rate of the video (not saved)\n",
    "config['CQT']['hop_length'] = 20\n",
    "config['CQT']['fmin_rough'] = 1.0\n",
    "config['CQT']['sampling_rate'] = config['Video']['Fs']\n",
    "# config['CQT']['fmax_rough'] = (config['CQT']['sampling_rate']/2)\n",
    "config['CQT']['fmax_rough'] = 80\n",
    "config['CQT']['n_bins'] = 60\n",
    "\n",
    "config['CQT']['filter_scale'] = 1.3\n",
    "config['CQT']['gamma'] = 0.7 # 0 for CQT, large number for STFT (must increase filter_scale too)\n",
    "\n",
    "config['CQT']['spectrogram_exponent'] = 1\n",
    "config['CQT']['normalization_factor'] = 0.99\n",
    "\n",
    "config['CQT']['dtype_toUse'] = 'float32'\n",
    "\n",
    "helpers.save_config(config, config_filepath)\n",
    "\n",
    "spectral_analysis.prepare_freqs(config_filepath)\n",
    "\n",
    "spectral_analysis.show_demo_spectrogram(config_filepath,\n",
    "                        dot_toUse=500,\n",
    "                        xy_toUse='x',\n",
    "                        timeSeries_toUse='positions_convDR_meanSub',\n",
    "                        dtype_to_estimate=config['CQT']['dtype_toUse']\n",
    ")"
   ]
  },
  {
   "cell_type": "code",
   "execution_count": null,
   "metadata": {
    "pycharm": {
     "name": "#%%\n"
    }
   },
   "outputs": [],
   "source": [
    "spectral_analysis.vqt_workflow(config_filepath, \n",
    "                               data_key='positions_convDR_meanSub',\n",
    "                               multicore_pref=True,\n",
    "                              )"
   ]
  },
  {
   "cell_type": "code",
   "execution_count": null,
   "metadata": {},
   "outputs": [],
   "source": [
    "%matplotlib notebook\n",
    "from face_rhythm.visualize import plots\n",
    "\n",
    "config = helpers.load_config(config_filepath)\n",
    "helpers.save_config(config, config_filepath)\n",
    "\n",
    "plots.plot_cqt(config_filepath, Sxx_toUse='Sxx_allPixels_norm', positions_toUse='positions_convDR_meanSub', xy_toUse='x', dot_toUse=500)"
   ]
  },
  {
   "cell_type": "markdown",
   "metadata": {
    "pycharm": {
     "name": "#%% md\n"
    }
   },
   "source": [
    "### TCA\n",
    "\n",
    "Key TCA parameters:\n",
    "- **device**: runs a small function to get your device. Set to true if you want to use the GPU. If the input is small (< half the size of your GPU memory), set to True. It's super fast.\n",
    "- **rank**: ~ 2 to 10. The number of factors to look for in the PARAFAC model. More can be good but less reproduceable, but less can mix together obviously different factors\n",
    "- **tolerance**: ~1e-05 to 1e-07. The minimum variance of the model between steps before declaring convergence. If you're trying to really optimize your TCA fit, try decreasing this. \n",
    "- **n_iters**: ~100 to 600. The fit of the model usually improves if you give it more iterations"
   ]
  },
  {
   "cell_type": "code",
   "execution_count": null,
   "metadata": {},
   "outputs": [],
   "source": [
    "%load_ext autoreload\n",
    "%autoreload 2\n",
    "\n",
    "from face_rhythm import util\n",
    "\n",
    "config = helpers.load_config(config_filepath)\n",
    "config['General']['trials'] = False\n",
    "util.helpers.save_config(config, config_filepath)"
   ]
  },
  {
   "cell_type": "code",
   "execution_count": null,
   "metadata": {},
   "outputs": [],
   "source": [
    "from face_rhythm.analysis import tca\n",
    "\n",
    "%matplotlib notebook\n",
    "\n",
    "config = helpers.load_config(config_filepath)\n",
    "config['TCA']['pref_useGPU'] = True\n",
    "config['TCA']['rank'] = 8\n",
    "config['TCA']['init'] = 'random'\n",
    "config['TCA']['tolerance'] = 1e-08\n",
    "config['TCA']['verbosity'] = 0\n",
    "config['TCA']['n_iters'] = 1000 \n",
    "helpers.save_config(config, config_filepath)\n",
    "\n",
    "tca.full_tca_workflow(config_filepath, 'positions_convDR_meanSub')"
   ]
  },
  {
   "cell_type": "code",
   "execution_count": null,
   "metadata": {
    "scrolled": false
   },
   "outputs": [],
   "source": [
    "%matplotlib notebook\n",
    "from face_rhythm.visualize import plots\n",
    "\n",
    "config = helpers.load_config(config_filepath)\n",
    "config['TCA']['ftype'] = 'spectral'\n",
    "helpers.save_config(config, config_filepath)\n",
    "\n",
    "plots.plot_tca_factors(config_filepath)"
   ]
  },
  {
   "cell_type": "code",
   "execution_count": null,
   "metadata": {},
   "outputs": [],
   "source": []
  },
  {
   "cell_type": "markdown",
   "metadata": {},
   "source": [
    "## Visualize the factors"
   ]
  },
  {
   "cell_type": "markdown",
   "metadata": {},
   "source": [
    "#### Movies of dots"
   ]
  },
  {
   "cell_type": "code",
   "execution_count": null,
   "metadata": {
    "scrolled": false
   },
   "outputs": [],
   "source": [
    "from face_rhythm.visualize import videos\n",
    "\n",
    "config = helpers.load_config(config_filepath)\n",
    "\n",
    "config['Video']['factor_category_to_display'] = 'TCA' # eg: 'TCA' or 'PCA'\n",
    "config['Video']['factor_to_display'] = 'factors_spectral_points' # eg: (if 'TCA'):'factors_frequential_points' (if 'PCA'):'scores_points'\n",
    "config['Video']['points_to_display'] = 'positions_convDR_absolute' # eg: 'positions_convDR_absolute' or 'positions_absolute' or 'positions_recursive'\n",
    "config['Video']['demo_len'] = 2\n",
    "config['Video']['dot_size'] = 5\n",
    "config['Video']['save_video'] = False\n",
    "config['Video']['save_images'] = True\n",
    "config['Video']['show_text'] = False\n",
    "helpers.save_config(config, config_filepath)\n",
    "\n",
    "%matplotlib notebook\n",
    "videos.visualize_factor(config_filepath)"
   ]
  },
  {
   "cell_type": "markdown",
   "metadata": {},
   "source": [
    "#### Images of dots"
   ]
  },
  {
   "cell_type": "code",
   "execution_count": null,
   "metadata": {
    "scrolled": false
   },
   "outputs": [],
   "source": [
    "from face_rhythm.visualize import videos\n",
    "import numpy as np\n",
    "\n",
    "config = helpers.load_config(config_filepath)\n",
    "config['Video']['factor_category_to_display'] = 'TCA' # eg: 'TCA' or 'PCA' or 'Neural'\n",
    "config['Video']['face_factor_to_display'] = 'factors_spectral_points' # eg: 'factors_spectral_points'\n",
    "config['Video']['temporal_factor_to_display'] = 'factors_spectral_temporal_interp' # eg: 'factors_spectral_temporal_interp'\n",
    "config['Video']['points_to_display'] = 'positions_convDR_absolute' # eg: 'positions_convDR_absolute' or 'positions_absolute' or 'positions_recursive'\n",
    "\n",
    "config['Video']['start_vid'] = 0 # 0 indexed\n",
    "config['Video']['start_frame'] = 400*8 # 0 indexed\n",
    "config['Video']['demo_len'] = 200*8\n",
    "config['Video']['dot_size'] = 2\n",
    "config['Video']['save_video'] = True \n",
    "config['Video']['factors_to_show'] = [] # 1 indexed, if this is empty, plots all factors\n",
    "config['Video']['show_alpha'] = False # changes intensity of the colors along with temporal trace\n",
    "config['Video']['pulse_test_index'] = 0 # if this is nonzero, it will add a pulse and blackout to check syncing\n",
    "helpers.save_config(config, config_filepath)\n",
    "\n",
    "videos.face_with_trace(config_filepath)"
   ]
  },
  {
   "cell_type": "markdown",
   "metadata": {},
   "source": [
    "# END analysis\n",
    "\n",
    "Below are some examples on how to access, plot, and manipulate the output data"
   ]
  },
  {
   "cell_type": "markdown",
   "metadata": {},
   "source": [
    "***\n",
    "<center><h1>Comparisons</h1></center>\n",
    "\n",
    "***\n",
    "\n",
    "### FaceMap"
   ]
  },
  {
   "cell_type": "code",
   "execution_count": null,
   "metadata": {},
   "outputs": [],
   "source": [
    "from face_rhythm.comparisons import facemap\n",
    "\n",
    "config = helpers.load_config(config_filepath)\n",
    "config['Comps']['sbin'] = 4\n",
    "config['Comps']['ncomps'] = 100\n",
    "helpers.save_config(config, config_filepath)\n",
    "\n",
    "facemap.facemap_workflow(config_filepath)"
   ]
  },
  {
   "cell_type": "markdown",
   "metadata": {},
   "source": [
    "### HoG"
   ]
  },
  {
   "cell_type": "code",
   "execution_count": null,
   "metadata": {},
   "outputs": [],
   "source": [
    "from face_rhythm.comparisons import hog\n",
    "\n",
    "config = helpers.load_config(config_filepath)\n",
    "config['Comps']['sbin'] = 4\n",
    "config['Comps']['cell_size'] = 8\n",
    "helpers.save_config(config, config_filepath)\n",
    "\n",
    "hog.hog_workflow(config_filepath)"
   ]
  },
  {
   "cell_type": "markdown",
   "metadata": {},
   "source": [
    "## Outputs:\n",
    "Below is the output tree structure of the NWB file"
   ]
  },
  {
   "cell_type": "code",
   "execution_count": null,
   "metadata": {},
   "outputs": [],
   "source": [
    "config = helpers.load_config(config_filepath)\n",
    "nwb_path = config['General']['sessions'][0]['nwb']\n",
    "helpers.dump_nwb(nwb_path)"
   ]
  },
  {
   "cell_type": "code",
   "execution_count": null,
   "metadata": {},
   "outputs": [],
   "source": [
    "config = helpers.load_config(config_filepath)\n",
    "nwb_path = config['General']['sessions'][0]['nwb']\n",
    "helpers.dump_nwb(nwb_path)"
   ]
  },
  {
   "cell_type": "markdown",
   "metadata": {},
   "source": [
    "## Example: How to plot factors: Temporal"
   ]
  },
  {
   "cell_type": "code",
   "execution_count": null,
   "metadata": {},
   "outputs": [],
   "source": [
    "import numpy as np\n",
    "import matplotlib.pyplot as plt\n",
    "import sklearn as sk\n",
    "import sklearn.decomposition\n",
    "import pynwb\n",
    "\n",
    "%matplotlib notebook\n",
    "\n",
    "config = helpers.load_config(config_filepath)\n",
    "nwb_path = config['General']['sessions'][0]['nwb']\n",
    "\n",
    "# freqs_Sxx = np.load(config['Paths']['freqs_Sxx'])\n",
    "Fs = config['Video']['Fs']\n",
    "\n",
    "with pynwb.NWBHDF5IO(nwb_path, 'r') as io:\n",
    "    nwbfile = io.read()\n",
    "    \n",
    "    temp_components = nwbfile.processing['Face Rhythm']['TCA']['factors_spectral_temporal'].data\n",
    "        \n",
    "    num_factors = temp_components.shape[1]\n",
    "\n",
    "    plt.figure()\n",
    "    plt.plot(temp_components[:,:])\n",
    "#     plt.plot(freq_components[:,:])\n",
    "    plt.legend(np.arange(num_factors))"
   ]
  },
  {
   "cell_type": "markdown",
   "metadata": {},
   "source": [
    "## Example: How to plot factors: All"
   ]
  },
  {
   "cell_type": "code",
   "execution_count": null,
   "metadata": {
    "scrolled": false
   },
   "outputs": [],
   "source": [
    "import numpy as np\n",
    "import matplotlib.pyplot as plt\n",
    "import sklearn as sk\n",
    "import sklearn.decomposition\n",
    "import pynwb\n",
    "\n",
    "%matplotlib notebook\n",
    "\n",
    "config = helpers.load_config(config_filepath)\n",
    "nwb_path = config['General']['sessions'][0]['nwb']\n",
    "\n",
    "# freqs_Sxx = np.load(config['Paths']['freqs_Sxx'])\n",
    "Fs = config['Video']['Fs']\n",
    "\n",
    "with pynwb.NWBHDF5IO(nwb_path, 'r') as io:\n",
    "    nwbfile = io.read()\n",
    "    \n",
    "    freq_components = nwbfile.processing['Face Rhythm']['TCA']['factors_spectral_spectral'].data\n",
    "    dot_components = nwbfile.processing['Face Rhythm']['TCA']['factors_spectral_points'].data\n",
    "    temp_components_interp = nwbfile.processing['Face Rhythm']['TCA']['factors_spectral_temporal_interp'].data\n",
    "    \n",
    "    freqs_Sxx = nwbfile.processing['Face Rhythm']['CQT']['freqs_Sxx_toUse'].data\n",
    "    \n",
    "    num_factors = freq_components.shape[1]\n",
    "    \n",
    "    plt.figure()\n",
    "    plt.plot(freqs_Sxx[:] , freq_components)\n",
    "#     plt.plot(freq_components[:,:])\n",
    "    plt.xscale('log')\n",
    "    plt.xlabel('frequency (Hz)')\n",
    "    plt.legend(np.arange(num_factors))\n",
    "    \n",
    "    plt.figure()\n",
    "    plt.plot(dot_components[:,:])\n",
    "    plt.xlabel('dotIDs (concat X then Y)')\n",
    "    \n",
    "    plt.figure()\n",
    "    plt.plot(np.arange(temp_components_interp.shape[0])/Fs , temp_components_interp[:,:])\n",
    "    plt.xlabel('time (s)')\n",
    "    \n",
    "    plt.figure()\n",
    "    plt.imshow(np.corrcoef(np.array(temp_components_interp).T) - np.eye(num_factors),aspect='auto')\n",
    "    plt.colorbar()\n",
    "    \n",
    "    pca = sklearn.decomposition.PCA(n_components=num_factors)\n",
    "    pca.fit(temp_components_interp)\n",
    "#     PCA(n_components=8)\n",
    "    plt.figure()\n",
    "    plt.plot(pca.explained_variance_ratio_)\n",
    "    plt.xlabel('rank')\n",
    "    plt.ylabel('explained variance ratio')"
   ]
  },
  {
   "cell_type": "markdown",
   "metadata": {},
   "source": [
    "## Example: How to plot factors: Positional"
   ]
  },
  {
   "cell_type": "code",
   "execution_count": null,
   "metadata": {
    "scrolled": false
   },
   "outputs": [],
   "source": [
    "import sklearn as sk\n",
    "import sklearn.decomposition\n",
    "import pynwb\n",
    "\n",
    "%matplotlib notebook\n",
    "\n",
    "config = helpers.load_config(config_filepath)\n",
    "nwb_path = config['General']['sessions'][0]['nwb']\n",
    "\n",
    "Fs = config['Video']['Fs']\n",
    "\n",
    "with pynwb.NWBHDF5IO(nwb_path, 'r') as io:\n",
    "    nwbfile = io.read()\n",
    "    \n",
    "    dot_components = np.array(nwbfile.processing['Face Rhythm']['TCA']['factors_positional_points'].data)\n",
    "    temp_components = np.array(nwbfile.processing['Face Rhythm']['TCA']['factors_positional_temporal'].data)\n",
    "    \n",
    "#     plt.figure()\n",
    "#     plt.plot(freqs_Sxx , freq_components[:,:])\n",
    "#     plt.xscale('log')\n",
    "#     plt.xlabel('frequency (Hz)')\n",
    "    \n",
    "    plt.figure()\n",
    "    plt.plot(dot_components[:,:])\n",
    "    plt.xlabel('dotIDs (concat X then Y)')\n",
    "    \n",
    "    plt.figure()\n",
    "    plt.plot(np.arange(temp_components.shape[0])/Fs , temp_components[:,:])\n",
    "    plt.xlabel('time (s)')\n",
    "    \n",
    "    plt.figure()\n",
    "    plt.imshow(np.corrcoef(np.array(temp_components).T) - np.eye(4),aspect='auto')\n",
    "    plt.colorbar()"
   ]
  },
  {
   "cell_type": "markdown",
   "metadata": {},
   "source": [
    "## Example: How to access NWB output data"
   ]
  },
  {
   "cell_type": "code",
   "execution_count": null,
   "metadata": {},
   "outputs": [],
   "source": [
    "import pynwb\n",
    "import matplotlib.pyplot as plt\n",
    "import numpy as np\n",
    "\n",
    "config = helpers.load_config(config_filepath)\n",
    "nwb_path = config['General']['sessions'][0]['nwb']\n",
    "with pynwb.NWBHDF5IO(nwb_path, 'r') as io:\n",
    "    nwbfile = io.read()\n",
    "    \n",
    "    # look through the NWB outputs (see above example) to see available arrays to plot and how to access them\n",
    "    example_data = nwbfile.processing['Face Rhythm']['Optic Flow']['positions_convDR_meanSub'].data\n",
    "    print(example_data)\n",
    "    plt.figure()\n",
    "    plt.plot(example_data[0,0,:])"
   ]
  },
  {
   "cell_type": "markdown",
   "metadata": {},
   "source": [
    "## Example: How save NWB data as other format (.npy)"
   ]
  },
  {
   "cell_type": "code",
   "execution_count": null,
   "metadata": {},
   "outputs": [],
   "source": [
    "import pynwb\n",
    "import matplotlib.pyplot as plt\n",
    "import numpy as np\n",
    "from pathlib import Path\n",
    "\n",
    "save_dir = Path(r'/media/rich/bigSSD/analysis_data/mouse 2_6/20210417/FR_run1_vqt/data')\n",
    "save_name = r'factors_spectral_temporal_interp'\n",
    "save_fileSuffix = '.npy'\n",
    "\n",
    "save_path = save_dir / (save_name + save_fileSuffix)\n",
    "\n",
    "config = helpers.load_config(config_filepath)\n",
    "nwb_path = config['General']['sessions'][0]['nwb']\n",
    "with pynwb.NWBHDF5IO(nwb_path, 'r') as io:\n",
    "    nwbfile = io.read()\n",
    "    \n",
    "    # look through the NWB outputs (see above example) to see available arrays to plot and how to access them\n",
    "    example_data = nwbfile.processing['Face Rhythm']['TCA']['factors_spectral_temporal_interp'].data\n",
    "    \n",
    "    np.save(save_path , example_data)\n",
    "\n"
   ]
  },
  {
   "cell_type": "markdown",
   "metadata": {},
   "source": [
    "## Example of how to access parameters"
   ]
  },
  {
   "cell_type": "code",
   "execution_count": null,
   "metadata": {},
   "outputs": [],
   "source": [
    "config = helpers.load_config(config_filepath)\n",
    "print(config['Optic']['lk']['winSize'])"
   ]
  },
  {
   "cell_type": "markdown",
   "metadata": {},
   "source": [
    "## Exmaple of how to update project/nwb file path"
   ]
  },
  {
   "cell_type": "markdown",
   "metadata": {},
   "source": [
    "## Exmaple of how to update project/nwb file path"
   ]
  },
  {
   "cell_type": "code",
   "execution_count": null,
   "metadata": {},
   "outputs": [],
   "source": [
    "config['General']['sessions'][0]['nwb'] = str(project_path / 'data' / 'sessionrun.nwb')\n",
    "\n",
    "helpers.save_config(config, config_filepath)"
   ]
  }
 ],
 "metadata": {
  "kernelspec": {
   "display_name": "Python 3 (ipykernel)",
   "language": "python",
   "name": "python3"
  },
  "language_info": {
   "codemirror_mode": {
    "name": "ipython",
    "version": 3
   },
   "file_extension": ".py",
   "mimetype": "text/x-python",
   "name": "python",
   "nbconvert_exporter": "python",
   "pygments_lexer": "ipython3",
   "version": "3.9.13"
  },
  "pycharm": {
   "stem_cell": {
    "cell_type": "raw",
    "metadata": {
     "collapsed": false
    },
    "source": []
   }
  },
  "varInspector": {
   "cols": {
    "lenName": 16,
    "lenType": 16,
    "lenVar": 40
   },
   "kernels_config": {
    "python": {
     "delete_cmd_postfix": "",
     "delete_cmd_prefix": "del ",
     "library": "var_list.py",
     "varRefreshCmd": "print(var_dic_list())"
    },
    "r": {
     "delete_cmd_postfix": ") ",
     "delete_cmd_prefix": "rm(",
     "library": "var_list.r",
     "varRefreshCmd": "cat(var_dic_list()) "
    }
   },
   "oldHeight": 957.188,
   "position": {
    "height": "40px",
    "left": "1725.67px",
    "right": "20px",
    "top": "124.914px",
    "width": "628.438px"
   },
   "types_to_exclude": [
    "module",
    "function",
    "builtin_function_or_method",
    "instance",
    "_Feature"
   ],
   "varInspector_section_display": "none",
   "window_display": true
  }
 },
 "nbformat": 4,
 "nbformat_minor": 4
}
